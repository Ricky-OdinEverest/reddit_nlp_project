{
 "cells": [
  {
   "cell_type": "code",
   "execution_count": 1,
   "id": "080b4137-fe4d-435b-9085-db04cbdb8a63",
   "metadata": {},
   "outputs": [],
   "source": [
    "\n",
    "import requests\n",
    "import calendar\n",
    "import time\n",
    "import pandas as pd"
   ]
  },
  {
   "cell_type": "code",
   "execution_count": 2,
   "id": "d31eaa5f-d85e-43b4-abc7-870ff9688748",
   "metadata": {},
   "outputs": [],
   "source": [
    "\n",
    "url = 'https://api.pushshift.io/reddit/search/submission'\n",
    "params = {\n",
    "    'subreddit': 'boardgames',\n",
    "    'limit': 10,\n",
    "    'filter': 'subreddit, selftext, title, created_utc'\n",
    "}"
   ]
  },
  {
   "cell_type": "code",
   "execution_count": 3,
   "id": "0856ad89-246c-4b05-a396-a08a0d3ce071",
   "metadata": {},
   "outputs": [
    {
     "name": "stderr",
     "output_type": "stream",
     "text": [
      "/var/folders/xy/12cztm3s13x91d10lzbylx0r0000gn/T/ipykernel_88701/2908897796.py:5: DeprecationWarning: Positional arguments for 'BaseListingMixin.top' will no longer be supported in PRAW 8.\n",
      "Call this function with 'time_filter' as a keyword argument.\n",
      "  for post in subreddit.top(\"week\",limit=10):\n"
     ]
    }
   ],
   "source": [
    "subreddit_name=\"Destiny\"\n",
    "subreddit=reddit.subreddit(subreddit_name)\n",
    "\n",
    "#Can change window size(s) to compare top links over tiem\n",
    "for post in subreddit.top(\"week\",limit=10):\n",
    "    post\n",
    "#I write my logic iteratively, having a blank for loop makes it easier to fill in later\n",
    "#   without creating annoying temp vars outside of your control logic (the for loop)"
   ]
  },
  {
   "cell_type": "code",
   "execution_count": 4,
   "id": "68836f1c-046f-4950-a3c3-e9b0cdfefbb1",
   "metadata": {},
   "outputs": [
    {
     "data": {
      "text/plain": [
       "<praw.models.comment_forest.CommentForest at 0x7fdded1dda90>"
      ]
     },
     "execution_count": 4,
     "metadata": {},
     "output_type": "execute_result"
    }
   ],
   "source": [
    "post.comments"
   ]
  },
  {
   "cell_type": "code",
   "execution_count": 5,
   "id": "b5378049-b693-484b-8676-9fa2725d0acd",
   "metadata": {},
   "outputs": [
    {
     "name": "stdout",
     "output_type": "stream",
     "text": [
      "https://www.reddit.com/r/learnpython/comments/pqcp6b/beginner_looking_for_ways_to_grind/\n"
     ]
    }
   ],
   "source": [
    "#I'll hardcode the url I found when running this so you can follow along\n",
    "post=reddit.submission('pqcp6b')\n",
    "print(post.url)"
   ]
  },
  {
   "cell_type": "code",
   "execution_count": 6,
   "id": "802bb05f-1c52-4001-90c2-6ca5a9b11143",
   "metadata": {},
   "outputs": [
    {
     "data": {
      "text/plain": [
       "'Code Wars is perfect for your situation. I wish I had found it sooner.'"
      ]
     },
     "execution_count": 6,
     "metadata": {},
     "output_type": "execute_result"
    }
   ],
   "source": [
    "post.comments[0].body#Looks like it matches up!"
   ]
  },
  {
   "cell_type": "code",
   "execution_count": 7,
   "id": "9a0943cb-7cfc-4b04-b5ae-f6cc47e5ffb8",
   "metadata": {},
   "outputs": [
    {
     "name": "stdout",
     "output_type": "stream",
     "text": [
      "POST:\n",
      "Beginner looking for ways to grind\n",
      "For the past week I have been working through \"Python Crash Course,\" by Eric Matthes.\n",
      "\n",
      "I am really enjoying it. I just wish there were more examples for me to practice simple concepts with.\n",
      "\n",
      "I learn best through repetition, until I kind of hit an ah-hah moment.\n",
      "\n",
      "Any websites or books that anyone can recommend would be greatly appreciated.\n",
      "https://www.reddit.com/r/learnpython/comments/pqcp6b/beginner_looking_for_ways_to_grind/\n",
      "------------------\n",
      "\n",
      "\n",
      "Code Wars is perfect for your situation. I wish I had found it sooner.\n",
      "  |Looks great. Thanks\n",
      "  |Thanks for this - python beginner here!\n",
      "  |Hackerank is also pretty beginner friendly\n",
      "\n",
      "See https://www.reddit.com/r/learnpython/wiki/index for more resources. I'd recommend Exercism, which is more beginner friendly than Codewars.\n",
      "  |This. I like the concept of code wars a lot, I'm just not there yet, but can't wait to be. Thanks!\n",
      "\n",
      "Hey, a bit bit far from what you were asking, but I would recommend you that the next time you need to do something in an excel sheet, just do it with python/pandas or CSV or whatever you find that suits you.\n",
      "  |I have been wondering when I would start to be able to see real world applications for what I'm learning.\n",
      "  |On that note, check out Al Sweigart book too. Has a lot of scenarios where you can use Python to solve some actual problems. Python is king of automation so you should explore books on the same.\n",
      "\n",
      " And while you solve problems on Code Wars (I say this because you can easily get lost in the thrill) you should give some thought to what would you want to do once you get better at Python. And then study up for that.\n",
      "\n",
      "Edit : there's one very good book on PacktPub about Python Automation. Check that out.\n",
      "\n",
      "Advent of Code is a fun thing you can do.  It gets harder on day 8 usually, but the early days each year are easy and a good place to find interesting problems.\n",
      "\n",
      "Crash course is a great introductory book on Python. Check out Automate the Boring Stuff, you can use it to cross reference and try some of the projects in it with Crash Course. It is available entirely for free online as well.\n",
      "  |Some other users have mentioned this book. I actually was going to look into it next, but I think I'll take your advice to use it as a work book. Thanks!\n",
      "\n",
      "“Automate the boring stuff with python” is fantastic\n",
      "\n",
      "I use HackerRank but I caution is that it's an Indian based website and every so often the instructions English translation is confusing\n",
      "\n",
      "Man you gotta check out cryptopals. Use python while doing it, you’ll learn sick shit. Cryptopals crypto challenges, trust me it’s a million times more fun than everything else on this thread\n",
      "  |I understand why this comment may have been deleted (I googled the suggestion, and my first thought after seeing the 1st seaerch result was \"this may be spam...\").\n",
      "\n",
      "But on second glance, I understand the suggestion of the commenter, after having found [this walkthrough](https://cedricvanrompay.gitlab.io/cryptopals/) of the challenges by Cedric van Rompay. Certainly python is central.\n",
      "\n"
     ]
    }
   ],
   "source": [
    "#Post viewer\n",
    "print(\"POST:\")\n",
    "print(post.title)\n",
    "print(post.selftext)\n",
    "print(post.url)\n",
    "print(\"------------------\\n\\n\")\n",
    "\n",
    "for comment in post.comments:\n",
    "    s=f\"{comment.body}\"\n",
    "    print(s)\n",
    "    for r in comment.replies:\n",
    "        s=\"  |\"\n",
    "        s+=r.body\n",
    "        print(s)\n",
    "    print()"
   ]
  },
  {
   "cell_type": "code",
   "execution_count": 8,
   "id": "53323d1b-83b6-471e-bb8a-d1b01c389856",
   "metadata": {},
   "outputs": [
    {
     "data": {
      "text/plain": [
       "[(Comment(id='hda387e'), 1),\n",
       " (Comment(id='hda5l9c'), 2),\n",
       " (Comment(id='hdb5hob'), 2),\n",
       " (Comment(id='hdcw1s3'), 2),\n",
       " (Comment(id='hdamp27'), 1),\n",
       " (Comment(id='hdclh3c'), 2),\n",
       " (Comment(id='hdaywv9'), 1),\n",
       " (Comment(id='hdclkz4'), 2),\n",
       " (Comment(id='hdd28wf'), 3),\n",
       " (Comment(id='hdcre3e'), 2),\n",
       " (Comment(id='hdaw5vg'), 1),\n",
       " (Comment(id='hda68ph'), 1),\n",
       " (Comment(id='hdcly7v'), 2),\n",
       " (Comment(id='hdaagra'), 1),\n",
       " (Comment(id='hdan291'), 1),\n",
       " (Comment(id='hdcwfon'), 1),\n",
       " (Comment(id='ic2it2q'), 2)]"
      ]
     },
     "execution_count": 8,
     "metadata": {},
     "output_type": "execute_result"
    }
   ],
   "source": [
    "#Depth first search (go deep first then go next). https://en.wikipedia.org/wiki/Tree_traversal\n",
    "# In reality a breadth first search may be better if we don't want to parse everything\n",
    "# That way we can choose the comments worth investigating deeper\n",
    "def traverse_post(post):\n",
    "    comments=[]\n",
    "    for comment in post.comments:\n",
    "        comments+=recursive_replies(comment, level=1)\n",
    "    return comments\n",
    "\n",
    "def recursive_replies(reply,level):\n",
    "    #Also return level in case we want to stop after level 3 comments and for ease of the printing \n",
    "    comments=[(reply, level)]\n",
    "    for r in reply.replies:\n",
    "        comments+=recursive_replies(r,level+1)\n",
    "    return comments\n",
    "comments=traverse_post(post)\n",
    "comments"
   ]
  },
  {
   "cell_type": "code",
   "execution_count": 9,
   "id": "e4502017-1c80-4ab2-9c4e-cffaaa78d562",
   "metadata": {},
   "outputs": [
    {
     "name": "stdout",
     "output_type": "stream",
     "text": [
      "POST: Beginner looking for ways to grind\n",
      "\n",
      "For the past week I have been working through \"Python Crash Course,\" by Eric Matthes.\n",
      "\n",
      "I am really enjoying it. I just wish there were more examples for me to practice simple concepts with.\n",
      "\n",
      "I learn best through repetition, until I kind of hit an ah-hah moment.\n",
      "\n",
      "Any websites or books that anyone can recommend would be greatly appreciated.\n",
      "https://www.reddit.com/r/learnpython/comments/pqcp6b/beginner_looking_for_ways_to_grind/\n",
      "------------------\n",
      "\n",
      "\n",
      "  | Code Wars is perfect for your situation. I wish I had found it sooner.\n",
      "  |  | Looks great. Thanks\n",
      "  |  | Thanks for this - python beginner here!\n",
      "  |  | Hackerank is also pretty beginner friendly\n",
      "  | See https://www.reddit.com/r/learnpython/wiki/index for more resources. I'd recommend Exercism, which is more beginner friendly than Codewars.\n",
      "  |  | This. I like the concept of code wars a lot, I'm just not there yet, but can't wait to be. Thanks!\n",
      "  | Hey, a bit bit far from what you were asking, but I would recommend you that the next time you need to do something in an excel sheet, just do it with python/pandas or CSV or whatever you find that suits you.\n",
      "  |  | I have been wondering when I would start to be able to see real world applications for what I'm learning.\n",
      "  |  |  | You will probably spend more time doing it in python that you would in excel but is a good training for beginners. Also try to do everything you can as functions or classes cuz the code is easier to recycle\n",
      "  |  | On that note, check out Al Sweigart book too. Has a lot of scenarios where you can use Python to solve some actual problems. Python is king of automation so you should explore books on the same.\n",
      "\n",
      " And while you solve problems on Code Wars (I say this because you can easily get lost in the thrill) you should give some thought to what would you want to do once you get better at Python. And then study up for that.\n",
      "\n",
      "Edit : there's one very good book on PacktPub about Python Automation. Check that out.\n",
      "  | Advent of Code is a fun thing you can do.  It gets harder on day 8 usually, but the early days each year are easy and a good place to find interesting problems.\n",
      "  | Crash course is a great introductory book on Python. Check out Automate the Boring Stuff, you can use it to cross reference and try some of the projects in it with Crash Course. It is available entirely for free online as well.\n",
      "  |  | Some other users have mentioned this book. I actually was going to look into it next, but I think I'll take your advice to use it as a work book. Thanks!\n",
      "  | “Automate the boring stuff with python” is fantastic\n",
      "  | I use HackerRank but I caution is that it's an Indian based website and every so often the instructions English translation is confusing\n",
      "  | Man you gotta check out cryptopals. Use python while doing it, you’ll learn sick shit. Cryptopals crypto challenges, trust me it’s a million times more fun than everything else on this thread\n",
      "  |  | I understand why this comment may have been deleted (I googled the suggestion, and my first thought after seeing the 1st seaerch result was \"this may be spam...\").\n",
      "\n",
      "But on second glance, I understand the suggestion of the commenter, after having found [this walkthrough](https://cedricvanrompay.gitlab.io/cryptopals/) of the challenges by Cedric van Rompay. Certainly python is central.\n"
     ]
    }
   ],
   "source": [
    "def output_post(post):\n",
    "    prefix=\"  |\"\n",
    "    #Post viewer Improved!\n",
    "    print(f\"POST: {post.title}\")\n",
    "    print()\n",
    "    print(post.selftext)\n",
    "    print(post.url)\n",
    "    print(\"------------------\\n\\n\")\n",
    "    comments=traverse_post(post)\n",
    "    for c,level in comments:\n",
    "        s=f\"{level*prefix} {c.body}\"\n",
    "        print(s)\n",
    "output_post(post)"
   ]
  },
  {
   "cell_type": "code",
   "execution_count": 10,
   "id": "8150f0cf-594e-4dab-a443-7deb4aee1f47",
   "metadata": {},
   "outputs": [
    {
     "name": "stdout",
     "output_type": "stream",
     "text": [
      "POST: Beginner looking for ways to grind\n",
      "\n",
      "For the past week I have been working through \"Python Crash Course,\" by Eric Matthes.\n",
      "\n",
      "I am really enjoying it. I just wish there were more examples for me to practice simple concepts with.\n",
      "\n",
      "I learn best through repetition, until I kind of hit an ah-hah moment.\n",
      "\n",
      "Any websites or books that anyone can recommend would be greatly appreciated.\n",
      "https://www.reddit.com/r/learnpython/comments/pqcp6b/beginner_looking_for_ways_to_grind/\n",
      "------------------\n",
      "\n",
      "\n",
      "  | Code Wars is perfect for your situation. I wish I had found it sooner.\n",
      "  |  | Looks great. Thanks\n",
      "  |  | Thanks for this - python beginner here!\n",
      "  |  | Hackerank is also pretty beginner friendly\n",
      "  | See https://www.reddit.com/r/learnpython/wiki/index for more resources. I'd recommend Exercism, which is more beginner friendly than Codewars.\n",
      "  |  | This. I like the concept of code wars a lot, I'm just not there yet, but can't wait to be. Thanks!\n",
      "  | Hey, a bit bit far from what you were asking, but I would recommend you that the next time you need to do something in an excel sheet, just do it with python/pandas or CSV or whatever you find that suits you.\n",
      "  |  | I have been wondering when I would start to be able to see real world applications for what I'm learning.\n",
      "  |  |  | You will probably spend more time doing it in python that you would in excel but is a good training for beginners. Also try to do everything you can as functions or classes cuz the code is easier to recycle\n",
      "  |  | On that note, check out Al Sweigart book too. Has a lot of scenarios where you can use Python to solve some actual problems. Python is king of automation so you should explore books on the same.\n",
      "\n",
      " And while you solve problems on Code Wars (I say this because you can easily get lost in the thrill) you should give some thought to what would you want to do once you get better at Python. And then study up for that.\n",
      "\n",
      "Edit : there's one very good book on PacktPub about Python Automation. Check that out.\n",
      "  | Advent of Code is a fun thing you can do.  It gets harder on day 8 usually, but the early days each year are easy and a good place to find interesting problems.\n",
      "  | Crash course is a great introductory book on Python. Check out Automate the Boring Stuff, you can use it to cross reference and try some of the projects in it with Crash Course. It is available entirely for free online as well.\n",
      "  |  | Some other users have mentioned this book. I actually was going to look into it next, but I think I'll take your advice to use it as a work book. Thanks!\n",
      "  | “Automate the boring stuff with python” is fantastic\n",
      "  | I use HackerRank but I caution is that it's an Indian based website and every so often the instructions English translation is confusing\n",
      "  | Man you gotta check out cryptopals. Use python while doing it, you’ll learn sick shit. Cryptopals crypto challenges, trust me it’s a million times more fun than everything else on this thread\n",
      "  |  | I understand why this comment may have been deleted (I googled the suggestion, and my first thought after seeing the 1st seaerch result was \"this may be spam...\").\n",
      "\n",
      "But on second glance, I understand the suggestion of the commenter, after having found [this walkthrough](https://cedricvanrompay.gitlab.io/cryptopals/) of the challenges by Cedric van Rompay. Certainly python is central.\n"
     ]
    }
   ],
   "source": [
    "def output_post(post):\n",
    "    prefix=\"  |\"\n",
    "    #Post viewer Improved!\n",
    "    print(f\"POST: {post.title}\")\n",
    "    print()\n",
    "    print(post.selftext)\n",
    "    print(post.url)\n",
    "    print(\"------------------\\n\\n\")\n",
    "    comments=traverse_post(post)\n",
    "    for c,level in comments:\n",
    "        s=f\"{level*prefix} {c.body}\"\n",
    "        print(s)\n",
    "output_post(post)"
   ]
  },
  {
   "cell_type": "code",
   "execution_count": null,
   "id": "f0c6cc5a-88bf-4ace-af5a-510659695068",
   "metadata": {},
   "outputs": [],
   "source": []
  }
 ],
 "metadata": {
  "kernelspec": {
   "display_name": "Python 3 (ipykernel)",
   "language": "python",
   "name": "python3"
  },
  "language_info": {
   "codemirror_mode": {
    "name": "ipython",
    "version": 3
   },
   "file_extension": ".py",
   "mimetype": "text/x-python",
   "name": "python",
   "nbconvert_exporter": "python",
   "pygments_lexer": "ipython3",
   "version": "3.9.12"
  }
 },
 "nbformat": 4,
 "nbformat_minor": 5
}
