{
 "cells": [
  {
   "cell_type": "code",
   "execution_count": 7,
   "id": "352de910-a249-455b-a6da-a0d096a823ec",
   "metadata": {},
   "outputs": [],
   "source": [
    "\n",
    "import requests\n",
    "import calendar\n",
    "import time\n",
    "import pandas as pd"
   ]
  },
  {
   "cell_type": "code",
   "execution_count": 8,
   "id": "e6fcda3c-299d-4908-a9c9-f8121c256b95",
   "metadata": {},
   "outputs": [],
   "source": [
    "import matplotlib.pyplot as plt\n",
    "import pandas as pd\n",
    "import seaborn as sns\n",
    "\n",
    "from sklearn.feature_extraction.text import CountVectorizer\n",
    "\n",
    "# this setting widens how many characters pandas will display in a column:\n",
    "pd.options.display.max_colwidth = 400\n",
    "import numpy as np"
   ]
  },
  {
   "cell_type": "code",
   "execution_count": 9,
   "id": "35cb777c-e5c0-4c82-abb1-a54bf0d35c8e",
   "metadata": {},
   "outputs": [],
   "source": [
    "from sklearn.feature_extraction.text import TfidfVectorizer\n",
    "import re\n",
    "from nltk.sentiment.vader import SentimentIntensityAnalyzer"
   ]
  },
  {
   "cell_type": "code",
   "execution_count": 2,
   "id": "165eaa8c-0b5b-43c3-b680-93a4e6e8d61b",
   "metadata": {},
   "outputs": [],
   "source": [
    "\n",
    "url = 'https://api.pushshift.io/reddit/search/submission'\n",
    "params_11_3_15 = {\n",
    "    'subreddit': 'Destiny',\n",
    "    'limit': 1000,\n",
    "    'filter': 'subreddit, selftext, title, created_utc',\n",
    "    'since': 1667437261, #Thursday, November 3, 2022 1:01:01 AM\n",
    "    'until': 1668474061 #Tuesday, November 15, 2022 1:01:01 AM\n",
    "}"
   ]
  },
  {
   "cell_type": "code",
   "execution_count": 3,
   "id": "25ca5aa1-3346-415e-aefc-b47a8e6dc241",
   "metadata": {},
   "outputs": [
    {
     "data": {
      "text/plain": [
       "200"
      ]
     },
     "execution_count": 3,
     "metadata": {},
     "output_type": "execute_result"
    }
   ],
   "source": [
    "res = requests.get(url, params_11_3_15)\n",
    "res.status_code\n"
   ]
  },
  {
   "cell_type": "code",
   "execution_count": 4,
   "id": "b3c7db72-79ed-49b3-b576-ca7a44c14a7a",
   "metadata": {},
   "outputs": [
    {
     "data": {
      "text/html": [
       "<div>\n",
       "<style scoped>\n",
       "    .dataframe tbody tr th:only-of-type {\n",
       "        vertical-align: middle;\n",
       "    }\n",
       "\n",
       "    .dataframe tbody tr th {\n",
       "        vertical-align: top;\n",
       "    }\n",
       "\n",
       "    .dataframe thead th {\n",
       "        text-align: right;\n",
       "    }\n",
       "</style>\n",
       "<table border=\"1\" class=\"dataframe\">\n",
       "  <thead>\n",
       "    <tr style=\"text-align: right;\">\n",
       "      <th></th>\n",
       "      <th>subreddit</th>\n",
       "      <th>selftext</th>\n",
       "      <th>title</th>\n",
       "      <th>created_utc</th>\n",
       "    </tr>\n",
       "  </thead>\n",
       "  <tbody>\n",
       "    <tr>\n",
       "      <th>0</th>\n",
       "      <td>Destiny</td>\n",
       "      <td># If you wanna join me:\\n\\n* You need to be a ...</td>\n",
       "      <td>Ima make a NFT fund</td>\n",
       "      <td>1668473745</td>\n",
       "    </tr>\n",
       "    <tr>\n",
       "      <th>1</th>\n",
       "      <td>Destiny</td>\n",
       "      <td>[removed]</td>\n",
       "      <td>Chapter 11 Bankruptcy</td>\n",
       "      <td>1668473634</td>\n",
       "    </tr>\n",
       "    <tr>\n",
       "      <th>2</th>\n",
       "      <td>Destiny</td>\n",
       "      <td>It's very entertaining. All the guest streams ...</td>\n",
       "      <td>Destiny should invite more people over for str...</td>\n",
       "      <td>1668473590</td>\n",
       "    </tr>\n",
       "    <tr>\n",
       "      <th>3</th>\n",
       "      <td>Destiny</td>\n",
       "      <td>[removed]</td>\n",
       "      <td>Hearing my friend explain how she said no but ...</td>\n",
       "      <td>1668473500</td>\n",
       "    </tr>\n",
       "    <tr>\n",
       "      <th>4</th>\n",
       "      <td>Destiny</td>\n",
       "      <td>So, couple years back I met a girl. We were ki...</td>\n",
       "      <td>Was this rape?</td>\n",
       "      <td>1668473430</td>\n",
       "    </tr>\n",
       "  </tbody>\n",
       "</table>\n",
       "</div>"
      ],
      "text/plain": [
       "  subreddit                                           selftext  \\\n",
       "0   Destiny  # If you wanna join me:\\n\\n* You need to be a ...   \n",
       "1   Destiny                                          [removed]   \n",
       "2   Destiny  It's very entertaining. All the guest streams ...   \n",
       "3   Destiny                                          [removed]   \n",
       "4   Destiny  So, couple years back I met a girl. We were ki...   \n",
       "\n",
       "                                               title  created_utc  \n",
       "0                                Ima make a NFT fund   1668473745  \n",
       "1                              Chapter 11 Bankruptcy   1668473634  \n",
       "2  Destiny should invite more people over for str...   1668473590  \n",
       "3  Hearing my friend explain how she said no but ...   1668473500  \n",
       "4                                     Was this rape?   1668473430  "
      ]
     },
     "execution_count": 4,
     "metadata": {},
     "output_type": "execute_result"
    }
   ],
   "source": [
    "df_d1 = pd.DataFrame(res.json()['data'])\n",
    "df_d1.head()"
   ]
  },
  {
   "cell_type": "code",
   "execution_count": 5,
   "id": "91148ef0-f10f-40a4-b957-b6f4bec44ec6",
   "metadata": {},
   "outputs": [],
   "source": [
    "params_11_15_30 = {\n",
    "    'subreddit': 'Destiny',\n",
    "    'limit': 1000,\n",
    "    'filter': 'subreddit, selftext, title, created_utc',\n",
    "    'since': 1668474061, #Tuesday, November 15, 2022 1:01:01 AM\n",
    "    'until': 1669770061 # Wednesday, November 30, 2022 1:01:01 AM\n",
    "}"
   ]
  },
  {
   "cell_type": "code",
   "execution_count": 6,
   "id": "831b8488-6a78-450a-b4bd-638f203ea5cb",
   "metadata": {},
   "outputs": [
    {
     "data": {
      "text/plain": [
       "200"
      ]
     },
     "execution_count": 6,
     "metadata": {},
     "output_type": "execute_result"
    }
   ],
   "source": [
    "res = requests.get(url,params_11_15_30)\n",
    "res.status_code"
   ]
  },
  {
   "cell_type": "code",
   "execution_count": 7,
   "id": "3101dffc-bda0-467a-94f4-4c073f3108ae",
   "metadata": {},
   "outputs": [
    {
     "data": {
      "text/html": [
       "<div>\n",
       "<style scoped>\n",
       "    .dataframe tbody tr th:only-of-type {\n",
       "        vertical-align: middle;\n",
       "    }\n",
       "\n",
       "    .dataframe tbody tr th {\n",
       "        vertical-align: top;\n",
       "    }\n",
       "\n",
       "    .dataframe thead th {\n",
       "        text-align: right;\n",
       "    }\n",
       "</style>\n",
       "<table border=\"1\" class=\"dataframe\">\n",
       "  <thead>\n",
       "    <tr style=\"text-align: right;\">\n",
       "      <th></th>\n",
       "      <th>subreddit</th>\n",
       "      <th>selftext</th>\n",
       "      <th>title</th>\n",
       "      <th>created_utc</th>\n",
       "    </tr>\n",
       "  </thead>\n",
       "  <tbody>\n",
       "    <tr>\n",
       "      <th>0</th>\n",
       "      <td>Destiny</td>\n",
       "      <td></td>\n",
       "      <td>hi, just got back in destiny 1 and was wonderi...</td>\n",
       "      <td>1669770011</td>\n",
       "    </tr>\n",
       "    <tr>\n",
       "      <th>1</th>\n",
       "      <td>Destiny</td>\n",
       "      <td>Buddy of the year is one consideration. But fo...</td>\n",
       "      <td>Voice of the year</td>\n",
       "      <td>1669769812</td>\n",
       "    </tr>\n",
       "    <tr>\n",
       "      <th>2</th>\n",
       "      <td>Destiny</td>\n",
       "      <td></td>\n",
       "      <td>Sneako on working for Ye: \"Nick Fuentes is the...</td>\n",
       "      <td>1669768861</td>\n",
       "    </tr>\n",
       "    <tr>\n",
       "      <th>3</th>\n",
       "      <td>Destiny</td>\n",
       "      <td>[removed]</td>\n",
       "      <td>The dumbest argument aginst Destiny</td>\n",
       "      <td>1669768787</td>\n",
       "    </tr>\n",
       "    <tr>\n",
       "      <th>4</th>\n",
       "      <td>Destiny</td>\n",
       "      <td></td>\n",
       "      <td>average destiny hater</td>\n",
       "      <td>1669768564</td>\n",
       "    </tr>\n",
       "  </tbody>\n",
       "</table>\n",
       "</div>"
      ],
      "text/plain": [
       "  subreddit                                           selftext  \\\n",
       "0   Destiny                                                      \n",
       "1   Destiny  Buddy of the year is one consideration. But fo...   \n",
       "2   Destiny                                                      \n",
       "3   Destiny                                          [removed]   \n",
       "4   Destiny                                                      \n",
       "\n",
       "                                               title  created_utc  \n",
       "0  hi, just got back in destiny 1 and was wonderi...   1669770011  \n",
       "1                                  Voice of the year   1669769812  \n",
       "2  Sneako on working for Ye: \"Nick Fuentes is the...   1669768861  \n",
       "3                The dumbest argument aginst Destiny   1669768787  \n",
       "4                              average destiny hater   1669768564  "
      ]
     },
     "execution_count": 7,
     "metadata": {},
     "output_type": "execute_result"
    }
   ],
   "source": [
    "df_d2 = pd.DataFrame(res.json()['data'])\n",
    "df_d2.head()"
   ]
  },
  {
   "cell_type": "code",
   "execution_count": 8,
   "id": "069722ae-e4a1-4de7-b30d-42dacfe7895f",
   "metadata": {},
   "outputs": [],
   "source": [
    "params_12_1_15 = {\n",
    "    'subreddit': 'Destiny',\n",
    "    'limit': 1000,\n",
    "    'filter': 'subreddit, selftext, title, created_utc',\n",
    "    'since': 1669770061, # Wednesday, November 30, 2022 1:01:01 AM\n",
    "    'until': 1671066061 # Thursday, December 15, 2022 1:01:01 AM\n",
    "}"
   ]
  },
  {
   "cell_type": "code",
   "execution_count": 9,
   "id": "670f74ed-8a67-4cb2-bedd-a0274d598199",
   "metadata": {},
   "outputs": [
    {
     "data": {
      "text/plain": [
       "200"
      ]
     },
     "execution_count": 9,
     "metadata": {},
     "output_type": "execute_result"
    }
   ],
   "source": [
    "res = requests.get(url,params_12_1_15)\n",
    "res.status_code"
   ]
  },
  {
   "cell_type": "code",
   "execution_count": 10,
   "id": "13ec59fc-ab90-4f24-bf67-87f039883be4",
   "metadata": {},
   "outputs": [
    {
     "data": {
      "text/html": [
       "<div>\n",
       "<style scoped>\n",
       "    .dataframe tbody tr th:only-of-type {\n",
       "        vertical-align: middle;\n",
       "    }\n",
       "\n",
       "    .dataframe tbody tr th {\n",
       "        vertical-align: top;\n",
       "    }\n",
       "\n",
       "    .dataframe thead th {\n",
       "        text-align: right;\n",
       "    }\n",
       "</style>\n",
       "<table border=\"1\" class=\"dataframe\">\n",
       "  <thead>\n",
       "    <tr style=\"text-align: right;\">\n",
       "      <th></th>\n",
       "      <th>subreddit</th>\n",
       "      <th>selftext</th>\n",
       "      <th>title</th>\n",
       "      <th>created_utc</th>\n",
       "    </tr>\n",
       "  </thead>\n",
       "  <tbody>\n",
       "    <tr>\n",
       "      <th>0</th>\n",
       "      <td>Destiny</td>\n",
       "      <td>I'm a more right/libertarian leaning person wh...</td>\n",
       "      <td>Any good debates on economic conservatism/libe...</td>\n",
       "      <td>1671065675</td>\n",
       "    </tr>\n",
       "    <tr>\n",
       "      <th>1</th>\n",
       "      <td>Destiny</td>\n",
       "      <td>As a male its so crazy to me how triggered oth...</td>\n",
       "      <td>Astrology bad! Female brain tiny!</td>\n",
       "      <td>1671065645</td>\n",
       "    </tr>\n",
       "    <tr>\n",
       "      <th>2</th>\n",
       "      <td>Destiny</td>\n",
       "      <td>Counselors like to avoid the word “normal” bec...</td>\n",
       "      <td>My therapist said I could use the N-Word.</td>\n",
       "      <td>1671065393</td>\n",
       "    </tr>\n",
       "    <tr>\n",
       "      <th>3</th>\n",
       "      <td>Destiny</td>\n",
       "      <td>For all y'all interested in deep dives on very...</td>\n",
       "      <td>Lecture Series on Ukraine 🇺🇦</td>\n",
       "      <td>1671065239</td>\n",
       "    </tr>\n",
       "    <tr>\n",
       "      <th>4</th>\n",
       "      <td>Destiny</td>\n",
       "      <td></td>\n",
       "      <td>SUBURB OLYMPICS - I wonder how Dest would do i...</td>\n",
       "      <td>1671064845</td>\n",
       "    </tr>\n",
       "  </tbody>\n",
       "</table>\n",
       "</div>"
      ],
      "text/plain": [
       "  subreddit                                           selftext  \\\n",
       "0   Destiny  I'm a more right/libertarian leaning person wh...   \n",
       "1   Destiny  As a male its so crazy to me how triggered oth...   \n",
       "2   Destiny  Counselors like to avoid the word “normal” bec...   \n",
       "3   Destiny  For all y'all interested in deep dives on very...   \n",
       "4   Destiny                                                      \n",
       "\n",
       "                                               title  created_utc  \n",
       "0  Any good debates on economic conservatism/libe...   1671065675  \n",
       "1                  Astrology bad! Female brain tiny!   1671065645  \n",
       "2          My therapist said I could use the N-Word.   1671065393  \n",
       "3                       Lecture Series on Ukraine 🇺🇦   1671065239  \n",
       "4  SUBURB OLYMPICS - I wonder how Dest would do i...   1671064845  "
      ]
     },
     "execution_count": 10,
     "metadata": {},
     "output_type": "execute_result"
    }
   ],
   "source": [
    "df_d3 = pd.DataFrame(res.json()['data'])\n",
    "df_d3.head()"
   ]
  },
  {
   "cell_type": "code",
   "execution_count": 12,
   "id": "1c99404c-89fb-4904-95b0-e9907a79b514",
   "metadata": {},
   "outputs": [
    {
     "data": {
      "text/plain": [
       "(1000, 4)"
      ]
     },
     "execution_count": 12,
     "metadata": {},
     "output_type": "execute_result"
    }
   ],
   "source": [
    "df_d3.shape"
   ]
  },
  {
   "cell_type": "code",
   "execution_count": 13,
   "id": "31085864-f588-41eb-87e0-093beef0225f",
   "metadata": {},
   "outputs": [],
   "source": [
    "params_12_15_31 = {\n",
    "    'subreddit': 'Destiny',\n",
    "    'limit': 1000,\n",
    "    'filter': 'subreddit, selftext, title, created_utc',\n",
    "    'since':  1671066061, # Thursday, December 15, 2022 1:01:01 AM\n",
    "    'until': 1672448461 #Saturday, December 31, 2022 1:01:01 AM\n",
    "}"
   ]
  },
  {
   "cell_type": "code",
   "execution_count": 14,
   "id": "ad9a7f41-cadc-4b97-82cd-e38432d418f0",
   "metadata": {},
   "outputs": [
    {
     "data": {
      "text/plain": [
       "200"
      ]
     },
     "execution_count": 14,
     "metadata": {},
     "output_type": "execute_result"
    }
   ],
   "source": [
    "res = requests.get(url,params_12_15_31)\n",
    "res.status_code"
   ]
  },
  {
   "cell_type": "code",
   "execution_count": 15,
   "id": "2d6cffc4-d686-490d-b52c-65a92ab83e56",
   "metadata": {},
   "outputs": [
    {
     "data": {
      "text/html": [
       "<div>\n",
       "<style scoped>\n",
       "    .dataframe tbody tr th:only-of-type {\n",
       "        vertical-align: middle;\n",
       "    }\n",
       "\n",
       "    .dataframe tbody tr th {\n",
       "        vertical-align: top;\n",
       "    }\n",
       "\n",
       "    .dataframe thead th {\n",
       "        text-align: right;\n",
       "    }\n",
       "</style>\n",
       "<table border=\"1\" class=\"dataframe\">\n",
       "  <thead>\n",
       "    <tr style=\"text-align: right;\">\n",
       "      <th></th>\n",
       "      <th>subreddit</th>\n",
       "      <th>selftext</th>\n",
       "      <th>title</th>\n",
       "      <th>created_utc</th>\n",
       "    </tr>\n",
       "  </thead>\n",
       "  <tbody>\n",
       "    <tr>\n",
       "      <th>0</th>\n",
       "      <td>Destiny</td>\n",
       "      <td></td>\n",
       "      <td>World's fucked. He looks like such a normal gu...</td>\n",
       "      <td>1672448018</td>\n",
       "    </tr>\n",
       "    <tr>\n",
       "      <th>1</th>\n",
       "      <td>Destiny</td>\n",
       "      <td>He’s trying to have his cake and eat it too, t...</td>\n",
       "      <td>Elon musk from an ex dickrider’s perspective</td>\n",
       "      <td>1672447376</td>\n",
       "    </tr>\n",
       "    <tr>\n",
       "      <th>2</th>\n",
       "      <td>Destiny</td>\n",
       "      <td></td>\n",
       "      <td>Big Homo Can’t Keep Getting Away With This!</td>\n",
       "      <td>1672446172</td>\n",
       "    </tr>\n",
       "    <tr>\n",
       "      <th>3</th>\n",
       "      <td>Destiny</td>\n",
       "      <td>Elon got 7 million likes once, Greta got 2.8 m...</td>\n",
       "      <td>Is it just me or does twitter have a lot more ...</td>\n",
       "      <td>1672445973</td>\n",
       "    </tr>\n",
       "    <tr>\n",
       "      <th>4</th>\n",
       "      <td>Destiny</td>\n",
       "      <td>[removed]</td>\n",
       "      <td>Substantive answers, how??</td>\n",
       "      <td>1672445505</td>\n",
       "    </tr>\n",
       "  </tbody>\n",
       "</table>\n",
       "</div>"
      ],
      "text/plain": [
       "  subreddit                                           selftext  \\\n",
       "0   Destiny                                                      \n",
       "1   Destiny  He’s trying to have his cake and eat it too, t...   \n",
       "2   Destiny                                                      \n",
       "3   Destiny  Elon got 7 million likes once, Greta got 2.8 m...   \n",
       "4   Destiny                                          [removed]   \n",
       "\n",
       "                                               title  created_utc  \n",
       "0  World's fucked. He looks like such a normal gu...   1672448018  \n",
       "1       Elon musk from an ex dickrider’s perspective   1672447376  \n",
       "2        Big Homo Can’t Keep Getting Away With This!   1672446172  \n",
       "3  Is it just me or does twitter have a lot more ...   1672445973  \n",
       "4                         Substantive answers, how??   1672445505  "
      ]
     },
     "execution_count": 15,
     "metadata": {},
     "output_type": "execute_result"
    }
   ],
   "source": [
    "df_d4 = pd.DataFrame(res.json()['data'])\n",
    "df_d4.head()"
   ]
  },
  {
   "cell_type": "code",
   "execution_count": 16,
   "id": "6d43f60f-5dc6-43e0-9351-326c941efb5e",
   "metadata": {},
   "outputs": [
    {
     "data": {
      "text/plain": [
       "(1000, 4)"
      ]
     },
     "execution_count": 16,
     "metadata": {},
     "output_type": "execute_result"
    }
   ],
   "source": [
    "df_d4.shape"
   ]
  },
  {
   "cell_type": "code",
   "execution_count": 21,
   "id": "7fde2e6b-1904-4d0d-8482-b08506c2b9b5",
   "metadata": {},
   "outputs": [],
   "source": [
    "params_1_1_12 = {\n",
    "    'subreddit': 'Destiny',\n",
    "    'limit': 1000,\n",
    "    'filter': 'subreddit, selftext, title, created_utc',\n",
    "    'since': 1672448461, #Saturday, December 31, 2022 1:01:01 AM\n",
    "    #'until': 1641992461 #Wednesday, January 12, 2022 1:01:01 PM\n",
    "}"
   ]
  },
  {
   "cell_type": "code",
   "execution_count": 22,
   "id": "9f1b073a-f48f-4aef-bf12-fcb9316c4745",
   "metadata": {},
   "outputs": [
    {
     "data": {
      "text/plain": [
       "200"
      ]
     },
     "execution_count": 22,
     "metadata": {},
     "output_type": "execute_result"
    }
   ],
   "source": [
    "res = requests.get(url,params_1_1_12)\n",
    "res.status_code"
   ]
  },
  {
   "cell_type": "code",
   "execution_count": 23,
   "id": "0851c514-4ba3-468b-8077-6d8e159ba645",
   "metadata": {},
   "outputs": [
    {
     "data": {
      "text/html": [
       "<div>\n",
       "<style scoped>\n",
       "    .dataframe tbody tr th:only-of-type {\n",
       "        vertical-align: middle;\n",
       "    }\n",
       "\n",
       "    .dataframe tbody tr th {\n",
       "        vertical-align: top;\n",
       "    }\n",
       "\n",
       "    .dataframe thead th {\n",
       "        text-align: right;\n",
       "    }\n",
       "</style>\n",
       "<table border=\"1\" class=\"dataframe\">\n",
       "  <thead>\n",
       "    <tr style=\"text-align: right;\">\n",
       "      <th></th>\n",
       "      <th>subreddit</th>\n",
       "      <th>selftext</th>\n",
       "      <th>title</th>\n",
       "      <th>created_utc</th>\n",
       "    </tr>\n",
       "  </thead>\n",
       "  <tbody>\n",
       "    <tr>\n",
       "      <th>0</th>\n",
       "      <td>Destiny</td>\n",
       "      <td></td>\n",
       "      <td>This Is Why She Makes You Wait (Redpill youtub...</td>\n",
       "      <td>1673554454</td>\n",
       "    </tr>\n",
       "    <tr>\n",
       "      <th>1</th>\n",
       "      <td>Destiny</td>\n",
       "      <td></td>\n",
       "      <td>Has anyone watched this stream? I want to know...</td>\n",
       "      <td>1673554154</td>\n",
       "    </tr>\n",
       "    <tr>\n",
       "      <th>2</th>\n",
       "      <td>Destiny</td>\n",
       "      <td></td>\n",
       "      <td>Do animals have a right to self defense ?</td>\n",
       "      <td>1673554136</td>\n",
       "    </tr>\n",
       "    <tr>\n",
       "      <th>3</th>\n",
       "      <td>Destiny</td>\n",
       "      <td>If she doesn't come on stream after this conve...</td>\n",
       "      <td>Annaleasha's head is exploding listening to th...</td>\n",
       "      <td>1673554025</td>\n",
       "    </tr>\n",
       "    <tr>\n",
       "      <th>4</th>\n",
       "      <td>Destiny</td>\n",
       "      <td></td>\n",
       "      <td>Title</td>\n",
       "      <td>1673553497</td>\n",
       "    </tr>\n",
       "  </tbody>\n",
       "</table>\n",
       "</div>"
      ],
      "text/plain": [
       "  subreddit                                           selftext  \\\n",
       "0   Destiny                                                      \n",
       "1   Destiny                                                      \n",
       "2   Destiny                                                      \n",
       "3   Destiny  If she doesn't come on stream after this conve...   \n",
       "4   Destiny                                                      \n",
       "\n",
       "                                               title  created_utc  \n",
       "0  This Is Why She Makes You Wait (Redpill youtub...   1673554454  \n",
       "1  Has anyone watched this stream? I want to know...   1673554154  \n",
       "2          Do animals have a right to self defense ?   1673554136  \n",
       "3  Annaleasha's head is exploding listening to th...   1673554025  \n",
       "4                                              Title   1673553497  "
      ]
     },
     "execution_count": 23,
     "metadata": {},
     "output_type": "execute_result"
    }
   ],
   "source": [
    "df_d5 = pd.DataFrame(res.json()['data'])\n",
    "df_d5.head()"
   ]
  },
  {
   "cell_type": "code",
   "execution_count": 24,
   "id": "16949898-9516-43cf-9481-8e59f03876a0",
   "metadata": {},
   "outputs": [
    {
     "data": {
      "text/plain": [
       "(1000, 4)"
      ]
     },
     "execution_count": 24,
     "metadata": {},
     "output_type": "execute_result"
    }
   ],
   "source": [
    "df_d5.shape"
   ]
  },
  {
   "cell_type": "code",
   "execution_count": 25,
   "id": "f499ca2b-5076-4da0-a0f4-0a52fca312b6",
   "metadata": {},
   "outputs": [],
   "source": [
    "destiny_df =pd.concat([df_d1,df_d2,df_d3,df_d4,df_d5])"
   ]
  },
  {
   "cell_type": "code",
   "execution_count": 26,
   "id": "5f0ff9a5-7fde-4e6a-b4a2-bd96ad5c0e62",
   "metadata": {},
   "outputs": [
    {
     "data": {
      "text/html": [
       "<div>\n",
       "<style scoped>\n",
       "    .dataframe tbody tr th:only-of-type {\n",
       "        vertical-align: middle;\n",
       "    }\n",
       "\n",
       "    .dataframe tbody tr th {\n",
       "        vertical-align: top;\n",
       "    }\n",
       "\n",
       "    .dataframe thead th {\n",
       "        text-align: right;\n",
       "    }\n",
       "</style>\n",
       "<table border=\"1\" class=\"dataframe\">\n",
       "  <thead>\n",
       "    <tr style=\"text-align: right;\">\n",
       "      <th></th>\n",
       "      <th>subreddit</th>\n",
       "      <th>selftext</th>\n",
       "      <th>title</th>\n",
       "      <th>created_utc</th>\n",
       "    </tr>\n",
       "  </thead>\n",
       "  <tbody>\n",
       "    <tr>\n",
       "      <th>0</th>\n",
       "      <td>Destiny</td>\n",
       "      <td># If you wanna join me:\\n\\n* You need to be a ...</td>\n",
       "      <td>Ima make a NFT fund</td>\n",
       "      <td>1668473745</td>\n",
       "    </tr>\n",
       "    <tr>\n",
       "      <th>1</th>\n",
       "      <td>Destiny</td>\n",
       "      <td>[removed]</td>\n",
       "      <td>Chapter 11 Bankruptcy</td>\n",
       "      <td>1668473634</td>\n",
       "    </tr>\n",
       "    <tr>\n",
       "      <th>2</th>\n",
       "      <td>Destiny</td>\n",
       "      <td>It's very entertaining. All the guest streams ...</td>\n",
       "      <td>Destiny should invite more people over for str...</td>\n",
       "      <td>1668473590</td>\n",
       "    </tr>\n",
       "    <tr>\n",
       "      <th>3</th>\n",
       "      <td>Destiny</td>\n",
       "      <td>[removed]</td>\n",
       "      <td>Hearing my friend explain how she said no but ...</td>\n",
       "      <td>1668473500</td>\n",
       "    </tr>\n",
       "    <tr>\n",
       "      <th>4</th>\n",
       "      <td>Destiny</td>\n",
       "      <td>So, couple years back I met a girl. We were ki...</td>\n",
       "      <td>Was this rape?</td>\n",
       "      <td>1668473430</td>\n",
       "    </tr>\n",
       "    <tr>\n",
       "      <th>...</th>\n",
       "      <td>...</td>\n",
       "      <td>...</td>\n",
       "      <td>...</td>\n",
       "      <td>...</td>\n",
       "    </tr>\n",
       "    <tr>\n",
       "      <th>995</th>\n",
       "      <td>Destiny</td>\n",
       "      <td></td>\n",
       "      <td>Fine day isn’t it fellow factorio enjoyers</td>\n",
       "      <td>1673121545</td>\n",
       "    </tr>\n",
       "    <tr>\n",
       "      <th>996</th>\n",
       "      <td>Destiny</td>\n",
       "      <td>[removed]</td>\n",
       "      <td>How Destiny is damaging the autistic community...</td>\n",
       "      <td>1673121497</td>\n",
       "    </tr>\n",
       "    <tr>\n",
       "      <th>997</th>\n",
       "      <td>Destiny</td>\n",
       "      <td></td>\n",
       "      <td>Has destiny ever talked about how fucking anti...</td>\n",
       "      <td>1673121490</td>\n",
       "    </tr>\n",
       "    <tr>\n",
       "      <th>998</th>\n",
       "      <td>Destiny</td>\n",
       "      <td>[This is the clip I am referencing.](https://w...</td>\n",
       "      <td>The driver in the white car from that clip sho...</td>\n",
       "      <td>1673121004</td>\n",
       "    </tr>\n",
       "    <tr>\n",
       "      <th>999</th>\n",
       "      <td>Destiny</td>\n",
       "      <td></td>\n",
       "      <td>Ah yes Henry cavill the incel</td>\n",
       "      <td>1673120761</td>\n",
       "    </tr>\n",
       "  </tbody>\n",
       "</table>\n",
       "<p>5000 rows × 4 columns</p>\n",
       "</div>"
      ],
      "text/plain": [
       "    subreddit                                           selftext  \\\n",
       "0     Destiny  # If you wanna join me:\\n\\n* You need to be a ...   \n",
       "1     Destiny                                          [removed]   \n",
       "2     Destiny  It's very entertaining. All the guest streams ...   \n",
       "3     Destiny                                          [removed]   \n",
       "4     Destiny  So, couple years back I met a girl. We were ki...   \n",
       "..        ...                                                ...   \n",
       "995   Destiny                                                      \n",
       "996   Destiny                                          [removed]   \n",
       "997   Destiny                                                      \n",
       "998   Destiny  [This is the clip I am referencing.](https://w...   \n",
       "999   Destiny                                                      \n",
       "\n",
       "                                                 title  created_utc  \n",
       "0                                  Ima make a NFT fund   1668473745  \n",
       "1                                Chapter 11 Bankruptcy   1668473634  \n",
       "2    Destiny should invite more people over for str...   1668473590  \n",
       "3    Hearing my friend explain how she said no but ...   1668473500  \n",
       "4                                       Was this rape?   1668473430  \n",
       "..                                                 ...          ...  \n",
       "995         Fine day isn’t it fellow factorio enjoyers   1673121545  \n",
       "996  How Destiny is damaging the autistic community...   1673121497  \n",
       "997  Has destiny ever talked about how fucking anti...   1673121490  \n",
       "998  The driver in the white car from that clip sho...   1673121004  \n",
       "999                      Ah yes Henry cavill the incel   1673120761  \n",
       "\n",
       "[5000 rows x 4 columns]"
      ]
     },
     "execution_count": 26,
     "metadata": {},
     "output_type": "execute_result"
    }
   ],
   "source": [
    "destiny_df"
   ]
  },
  {
   "cell_type": "code",
   "execution_count": 28,
   "id": "0feee3cf-d8d3-4236-b1c7-73e48c00f19a",
   "metadata": {},
   "outputs": [
    {
     "data": {
      "text/plain": [
       "0"
      ]
     },
     "execution_count": 28,
     "metadata": {},
     "output_type": "execute_result"
    }
   ],
   "source": [
    "destiny_df.duplicated().sum()"
   ]
  },
  {
   "cell_type": "code",
   "execution_count": 30,
   "id": "a7f24b58-42e0-4a4f-9328-767102be01e6",
   "metadata": {},
   "outputs": [
    {
     "data": {
      "text/html": [
       "<div>\n",
       "<style scoped>\n",
       "    .dataframe tbody tr th:only-of-type {\n",
       "        vertical-align: middle;\n",
       "    }\n",
       "\n",
       "    .dataframe tbody tr th {\n",
       "        vertical-align: top;\n",
       "    }\n",
       "\n",
       "    .dataframe thead th {\n",
       "        text-align: right;\n",
       "    }\n",
       "</style>\n",
       "<table border=\"1\" class=\"dataframe\">\n",
       "  <thead>\n",
       "    <tr style=\"text-align: right;\">\n",
       "      <th></th>\n",
       "      <th>subreddit</th>\n",
       "      <th>selftext</th>\n",
       "      <th>title</th>\n",
       "      <th>created_utc</th>\n",
       "      <th>full_text</th>\n",
       "    </tr>\n",
       "  </thead>\n",
       "  <tbody>\n",
       "    <tr>\n",
       "      <th>0</th>\n",
       "      <td>Destiny</td>\n",
       "      <td># If you wanna join me:\\n\\n* You need to be a ...</td>\n",
       "      <td>Ima make a NFT fund</td>\n",
       "      <td>1668473745</td>\n",
       "      <td>Ima make a NFT fund # If you wanna join me:\\n\\...</td>\n",
       "    </tr>\n",
       "    <tr>\n",
       "      <th>1</th>\n",
       "      <td>Destiny</td>\n",
       "      <td>[removed]</td>\n",
       "      <td>Chapter 11 Bankruptcy</td>\n",
       "      <td>1668473634</td>\n",
       "      <td>Chapter 11 Bankruptcy [removed]</td>\n",
       "    </tr>\n",
       "    <tr>\n",
       "      <th>2</th>\n",
       "      <td>Destiny</td>\n",
       "      <td>It's very entertaining. All the guest streams ...</td>\n",
       "      <td>Destiny should invite more people over for str...</td>\n",
       "      <td>1668473590</td>\n",
       "      <td>Destiny should invite more people over for str...</td>\n",
       "    </tr>\n",
       "    <tr>\n",
       "      <th>3</th>\n",
       "      <td>Destiny</td>\n",
       "      <td>[removed]</td>\n",
       "      <td>Hearing my friend explain how she said no but ...</td>\n",
       "      <td>1668473500</td>\n",
       "      <td>Hearing my friend explain how she said no but ...</td>\n",
       "    </tr>\n",
       "    <tr>\n",
       "      <th>4</th>\n",
       "      <td>Destiny</td>\n",
       "      <td>So, couple years back I met a girl. We were ki...</td>\n",
       "      <td>Was this rape?</td>\n",
       "      <td>1668473430</td>\n",
       "      <td>Was this rape? So, couple years back I met a g...</td>\n",
       "    </tr>\n",
       "    <tr>\n",
       "      <th>...</th>\n",
       "      <td>...</td>\n",
       "      <td>...</td>\n",
       "      <td>...</td>\n",
       "      <td>...</td>\n",
       "      <td>...</td>\n",
       "    </tr>\n",
       "    <tr>\n",
       "      <th>995</th>\n",
       "      <td>Destiny</td>\n",
       "      <td></td>\n",
       "      <td>Fine day isn’t it fellow factorio enjoyers</td>\n",
       "      <td>1673121545</td>\n",
       "      <td>Fine day isn’t it fellow factorio enjoyers</td>\n",
       "    </tr>\n",
       "    <tr>\n",
       "      <th>996</th>\n",
       "      <td>Destiny</td>\n",
       "      <td>[removed]</td>\n",
       "      <td>How Destiny is damaging the autistic community...</td>\n",
       "      <td>1673121497</td>\n",
       "      <td>How Destiny is damaging the autistic community...</td>\n",
       "    </tr>\n",
       "    <tr>\n",
       "      <th>997</th>\n",
       "      <td>Destiny</td>\n",
       "      <td></td>\n",
       "      <td>Has destiny ever talked about how fucking anti...</td>\n",
       "      <td>1673121490</td>\n",
       "      <td>Has destiny ever talked about how fucking anti...</td>\n",
       "    </tr>\n",
       "    <tr>\n",
       "      <th>998</th>\n",
       "      <td>Destiny</td>\n",
       "      <td>[This is the clip I am referencing.](https://w...</td>\n",
       "      <td>The driver in the white car from that clip sho...</td>\n",
       "      <td>1673121004</td>\n",
       "      <td>The driver in the white car from that clip sho...</td>\n",
       "    </tr>\n",
       "    <tr>\n",
       "      <th>999</th>\n",
       "      <td>Destiny</td>\n",
       "      <td></td>\n",
       "      <td>Ah yes Henry cavill the incel</td>\n",
       "      <td>1673120761</td>\n",
       "      <td>Ah yes Henry cavill the incel</td>\n",
       "    </tr>\n",
       "  </tbody>\n",
       "</table>\n",
       "<p>5000 rows × 5 columns</p>\n",
       "</div>"
      ],
      "text/plain": [
       "    subreddit                                           selftext  \\\n",
       "0     Destiny  # If you wanna join me:\\n\\n* You need to be a ...   \n",
       "1     Destiny                                          [removed]   \n",
       "2     Destiny  It's very entertaining. All the guest streams ...   \n",
       "3     Destiny                                          [removed]   \n",
       "4     Destiny  So, couple years back I met a girl. We were ki...   \n",
       "..        ...                                                ...   \n",
       "995   Destiny                                                      \n",
       "996   Destiny                                          [removed]   \n",
       "997   Destiny                                                      \n",
       "998   Destiny  [This is the clip I am referencing.](https://w...   \n",
       "999   Destiny                                                      \n",
       "\n",
       "                                                 title  created_utc  \\\n",
       "0                                  Ima make a NFT fund   1668473745   \n",
       "1                                Chapter 11 Bankruptcy   1668473634   \n",
       "2    Destiny should invite more people over for str...   1668473590   \n",
       "3    Hearing my friend explain how she said no but ...   1668473500   \n",
       "4                                       Was this rape?   1668473430   \n",
       "..                                                 ...          ...   \n",
       "995         Fine day isn’t it fellow factorio enjoyers   1673121545   \n",
       "996  How Destiny is damaging the autistic community...   1673121497   \n",
       "997  Has destiny ever talked about how fucking anti...   1673121490   \n",
       "998  The driver in the white car from that clip sho...   1673121004   \n",
       "999                      Ah yes Henry cavill the incel   1673120761   \n",
       "\n",
       "                                             full_text  \n",
       "0    Ima make a NFT fund # If you wanna join me:\\n\\...  \n",
       "1                      Chapter 11 Bankruptcy [removed]  \n",
       "2    Destiny should invite more people over for str...  \n",
       "3    Hearing my friend explain how she said no but ...  \n",
       "4    Was this rape? So, couple years back I met a g...  \n",
       "..                                                 ...  \n",
       "995        Fine day isn’t it fellow factorio enjoyers   \n",
       "996  How Destiny is damaging the autistic community...  \n",
       "997  Has destiny ever talked about how fucking anti...  \n",
       "998  The driver in the white car from that clip sho...  \n",
       "999                     Ah yes Henry cavill the incel   \n",
       "\n",
       "[5000 rows x 5 columns]"
      ]
     },
     "execution_count": 30,
     "metadata": {},
     "output_type": "execute_result"
    }
   ],
   "source": [
    "destiny_df['full_text']=destiny_df['title']+' ' +destiny_df['selftext']\n",
    "destiny_df"
   ]
  },
  {
   "cell_type": "code",
   "execution_count": 49,
   "id": "75ee65a2-3a06-447a-9666-cb42c9feca4d",
   "metadata": {},
   "outputs": [],
   "source": [
    "cvec = CountVectorizer(stop_words='english',ngram_range = (2, 4))"
   ]
  },
  {
   "cell_type": "code",
   "execution_count": 50,
   "id": "42de9d57-37da-4fe7-8d51-2857da486416",
   "metadata": {},
   "outputs": [
    {
     "data": {
      "text/html": [
       "<style>#sk-container-id-3 {color: black;background-color: white;}#sk-container-id-3 pre{padding: 0;}#sk-container-id-3 div.sk-toggleable {background-color: white;}#sk-container-id-3 label.sk-toggleable__label {cursor: pointer;display: block;width: 100%;margin-bottom: 0;padding: 0.3em;box-sizing: border-box;text-align: center;}#sk-container-id-3 label.sk-toggleable__label-arrow:before {content: \"▸\";float: left;margin-right: 0.25em;color: #696969;}#sk-container-id-3 label.sk-toggleable__label-arrow:hover:before {color: black;}#sk-container-id-3 div.sk-estimator:hover label.sk-toggleable__label-arrow:before {color: black;}#sk-container-id-3 div.sk-toggleable__content {max-height: 0;max-width: 0;overflow: hidden;text-align: left;background-color: #f0f8ff;}#sk-container-id-3 div.sk-toggleable__content pre {margin: 0.2em;color: black;border-radius: 0.25em;background-color: #f0f8ff;}#sk-container-id-3 input.sk-toggleable__control:checked~div.sk-toggleable__content {max-height: 200px;max-width: 100%;overflow: auto;}#sk-container-id-3 input.sk-toggleable__control:checked~label.sk-toggleable__label-arrow:before {content: \"▾\";}#sk-container-id-3 div.sk-estimator input.sk-toggleable__control:checked~label.sk-toggleable__label {background-color: #d4ebff;}#sk-container-id-3 div.sk-label input.sk-toggleable__control:checked~label.sk-toggleable__label {background-color: #d4ebff;}#sk-container-id-3 input.sk-hidden--visually {border: 0;clip: rect(1px 1px 1px 1px);clip: rect(1px, 1px, 1px, 1px);height: 1px;margin: -1px;overflow: hidden;padding: 0;position: absolute;width: 1px;}#sk-container-id-3 div.sk-estimator {font-family: monospace;background-color: #f0f8ff;border: 1px dotted black;border-radius: 0.25em;box-sizing: border-box;margin-bottom: 0.5em;}#sk-container-id-3 div.sk-estimator:hover {background-color: #d4ebff;}#sk-container-id-3 div.sk-parallel-item::after {content: \"\";width: 100%;border-bottom: 1px solid gray;flex-grow: 1;}#sk-container-id-3 div.sk-label:hover label.sk-toggleable__label {background-color: #d4ebff;}#sk-container-id-3 div.sk-serial::before {content: \"\";position: absolute;border-left: 1px solid gray;box-sizing: border-box;top: 0;bottom: 0;left: 50%;z-index: 0;}#sk-container-id-3 div.sk-serial {display: flex;flex-direction: column;align-items: center;background-color: white;padding-right: 0.2em;padding-left: 0.2em;position: relative;}#sk-container-id-3 div.sk-item {position: relative;z-index: 1;}#sk-container-id-3 div.sk-parallel {display: flex;align-items: stretch;justify-content: center;background-color: white;position: relative;}#sk-container-id-3 div.sk-item::before, #sk-container-id-3 div.sk-parallel-item::before {content: \"\";position: absolute;border-left: 1px solid gray;box-sizing: border-box;top: 0;bottom: 0;left: 50%;z-index: -1;}#sk-container-id-3 div.sk-parallel-item {display: flex;flex-direction: column;z-index: 1;position: relative;background-color: white;}#sk-container-id-3 div.sk-parallel-item:first-child::after {align-self: flex-end;width: 50%;}#sk-container-id-3 div.sk-parallel-item:last-child::after {align-self: flex-start;width: 50%;}#sk-container-id-3 div.sk-parallel-item:only-child::after {width: 0;}#sk-container-id-3 div.sk-dashed-wrapped {border: 1px dashed gray;margin: 0 0.4em 0.5em 0.4em;box-sizing: border-box;padding-bottom: 0.4em;background-color: white;}#sk-container-id-3 div.sk-label label {font-family: monospace;font-weight: bold;display: inline-block;line-height: 1.2em;}#sk-container-id-3 div.sk-label-container {text-align: center;}#sk-container-id-3 div.sk-container {/* jupyter's `normalize.less` sets `[hidden] { display: none; }` but bootstrap.min.css set `[hidden] { display: none !important; }` so we also need the `!important` here to be able to override the default hidden behavior on the sphinx rendered scikit-learn.org. See: https://github.com/scikit-learn/scikit-learn/issues/21755 */display: inline-block !important;position: relative;}#sk-container-id-3 div.sk-text-repr-fallback {display: none;}</style><div id=\"sk-container-id-3\" class=\"sk-top-container\"><div class=\"sk-text-repr-fallback\"><pre>CountVectorizer(ngram_range=(2, 4), stop_words=&#x27;english&#x27;)</pre><b>In a Jupyter environment, please rerun this cell to show the HTML representation or trust the notebook. <br />On GitHub, the HTML representation is unable to render, please try loading this page with nbviewer.org.</b></div><div class=\"sk-container\" hidden><div class=\"sk-item\"><div class=\"sk-estimator sk-toggleable\"><input class=\"sk-toggleable__control sk-hidden--visually\" id=\"sk-estimator-id-3\" type=\"checkbox\" checked><label for=\"sk-estimator-id-3\" class=\"sk-toggleable__label sk-toggleable__label-arrow\">CountVectorizer</label><div class=\"sk-toggleable__content\"><pre>CountVectorizer(ngram_range=(2, 4), stop_words=&#x27;english&#x27;)</pre></div></div></div></div></div>"
      ],
      "text/plain": [
       "CountVectorizer(ngram_range=(2, 4), stop_words='english')"
      ]
     },
     "execution_count": 50,
     "metadata": {},
     "output_type": "execute_result"
    }
   ],
   "source": [
    "cvec.fit(destiny_df['full_text'])"
   ]
  },
  {
   "cell_type": "code",
   "execution_count": 51,
   "id": "ff0b2e0d-6f6f-45ba-a2cd-a8c81d33c3c5",
   "metadata": {},
   "outputs": [],
   "source": [
    "vec_df = cvec.transform(destiny_df['full_text'])"
   ]
  },
  {
   "cell_type": "code",
   "execution_count": 52,
   "id": "1e6f5aa8-801c-4633-b5e6-4c829ff776ad",
   "metadata": {},
   "outputs": [
    {
     "data": {
      "text/plain": [
       "<5000x361302 sparse matrix of type '<class 'numpy.int64'>'\n",
       "\twith 396011 stored elements in Compressed Sparse Row format>"
      ]
     },
     "execution_count": 52,
     "metadata": {},
     "output_type": "execute_result"
    }
   ],
   "source": [
    "vec_df"
   ]
  },
  {
   "cell_type": "code",
   "execution_count": 53,
   "id": "90f7083e-02bb-4c05-9d75-72f5f83f79c9",
   "metadata": {},
   "outputs": [
    {
     "data": {
      "text/plain": [
       "<bound method spmatrix.todense of <5000x361302 sparse matrix of type '<class 'numpy.int64'>'\n",
       "\twith 396011 stored elements in Compressed Sparse Row format>>"
      ]
     },
     "execution_count": 53,
     "metadata": {},
     "output_type": "execute_result"
    }
   ],
   "source": [
    "vec_df.todense"
   ]
  },
  {
   "cell_type": "code",
   "execution_count": 54,
   "id": "d80baa00-5e15-4d3b-8566-ccb4c9064272",
   "metadata": {},
   "outputs": [],
   "source": [
    "vec_df = pd.DataFrame(vec_df.todense(), columns = cvec.get_feature_names_out())"
   ]
  },
  {
   "cell_type": "code",
   "execution_count": 56,
   "id": "6c00e2f9-8614-48f6-8ecb-904b270ab43b",
   "metadata": {},
   "outputs": [
    {
     "data": {
      "text/plain": [
       "https www                                      696\n",
       "reddit com                                     274\n",
       "www reddit                                     273\n",
       "https www reddit com                           273\n",
       "https www reddit                               273\n",
       "www reddit com                                 273\n",
       "youtube com                                    263\n",
       "amp x200b                                      259\n",
       "www youtube                                    245\n",
       "www youtube com                                245\n",
       "https www youtube com                          244\n",
       "https www youtube                              244\n",
       "com poll                                       205\n",
       "poll https                                     204\n",
       "poll https www reddit                          203\n",
       "view poll https www                            203\n",
       "www reddit com poll                            203\n",
       "view poll https                                203\n",
       "reddit com poll                                203\n",
       "poll https www                                 203\n",
       "view poll                                      203\n",
       "youtube com watch                              133\n",
       "com watch                                      133\n",
       "www youtube com watch                          131\n",
       "https youtu                                    129\n",
       "andrew tate                                    125\n",
       "blinkerton blinkerton                          107\n",
       "blinkerton blinkerton blinkerton               105\n",
       "blinkerton blinkerton blinkerton blinkerton    103\n",
       "don know                                       102\n",
       "feel like                                       95\n",
       "don think                                       92\n",
       "google com                                      86\n",
       "destiny currently                               80\n",
       "ai art                                          73\n",
       "https preview                                   71\n",
       "webp amp                                        71\n",
       "amp auto                                        71\n",
       "https preview redd                              71\n",
       "auto webp                                       71\n",
       "auto webp amp                                   71\n",
       "preview redd                                    71\n",
       "amp auto webp                                   71\n",
       "amp auto webp amp                               71\n",
       "twitter com                                     70\n",
       "amp format                                      69\n",
       "ve seen                                         69\n",
       "https twitter                                   67\n",
       "https twitter com                               67\n",
       "destiny gg                                      65\n",
       "dtype: int64"
      ]
     },
     "execution_count": 56,
     "metadata": {},
     "output_type": "execute_result"
    }
   ],
   "source": [
    "vec_df.sum().sort_values(ascending=False).head(50)"
   ]
  },
  {
   "cell_type": "code",
   "execution_count": 57,
   "id": "a1813b66-7fce-4e0c-b82b-d0acf93225f3",
   "metadata": {},
   "outputs": [],
   "source": [
    "destiny_df.to_csv('./data/destiny.csv')"
   ]
  },
  {
   "cell_type": "markdown",
   "id": "8d3a6444-64fa-4728-9265-c159d2e33b61",
   "metadata": {},
   "source": [
    "# copy df to apply regex pattern"
   ]
  },
  {
   "cell_type": "code",
   "execution_count": 10,
   "id": "111f63ae-5acc-4bbb-9f83-028d2629adc2",
   "metadata": {},
   "outputs": [],
   "source": [
    "destiny_df=pd.read_csv('./data/destiny.csv')"
   ]
  },
  {
   "cell_type": "code",
   "execution_count": 11,
   "id": "5bd3ec79-d78b-49de-b0df-9b0bc681fa29",
   "metadata": {},
   "outputs": [],
   "source": [
    "import re"
   ]
  },
  {
   "cell_type": "code",
   "execution_count": 12,
   "id": "945d3c57-b1c4-4174-826f-27063991d391",
   "metadata": {},
   "outputs": [],
   "source": [
    "pattern = re.compile('\\[(.*?)\\]\\(.*?\\)')"
   ]
  },
  {
   "cell_type": "code",
   "execution_count": 13,
   "id": "adb52b77-da6f-4318-95fa-a8b7d03415a5",
   "metadata": {},
   "outputs": [],
   "source": [
    "d_df = destiny_df.copy()\n",
    "d_df['no_links'] = d_df['full_text'].apply(lambda x: pattern.sub(r'\\1',str(x)))"
   ]
  },
  {
   "cell_type": "code",
   "execution_count": 14,
   "id": "0e30572c-57b9-4fe1-b2ac-4cea297813b9",
   "metadata": {},
   "outputs": [],
   "source": [
    "d_df['no_links_2'] = d_df['no_links'].replace(r'http\\S+', '', regex=True).replace(r'www\\S+', '', regex=True).replace(r'http:\\S+', '', regex=True).replace(r'&amp\\S+','', regex = True).replace(r'\\n','',regex = True).replace(r'\\[removed\\]','', regex=True).replace(r'\\[deleted\\]','', regex=True )"
   ]
  },
  {
   "cell_type": "markdown",
   "id": "9e5e359c-d835-4197-8bfb-1b02ba2697fc",
   "metadata": {},
   "source": [
    "# Check word count and post length\n"
   ]
  },
  {
   "cell_type": "code",
   "execution_count": 15,
   "id": "b9e6ee5d-3438-4a70-8c26-4365fb3342c4",
   "metadata": {},
   "outputs": [],
   "source": [
    "d_df['post_length']= d_df[\"no_links_2\"].str.len()"
   ]
  },
  {
   "cell_type": "code",
   "execution_count": 16,
   "id": "723e8df1-bd5b-4db4-a65b-a4f00fda2231",
   "metadata": {},
   "outputs": [],
   "source": [
    "d_df['post_word_count'] = d_df['no_links_2'].str.split().str.len()"
   ]
  },
  {
   "cell_type": "code",
   "execution_count": 17,
   "id": "be8f9c51-e923-4f03-9a8d-74c7d9a7231b",
   "metadata": {},
   "outputs": [],
   "source": [
    "d_df.drop(columns = ['selftext','title','created_utc','full_text','no_links','Unnamed: 0'],inplace = True)"
   ]
  },
  {
   "cell_type": "markdown",
   "id": "a71b51ad-bd71-4c75-ae25-4f2a0fa4ebcc",
   "metadata": {},
   "source": [
    "# Sentiment Analysis "
   ]
  },
  {
   "cell_type": "code",
   "execution_count": 18,
   "id": "24098102-0b4c-4a78-a8a5-087f9039ea73",
   "metadata": {},
   "outputs": [],
   "source": [
    "analyzer = SentimentIntensityAnalyzer()\n",
    "d_df['compound'] = [analyzer.polarity_scores(x)['compound'] for x in d_df['no_links_2']]\n",
    "d_df['neg'] = [analyzer.polarity_scores(x)['neg'] for x in d_df['no_links_2']]\n",
    "d_df['neu'] = [analyzer.polarity_scores(x)['neu'] for x in d_df['no_links_2']]\n",
    "d_df['pos'] = [analyzer.polarity_scores(x)['pos'] for x in d_df['no_links_2']]\n",
    "#plagiarized from\n",
    "#https://stackoverflow.com/questions/61608057/output-vader-sentiment-scores-in-columns-based-on-dataframe-rows-of-tweets"
   ]
  },
  {
   "cell_type": "code",
   "execution_count": 19,
   "id": "509b49d2-fdba-4d61-a44e-17b79234d62d",
   "metadata": {},
   "outputs": [
    {
     "data": {
      "text/html": [
       "<div>\n",
       "<style scoped>\n",
       "    .dataframe tbody tr th:only-of-type {\n",
       "        vertical-align: middle;\n",
       "    }\n",
       "\n",
       "    .dataframe tbody tr th {\n",
       "        vertical-align: top;\n",
       "    }\n",
       "\n",
       "    .dataframe thead th {\n",
       "        text-align: right;\n",
       "    }\n",
       "</style>\n",
       "<table border=\"1\" class=\"dataframe\">\n",
       "  <thead>\n",
       "    <tr style=\"text-align: right;\">\n",
       "      <th></th>\n",
       "      <th>subreddit</th>\n",
       "      <th>no_links_2</th>\n",
       "      <th>post_length</th>\n",
       "      <th>post_word_count</th>\n",
       "      <th>compound</th>\n",
       "      <th>neg</th>\n",
       "      <th>neu</th>\n",
       "      <th>pos</th>\n",
       "    </tr>\n",
       "  </thead>\n",
       "  <tbody>\n",
       "    <tr>\n",
       "      <th>0</th>\n",
       "      <td>Destiny</td>\n",
       "      <td>Ima make a NFT fund # If you wanna join me:* You need to be a technologist, and know the command line.* You need 15 years of exp on Golang, and 20 years of Rust exp, no hello world mfers.* You have to know what an NFT is.</td>\n",
       "      <td>221</td>\n",
       "      <td>48</td>\n",
       "      <td>0.0000</td>\n",
       "      <td>0.046</td>\n",
       "      <td>0.907</td>\n",
       "      <td>0.046</td>\n",
       "    </tr>\n",
       "    <tr>\n",
       "      <th>1</th>\n",
       "      <td>Destiny</td>\n",
       "      <td>Chapter 11 Bankruptcy</td>\n",
       "      <td>22</td>\n",
       "      <td>3</td>\n",
       "      <td>0.0000</td>\n",
       "      <td>0.000</td>\n",
       "      <td>1.000</td>\n",
       "      <td>0.000</td>\n",
       "    </tr>\n",
       "    <tr>\n",
       "      <th>2</th>\n",
       "      <td>Destiny</td>\n",
       "      <td>Destiny should invite more people over for streams It's very entertaining. All the guest streams were at least A tier.</td>\n",
       "      <td>118</td>\n",
       "      <td>20</td>\n",
       "      <td>0.5849</td>\n",
       "      <td>0.000</td>\n",
       "      <td>0.780</td>\n",
       "      <td>0.220</td>\n",
       "    </tr>\n",
       "    <tr>\n",
       "      <th>3</th>\n",
       "      <td>Destiny</td>\n",
       "      <td>Hearing my friend explain how she said no but she gave him “the eyes”</td>\n",
       "      <td>70</td>\n",
       "      <td>14</td>\n",
       "      <td>0.1280</td>\n",
       "      <td>0.102</td>\n",
       "      <td>0.764</td>\n",
       "      <td>0.134</td>\n",
       "    </tr>\n",
       "    <tr>\n",
       "      <th>4</th>\n",
       "      <td>Destiny</td>\n",
       "      <td>Was this rape? So, couple years back I met a girl. We were kinda chilling in my apartment and to lighten the mood I decided to play some music.I asked her \"Do you like Nickelback?\" and she said \"Noooo\".And I played it anyway!</td>\n",
       "      <td>225</td>\n",
       "      <td>43</td>\n",
       "      <td>0.3496</td>\n",
       "      <td>0.098</td>\n",
       "      <td>0.711</td>\n",
       "      <td>0.191</td>\n",
       "    </tr>\n",
       "    <tr>\n",
       "      <th>...</th>\n",
       "      <td>...</td>\n",
       "      <td>...</td>\n",
       "      <td>...</td>\n",
       "      <td>...</td>\n",
       "      <td>...</td>\n",
       "      <td>...</td>\n",
       "      <td>...</td>\n",
       "      <td>...</td>\n",
       "    </tr>\n",
       "    <tr>\n",
       "      <th>4995</th>\n",
       "      <td>Destiny</td>\n",
       "      <td>Fine day isn’t it fellow factorio enjoyers</td>\n",
       "      <td>43</td>\n",
       "      <td>7</td>\n",
       "      <td>0.6124</td>\n",
       "      <td>0.000</td>\n",
       "      <td>0.500</td>\n",
       "      <td>0.500</td>\n",
       "    </tr>\n",
       "    <tr>\n",
       "      <th>4996</th>\n",
       "      <td>Destiny</td>\n",
       "      <td>How Destiny is damaging the autistic community, by using autism as an insult.</td>\n",
       "      <td>78</td>\n",
       "      <td>13</td>\n",
       "      <td>-0.7650</td>\n",
       "      <td>0.375</td>\n",
       "      <td>0.625</td>\n",
       "      <td>0.000</td>\n",
       "    </tr>\n",
       "    <tr>\n",
       "      <th>4997</th>\n",
       "      <td>Destiny</td>\n",
       "      <td>Has destiny ever talked about how fucking anti semitic badempanda is. He claimed shit like Jews were European and not “indigenous” wild asf</td>\n",
       "      <td>140</td>\n",
       "      <td>23</td>\n",
       "      <td>-0.5709</td>\n",
       "      <td>0.216</td>\n",
       "      <td>0.697</td>\n",
       "      <td>0.087</td>\n",
       "    </tr>\n",
       "    <tr>\n",
       "      <th>4998</th>\n",
       "      <td>Destiny</td>\n",
       "      <td>The driver in the white car from that clip should have yielded (proof) This is the clip I am referencing. Destiny watched this clip on stream and discussed who should have yielded. I believe he ended on the guy in the white car after some deliberation, which is 100% correct. He had a yield sign that is on the other side of the light post in the middle of the turn that is hard to see because of...</td>\n",
       "      <td>541</td>\n",
       "      <td>106</td>\n",
       "      <td>-0.1027</td>\n",
       "      <td>0.014</td>\n",
       "      <td>0.986</td>\n",
       "      <td>0.000</td>\n",
       "    </tr>\n",
       "    <tr>\n",
       "      <th>4999</th>\n",
       "      <td>Destiny</td>\n",
       "      <td>Ah yes Henry cavill the incel</td>\n",
       "      <td>30</td>\n",
       "      <td>6</td>\n",
       "      <td>0.4019</td>\n",
       "      <td>0.000</td>\n",
       "      <td>0.649</td>\n",
       "      <td>0.351</td>\n",
       "    </tr>\n",
       "  </tbody>\n",
       "</table>\n",
       "<p>5000 rows × 8 columns</p>\n",
       "</div>"
      ],
      "text/plain": [
       "     subreddit  \\\n",
       "0      Destiny   \n",
       "1      Destiny   \n",
       "2      Destiny   \n",
       "3      Destiny   \n",
       "4      Destiny   \n",
       "...        ...   \n",
       "4995   Destiny   \n",
       "4996   Destiny   \n",
       "4997   Destiny   \n",
       "4998   Destiny   \n",
       "4999   Destiny   \n",
       "\n",
       "                                                                                                                                                                                                                                                                                                                                                                                                           no_links_2  \\\n",
       "0                                                                                                                                                                                       Ima make a NFT fund # If you wanna join me:* You need to be a technologist, and know the command line.* You need 15 years of exp on Golang, and 20 years of Rust exp, no hello world mfers.* You have to know what an NFT is.   \n",
       "1                                                                                                                                                                                                                                                                                                                                                                                              Chapter 11 Bankruptcy    \n",
       "2                                                                                                                                                                                                                                                                                              Destiny should invite more people over for streams It's very entertaining. All the guest streams were at least A tier.   \n",
       "3                                                                                                                                                                                                                                                                                                                                              Hearing my friend explain how she said no but she gave him “the eyes”    \n",
       "4                                                                                                                                                                                   Was this rape? So, couple years back I met a girl. We were kinda chilling in my apartment and to lighten the mood I decided to play some music.I asked her \"Do you like Nickelback?\" and she said \"Noooo\".And I played it anyway!   \n",
       "...                                                                                                                                                                                                                                                                                                                                                                                                               ...   \n",
       "4995                                                                                                                                                                                                                                                                                                                                                                      Fine day isn’t it fellow factorio enjoyers    \n",
       "4996                                                                                                                                                                                                                                                                                                                                   How Destiny is damaging the autistic community, by using autism as an insult.    \n",
       "4997                                                                                                                                                                                                                                                                     Has destiny ever talked about how fucking anti semitic badempanda is. He claimed shit like Jews were European and not “indigenous” wild asf    \n",
       "4998  The driver in the white car from that clip should have yielded (proof) This is the clip I am referencing. Destiny watched this clip on stream and discussed who should have yielded. I believe he ended on the guy in the white car after some deliberation, which is 100% correct. He had a yield sign that is on the other side of the light post in the middle of the turn that is hard to see because of...   \n",
       "4999                                                                                                                                                                                                                                                                                                                                                                                   Ah yes Henry cavill the incel    \n",
       "\n",
       "      post_length  post_word_count  compound    neg    neu    pos  \n",
       "0             221               48    0.0000  0.046  0.907  0.046  \n",
       "1              22                3    0.0000  0.000  1.000  0.000  \n",
       "2             118               20    0.5849  0.000  0.780  0.220  \n",
       "3              70               14    0.1280  0.102  0.764  0.134  \n",
       "4             225               43    0.3496  0.098  0.711  0.191  \n",
       "...           ...              ...       ...    ...    ...    ...  \n",
       "4995           43                7    0.6124  0.000  0.500  0.500  \n",
       "4996           78               13   -0.7650  0.375  0.625  0.000  \n",
       "4997          140               23   -0.5709  0.216  0.697  0.087  \n",
       "4998          541              106   -0.1027  0.014  0.986  0.000  \n",
       "4999           30                6    0.4019  0.000  0.649  0.351  \n",
       "\n",
       "[5000 rows x 8 columns]"
      ]
     },
     "execution_count": 19,
     "metadata": {},
     "output_type": "execute_result"
    }
   ],
   "source": [
    "d_df"
   ]
  },
  {
   "cell_type": "code",
   "execution_count": 20,
   "id": "85552a84-1729-4478-8dd6-64cdcc1572ba",
   "metadata": {},
   "outputs": [],
   "source": [
    "d_df.to_csv('./data/dwsent.csv')"
   ]
  },
  {
   "cell_type": "markdown",
   "id": "05e36677-813a-4e31-96b9-2aafd78d109d",
   "metadata": {},
   "source": [
    "# Compare Sentiment Analysis"
   ]
  },
  {
   "cell_type": "code",
   "execution_count": 21,
   "id": "494601be-32a4-47a6-bb66-7db79c47b2b2",
   "metadata": {},
   "outputs": [
    {
     "name": "stdout",
     "output_type": "stream",
     "text": [
      "compound      44.275\n",
      "neg          434.962\n",
      "neu         4071.872\n",
      "pos          476.131\n",
      "dtype: float64\n"
     ]
    },
    {
     "data": {
      "text/plain": [
       "Text(0.5, 1.0, 'Sum Of Destiny Sentiment Analysis Scores')"
      ]
     },
     "execution_count": 21,
     "metadata": {},
     "output_type": "execute_result"
    },
    {
     "data": {
      "image/png": "[encoded data removed]",
      "text/plain": [
       "<Figure size 640x480 with 1 Axes>"
      ]
     },
     "metadata": {},
     "output_type": "display_data"
    }
   ],
   "source": [
    "aux = np.sum(d_df[['compound','neg','neu','pos']], axis=0)\n",
    "print(aux)\n",
    "plt.bar(np.arange(4), aux)\n",
    "plt.xticks(np.arange(4), ['compound','negative','neutral','positive']);\n",
    "plt.ylabel('Sum of Scores')\n",
    "plt.title('Sum Of Destiny Sentiment Analysis Scores')"
   ]
  },
  {
   "cell_type": "markdown",
   "id": "889cbbb5-99e6-4239-bde7-4d0023d27bc0",
   "metadata": {},
   "source": [
    "# Compare Word Count"
   ]
  },
  {
   "cell_type": "code",
   "execution_count": 48,
   "id": "4525a764-372b-4b36-95e2-0d26659a85e8",
   "metadata": {},
   "outputs": [
    {
     "data": {
      "text/plain": [
       "<AxesSubplot:xlabel='post_word_count', ylabel='Count'>"
      ]
     },
     "execution_count": 48,
     "metadata": {},
     "output_type": "execute_result"
    },
    {
     "data": {
      "image/png": "[encoded data removed]",
      "text/plain": [
       "<Figure size 1600x600 with 2 Axes>"
      ]
     },
     "metadata": {},
     "output_type": "display_data"
    }
   ],
   "source": [
    "fig,ax = plt.subplots(1,2, figsize=(16,6))\n",
    "\n",
    "sns.histplot(d_df['post_length'],ax=ax[0],bins=50)\n",
    "sns.histplot(d_df['post_word_count'],ax=ax[1],bins=50)\n"
   ]
  },
  {
   "cell_type": "code",
   "execution_count": 37,
   "id": "069919d3-cc4f-47e9-85f1-d7cbab58bfd5",
   "metadata": {},
   "outputs": [
    {
     "name": "stdout",
     "output_type": "stream",
     "text": [
      "post_length        1597814\n",
      "post_word_count     279768\n",
      "dtype: int64\n"
     ]
    },
    {
     "data": {
      "text/plain": [
       "Text(0.5, 1.0, 'Sum Of Destiny Sentiment Analysis Scores')"
      ]
     },
     "execution_count": 37,
     "metadata": {},
     "output_type": "execute_result"
    },
    {
     "data": {
      "image/png": "[encoded data removed]",
      "text/plain": [
       "<Figure size 640x480 with 1 Axes>"
      ]
     },
     "metadata": {},
     "output_type": "display_data"
    }
   ],
   "source": [
    "aux = np.sum(d_df[['post_length','post_word_count']], axis=0)\n",
    "print(aux)\n",
    "plt.bar(np.arange(2), aux)\n",
    "plt.xticks(np.arange(2), ['post_length','post_word_count']);\n",
    "plt.ylabel('Sum of Scores')\n",
    "plt.title('Sum Of Destiny Sentiment Analysis Scores')"
   ]
  },
  {
   "cell_type": "code",
   "execution_count": 52,
   "id": "3acc9e90-9aa7-45f4-b0e3-e0108fea02b1",
   "metadata": {},
   "outputs": [
    {
     "data": {
      "text/plain": [
       "22735"
      ]
     },
     "execution_count": 52,
     "metadata": {},
     "output_type": "execute_result"
    }
   ],
   "source": [
    "d_df['post_length'].max()"
   ]
  },
  {
   "cell_type": "code",
   "execution_count": 54,
   "id": "b66d2193-6beb-422e-8a37-c44d0ac91805",
   "metadata": {},
   "outputs": [
    {
     "data": {
      "text/plain": [
       "4182"
      ]
     },
     "execution_count": 54,
     "metadata": {},
     "output_type": "execute_result"
    }
   ],
   "source": [
    "d_df['post_word_count'].max()"
   ]
  },
  {
   "cell_type": "code",
   "execution_count": 22,
   "id": "4eae1bc4-4f45-44cf-ac01-555129b0e4d5",
   "metadata": {},
   "outputs": [
    {
     "data": {
      "text/plain": [
       "319.5628"
      ]
     },
     "execution_count": 22,
     "metadata": {},
     "output_type": "execute_result"
    }
   ],
   "source": [
    "d_df['post_length'].mean()"
   ]
  },
  {
   "cell_type": "code",
   "execution_count": 49,
   "id": "67da6f26-e7dc-462c-8094-de0f442ba49d",
   "metadata": {},
   "outputs": [
    {
     "data": {
      "text/plain": [
       "76.0"
      ]
     },
     "execution_count": 49,
     "metadata": {},
     "output_type": "execute_result"
    }
   ],
   "source": [
    "d_df['post_length'].median()"
   ]
  },
  {
   "cell_type": "code",
   "execution_count": 23,
   "id": "33ab97c5-7451-4928-9fd4-816555808fda",
   "metadata": {},
   "outputs": [
    {
     "data": {
      "text/plain": [
       "55.9536"
      ]
     },
     "execution_count": 23,
     "metadata": {},
     "output_type": "execute_result"
    }
   ],
   "source": [
    "d_df['post_word_count'].mean()"
   ]
  },
  {
   "cell_type": "code",
   "execution_count": 50,
   "id": "826d863c-fd7e-41bd-983f-16601b74b9f9",
   "metadata": {},
   "outputs": [
    {
     "data": {
      "text/plain": [
       "13.0"
      ]
     },
     "execution_count": 50,
     "metadata": {},
     "output_type": "execute_result"
    }
   ],
   "source": [
    "d_df['post_word_count'].median()"
   ]
  },
  {
   "cell_type": "markdown",
   "id": "f1b81834-9ba2-405c-8f53-d4b354036d86",
   "metadata": {},
   "source": [
    "## Fit no links to a CV to see what is left to clean"
   ]
  },
  {
   "cell_type": "code",
   "execution_count": 29,
   "id": "7a871047-fad3-47eb-8f96-fb7ad2b8872a",
   "metadata": {},
   "outputs": [],
   "source": [
    "cvec = CountVectorizer(stop_words='english',ngram_range = (2,2 ))"
   ]
  },
  {
   "cell_type": "code",
   "execution_count": 30,
   "id": "0d8b7ab0-76d7-4026-9182-1904dc3dfc08",
   "metadata": {},
   "outputs": [
    {
     "data": {
      "text/html": [
       "<style>#sk-container-id-2 {color: black;background-color: white;}#sk-container-id-2 pre{padding: 0;}#sk-container-id-2 div.sk-toggleable {background-color: white;}#sk-container-id-2 label.sk-toggleable__label {cursor: pointer;display: block;width: 100%;margin-bottom: 0;padding: 0.3em;box-sizing: border-box;text-align: center;}#sk-container-id-2 label.sk-toggleable__label-arrow:before {content: \"▸\";float: left;margin-right: 0.25em;color: #696969;}#sk-container-id-2 label.sk-toggleable__label-arrow:hover:before {color: black;}#sk-container-id-2 div.sk-estimator:hover label.sk-toggleable__label-arrow:before {color: black;}#sk-container-id-2 div.sk-toggleable__content {max-height: 0;max-width: 0;overflow: hidden;text-align: left;background-color: #f0f8ff;}#sk-container-id-2 div.sk-toggleable__content pre {margin: 0.2em;color: black;border-radius: 0.25em;background-color: #f0f8ff;}#sk-container-id-2 input.sk-toggleable__control:checked~div.sk-toggleable__content {max-height: 200px;max-width: 100%;overflow: auto;}#sk-container-id-2 input.sk-toggleable__control:checked~label.sk-toggleable__label-arrow:before {content: \"▾\";}#sk-container-id-2 div.sk-estimator input.sk-toggleable__control:checked~label.sk-toggleable__label {background-color: #d4ebff;}#sk-container-id-2 div.sk-label input.sk-toggleable__control:checked~label.sk-toggleable__label {background-color: #d4ebff;}#sk-container-id-2 input.sk-hidden--visually {border: 0;clip: rect(1px 1px 1px 1px);clip: rect(1px, 1px, 1px, 1px);height: 1px;margin: -1px;overflow: hidden;padding: 0;position: absolute;width: 1px;}#sk-container-id-2 div.sk-estimator {font-family: monospace;background-color: #f0f8ff;border: 1px dotted black;border-radius: 0.25em;box-sizing: border-box;margin-bottom: 0.5em;}#sk-container-id-2 div.sk-estimator:hover {background-color: #d4ebff;}#sk-container-id-2 div.sk-parallel-item::after {content: \"\";width: 100%;border-bottom: 1px solid gray;flex-grow: 1;}#sk-container-id-2 div.sk-label:hover label.sk-toggleable__label {background-color: #d4ebff;}#sk-container-id-2 div.sk-serial::before {content: \"\";position: absolute;border-left: 1px solid gray;box-sizing: border-box;top: 0;bottom: 0;left: 50%;z-index: 0;}#sk-container-id-2 div.sk-serial {display: flex;flex-direction: column;align-items: center;background-color: white;padding-right: 0.2em;padding-left: 0.2em;position: relative;}#sk-container-id-2 div.sk-item {position: relative;z-index: 1;}#sk-container-id-2 div.sk-parallel {display: flex;align-items: stretch;justify-content: center;background-color: white;position: relative;}#sk-container-id-2 div.sk-item::before, #sk-container-id-2 div.sk-parallel-item::before {content: \"\";position: absolute;border-left: 1px solid gray;box-sizing: border-box;top: 0;bottom: 0;left: 50%;z-index: -1;}#sk-container-id-2 div.sk-parallel-item {display: flex;flex-direction: column;z-index: 1;position: relative;background-color: white;}#sk-container-id-2 div.sk-parallel-item:first-child::after {align-self: flex-end;width: 50%;}#sk-container-id-2 div.sk-parallel-item:last-child::after {align-self: flex-start;width: 50%;}#sk-container-id-2 div.sk-parallel-item:only-child::after {width: 0;}#sk-container-id-2 div.sk-dashed-wrapped {border: 1px dashed gray;margin: 0 0.4em 0.5em 0.4em;box-sizing: border-box;padding-bottom: 0.4em;background-color: white;}#sk-container-id-2 div.sk-label label {font-family: monospace;font-weight: bold;display: inline-block;line-height: 1.2em;}#sk-container-id-2 div.sk-label-container {text-align: center;}#sk-container-id-2 div.sk-container {/* jupyter's `normalize.less` sets `[hidden] { display: none; }` but bootstrap.min.css set `[hidden] { display: none !important; }` so we also need the `!important` here to be able to override the default hidden behavior on the sphinx rendered scikit-learn.org. See: https://github.com/scikit-learn/scikit-learn/issues/21755 */display: inline-block !important;position: relative;}#sk-container-id-2 div.sk-text-repr-fallback {display: none;}</style><div id=\"sk-container-id-2\" class=\"sk-top-container\"><div class=\"sk-text-repr-fallback\"><pre>CountVectorizer(ngram_range=(2, 2), stop_words=&#x27;english&#x27;)</pre><b>In a Jupyter environment, please rerun this cell to show the HTML representation or trust the notebook. <br />On GitHub, the HTML representation is unable to render, please try loading this page with nbviewer.org.</b></div><div class=\"sk-container\" hidden><div class=\"sk-item\"><div class=\"sk-estimator sk-toggleable\"><input class=\"sk-toggleable__control sk-hidden--visually\" id=\"sk-estimator-id-2\" type=\"checkbox\" checked><label for=\"sk-estimator-id-2\" class=\"sk-toggleable__label sk-toggleable__label-arrow\">CountVectorizer</label><div class=\"sk-toggleable__content\"><pre>CountVectorizer(ngram_range=(2, 2), stop_words=&#x27;english&#x27;)</pre></div></div></div></div></div>"
      ],
      "text/plain": [
       "CountVectorizer(ngram_range=(2, 2), stop_words='english')"
      ]
     },
     "execution_count": 30,
     "metadata": {},
     "output_type": "execute_result"
    }
   ],
   "source": [
    "cvec.fit(d_df['no_links_2'])"
   ]
  },
  {
   "cell_type": "code",
   "execution_count": 31,
   "id": "0adfce77-b8eb-420e-afc1-2627d2dcee9e",
   "metadata": {},
   "outputs": [],
   "source": [
    "vec_df = cvec.transform(d_df['no_links_2'])"
   ]
  },
  {
   "cell_type": "code",
   "execution_count": 32,
   "id": "3b11651c-c833-4425-aee8-2079eeeee4aa",
   "metadata": {},
   "outputs": [],
   "source": [
    "vec_df = pd.DataFrame(vec_df.todense(), columns = cvec.get_feature_names_out())"
   ]
  },
  {
   "cell_type": "code",
   "execution_count": 33,
   "id": "62f482fd-7033-4f77-927b-cb28188a96f2",
   "metadata": {},
   "outputs": [
    {
     "data": {
      "text/plain": [
       "view poll                182\n",
       "andrew tate              118\n",
       "blinkerton blinkerton    106\n",
       "don know                 102\n",
       "feel like                 95\n",
       "don think                 92\n",
       "destiny currently         80\n",
       "ai art                    73\n",
       "ve seen                   69\n",
       "youtube channel           63\n",
       "mr girl                   61\n",
       "live destiny              60\n",
       "nick fuentes              58\n",
       "people like               56\n",
       "joe rogan                 53\n",
       "currently offline         50\n",
       "feels like                50\n",
       "think destiny             49\n",
       "black people              48\n",
       "destiny said              45\n",
       "mr redacted               44\n",
       "red pill                  42\n",
       "don want                  41\n",
       "trans people              38\n",
       "just like                 37\n",
       "social media              36\n",
       "like destiny              35\n",
       "elon musk                 34\n",
       "year old                  34\n",
       "destiny youtube           33\n",
       "destiny gg                32\n",
       "people don                31\n",
       "gt gt                     31\n",
       "destiny live              31\n",
       "bigscreen destiny         30\n",
       "gg bigscreen              30\n",
       "just want                 30\n",
       "currently live            30\n",
       "lot people                29\n",
       "small dick                29\n",
       "don care                  29\n",
       "people think              28\n",
       "talking points            28\n",
       "right wing                28\n",
       "lab leak                  28\n",
       "tombs scoria              28\n",
       "ve heard                  28\n",
       "follow destiny            26\n",
       "don like                  26\n",
       "twitter files             26\n",
       "dtype: int64"
      ]
     },
     "execution_count": 33,
     "metadata": {},
     "output_type": "execute_result"
    }
   ],
   "source": [
    "vec_df.sum().sort_values(ascending=False).head(50)"
   ]
  },
  {
   "cell_type": "code",
   "execution_count": null,
   "id": "b8eb82cf-680b-4bdb-86a9-512756aff614",
   "metadata": {},
   "outputs": [],
   "source": []
  },
  {
   "cell_type": "code",
   "execution_count": 38,
   "id": "1b983577-43d1-4976-b7b5-26aac09cf67d",
   "metadata": {},
   "outputs": [],
   "source": [
    "cvec_2_5 = CountVectorizer(stop_words='english',ngram_range = (1, 1))"
   ]
  },
  {
   "cell_type": "code",
   "execution_count": 39,
   "id": "752dbe93-a2e2-4af9-acf6-010b18a0c681",
   "metadata": {},
   "outputs": [
    {
     "data": {
      "text/html": [
       "<style>#sk-container-id-3 {color: black;background-color: white;}#sk-container-id-3 pre{padding: 0;}#sk-container-id-3 div.sk-toggleable {background-color: white;}#sk-container-id-3 label.sk-toggleable__label {cursor: pointer;display: block;width: 100%;margin-bottom: 0;padding: 0.3em;box-sizing: border-box;text-align: center;}#sk-container-id-3 label.sk-toggleable__label-arrow:before {content: \"▸\";float: left;margin-right: 0.25em;color: #696969;}#sk-container-id-3 label.sk-toggleable__label-arrow:hover:before {color: black;}#sk-container-id-3 div.sk-estimator:hover label.sk-toggleable__label-arrow:before {color: black;}#sk-container-id-3 div.sk-toggleable__content {max-height: 0;max-width: 0;overflow: hidden;text-align: left;background-color: #f0f8ff;}#sk-container-id-3 div.sk-toggleable__content pre {margin: 0.2em;color: black;border-radius: 0.25em;background-color: #f0f8ff;}#sk-container-id-3 input.sk-toggleable__control:checked~div.sk-toggleable__content {max-height: 200px;max-width: 100%;overflow: auto;}#sk-container-id-3 input.sk-toggleable__control:checked~label.sk-toggleable__label-arrow:before {content: \"▾\";}#sk-container-id-3 div.sk-estimator input.sk-toggleable__control:checked~label.sk-toggleable__label {background-color: #d4ebff;}#sk-container-id-3 div.sk-label input.sk-toggleable__control:checked~label.sk-toggleable__label {background-color: #d4ebff;}#sk-container-id-3 input.sk-hidden--visually {border: 0;clip: rect(1px 1px 1px 1px);clip: rect(1px, 1px, 1px, 1px);height: 1px;margin: -1px;overflow: hidden;padding: 0;position: absolute;width: 1px;}#sk-container-id-3 div.sk-estimator {font-family: monospace;background-color: #f0f8ff;border: 1px dotted black;border-radius: 0.25em;box-sizing: border-box;margin-bottom: 0.5em;}#sk-container-id-3 div.sk-estimator:hover {background-color: #d4ebff;}#sk-container-id-3 div.sk-parallel-item::after {content: \"\";width: 100%;border-bottom: 1px solid gray;flex-grow: 1;}#sk-container-id-3 div.sk-label:hover label.sk-toggleable__label {background-color: #d4ebff;}#sk-container-id-3 div.sk-serial::before {content: \"\";position: absolute;border-left: 1px solid gray;box-sizing: border-box;top: 0;bottom: 0;left: 50%;z-index: 0;}#sk-container-id-3 div.sk-serial {display: flex;flex-direction: column;align-items: center;background-color: white;padding-right: 0.2em;padding-left: 0.2em;position: relative;}#sk-container-id-3 div.sk-item {position: relative;z-index: 1;}#sk-container-id-3 div.sk-parallel {display: flex;align-items: stretch;justify-content: center;background-color: white;position: relative;}#sk-container-id-3 div.sk-item::before, #sk-container-id-3 div.sk-parallel-item::before {content: \"\";position: absolute;border-left: 1px solid gray;box-sizing: border-box;top: 0;bottom: 0;left: 50%;z-index: -1;}#sk-container-id-3 div.sk-parallel-item {display: flex;flex-direction: column;z-index: 1;position: relative;background-color: white;}#sk-container-id-3 div.sk-parallel-item:first-child::after {align-self: flex-end;width: 50%;}#sk-container-id-3 div.sk-parallel-item:last-child::after {align-self: flex-start;width: 50%;}#sk-container-id-3 div.sk-parallel-item:only-child::after {width: 0;}#sk-container-id-3 div.sk-dashed-wrapped {border: 1px dashed gray;margin: 0 0.4em 0.5em 0.4em;box-sizing: border-box;padding-bottom: 0.4em;background-color: white;}#sk-container-id-3 div.sk-label label {font-family: monospace;font-weight: bold;display: inline-block;line-height: 1.2em;}#sk-container-id-3 div.sk-label-container {text-align: center;}#sk-container-id-3 div.sk-container {/* jupyter's `normalize.less` sets `[hidden] { display: none; }` but bootstrap.min.css set `[hidden] { display: none !important; }` so we also need the `!important` here to be able to override the default hidden behavior on the sphinx rendered scikit-learn.org. See: https://github.com/scikit-learn/scikit-learn/issues/21755 */display: inline-block !important;position: relative;}#sk-container-id-3 div.sk-text-repr-fallback {display: none;}</style><div id=\"sk-container-id-3\" class=\"sk-top-container\"><div class=\"sk-text-repr-fallback\"><pre>CountVectorizer(stop_words=&#x27;english&#x27;)</pre><b>In a Jupyter environment, please rerun this cell to show the HTML representation or trust the notebook. <br />On GitHub, the HTML representation is unable to render, please try loading this page with nbviewer.org.</b></div><div class=\"sk-container\" hidden><div class=\"sk-item\"><div class=\"sk-estimator sk-toggleable\"><input class=\"sk-toggleable__control sk-hidden--visually\" id=\"sk-estimator-id-3\" type=\"checkbox\" checked><label for=\"sk-estimator-id-3\" class=\"sk-toggleable__label sk-toggleable__label-arrow\">CountVectorizer</label><div class=\"sk-toggleable__content\"><pre>CountVectorizer(stop_words=&#x27;english&#x27;)</pre></div></div></div></div></div>"
      ],
      "text/plain": [
       "CountVectorizer(stop_words='english')"
      ]
     },
     "execution_count": 39,
     "metadata": {},
     "output_type": "execute_result"
    }
   ],
   "source": [
    "cvec_2_5.fit(d_df['no_links_2'])"
   ]
  },
  {
   "cell_type": "code",
   "execution_count": 40,
   "id": "a110672e-2e07-4d9e-9933-e0cce632d085",
   "metadata": {},
   "outputs": [],
   "source": [
    "vec_df_2 = cvec_2_5.transform(d_df['no_links_2'])"
   ]
  },
  {
   "cell_type": "code",
   "execution_count": 41,
   "id": "4135f730-0298-4a79-be90-56b8d9f96823",
   "metadata": {},
   "outputs": [],
   "source": [
    "vec_df_2 = pd.DataFrame(vec_df_2.todense(), columns = cvec_2_5.get_feature_names_out())"
   ]
  },
  {
   "cell_type": "code",
   "execution_count": 42,
   "id": "73891a7f-4907-4884-9889-beaa00dcb30d",
   "metadata": {},
   "outputs": [
    {
     "data": {
      "text/plain": [
       "destiny      2259\n",
       "people       1425\n",
       "like         1325\n",
       "just         1259\n",
       "think         871\n",
       "don           747\n",
       "know          610\n",
       "time          527\n",
       "really        456\n",
       "good          423\n",
       "say           411\n",
       "does          406\n",
       "way           395\n",
       "right         393\n",
       "make          391\n",
       "ve            374\n",
       "stream        350\n",
       "going         344\n",
       "want          340\n",
       "said          332\n",
       "did           313\n",
       "women         310\n",
       "person        308\n",
       "doesn         303\n",
       "shit          301\n",
       "art           300\n",
       "bad           296\n",
       "new           289\n",
       "things        279\n",
       "actually      274\n",
       "saying        271\n",
       "twitter       268\n",
       "feel          264\n",
       "got           262\n",
       "lot           260\n",
       "need          259\n",
       "tate          259\n",
       "point         254\n",
       "thing         253\n",
       "view          239\n",
       "black         237\n",
       "talking       236\n",
       "video         234\n",
       "work          231\n",
       "life          228\n",
       "poll          228\n",
       "men           227\n",
       "community     221\n",
       "steven        221\n",
       "doing         219\n",
       "dtype: int64"
      ]
     },
     "execution_count": 42,
     "metadata": {},
     "output_type": "execute_result"
    }
   ],
   "source": [
    "vec_df_2.sum().sort_values(ascending=False).head(50)"
   ]
  },
  {
   "cell_type": "code",
   "execution_count": 43,
   "id": "5d193f62-e930-48a0-bfee-be1608b8a59e",
   "metadata": {},
   "outputs": [
    {
     "data": {
      "text/plain": [
       "Text(0.5, 1.0, 'Top r/Destiny Words')"
      ]
     },
     "execution_count": 43,
     "metadata": {},
     "output_type": "execute_result"
    },
    {
     "data": {
      "image/png": "[encoded data removed]",
      "text/plain": [
       "<Figure size 640x480 with 1 Axes>"
      ]
     },
     "metadata": {},
     "output_type": "display_data"
    }
   ],
   "source": [
    "vec_df_2.sum().sort_values(ascending = False).head(15).plot(kind = 'barh');\n",
    "plt.title('Top r/Destiny Words')\n"
   ]
  },
  {
   "cell_type": "code",
   "execution_count": 37,
   "id": "8a81a413-63c1-4a0b-a24d-d1a3890cb95e",
   "metadata": {},
   "outputs": [
    {
     "data": {
      "text/plain": [
       "Text(0.5, 1.0, 'Top Destiny 2 Word Combos')"
      ]
     },
     "execution_count": 37,
     "metadata": {},
     "output_type": "execute_result"
    },
    {
     "data": {
      "image/png": "[encoded data removed]",
      "text/plain": [
       "<Figure size 640x480 with 1 Axes>"
      ]
     },
     "metadata": {},
     "output_type": "display_data"
    }
   ],
   "source": [
    "vec_df.sum().sort_values(ascending = False).head(15).plot(kind = 'barh');\n",
    "plt.title('Top Destiny 2 Word Combos')\n"
   ]
  },
  {
   "cell_type": "code",
   "execution_count": null,
   "id": "4b1067ee-6bd3-4126-b983-a03801c0f486",
   "metadata": {},
   "outputs": [],
   "source": []
  }
 ],
 "metadata": {
  "kernelspec": {
   "display_name": "Python 3 (ipykernel)",
   "language": "python",
   "name": "python3"
  },
  "language_info": {
   "codemirror_mode": {
    "name": "ipython",
    "version": 3
   },
   "file_extension": ".py",
   "mimetype": "text/x-python",
   "name": "python",
   "nbconvert_exporter": "python",
   "pygments_lexer": "ipython3",
   "version": "3.9.12"
  }
 },
 "nbformat": 4,
 "nbformat_minor": 5
}
