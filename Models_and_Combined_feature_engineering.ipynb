{
 "cells": [
  {
   "cell_type": "code",
   "execution_count": null,
   "id": "88646d50-1c9e-46d9-8153-e144255fc3b5",
   "metadata": {
    "id": "88646d50-1c9e-46d9-8153-e144255fc3b5"
   },
   "outputs": [],
   "source": []
  },
  {
   "cell_type": "code",
   "execution_count": 2,
   "id": "db20ff6e-816f-4cc1-9c63-d63db0e3223c",
   "metadata": {
    "id": "db20ff6e-816f-4cc1-9c63-d63db0e3223c"
   },
   "outputs": [],
   "source": [
    "\n",
    "import requests\n",
    "import calendar\n",
    "import time\n",
    "import pandas as pd\n",
    "\n",
    "import matplotlib.pyplot as plt\n",
    "import pandas as pd\n",
    "import seaborn as sns\n",
    "\n",
    "\n",
    "\n",
    "\n",
    "# this setting widens how many characters pandas will display in a column:\n",
    "pd.options.display.max_colwidth = 400\n",
    "\n",
    "from nltk.corpus import stopwords\n",
    "from nltk.stem import WordNetLemmatizer\n",
    "from nltk.tokenize import word_tokenize\n",
    "import re\n",
    "import numpy as np\n",
    "from nltk.sentiment.vader import SentimentIntensityAnalyzer\n",
    "from sklearn.model_selection import train_test_split, GridSearchCV, cross_val_score\n",
    "from sklearn.pipeline import Pipeline\n",
    "from sklearn.naive_bayes import MultinomialNB\n",
    "\n",
    "\n",
    "\n",
    "\n",
    "\n",
    "from sklearn.linear_model import LogisticRegression, LinearRegression\n",
    "from sklearn.metrics import confusion_matrix, ConfusionMatrixDisplay\n",
    "\n",
    "# Import CountVectorizer and TFIDFVectorizer from feature_extraction.text.\n",
    "from sklearn.feature_extraction.text import CountVectorizer, TfidfVectorizer\n",
    "\n",
    "\n",
    "from sklearn.neighbors import KNeighborsClassifier\n",
    "from sklearn.preprocessing import StandardScaler\n",
    "\n",
    "from sklearn.tree import DecisionTreeClassifier\n",
    "from sklearn.ensemble import RandomForestClassifier, AdaBoostClassifier, StackingClassifier\n",
    "from sklearn.compose import ColumnTransformer\n",
    "\n"
   ]
  },
  {
   "cell_type": "markdown",
   "id": "_CgzsZnRQrTN",
   "metadata": {
    "id": "_CgzsZnRQrTN"
   },
   "source": [
    "import data frame"
   ]
  },
  {
   "cell_type": "code",
   "execution_count": null,
   "id": "70f9e1eb-78ab-4536-91d6-61b5c3d2c609",
   "metadata": {
    "id": "70f9e1eb-78ab-4536-91d6-61b5c3d2c609"
   },
   "outputs": [],
   "source": [
    "vaush_destiny_df = pd.read_csv('./data/vaush_destiny.csv')"
   ]
  },
  {
   "cell_type": "code",
   "execution_count": null,
   "id": "4b5aa926-3264-4847-afd6-f81f901f1ab8",
   "metadata": {
    "id": "4b5aa926-3264-4847-afd6-f81f901f1ab8",
    "outputId": "fd541ce1-2500-4bcc-e976-b6efa8e8d24a"
   },
   "outputs": [
    {
     "data": {
      "text/html": [
       "<div>\n",
       "<style scoped>\n",
       "    .dataframe tbody tr th:only-of-type {\n",
       "        vertical-align: middle;\n",
       "    }\n",
       "\n",
       "    .dataframe tbody tr th {\n",
       "        vertical-align: top;\n",
       "    }\n",
       "\n",
       "    .dataframe thead th {\n",
       "        text-align: right;\n",
       "    }\n",
       "</style>\n",
       "<table border=\"1\" class=\"dataframe\">\n",
       "  <thead>\n",
       "    <tr style=\"text-align: right;\">\n",
       "      <th></th>\n",
       "      <th>Unnamed: 0</th>\n",
       "      <th>subreddit</th>\n",
       "      <th>selftext</th>\n",
       "      <th>title</th>\n",
       "      <th>created_utc</th>\n",
       "      <th>full_text</th>\n",
       "      <th>no_links</th>\n",
       "      <th>no_links_2</th>\n",
       "    </tr>\n",
       "  </thead>\n",
       "  <tbody>\n",
       "    <tr>\n",
       "      <th>0</th>\n",
       "      <td>0</td>\n",
       "      <td>VaushV</td>\n",
       "      <td>Seems like every time he makes an argument he says \"there was a study, I forget... it found something like... I'll have to read up on it again.\" You know what D does this too. Can these streamers admit they don't have the time to learn things or are we supposed to believe they ACTUALLY read their sources cited. Or is this a rhetorical tactique?</td>\n",
       "      <td>Anyone Noticing Vaush's Memory Issues Lately?</td>\n",
       "      <td>1668472458</td>\n",
       "      <td>Anyone Noticing Vaush's Memory Issues Lately? Seems like every time he makes an argument he says \"there was a study, I forget... it found something like... I'll have to read up on it again.\" You know what D does this too. Can these streamers admit they don't have the time to learn things or are we supposed to believe they ACTUALLY read their sources cited. Or is this a rhetorical tactique?</td>\n",
       "      <td>Anyone Noticing Vaush's Memory Issues Lately? Seems like every time he makes an argument he says \"there was a study, I forget... it found something like... I'll have to read up on it again.\" You know what D does this too. Can these streamers admit they don't have the time to learn things or are we supposed to believe they ACTUALLY read their sources cited. Or is this a rhetorical tactique?</td>\n",
       "      <td>Anyone Noticing Vaush's Memory Issues Lately? Seems like every time he makes an argument he says \"there was a study, I forget... it found something like... I'll have to read up on it again.\" You know what D does this too. Can these streamers admit they don't have the time to learn things or are we supposed to believe they ACTUALLY read their sources cited. Or is this a rhetorical tactique?</td>\n",
       "    </tr>\n",
       "    <tr>\n",
       "      <th>1</th>\n",
       "      <td>1</td>\n",
       "      <td>VaushV</td>\n",
       "      <td>NaN</td>\n",
       "      <td>Would be a shame if this unofficial site received a lot of bad data</td>\n",
       "      <td>1668471465</td>\n",
       "      <td>Would be a shame if this unofficial site received a lot of bad data</td>\n",
       "      <td>Would be a shame if this unofficial site received a lot of bad data</td>\n",
       "      <td>Would be a shame if this unofficial site received a lot of bad data</td>\n",
       "    </tr>\n",
       "    <tr>\n",
       "      <th>2</th>\n",
       "      <td>2</td>\n",
       "      <td>VaushV</td>\n",
       "      <td>NaN</td>\n",
       "      <td>🏳️‍⚧️🏳️‍⚧️Trans colored boat at Disney World! Ron DeSantis would not approve.</td>\n",
       "      <td>1668471209</td>\n",
       "      <td>🏳️‍⚧️🏳️‍⚧️Trans colored boat at Disney World! Ron DeSantis would not approve.</td>\n",
       "      <td>🏳️‍⚧️🏳️‍⚧️Trans colored boat at Disney World! Ron DeSantis would not approve.</td>\n",
       "      <td>🏳️‍⚧️🏳️‍⚧️Trans colored boat at Disney World! Ron DeSantis would not approve.</td>\n",
       "    </tr>\n",
       "    <tr>\n",
       "      <th>3</th>\n",
       "      <td>3</td>\n",
       "      <td>VaushV</td>\n",
       "      <td>Personally, IDK. It just seems like too many people lol. \\n\\n[View Poll](https://www.reddit.com/poll/yvgwwx)</td>\n",
       "      <td>How do you feel about the global population reaching 8 billion?</td>\n",
       "      <td>1668470313</td>\n",
       "      <td>How do you feel about the global population reaching 8 billion? Personally, IDK. It just seems like too many people lol. \\n\\n[View Poll](https://www.reddit.com/poll/yvgwwx)</td>\n",
       "      <td>How do you feel about the global population reaching 8 billion? Personally, IDK. It just seems like too many people lol. \\n\\nView Poll</td>\n",
       "      <td>How do you feel about the global population reaching 8 billion? Personally, IDK. It just seems like too many people lol. View Poll</td>\n",
       "    </tr>\n",
       "    <tr>\n",
       "      <th>4</th>\n",
       "      <td>4</td>\n",
       "      <td>VaushV</td>\n",
       "      <td>Right now, if Trump and Biden went for a rematch, Biden would win\\n\\nBut if Trump gets arrested and is unable to secure the republican nomination, we KNOW Desantis is up next\\n\\nAnd Every(and I mean EVERY) poll shows Desantis beating Biden\\n\\nMe personally, I think Desantis is infinitely more dangerous than Trump \\n\\nSo what’s more important? Trump being held accountable or Stopping the rise o...</td>\n",
       "      <td>Hot take: Trump SHOULDN’T be arrested/indicted</td>\n",
       "      <td>1668468418</td>\n",
       "      <td>Hot take: Trump SHOULDN’T be arrested/indicted Right now, if Trump and Biden went for a rematch, Biden would win\\n\\nBut if Trump gets arrested and is unable to secure the republican nomination, we KNOW Desantis is up next\\n\\nAnd Every(and I mean EVERY) poll shows Desantis beating Biden\\n\\nMe personally, I think Desantis is infinitely more dangerous than Trump \\n\\nSo what’s more important? Trum...</td>\n",
       "      <td>Hot take: Trump SHOULDN’T be arrested/indicted Right now, if Trump and Biden went for a rematch, Biden would win\\n\\nBut if Trump gets arrested and is unable to secure the republican nomination, we KNOW Desantis is up next\\n\\nAnd Every(and I mean EVERY) poll shows Desantis beating Biden\\n\\nMe personally, I think Desantis is infinitely more dangerous than Trump \\n\\nSo what’s more important? Trum...</td>\n",
       "      <td>Hot take: Trump SHOULDN’T be arrested/indicted Right now, if Trump and Biden went for a rematch, Biden would winBut if Trump gets arrested and is unable to secure the republican nomination, we KNOW Desantis is up nextAnd Every(and I mean EVERY) poll shows Desantis beating BidenMe personally, I think Desantis is infinitely more dangerous than Trump So what’s more important? Trump being held acc...</td>\n",
       "    </tr>\n",
       "    <tr>\n",
       "      <th>...</th>\n",
       "      <td>...</td>\n",
       "      <td>...</td>\n",
       "      <td>...</td>\n",
       "      <td>...</td>\n",
       "      <td>...</td>\n",
       "      <td>...</td>\n",
       "      <td>...</td>\n",
       "      <td>...</td>\n",
       "    </tr>\n",
       "    <tr>\n",
       "      <th>9929</th>\n",
       "      <td>4995</td>\n",
       "      <td>Destiny</td>\n",
       "      <td>NaN</td>\n",
       "      <td>Fine day isn’t it fellow factorio enjoyers</td>\n",
       "      <td>1673121545</td>\n",
       "      <td>Fine day isn’t it fellow factorio enjoyers</td>\n",
       "      <td>Fine day isn’t it fellow factorio enjoyers</td>\n",
       "      <td>Fine day isn’t it fellow factorio enjoyers</td>\n",
       "    </tr>\n",
       "    <tr>\n",
       "      <th>9930</th>\n",
       "      <td>4996</td>\n",
       "      <td>Destiny</td>\n",
       "      <td>[removed]</td>\n",
       "      <td>How Destiny is damaging the autistic community, by using autism as an insult.</td>\n",
       "      <td>1673121497</td>\n",
       "      <td>How Destiny is damaging the autistic community, by using autism as an insult. [removed]</td>\n",
       "      <td>How Destiny is damaging the autistic community, by using autism as an insult. [removed]</td>\n",
       "      <td>How Destiny is damaging the autistic community, by using autism as an insult.</td>\n",
       "    </tr>\n",
       "    <tr>\n",
       "      <th>9931</th>\n",
       "      <td>4997</td>\n",
       "      <td>Destiny</td>\n",
       "      <td>NaN</td>\n",
       "      <td>Has destiny ever talked about how fucking anti semitic badempanda is. He claimed shit like Jews were European and not “indigenous” wild asf</td>\n",
       "      <td>1673121490</td>\n",
       "      <td>Has destiny ever talked about how fucking anti semitic badempanda is. He claimed shit like Jews were European and not “indigenous” wild asf</td>\n",
       "      <td>Has destiny ever talked about how fucking anti semitic badempanda is. He claimed shit like Jews were European and not “indigenous” wild asf</td>\n",
       "      <td>Has destiny ever talked about how fucking anti semitic badempanda is. He claimed shit like Jews were European and not “indigenous” wild asf</td>\n",
       "    </tr>\n",
       "    <tr>\n",
       "      <th>9932</th>\n",
       "      <td>4998</td>\n",
       "      <td>Destiny</td>\n",
       "      <td>[This is the clip I am referencing.](https://www.reddit.com/r/SouthJersey/comments/104zjce/who_should_yield/) \\n\\nDestiny watched this clip on stream and discussed who should have yielded. I believe he ended on the guy in the white car after some deliberation, which is 100% correct. He had a yield sign that is on the other side of the light post in the middle of the turn that is hard to see be...</td>\n",
       "      <td>The driver in the white car from that clip should have yielded (proof)</td>\n",
       "      <td>1673121004</td>\n",
       "      <td>The driver in the white car from that clip should have yielded (proof) [This is the clip I am referencing.](https://www.reddit.com/r/SouthJersey/comments/104zjce/who_should_yield/) \\n\\nDestiny watched this clip on stream and discussed who should have yielded. I believe he ended on the guy in the white car after some deliberation, which is 100% correct. He had a yield sign that is on the other ...</td>\n",
       "      <td>The driver in the white car from that clip should have yielded (proof) This is the clip I am referencing. \\n\\nDestiny watched this clip on stream and discussed who should have yielded. I believe he ended on the guy in the white car after some deliberation, which is 100% correct. He had a yield sign that is on the other side of the light post in the middle of the turn that is hard to see becaus...</td>\n",
       "      <td>The driver in the white car from that clip should have yielded (proof) This is the clip I am referencing. Destiny watched this clip on stream and discussed who should have yielded. I believe he ended on the guy in the white car after some deliberation, which is 100% correct. He had a yield sign that is on the other side of the light post in the middle of the turn that is hard to see because of...</td>\n",
       "    </tr>\n",
       "    <tr>\n",
       "      <th>9933</th>\n",
       "      <td>4999</td>\n",
       "      <td>Destiny</td>\n",
       "      <td>NaN</td>\n",
       "      <td>Ah yes Henry cavill the incel</td>\n",
       "      <td>1673120761</td>\n",
       "      <td>Ah yes Henry cavill the incel</td>\n",
       "      <td>Ah yes Henry cavill the incel</td>\n",
       "      <td>Ah yes Henry cavill the incel</td>\n",
       "    </tr>\n",
       "  </tbody>\n",
       "</table>\n",
       "<p>9934 rows × 8 columns</p>\n",
       "</div>"
      ],
      "text/plain": [
       "      Unnamed: 0 subreddit  \\\n",
       "0              0    VaushV   \n",
       "1              1    VaushV   \n",
       "2              2    VaushV   \n",
       "3              3    VaushV   \n",
       "4              4    VaushV   \n",
       "...          ...       ...   \n",
       "9929        4995   Destiny   \n",
       "9930        4996   Destiny   \n",
       "9931        4997   Destiny   \n",
       "9932        4998   Destiny   \n",
       "9933        4999   Destiny   \n",
       "\n",
       "                                                                                                                                                                                                                                                                                                                                                                                                             selftext  \\\n",
       "0                                                          Seems like every time he makes an argument he says \"there was a study, I forget... it found something like... I'll have to read up on it again.\" You know what D does this too. Can these streamers admit they don't have the time to learn things or are we supposed to believe they ACTUALLY read their sources cited. Or is this a rhetorical tactique?   \n",
       "1                                                                                                                                                                                                                                                                                                                                                                                                                 NaN   \n",
       "2                                                                                                                                                                                                                                                                                                                                                                                                                 NaN   \n",
       "3                                                                                                                                                                                                                                                                                                        Personally, IDK. It just seems like too many people lol. \\n\\n[View Poll](https://www.reddit.com/poll/yvgwwx)   \n",
       "4     Right now, if Trump and Biden went for a rematch, Biden would win\\n\\nBut if Trump gets arrested and is unable to secure the republican nomination, we KNOW Desantis is up next\\n\\nAnd Every(and I mean EVERY) poll shows Desantis beating Biden\\n\\nMe personally, I think Desantis is infinitely more dangerous than Trump \\n\\nSo what’s more important? Trump being held accountable or Stopping the rise o...   \n",
       "...                                                                                                                                                                                                                                                                                                                                                                                                               ...   \n",
       "9929                                                                                                                                                                                                                                                                                                                                                                                                              NaN   \n",
       "9930                                                                                                                                                                                                                                                                                                                                                                                                        [removed]   \n",
       "9931                                                                                                                                                                                                                                                                                                                                                                                                              NaN   \n",
       "9932  [This is the clip I am referencing.](https://www.reddit.com/r/SouthJersey/comments/104zjce/who_should_yield/) \\n\\nDestiny watched this clip on stream and discussed who should have yielded. I believe he ended on the guy in the white car after some deliberation, which is 100% correct. He had a yield sign that is on the other side of the light post in the middle of the turn that is hard to see be...   \n",
       "9933                                                                                                                                                                                                                                                                                                                                                                                                              NaN   \n",
       "\n",
       "                                                                                                                                            title  \\\n",
       "0                                                                                                   Anyone Noticing Vaush's Memory Issues Lately?   \n",
       "1                                                                             Would be a shame if this unofficial site received a lot of bad data   \n",
       "2                                                                   🏳️‍⚧️🏳️‍⚧️Trans colored boat at Disney World! Ron DeSantis would not approve.   \n",
       "3                                                                                 How do you feel about the global population reaching 8 billion?   \n",
       "4                                                                                                  Hot take: Trump SHOULDN’T be arrested/indicted   \n",
       "...                                                                                                                                           ...   \n",
       "9929                                                                                                   Fine day isn’t it fellow factorio enjoyers   \n",
       "9930                                                                How Destiny is damaging the autistic community, by using autism as an insult.   \n",
       "9931  Has destiny ever talked about how fucking anti semitic badempanda is. He claimed shit like Jews were European and not “indigenous” wild asf   \n",
       "9932                                                                       The driver in the white car from that clip should have yielded (proof)   \n",
       "9933                                                                                                                Ah yes Henry cavill the incel   \n",
       "\n",
       "      created_utc  \\\n",
       "0      1668472458   \n",
       "1      1668471465   \n",
       "2      1668471209   \n",
       "3      1668470313   \n",
       "4      1668468418   \n",
       "...           ...   \n",
       "9929   1673121545   \n",
       "9930   1673121497   \n",
       "9931   1673121490   \n",
       "9932   1673121004   \n",
       "9933   1673120761   \n",
       "\n",
       "                                                                                                                                                                                                                                                                                                                                                                                                            full_text  \\\n",
       "0            Anyone Noticing Vaush's Memory Issues Lately? Seems like every time he makes an argument he says \"there was a study, I forget... it found something like... I'll have to read up on it again.\" You know what D does this too. Can these streamers admit they don't have the time to learn things or are we supposed to believe they ACTUALLY read their sources cited. Or is this a rhetorical tactique?   \n",
       "1                                                                                                                                                                                                                                                                                                                                                Would be a shame if this unofficial site received a lot of bad data    \n",
       "2                                                                                                                                                                                                                                                                                                                                      🏳️‍⚧️🏳️‍⚧️Trans colored boat at Disney World! Ron DeSantis would not approve.    \n",
       "3                                                                                                                                                                                                                                        How do you feel about the global population reaching 8 billion? Personally, IDK. It just seems like too many people lol. \\n\\n[View Poll](https://www.reddit.com/poll/yvgwwx)   \n",
       "4     Hot take: Trump SHOULDN’T be arrested/indicted Right now, if Trump and Biden went for a rematch, Biden would win\\n\\nBut if Trump gets arrested and is unable to secure the republican nomination, we KNOW Desantis is up next\\n\\nAnd Every(and I mean EVERY) poll shows Desantis beating Biden\\n\\nMe personally, I think Desantis is infinitely more dangerous than Trump \\n\\nSo what’s more important? Trum...   \n",
       "...                                                                                                                                                                                                                                                                                                                                                                                                               ...   \n",
       "9929                                                                                                                                                                                                                                                                                                                                                                      Fine day isn’t it fellow factorio enjoyers    \n",
       "9930                                                                                                                                                                                                                                                                                                                          How Destiny is damaging the autistic community, by using autism as an insult. [removed]   \n",
       "9931                                                                                                                                                                                                                                                                     Has destiny ever talked about how fucking anti semitic badempanda is. He claimed shit like Jews were European and not “indigenous” wild asf    \n",
       "9932  The driver in the white car from that clip should have yielded (proof) [This is the clip I am referencing.](https://www.reddit.com/r/SouthJersey/comments/104zjce/who_should_yield/) \\n\\nDestiny watched this clip on stream and discussed who should have yielded. I believe he ended on the guy in the white car after some deliberation, which is 100% correct. He had a yield sign that is on the other ...   \n",
       "9933                                                                                                                                                                                                                                                                                                                                                                                   Ah yes Henry cavill the incel    \n",
       "\n",
       "                                                                                                                                                                                                                                                                                                                                                                                                             no_links  \\\n",
       "0            Anyone Noticing Vaush's Memory Issues Lately? Seems like every time he makes an argument he says \"there was a study, I forget... it found something like... I'll have to read up on it again.\" You know what D does this too. Can these streamers admit they don't have the time to learn things or are we supposed to believe they ACTUALLY read their sources cited. Or is this a rhetorical tactique?   \n",
       "1                                                                                                                                                                                                                                                                                                                                                Would be a shame if this unofficial site received a lot of bad data    \n",
       "2                                                                                                                                                                                                                                                                                                                                      🏳️‍⚧️🏳️‍⚧️Trans colored boat at Disney World! Ron DeSantis would not approve.    \n",
       "3                                                                                                                                                                                                                                                                              How do you feel about the global population reaching 8 billion? Personally, IDK. It just seems like too many people lol. \\n\\nView Poll   \n",
       "4     Hot take: Trump SHOULDN’T be arrested/indicted Right now, if Trump and Biden went for a rematch, Biden would win\\n\\nBut if Trump gets arrested and is unable to secure the republican nomination, we KNOW Desantis is up next\\n\\nAnd Every(and I mean EVERY) poll shows Desantis beating Biden\\n\\nMe personally, I think Desantis is infinitely more dangerous than Trump \\n\\nSo what’s more important? Trum...   \n",
       "...                                                                                                                                                                                                                                                                                                                                                                                                               ...   \n",
       "9929                                                                                                                                                                                                                                                                                                                                                                      Fine day isn’t it fellow factorio enjoyers    \n",
       "9930                                                                                                                                                                                                                                                                                                                          How Destiny is damaging the autistic community, by using autism as an insult. [removed]   \n",
       "9931                                                                                                                                                                                                                                                                     Has destiny ever talked about how fucking anti semitic badempanda is. He claimed shit like Jews were European and not “indigenous” wild asf    \n",
       "9932  The driver in the white car from that clip should have yielded (proof) This is the clip I am referencing. \\n\\nDestiny watched this clip on stream and discussed who should have yielded. I believe he ended on the guy in the white car after some deliberation, which is 100% correct. He had a yield sign that is on the other side of the light post in the middle of the turn that is hard to see becaus...   \n",
       "9933                                                                                                                                                                                                                                                                                                                                                                                   Ah yes Henry cavill the incel    \n",
       "\n",
       "                                                                                                                                                                                                                                                                                                                                                                                                           no_links_2  \n",
       "0            Anyone Noticing Vaush's Memory Issues Lately? Seems like every time he makes an argument he says \"there was a study, I forget... it found something like... I'll have to read up on it again.\" You know what D does this too. Can these streamers admit they don't have the time to learn things or are we supposed to believe they ACTUALLY read their sources cited. Or is this a rhetorical tactique?  \n",
       "1                                                                                                                                                                                                                                                                                                                                                Would be a shame if this unofficial site received a lot of bad data   \n",
       "2                                                                                                                                                                                                                                                                                                                                      🏳️‍⚧️🏳️‍⚧️Trans colored boat at Disney World! Ron DeSantis would not approve.   \n",
       "3                                                                                                                                                                                                                                                                                  How do you feel about the global population reaching 8 billion? Personally, IDK. It just seems like too many people lol. View Poll  \n",
       "4     Hot take: Trump SHOULDN’T be arrested/indicted Right now, if Trump and Biden went for a rematch, Biden would winBut if Trump gets arrested and is unable to secure the republican nomination, we KNOW Desantis is up nextAnd Every(and I mean EVERY) poll shows Desantis beating BidenMe personally, I think Desantis is infinitely more dangerous than Trump So what’s more important? Trump being held acc...  \n",
       "...                                                                                                                                                                                                                                                                                                                                                                                                               ...  \n",
       "9929                                                                                                                                                                                                                                                                                                                                                                      Fine day isn’t it fellow factorio enjoyers   \n",
       "9930                                                                                                                                                                                                                                                                                                                                   How Destiny is damaging the autistic community, by using autism as an insult.   \n",
       "9931                                                                                                                                                                                                                                                                     Has destiny ever talked about how fucking anti semitic badempanda is. He claimed shit like Jews were European and not “indigenous” wild asf   \n",
       "9932  The driver in the white car from that clip should have yielded (proof) This is the clip I am referencing. Destiny watched this clip on stream and discussed who should have yielded. I believe he ended on the guy in the white car after some deliberation, which is 100% correct. He had a yield sign that is on the other side of the light post in the middle of the turn that is hard to see because of...  \n",
       "9933                                                                                                                                                                                                                                                                                                                                                                                   Ah yes Henry cavill the incel   \n",
       "\n",
       "[9934 rows x 8 columns]"
      ]
     },
     "execution_count": 185,
     "metadata": {},
     "output_type": "execute_result"
    }
   ],
   "source": [
    "vaush_destiny_df"
   ]
  },
  {
   "cell_type": "markdown",
   "id": "99048213-5efd-4edc-8df5-08aeca4b61e8",
   "metadata": {
    "id": "99048213-5efd-4edc-8df5-08aeca4b61e8"
   },
   "source": [
    "# Check word count and post length"
   ]
  },
  {
   "cell_type": "code",
   "execution_count": null,
   "id": "03610d3a-9bed-42e6-b04a-3c231b6f0d61",
   "metadata": {
    "id": "03610d3a-9bed-42e6-b04a-3c231b6f0d61"
   },
   "outputs": [],
   "source": [
    "\n",
    "vaush_destiny_df['post_length']= vaush_destiny_df[\"no_links_2\"].str.len()"
   ]
  },
  {
   "cell_type": "code",
   "execution_count": null,
   "id": "52fadc69-c8d9-4b3f-93b9-5fc2471f7be4",
   "metadata": {
    "id": "52fadc69-c8d9-4b3f-93b9-5fc2471f7be4"
   },
   "outputs": [],
   "source": [
    "vaush_destiny_df['post_word_count'] = vaush_destiny_df['no_links_2'].str.split().str.len()"
   ]
  },
  {
   "cell_type": "code",
   "execution_count": null,
   "id": "7618393a-fdd3-49c6-a513-33abb186da98",
   "metadata": {
    "id": "7618393a-fdd3-49c6-a513-33abb186da98"
   },
   "outputs": [],
   "source": [
    "vaush_destiny_df.drop(columns = ['selftext','title','created_utc','full_text','no_links','Unnamed: 0'],inplace = True)"
   ]
  },
  {
   "cell_type": "markdown",
   "id": "55d7e74c-d1b7-4cf4-b708-bbed2fd50f3b",
   "metadata": {
    "id": "55d7e74c-d1b7-4cf4-b708-bbed2fd50f3b"
   },
   "source": [
    "## What's the distribution of post lengths?\n"
   ]
  },
  {
   "cell_type": "code",
   "execution_count": null,
   "id": "1f1711eb-8991-4113-b18b-663cf785f4e1",
   "metadata": {
    "id": "1f1711eb-8991-4113-b18b-663cf785f4e1"
   },
   "outputs": [],
   "source": [
    "analyzer = SentimentIntensityAnalyzer()\n",
    "vaush_destiny_df['compound'] = [analyzer.polarity_scores(x)['compound'] for x in vaush_destiny_df['no_links_2']]\n",
    "vaush_destiny_df['neg'] = [analyzer.polarity_scores(x)['neg'] for x in vaush_destiny_df['no_links_2']]\n",
    "vaush_destiny_df['neu'] = [analyzer.polarity_scores(x)['neu'] for x in vaush_destiny_df['no_links_2']]\n",
    "vaush_destiny_df['pos'] = [analyzer.polarity_scores(x)['pos'] for x in vaush_destiny_df['no_links_2']]\n",
    "#plagiarized from\n",
    "#https://stackoverflow.com/questions/61608057/output-vader-sentiment-scores-in-columns-based-on-dataframe-rows-of-tweets"
   ]
  },
  {
   "cell_type": "code",
   "execution_count": null,
   "id": "b497e204-014f-4ecd-97e8-eafbeaa28969",
   "metadata": {
    "id": "b497e204-014f-4ecd-97e8-eafbeaa28969"
   },
   "outputs": [],
   "source": [
    "vaush_destiny_df.to_csv('./data/vaush_destiny_cleaned.csv')"
   ]
  },
  {
   "cell_type": "markdown",
   "id": "baff72d1-fb1e-4dd0-877e-311d124b179c",
   "metadata": {
    "id": "baff72d1-fb1e-4dd0-877e-311d124b179c"
   },
   "source": [
    "Fine day isn’t it fellow factorio enjoyers neg = 0, This score does not match with the negative sentament beign expressed "
   ]
  },
  {
   "cell_type": "markdown",
   "id": "AIMcAfHvQ0Hd",
   "metadata": {
    "id": "AIMcAfHvQ0Hd"
   },
   "source": [
    "I tried two different types of lemmatazation strategys below. The more complex one preformed better on most models"
   ]
  },
  {
   "cell_type": "code",
   "execution_count": null,
   "id": "0f89404d-aa36-4884-a910-9646403820f6",
   "metadata": {
    "id": "0f89404d-aa36-4884-a910-9646403820f6"
   },
   "outputs": [],
   "source": [
    "\n",
    "\n",
    "from nltk.corpus import wordnet\n",
    "lemmatizer = nltk.stem.WordNetLemmatizer()\n",
    "wordnet_lemmatizer = WordNetLemmatizer()\n",
    "stop = stopwords.words('english')\n",
    "\n",
    "def nltk_tag_to_wordnet_tag(nltk_tag):\n",
    "    if nltk_tag.startswith('J'):\n",
    "        return wordnet.ADJ\n",
    "    elif nltk_tag.startswith('V'):\n",
    "        return wordnet.VERB\n",
    "    elif nltk_tag.startswith('N'):\n",
    "        return wordnet.NOUN\n",
    "    elif nltk_tag.startswith('R'):\n",
    "        return wordnet.ADV\n",
    "    else:\n",
    "        return None\n",
    "\n",
    "def lemmatize_sentence(sentence):\n",
    "    #tokenize the sentence and find the POS tag for each token\n",
    "    nltk_tagged = nltk.pos_tag(nltk.word_tokenize(sentence))\n",
    "    #tuple of (token, wordnet_tag)\n",
    "    wordnet_tagged = map(lambda x: (x[0], nltk_tag_to_wordnet_tag(x[1])), nltk_tagged)\n",
    "    lemmatized_sentence = []\n",
    "    for word, tag in wordnet_tagged:\n",
    "        if tag is None:\n",
    "            #if there is no available tag, append the token as is\n",
    "            lemmatized_sentence.append(word)\n",
    "        else:\n",
    "            #else use the tag to lemmatize the token\n",
    "            lemmatized_sentence.append(lemmatizer.lemmatize(word, tag))\n",
    "    return \" \".join(lemmatized_sentence)\n",
    "\n",
    "\n",
    "\n",
    "# Lemmatizing\n",
    "vaush_destiny_df['lem'] = vaush_destiny_df['no_links_2'].apply(lambda x: lemmatize_sentence(x))\n",
    "##from https://stackoverflow.com/questions/51267166/lemmatization-pandas-python"
   ]
  },
  {
   "cell_type": "code",
   "execution_count": null,
   "id": "630a92e7-ecea-4815-ad85-6d332fa759db",
   "metadata": {
    "id": "630a92e7-ecea-4815-ad85-6d332fa759db"
   },
   "outputs": [],
   "source": [
    "w_tokenizer = nltk.tokenize.WhitespaceTokenizer()\n",
    "lemmatizer = nltk.stem.WordNetLemmatizer()\n",
    "\n",
    "def lemmatize_text(text):\n",
    "    return [lemmatizer.lemmatize(w) for w in w_tokenizer.tokenize(text)]\n",
    "\n",
    "\n",
    "vaush_destiny_df['lem_2'] = vaush_destiny_df['no_links_2'].apply(lemmatize_text)\n",
    "#Fromhttps://stackoverflow.com/questions/47557563/lemmatization-of-all-pandas-cells"
   ]
  },
  {
   "cell_type": "code",
   "execution_count": null,
   "id": "d61ad3b9-eec6-4abf-9029-732b5b296e9e",
   "metadata": {
    "id": "d61ad3b9-eec6-4abf-9029-732b5b296e9e",
    "outputId": "b8e9ed8a-4fce-4a50-8da5-4a8d118d7c7f"
   },
   "outputs": [
    {
     "data": {
      "text/html": [
       "<div>\n",
       "<style scoped>\n",
       "    .dataframe tbody tr th:only-of-type {\n",
       "        vertical-align: middle;\n",
       "    }\n",
       "\n",
       "    .dataframe tbody tr th {\n",
       "        vertical-align: top;\n",
       "    }\n",
       "\n",
       "    .dataframe thead th {\n",
       "        text-align: right;\n",
       "    }\n",
       "</style>\n",
       "<table border=\"1\" class=\"dataframe\">\n",
       "  <thead>\n",
       "    <tr style=\"text-align: right;\">\n",
       "      <th></th>\n",
       "      <th>subreddit</th>\n",
       "      <th>no_links_2</th>\n",
       "      <th>post_length</th>\n",
       "      <th>post_word_count</th>\n",
       "      <th>compound</th>\n",
       "      <th>neg</th>\n",
       "      <th>neu</th>\n",
       "      <th>pos</th>\n",
       "      <th>lem</th>\n",
       "      <th>lem_2</th>\n",
       "    </tr>\n",
       "  </thead>\n",
       "  <tbody>\n",
       "    <tr>\n",
       "      <th>0</th>\n",
       "      <td>VaushV</td>\n",
       "      <td>Anyone Noticing Vaush's Memory Issues Lately? Seems like every time he makes an argument he says \"there was a study, I forget... it found something like... I'll have to read up on it again.\" You know what D does this too. Can these streamers admit they don't have the time to learn things or are we supposed to believe they ACTUALLY read their sources cited. Or is this a rhetorical tactique?</td>\n",
       "      <td>392</td>\n",
       "      <td>71</td>\n",
       "      <td>0.2869</td>\n",
       "      <td>0.035</td>\n",
       "      <td>0.899</td>\n",
       "      <td>0.065</td>\n",
       "      <td>Anyone Noticing Vaush 's Memory Issues Lately ? Seems like every time he make an argument he say `` there be a study , I forget ... it find something like ... I 'll have to read up on it again . '' You know what D do this too . Can these streamer admit they do n't have the time to learn thing or be we suppose to believe they ACTUALLY read their source cite . Or be this a rhetorical tactique ?</td>\n",
       "      <td>[Anyone, Noticing, Vaush's, Memory, Issues, Lately?, Seems, like, every, time, he, make, an, argument, he, say, \"there, wa, a, study,, I, forget..., it, found, something, like..., I'll, have, to, read, up, on, it, again.\", You, know, what, D, doe, this, too., Can, these, streamer, admit, they, don't, have, the, time, to, learn, thing, or, are, we, supposed, to, believe, they, ACTUALLY, read, t...</td>\n",
       "    </tr>\n",
       "    <tr>\n",
       "      <th>1</th>\n",
       "      <td>VaushV</td>\n",
       "      <td>Would be a shame if this unofficial site received a lot of bad data</td>\n",
       "      <td>68</td>\n",
       "      <td>14</td>\n",
       "      <td>-0.7650</td>\n",
       "      <td>0.398</td>\n",
       "      <td>0.602</td>\n",
       "      <td>0.000</td>\n",
       "      <td>Would be a shame if this unofficial site receive a lot of bad data</td>\n",
       "      <td>[Would, be, a, shame, if, this, unofficial, site, received, a, lot, of, bad, data]</td>\n",
       "    </tr>\n",
       "    <tr>\n",
       "      <th>2</th>\n",
       "      <td>VaushV</td>\n",
       "      <td>🏳️‍⚧️🏳️‍⚧️Trans colored boat at Disney World! Ron DeSantis would not approve.</td>\n",
       "      <td>78</td>\n",
       "      <td>11</td>\n",
       "      <td>0.0000</td>\n",
       "      <td>0.000</td>\n",
       "      <td>1.000</td>\n",
       "      <td>0.000</td>\n",
       "      <td>🏳️‍⚧️🏳️‍⚧️Trans color boat at Disney World ! Ron DeSantis would not approve .</td>\n",
       "      <td>[🏳️‍⚧️🏳️‍⚧️Trans, colored, boat, at, Disney, World!, Ron, DeSantis, would, not, approve.]</td>\n",
       "    </tr>\n",
       "    <tr>\n",
       "      <th>3</th>\n",
       "      <td>VaushV</td>\n",
       "      <td>How do you feel about the global population reaching 8 billion? Personally, IDK. It just seems like too many people lol. View Poll</td>\n",
       "      <td>130</td>\n",
       "      <td>23</td>\n",
       "      <td>0.6081</td>\n",
       "      <td>0.078</td>\n",
       "      <td>0.661</td>\n",
       "      <td>0.261</td>\n",
       "      <td>How do you feel about the global population reach 8 billion ? Personally , IDK . It just seem like too many people lol . View Poll</td>\n",
       "      <td>[How, do, you, feel, about, the, global, population, reaching, 8, billion?, Personally,, IDK., It, just, seems, like, too, many, people, lol., View, Poll]</td>\n",
       "    </tr>\n",
       "    <tr>\n",
       "      <th>4</th>\n",
       "      <td>VaushV</td>\n",
       "      <td>Hot take: Trump SHOULDN’T be arrested/indicted Right now, if Trump and Biden went for a rematch, Biden would winBut if Trump gets arrested and is unable to secure the republican nomination, we KNOW Desantis is up nextAnd Every(and I mean EVERY) poll shows Desantis beating BidenMe personally, I think Desantis is infinitely more dangerous than Trump So what’s more important? Trump being held acc...</td>\n",
       "      <td>443</td>\n",
       "      <td>71</td>\n",
       "      <td>-0.7458</td>\n",
       "      <td>0.142</td>\n",
       "      <td>0.796</td>\n",
       "      <td>0.061</td>\n",
       "      <td>Hot take : Trump SHOULDN ’ T be arrested/indicted Right now , if Trump and Biden go for a rematch , Biden would winBut if Trump get arrest and be unable to secure the republican nomination , we KNOW Desantis be up nextAnd Every ( and I mean EVERY ) poll show Desantis beat BidenMe personally , I think Desantis be infinitely more dangerous than Trump So what ’ s more important ? Trump be hold ac...</td>\n",
       "      <td>[Hot, take:, Trump, SHOULDN’T, be, arrested/indicted, Right, now,, if, Trump, and, Biden, went, for, a, rematch,, Biden, would, winBut, if, Trump, get, arrested, and, is, unable, to, secure, the, republican, nomination,, we, KNOW, Desantis, is, up, nextAnd, Every(and, I, mean, EVERY), poll, show, Desantis, beating, BidenMe, personally,, I, think, Desantis, is, infinitely, more, dangerous, than...</td>\n",
       "    </tr>\n",
       "    <tr>\n",
       "      <th>...</th>\n",
       "      <td>...</td>\n",
       "      <td>...</td>\n",
       "      <td>...</td>\n",
       "      <td>...</td>\n",
       "      <td>...</td>\n",
       "      <td>...</td>\n",
       "      <td>...</td>\n",
       "      <td>...</td>\n",
       "      <td>...</td>\n",
       "      <td>...</td>\n",
       "    </tr>\n",
       "    <tr>\n",
       "      <th>9929</th>\n",
       "      <td>Destiny</td>\n",
       "      <td>Fine day isn’t it fellow factorio enjoyers</td>\n",
       "      <td>43</td>\n",
       "      <td>7</td>\n",
       "      <td>0.6124</td>\n",
       "      <td>0.000</td>\n",
       "      <td>0.500</td>\n",
       "      <td>0.500</td>\n",
       "      <td>Fine day isn ’ t it fellow factorio enjoyer</td>\n",
       "      <td>[Fine, day, isn’t, it, fellow, factorio, enjoyer]</td>\n",
       "    </tr>\n",
       "    <tr>\n",
       "      <th>9930</th>\n",
       "      <td>Destiny</td>\n",
       "      <td>How Destiny is damaging the autistic community, by using autism as an insult.</td>\n",
       "      <td>78</td>\n",
       "      <td>13</td>\n",
       "      <td>-0.7650</td>\n",
       "      <td>0.375</td>\n",
       "      <td>0.625</td>\n",
       "      <td>0.000</td>\n",
       "      <td>How Destiny be damage the autistic community , by use autism as an insult .</td>\n",
       "      <td>[How, Destiny, is, damaging, the, autistic, community,, by, using, autism, a, an, insult.]</td>\n",
       "    </tr>\n",
       "    <tr>\n",
       "      <th>9931</th>\n",
       "      <td>Destiny</td>\n",
       "      <td>Has destiny ever talked about how fucking anti semitic badempanda is. He claimed shit like Jews were European and not “indigenous” wild asf</td>\n",
       "      <td>140</td>\n",
       "      <td>23</td>\n",
       "      <td>-0.5709</td>\n",
       "      <td>0.216</td>\n",
       "      <td>0.697</td>\n",
       "      <td>0.087</td>\n",
       "      <td>Has destiny ever talk about how fucking anti semitic badempanda be . He claim shit like Jews be European and not “ indigenous ” wild asf</td>\n",
       "      <td>[Has, destiny, ever, talked, about, how, fucking, anti, semitic, badempanda, is., He, claimed, shit, like, Jews, were, European, and, not, “indigenous”, wild, asf]</td>\n",
       "    </tr>\n",
       "    <tr>\n",
       "      <th>9932</th>\n",
       "      <td>Destiny</td>\n",
       "      <td>The driver in the white car from that clip should have yielded (proof) This is the clip I am referencing. Destiny watched this clip on stream and discussed who should have yielded. I believe he ended on the guy in the white car after some deliberation, which is 100% correct. He had a yield sign that is on the other side of the light post in the middle of the turn that is hard to see because of...</td>\n",
       "      <td>541</td>\n",
       "      <td>106</td>\n",
       "      <td>-0.1027</td>\n",
       "      <td>0.014</td>\n",
       "      <td>0.986</td>\n",
       "      <td>0.000</td>\n",
       "      <td>The driver in the white car from that clip should have yield ( proof ) This be the clip I be reference . Destiny watch this clip on stream and discuss who should have yield . I believe he end on the guy in the white car after some deliberation , which be 100 % correct . He have a yield sign that be on the other side of the light post in the middle of the turn that be hard to see because of the...</td>\n",
       "      <td>[The, driver, in, the, white, car, from, that, clip, should, have, yielded, (proof), This, is, the, clip, I, am, referencing., Destiny, watched, this, clip, on, stream, and, discussed, who, should, have, yielded., I, believe, he, ended, on, the, guy, in, the, white, car, after, some, deliberation,, which, is, 100%, correct., He, had, a, yield, sign, that, is, on, the, other, side, of, the, lig...</td>\n",
       "    </tr>\n",
       "    <tr>\n",
       "      <th>9933</th>\n",
       "      <td>Destiny</td>\n",
       "      <td>Ah yes Henry cavill the incel</td>\n",
       "      <td>30</td>\n",
       "      <td>6</td>\n",
       "      <td>0.4019</td>\n",
       "      <td>0.000</td>\n",
       "      <td>0.649</td>\n",
       "      <td>0.351</td>\n",
       "      <td>Ah yes Henry cavill the incel</td>\n",
       "      <td>[Ah, yes, Henry, cavill, the, incel]</td>\n",
       "    </tr>\n",
       "  </tbody>\n",
       "</table>\n",
       "<p>9934 rows × 10 columns</p>\n",
       "</div>"
      ],
      "text/plain": [
       "     subreddit  \\\n",
       "0       VaushV   \n",
       "1       VaushV   \n",
       "2       VaushV   \n",
       "3       VaushV   \n",
       "4       VaushV   \n",
       "...        ...   \n",
       "9929   Destiny   \n",
       "9930   Destiny   \n",
       "9931   Destiny   \n",
       "9932   Destiny   \n",
       "9933   Destiny   \n",
       "\n",
       "                                                                                                                                                                                                                                                                                                                                                                                                           no_links_2  \\\n",
       "0            Anyone Noticing Vaush's Memory Issues Lately? Seems like every time he makes an argument he says \"there was a study, I forget... it found something like... I'll have to read up on it again.\" You know what D does this too. Can these streamers admit they don't have the time to learn things or are we supposed to believe they ACTUALLY read their sources cited. Or is this a rhetorical tactique?   \n",
       "1                                                                                                                                                                                                                                                                                                                                                Would be a shame if this unofficial site received a lot of bad data    \n",
       "2                                                                                                                                                                                                                                                                                                                                      🏳️‍⚧️🏳️‍⚧️Trans colored boat at Disney World! Ron DeSantis would not approve.    \n",
       "3                                                                                                                                                                                                                                                                                  How do you feel about the global population reaching 8 billion? Personally, IDK. It just seems like too many people lol. View Poll   \n",
       "4     Hot take: Trump SHOULDN’T be arrested/indicted Right now, if Trump and Biden went for a rematch, Biden would winBut if Trump gets arrested and is unable to secure the republican nomination, we KNOW Desantis is up nextAnd Every(and I mean EVERY) poll shows Desantis beating BidenMe personally, I think Desantis is infinitely more dangerous than Trump So what’s more important? Trump being held acc...   \n",
       "...                                                                                                                                                                                                                                                                                                                                                                                                               ...   \n",
       "9929                                                                                                                                                                                                                                                                                                                                                                      Fine day isn’t it fellow factorio enjoyers    \n",
       "9930                                                                                                                                                                                                                                                                                                                                   How Destiny is damaging the autistic community, by using autism as an insult.    \n",
       "9931                                                                                                                                                                                                                                                                     Has destiny ever talked about how fucking anti semitic badempanda is. He claimed shit like Jews were European and not “indigenous” wild asf    \n",
       "9932  The driver in the white car from that clip should have yielded (proof) This is the clip I am referencing. Destiny watched this clip on stream and discussed who should have yielded. I believe he ended on the guy in the white car after some deliberation, which is 100% correct. He had a yield sign that is on the other side of the light post in the middle of the turn that is hard to see because of...   \n",
       "9933                                                                                                                                                                                                                                                                                                                                                                                   Ah yes Henry cavill the incel    \n",
       "\n",
       "      post_length  post_word_count  compound    neg    neu    pos  \\\n",
       "0             392               71    0.2869  0.035  0.899  0.065   \n",
       "1              68               14   -0.7650  0.398  0.602  0.000   \n",
       "2              78               11    0.0000  0.000  1.000  0.000   \n",
       "3             130               23    0.6081  0.078  0.661  0.261   \n",
       "4             443               71   -0.7458  0.142  0.796  0.061   \n",
       "...           ...              ...       ...    ...    ...    ...   \n",
       "9929           43                7    0.6124  0.000  0.500  0.500   \n",
       "9930           78               13   -0.7650  0.375  0.625  0.000   \n",
       "9931          140               23   -0.5709  0.216  0.697  0.087   \n",
       "9932          541              106   -0.1027  0.014  0.986  0.000   \n",
       "9933           30                6    0.4019  0.000  0.649  0.351   \n",
       "\n",
       "                                                                                                                                                                                                                                                                                                                                                                                                                  lem  \\\n",
       "0         Anyone Noticing Vaush 's Memory Issues Lately ? Seems like every time he make an argument he say `` there be a study , I forget ... it find something like ... I 'll have to read up on it again . '' You know what D do this too . Can these streamer admit they do n't have the time to learn thing or be we suppose to believe they ACTUALLY read their source cite . Or be this a rhetorical tactique ?   \n",
       "1                                                                                                                                                                                                                                                                                                                                                  Would be a shame if this unofficial site receive a lot of bad data   \n",
       "2                                                                                                                                                                                                                                                                                                                                       🏳️‍⚧️🏳️‍⚧️Trans color boat at Disney World ! Ron DeSantis would not approve .   \n",
       "3                                                                                                                                                                                                                                                                                  How do you feel about the global population reach 8 billion ? Personally , IDK . It just seem like too many people lol . View Poll   \n",
       "4     Hot take : Trump SHOULDN ’ T be arrested/indicted Right now , if Trump and Biden go for a rematch , Biden would winBut if Trump get arrest and be unable to secure the republican nomination , we KNOW Desantis be up nextAnd Every ( and I mean EVERY ) poll show Desantis beat BidenMe personally , I think Desantis be infinitely more dangerous than Trump So what ’ s more important ? Trump be hold ac...   \n",
       "...                                                                                                                                                                                                                                                                                                                                                                                                               ...   \n",
       "9929                                                                                                                                                                                                                                                                                                                                                                      Fine day isn ’ t it fellow factorio enjoyer   \n",
       "9930                                                                                                                                                                                                                                                                                                                                      How Destiny be damage the autistic community , by use autism as an insult .   \n",
       "9931                                                                                                                                                                                                                                                                         Has destiny ever talk about how fucking anti semitic badempanda be . He claim shit like Jews be European and not “ indigenous ” wild asf   \n",
       "9932  The driver in the white car from that clip should have yield ( proof ) This be the clip I be reference . Destiny watch this clip on stream and discuss who should have yield . I believe he end on the guy in the white car after some deliberation , which be 100 % correct . He have a yield sign that be on the other side of the light post in the middle of the turn that be hard to see because of the...   \n",
       "9933                                                                                                                                                                                                                                                                                                                                                                                    Ah yes Henry cavill the incel   \n",
       "\n",
       "                                                                                                                                                                                                                                                                                                                                                                                                                lem_2  \n",
       "0     [Anyone, Noticing, Vaush's, Memory, Issues, Lately?, Seems, like, every, time, he, make, an, argument, he, say, \"there, wa, a, study,, I, forget..., it, found, something, like..., I'll, have, to, read, up, on, it, again.\", You, know, what, D, doe, this, too., Can, these, streamer, admit, they, don't, have, the, time, to, learn, thing, or, are, we, supposed, to, believe, they, ACTUALLY, read, t...  \n",
       "1                                                                                                                                                                                                                                                                                                                                  [Would, be, a, shame, if, this, unofficial, site, received, a, lot, of, bad, data]  \n",
       "2                                                                                                                                                                                                                                                                                                                           [🏳️‍⚧️🏳️‍⚧️Trans, colored, boat, at, Disney, World!, Ron, DeSantis, would, not, approve.]  \n",
       "3                                                                                                                                                                                                                                                          [How, do, you, feel, about, the, global, population, reaching, 8, billion?, Personally,, IDK., It, just, seems, like, too, many, people, lol., View, Poll]  \n",
       "4     [Hot, take:, Trump, SHOULDN’T, be, arrested/indicted, Right, now,, if, Trump, and, Biden, went, for, a, rematch,, Biden, would, winBut, if, Trump, get, arrested, and, is, unable, to, secure, the, republican, nomination,, we, KNOW, Desantis, is, up, nextAnd, Every(and, I, mean, EVERY), poll, show, Desantis, beating, BidenMe, personally,, I, think, Desantis, is, infinitely, more, dangerous, than...  \n",
       "...                                                                                                                                                                                                                                                                                                                                                                                                               ...  \n",
       "9929                                                                                                                                                                                                                                                                                                                                                                [Fine, day, isn’t, it, fellow, factorio, enjoyer]  \n",
       "9930                                                                                                                                                                                                                                                                                                                       [How, Destiny, is, damaging, the, autistic, community,, by, using, autism, a, an, insult.]  \n",
       "9931                                                                                                                                                                                                                                              [Has, destiny, ever, talked, about, how, fucking, anti, semitic, badempanda, is., He, claimed, shit, like, Jews, were, European, and, not, “indigenous”, wild, asf]  \n",
       "9932  [The, driver, in, the, white, car, from, that, clip, should, have, yielded, (proof), This, is, the, clip, I, am, referencing., Destiny, watched, this, clip, on, stream, and, discussed, who, should, have, yielded., I, believe, he, ended, on, the, guy, in, the, white, car, after, some, deliberation,, which, is, 100%, correct., He, had, a, yield, sign, that, is, on, the, other, side, of, the, lig...  \n",
       "9933                                                                                                                                                                                                                                                                                                                                                                             [Ah, yes, Henry, cavill, the, incel]  \n",
       "\n",
       "[9934 rows x 10 columns]"
      ]
     },
     "execution_count": 408,
     "metadata": {},
     "output_type": "execute_result"
    }
   ],
   "source": [
    "vaush_destiny_df"
   ]
  },
  {
   "cell_type": "markdown",
   "id": "8b0d438d-62f7-4cbc-b15d-36d5ce19c6cc",
   "metadata": {
    "id": "8b0d438d-62f7-4cbc-b15d-36d5ce19c6cc"
   },
   "source": [
    "### Creating a transofmrer for text(did not get used)"
   ]
  },
  {
   "cell_type": "code",
   "execution_count": null,
   "id": "5331e547-0fdd-425b-a14b-f1b85ac297c7",
   "metadata": {
    "id": "5331e547-0fdd-425b-a14b-f1b85ac297c7"
   },
   "outputs": [],
   "source": [
    "# transformer for categorical features\n",
    "text_features = ['no_links_2']\n",
    "text_transformer = Pipeline(\n",
    "    [\n",
    "        \n",
    "        ('cvec', CountVectorizer(max_df = .9, max_features = 1300, min_df = 2, ngram_range = (1,2), stop_words = 'english' ))\n",
    "    ]\n",
    ")"
   ]
  },
  {
   "cell_type": "markdown",
   "id": "f92ec18d-af20-437b-8e9b-1add6e744abb",
   "metadata": {
    "id": "f92ec18d-af20-437b-8e9b-1add6e744abb"
   },
   "source": [
    "### Creating a transofmrer for text(did not get used)"
   ]
  },
  {
   "cell_type": "code",
   "execution_count": null,
   "id": "17f5fa48-e176-4ec4-9fd0-af35292340e1",
   "metadata": {
    "id": "17f5fa48-e176-4ec4-9fd0-af35292340e1"
   },
   "outputs": [],
   "source": [
    "# transformer for numerical features\n",
    "numeric_features = ['post_word_count', 'compound']\n",
    "numeric_transformer = Pipeline(\n",
    "    [\n",
    "        \n",
    "        ('scaler', StandardScaler())\n",
    "    ]\n",
    ")"
   ]
  },
  {
   "cell_type": "markdown",
   "id": "89c746f0-e3a8-4ef1-91f9-bc9140f6b16f",
   "metadata": {
    "id": "89c746f0-e3a8-4ef1-91f9-bc9140f6b16f"
   },
   "source": [
    "### Creating a preprocessor for text and numerical columns(did not get help)"
   ]
  },
  {
   "cell_type": "markdown",
   "id": "Sx3hi1nYRae4",
   "metadata": {
    "id": "Sx3hi1nYRae4"
   },
   "source": [
    "Eric helped me to get a model working with numerical features but ultimatley the models tended to produce worse results"
   ]
  },
  {
   "cell_type": "code",
   "execution_count": null,
   "id": "f6272396-9d6a-45d0-90de-a770f478f27b",
   "metadata": {
    "id": "f6272396-9d6a-45d0-90de-a770f478f27b"
   },
   "outputs": [],
   "source": [
    "preprocessor = ColumnTransformer(\n",
    "    [\n",
    "        ('cvec', CountVectorizer(max_df = .9, max_features = 1300, min_df = 2, ngram_range = (1,2), stop_words = 'english' ), 'no_links_2'),\n",
    "        #('text', text_transformer, \n",
    "         # text_features),\n",
    "        #('numericals', numeric_transformer, numeric_features),\n",
    "        ('scaler', StandardScaler(),['post_length','post_word_count'] )\n",
    "    ],\n",
    "    remainder = 'passthrough'\n",
    ")"
   ]
  },
  {
   "cell_type": "code",
   "execution_count": null,
   "id": "19199269-a7c8-4cae-9a36-9101e1587236",
   "metadata": {
    "id": "19199269-a7c8-4cae-9a36-9101e1587236",
    "outputId": "627610b9-fe30-44de-9222-f953d5f76ee5"
   },
   "outputs": [
    {
     "data": {
      "text/plain": [
       "Index(['subreddit', 'no_links_2', 'post_length', 'post_word_count', 'compound',\n",
       "       'neg', 'neu', 'pos'],\n",
       "      dtype='object')"
      ]
     },
     "execution_count": 238,
     "metadata": {},
     "output_type": "execute_result"
    }
   ],
   "source": [
    "vaush_destiny_df.columns"
   ]
  },
  {
   "cell_type": "markdown",
   "id": "Sh-HLazqRsI7",
   "metadata": {
    "id": "Sh-HLazqRsI7"
   },
   "source": [
    "Below is a train test split with post lenght and the compound sentiment anaylisis"
   ]
  },
  {
   "cell_type": "code",
   "execution_count": null,
   "id": "d3589d75-78ba-46fb-83e3-14986997943a",
   "metadata": {
    "id": "d3589d75-78ba-46fb-83e3-14986997943a"
   },
   "outputs": [],
   "source": [
    "features = ['no_links_2', 'post_length','compound' ]\n",
    "\n",
    "X = vaush_destiny_df[features]\n",
    "y = vaush_destiny_df['subreddit']\n",
    "\n",
    "X_train, X_test, y_train, y_test = train_test_split(X, y, random_state=42,\n",
    "                                                    stratify=y)"
   ]
  },
  {
   "cell_type": "code",
   "execution_count": null,
   "id": "22ec0824-e28e-4cb1-90a5-00bb42975bc3",
   "metadata": {
    "id": "22ec0824-e28e-4cb1-90a5-00bb42975bc3"
   },
   "outputs": [],
   "source": [
    "# with all features\n",
    "nb_pipe = Pipeline([\n",
    "    ('preprocessing', preprocessor),\n",
    "    ('nb', MultinomialNB())\n",
    "])"
   ]
  },
  {
   "cell_type": "code",
   "execution_count": null,
   "id": "7d7e15db-c522-4c53-8b52-00bd074c7e34",
   "metadata": {
    "id": "7d7e15db-c522-4c53-8b52-00bd074c7e34"
   },
   "outputs": [],
   "source": [
    "nb_pipe_params = {\n",
    "    'nb__alpha': [0.01, 0.1, 0.5, 1.0, 10.0 ]\n",
    "    #pre__cvec__param\n",
    "}"
   ]
  },
  {
   "cell_type": "code",
   "execution_count": null,
   "id": "01f23e21-7900-49f8-9590-67229116937e",
   "metadata": {
    "id": "01f23e21-7900-49f8-9590-67229116937e"
   },
   "outputs": [],
   "source": [
    "nb_gs = GridSearchCV(nb_pipe, param_grid = nb_pipe_params, n_jobs=-1)"
   ]
  },
  {
   "cell_type": "code",
   "execution_count": null,
   "id": "daffe721-73fb-441d-925b-b87b1f9f1d8f",
   "metadata": {
    "id": "daffe721-73fb-441d-925b-b87b1f9f1d8f",
    "outputId": "d9fe1f2b-635e-4cfc-9f89-f990ceaa2048"
   },
   "outputs": [
    {
     "data": {
      "text/html": [
       "<style>#sk-container-id-9 {color: black;background-color: white;}#sk-container-id-9 pre{padding: 0;}#sk-container-id-9 div.sk-toggleable {background-color: white;}#sk-container-id-9 label.sk-toggleable__label {cursor: pointer;display: block;width: 100%;margin-bottom: 0;padding: 0.3em;box-sizing: border-box;text-align: center;}#sk-container-id-9 label.sk-toggleable__label-arrow:before {content: \"▸\";float: left;margin-right: 0.25em;color: #696969;}#sk-container-id-9 label.sk-toggleable__label-arrow:hover:before {color: black;}#sk-container-id-9 div.sk-estimator:hover label.sk-toggleable__label-arrow:before {color: black;}#sk-container-id-9 div.sk-toggleable__content {max-height: 0;max-width: 0;overflow: hidden;text-align: left;background-color: #f0f8ff;}#sk-container-id-9 div.sk-toggleable__content pre {margin: 0.2em;color: black;border-radius: 0.25em;background-color: #f0f8ff;}#sk-container-id-9 input.sk-toggleable__control:checked~div.sk-toggleable__content {max-height: 200px;max-width: 100%;overflow: auto;}#sk-container-id-9 input.sk-toggleable__control:checked~label.sk-toggleable__label-arrow:before {content: \"▾\";}#sk-container-id-9 div.sk-estimator input.sk-toggleable__control:checked~label.sk-toggleable__label {background-color: #d4ebff;}#sk-container-id-9 div.sk-label input.sk-toggleable__control:checked~label.sk-toggleable__label {background-color: #d4ebff;}#sk-container-id-9 input.sk-hidden--visually {border: 0;clip: rect(1px 1px 1px 1px);clip: rect(1px, 1px, 1px, 1px);height: 1px;margin: -1px;overflow: hidden;padding: 0;position: absolute;width: 1px;}#sk-container-id-9 div.sk-estimator {font-family: monospace;background-color: #f0f8ff;border: 1px dotted black;border-radius: 0.25em;box-sizing: border-box;margin-bottom: 0.5em;}#sk-container-id-9 div.sk-estimator:hover {background-color: #d4ebff;}#sk-container-id-9 div.sk-parallel-item::after {content: \"\";width: 100%;border-bottom: 1px solid gray;flex-grow: 1;}#sk-container-id-9 div.sk-label:hover label.sk-toggleable__label {background-color: #d4ebff;}#sk-container-id-9 div.sk-serial::before {content: \"\";position: absolute;border-left: 1px solid gray;box-sizing: border-box;top: 0;bottom: 0;left: 50%;z-index: 0;}#sk-container-id-9 div.sk-serial {display: flex;flex-direction: column;align-items: center;background-color: white;padding-right: 0.2em;padding-left: 0.2em;position: relative;}#sk-container-id-9 div.sk-item {position: relative;z-index: 1;}#sk-container-id-9 div.sk-parallel {display: flex;align-items: stretch;justify-content: center;background-color: white;position: relative;}#sk-container-id-9 div.sk-item::before, #sk-container-id-9 div.sk-parallel-item::before {content: \"\";position: absolute;border-left: 1px solid gray;box-sizing: border-box;top: 0;bottom: 0;left: 50%;z-index: -1;}#sk-container-id-9 div.sk-parallel-item {display: flex;flex-direction: column;z-index: 1;position: relative;background-color: white;}#sk-container-id-9 div.sk-parallel-item:first-child::after {align-self: flex-end;width: 50%;}#sk-container-id-9 div.sk-parallel-item:last-child::after {align-self: flex-start;width: 50%;}#sk-container-id-9 div.sk-parallel-item:only-child::after {width: 0;}#sk-container-id-9 div.sk-dashed-wrapped {border: 1px dashed gray;margin: 0 0.4em 0.5em 0.4em;box-sizing: border-box;padding-bottom: 0.4em;background-color: white;}#sk-container-id-9 div.sk-label label {font-family: monospace;font-weight: bold;display: inline-block;line-height: 1.2em;}#sk-container-id-9 div.sk-label-container {text-align: center;}#sk-container-id-9 div.sk-container {/* jupyter's `normalize.less` sets `[hidden] { display: none; }` but bootstrap.min.css set `[hidden] { display: none !important; }` so we also need the `!important` here to be able to override the default hidden behavior on the sphinx rendered scikit-learn.org. See: https://github.com/scikit-learn/scikit-learn/issues/21755 */display: inline-block !important;position: relative;}#sk-container-id-9 div.sk-text-repr-fallback {display: none;}</style><div id=\"sk-container-id-9\" class=\"sk-top-container\"><div class=\"sk-text-repr-fallback\"><pre>GridSearchCV(estimator=Pipeline(steps=[(&#x27;preprocessing&#x27;,\n",
       "                                        ColumnTransformer(remainder=&#x27;passthrough&#x27;,\n",
       "                                                          transformers=[(&#x27;cvec&#x27;,\n",
       "                                                                         CountVectorizer(max_df=0.9,\n",
       "                                                                                         max_features=1300,\n",
       "                                                                                         min_df=2,\n",
       "                                                                                         ngram_range=(1,\n",
       "                                                                                                      2),\n",
       "                                                                                         stop_words=&#x27;english&#x27;),\n",
       "                                                                         &#x27;no_links_2&#x27;)])),\n",
       "                                       (&#x27;nb&#x27;, MultinomialNB())]),\n",
       "             n_jobs=-1, param_grid={&#x27;nb__alpha&#x27;: [0.01, 0.1, 0.5, 1.0, 10.0]})</pre><b>In a Jupyter environment, please rerun this cell to show the HTML representation or trust the notebook. <br />On GitHub, the HTML representation is unable to render, please try loading this page with nbviewer.org.</b></div><div class=\"sk-container\" hidden><div class=\"sk-item sk-dashed-wrapped\"><div class=\"sk-label-container\"><div class=\"sk-label sk-toggleable\"><input class=\"sk-toggleable__control sk-hidden--visually\" id=\"sk-estimator-id-37\" type=\"checkbox\" ><label for=\"sk-estimator-id-37\" class=\"sk-toggleable__label sk-toggleable__label-arrow\">GridSearchCV</label><div class=\"sk-toggleable__content\"><pre>GridSearchCV(estimator=Pipeline(steps=[(&#x27;preprocessing&#x27;,\n",
       "                                        ColumnTransformer(remainder=&#x27;passthrough&#x27;,\n",
       "                                                          transformers=[(&#x27;cvec&#x27;,\n",
       "                                                                         CountVectorizer(max_df=0.9,\n",
       "                                                                                         max_features=1300,\n",
       "                                                                                         min_df=2,\n",
       "                                                                                         ngram_range=(1,\n",
       "                                                                                                      2),\n",
       "                                                                                         stop_words=&#x27;english&#x27;),\n",
       "                                                                         &#x27;no_links_2&#x27;)])),\n",
       "                                       (&#x27;nb&#x27;, MultinomialNB())]),\n",
       "             n_jobs=-1, param_grid={&#x27;nb__alpha&#x27;: [0.01, 0.1, 0.5, 1.0, 10.0]})</pre></div></div></div><div class=\"sk-parallel\"><div class=\"sk-parallel-item\"><div class=\"sk-item\"><div class=\"sk-label-container\"><div class=\"sk-label sk-toggleable\"><input class=\"sk-toggleable__control sk-hidden--visually\" id=\"sk-estimator-id-38\" type=\"checkbox\" ><label for=\"sk-estimator-id-38\" class=\"sk-toggleable__label sk-toggleable__label-arrow\">estimator: Pipeline</label><div class=\"sk-toggleable__content\"><pre>Pipeline(steps=[(&#x27;preprocessing&#x27;,\n",
       "                 ColumnTransformer(remainder=&#x27;passthrough&#x27;,\n",
       "                                   transformers=[(&#x27;cvec&#x27;,\n",
       "                                                  CountVectorizer(max_df=0.9,\n",
       "                                                                  max_features=1300,\n",
       "                                                                  min_df=2,\n",
       "                                                                  ngram_range=(1,\n",
       "                                                                               2),\n",
       "                                                                  stop_words=&#x27;english&#x27;),\n",
       "                                                  &#x27;no_links_2&#x27;)])),\n",
       "                (&#x27;nb&#x27;, MultinomialNB())])</pre></div></div></div><div class=\"sk-serial\"><div class=\"sk-item\"><div class=\"sk-serial\"><div class=\"sk-item sk-dashed-wrapped\"><div class=\"sk-label-container\"><div class=\"sk-label sk-toggleable\"><input class=\"sk-toggleable__control sk-hidden--visually\" id=\"sk-estimator-id-39\" type=\"checkbox\" ><label for=\"sk-estimator-id-39\" class=\"sk-toggleable__label sk-toggleable__label-arrow\">preprocessing: ColumnTransformer</label><div class=\"sk-toggleable__content\"><pre>ColumnTransformer(remainder=&#x27;passthrough&#x27;,\n",
       "                  transformers=[(&#x27;cvec&#x27;,\n",
       "                                 CountVectorizer(max_df=0.9, max_features=1300,\n",
       "                                                 min_df=2, ngram_range=(1, 2),\n",
       "                                                 stop_words=&#x27;english&#x27;),\n",
       "                                 &#x27;no_links_2&#x27;)])</pre></div></div></div><div class=\"sk-parallel\"><div class=\"sk-parallel-item\"><div class=\"sk-item\"><div class=\"sk-label-container\"><div class=\"sk-label sk-toggleable\"><input class=\"sk-toggleable__control sk-hidden--visually\" id=\"sk-estimator-id-40\" type=\"checkbox\" ><label for=\"sk-estimator-id-40\" class=\"sk-toggleable__label sk-toggleable__label-arrow\">cvec</label><div class=\"sk-toggleable__content\"><pre>no_links_2</pre></div></div></div><div class=\"sk-serial\"><div class=\"sk-item\"><div class=\"sk-estimator sk-toggleable\"><input class=\"sk-toggleable__control sk-hidden--visually\" id=\"sk-estimator-id-41\" type=\"checkbox\" ><label for=\"sk-estimator-id-41\" class=\"sk-toggleable__label sk-toggleable__label-arrow\">CountVectorizer</label><div class=\"sk-toggleable__content\"><pre>CountVectorizer(max_df=0.9, max_features=1300, min_df=2, ngram_range=(1, 2),\n",
       "                stop_words=&#x27;english&#x27;)</pre></div></div></div></div></div></div><div class=\"sk-parallel-item\"><div class=\"sk-item\"><div class=\"sk-label-container\"><div class=\"sk-label sk-toggleable\"><input class=\"sk-toggleable__control sk-hidden--visually\" id=\"sk-estimator-id-42\" type=\"checkbox\" ><label for=\"sk-estimator-id-42\" class=\"sk-toggleable__label sk-toggleable__label-arrow\">remainder</label><div class=\"sk-toggleable__content\"><pre></pre></div></div></div><div class=\"sk-serial\"><div class=\"sk-item\"><div class=\"sk-estimator sk-toggleable\"><input class=\"sk-toggleable__control sk-hidden--visually\" id=\"sk-estimator-id-43\" type=\"checkbox\" ><label for=\"sk-estimator-id-43\" class=\"sk-toggleable__label sk-toggleable__label-arrow\">passthrough</label><div class=\"sk-toggleable__content\"><pre>passthrough</pre></div></div></div></div></div></div></div></div><div class=\"sk-item\"><div class=\"sk-estimator sk-toggleable\"><input class=\"sk-toggleable__control sk-hidden--visually\" id=\"sk-estimator-id-44\" type=\"checkbox\" ><label for=\"sk-estimator-id-44\" class=\"sk-toggleable__label sk-toggleable__label-arrow\">MultinomialNB</label><div class=\"sk-toggleable__content\"><pre>MultinomialNB()</pre></div></div></div></div></div></div></div></div></div></div></div></div>"
      ],
      "text/plain": [
       "GridSearchCV(estimator=Pipeline(steps=[('preprocessing',\n",
       "                                        ColumnTransformer(remainder='passthrough',\n",
       "                                                          transformers=[('cvec',\n",
       "                                                                         CountVectorizer(max_df=0.9,\n",
       "                                                                                         max_features=1300,\n",
       "                                                                                         min_df=2,\n",
       "                                                                                         ngram_range=(1,\n",
       "                                                                                                      2),\n",
       "                                                                                         stop_words='english'),\n",
       "                                                                         'no_links_2')])),\n",
       "                                       ('nb', MultinomialNB())]),\n",
       "             n_jobs=-1, param_grid={'nb__alpha': [0.01, 0.1, 0.5, 1.0, 10.0]})"
      ]
     },
     "execution_count": 243,
     "metadata": {},
     "output_type": "execute_result"
    }
   ],
   "source": [
    "nb_gs.fit(X_train, y_train)"
   ]
  },
  {
   "cell_type": "code",
   "execution_count": null,
   "id": "5b71c32b-64d7-4d56-85fd-ffdc6c3ce94e",
   "metadata": {
    "id": "5b71c32b-64d7-4d56-85fd-ffdc6c3ce94e",
    "outputId": "893ea2e1-580f-47ec-e867-064b581cace3"
   },
   "outputs": [
    {
     "data": {
      "text/plain": [
       "0.7476510067114094"
      ]
     },
     "execution_count": 244,
     "metadata": {},
     "output_type": "execute_result"
    }
   ],
   "source": [
    "# I got 75 without the other two columns\n",
    "nb_gs.score(X_train, y_train)"
   ]
  },
  {
   "cell_type": "code",
   "execution_count": null,
   "id": "67fd2ff6-3646-49a5-9d88-d55846b56e60",
   "metadata": {
    "id": "67fd2ff6-3646-49a5-9d88-d55846b56e60",
    "outputId": "b5022083-c89b-45b2-be40-3e1a2c33c5f0"
   },
   "outputs": [
    {
     "data": {
      "text/plain": [
       "0.7238325281803543"
      ]
     },
     "execution_count": 245,
     "metadata": {},
     "output_type": "execute_result"
    }
   ],
   "source": [
    "nb_gs.score(X_test, y_test)"
   ]
  },
  {
   "cell_type": "markdown",
   "id": "rBAa7X3cSCOl",
   "metadata": {
    "id": "rBAa7X3cSCOl"
   },
   "source": [
    "Below I have to different train test splits so I can refer back to them when creating different types of models"
   ]
  },
  {
   "cell_type": "code",
   "execution_count": null,
   "id": "f422c345-8ceb-4bf0-a1a3-8008acf78582",
   "metadata": {
    "id": "f422c345-8ceb-4bf0-a1a3-8008acf78582"
   },
   "outputs": [],
   "source": [
    "X = vaush_destiny_df['lem']\n",
    "y = vaush_destiny_df['subreddit']\n",
    "\n",
    "X_train, X_test, y_train, y_test = train_test_split(X, y, random_state=42,\n",
    "                                                    stratify=y)"
   ]
  },
  {
   "cell_type": "code",
   "execution_count": null,
   "id": "673bc760-d121-4068-9601-bb4787233c89",
   "metadata": {
    "id": "673bc760-d121-4068-9601-bb4787233c89"
   },
   "outputs": [],
   "source": [
    "features = ['no_links_2', 'post_length', 'post_word_count', 'compound',\n",
    "       'neg', 'neu', 'pos' ]\n",
    "\n",
    "X = vaush_destiny_df[features]\n",
    "y = vaush_destiny_df['subreddit']\n",
    "\n",
    "X_train, X_test, y_train, y_test = train_test_split(X, y, random_state=42,\n",
    "                                                    stratify=y)"
   ]
  },
  {
   "cell_type": "code",
   "execution_count": null,
   "id": "55955e8c-cc2c-4195-ae3b-c23e29ff4370",
   "metadata": {
    "id": "55955e8c-cc2c-4195-ae3b-c23e29ff4370"
   },
   "outputs": [],
   "source": [
    "# with just the vector params\n",
    "nb_pipe = Pipeline([\n",
    "    ('cvec', CountVectorizer()),\n",
    "    ('nb', MultinomialNB())\n",
    "])"
   ]
  },
  {
   "cell_type": "code",
   "execution_count": null,
   "id": "5abf1bf9-a0cb-43b7-840d-28cc2902a934",
   "metadata": {
    "id": "5abf1bf9-a0cb-43b7-840d-28cc2902a934"
   },
   "outputs": [],
   "source": [
    "\n",
    "nb_pipe_params = {\n",
    "    'cvec__stop_words': [None, stopwords.words('english'), 'english'],\n",
    "    'cvec__max_features': [1000, 4000, 7000, 10000, 13000,16000,19000,22000],\n",
    "    'cvec__min_df': [1, 2, 3],\n",
    "    'cvec__max_df': [0.9, 0.95,1.0],\n",
    "    'cvec__ngram_range': [(1, 1), (1, 2), (1,3), (2,3)]\n",
    "}"
   ]
  },
  {
   "cell_type": "code",
   "execution_count": null,
   "id": "8d4c84da-0a68-470a-99fe-25185f563ee6",
   "metadata": {
    "id": "8d4c84da-0a68-470a-99fe-25185f563ee6"
   },
   "outputs": [],
   "source": [
    "\n",
    "nb_gs = GridSearchCV(nb_pipe, param_grid = nb_pipe_params, n_jobs=-1)"
   ]
  },
  {
   "cell_type": "code",
   "execution_count": null,
   "id": "dcb07d9a-ff45-4d70-9b51-a6bc06d9de05",
   "metadata": {
    "id": "dcb07d9a-ff45-4d70-9b51-a6bc06d9de05",
    "outputId": "b17bd365-2044-4b24-d581-a856ecddd8f0"
   },
   "outputs": [
    {
     "data": {
      "text/html": [
       "<style>#sk-container-id-12 {color: black;background-color: white;}#sk-container-id-12 pre{padding: 0;}#sk-container-id-12 div.sk-toggleable {background-color: white;}#sk-container-id-12 label.sk-toggleable__label {cursor: pointer;display: block;width: 100%;margin-bottom: 0;padding: 0.3em;box-sizing: border-box;text-align: center;}#sk-container-id-12 label.sk-toggleable__label-arrow:before {content: \"▸\";float: left;margin-right: 0.25em;color: #696969;}#sk-container-id-12 label.sk-toggleable__label-arrow:hover:before {color: black;}#sk-container-id-12 div.sk-estimator:hover label.sk-toggleable__label-arrow:before {color: black;}#sk-container-id-12 div.sk-toggleable__content {max-height: 0;max-width: 0;overflow: hidden;text-align: left;background-color: #f0f8ff;}#sk-container-id-12 div.sk-toggleable__content pre {margin: 0.2em;color: black;border-radius: 0.25em;background-color: #f0f8ff;}#sk-container-id-12 input.sk-toggleable__control:checked~div.sk-toggleable__content {max-height: 200px;max-width: 100%;overflow: auto;}#sk-container-id-12 input.sk-toggleable__control:checked~label.sk-toggleable__label-arrow:before {content: \"▾\";}#sk-container-id-12 div.sk-estimator input.sk-toggleable__control:checked~label.sk-toggleable__label {background-color: #d4ebff;}#sk-container-id-12 div.sk-label input.sk-toggleable__control:checked~label.sk-toggleable__label {background-color: #d4ebff;}#sk-container-id-12 input.sk-hidden--visually {border: 0;clip: rect(1px 1px 1px 1px);clip: rect(1px, 1px, 1px, 1px);height: 1px;margin: -1px;overflow: hidden;padding: 0;position: absolute;width: 1px;}#sk-container-id-12 div.sk-estimator {font-family: monospace;background-color: #f0f8ff;border: 1px dotted black;border-radius: 0.25em;box-sizing: border-box;margin-bottom: 0.5em;}#sk-container-id-12 div.sk-estimator:hover {background-color: #d4ebff;}#sk-container-id-12 div.sk-parallel-item::after {content: \"\";width: 100%;border-bottom: 1px solid gray;flex-grow: 1;}#sk-container-id-12 div.sk-label:hover label.sk-toggleable__label {background-color: #d4ebff;}#sk-container-id-12 div.sk-serial::before {content: \"\";position: absolute;border-left: 1px solid gray;box-sizing: border-box;top: 0;bottom: 0;left: 50%;z-index: 0;}#sk-container-id-12 div.sk-serial {display: flex;flex-direction: column;align-items: center;background-color: white;padding-right: 0.2em;padding-left: 0.2em;position: relative;}#sk-container-id-12 div.sk-item {position: relative;z-index: 1;}#sk-container-id-12 div.sk-parallel {display: flex;align-items: stretch;justify-content: center;background-color: white;position: relative;}#sk-container-id-12 div.sk-item::before, #sk-container-id-12 div.sk-parallel-item::before {content: \"\";position: absolute;border-left: 1px solid gray;box-sizing: border-box;top: 0;bottom: 0;left: 50%;z-index: -1;}#sk-container-id-12 div.sk-parallel-item {display: flex;flex-direction: column;z-index: 1;position: relative;background-color: white;}#sk-container-id-12 div.sk-parallel-item:first-child::after {align-self: flex-end;width: 50%;}#sk-container-id-12 div.sk-parallel-item:last-child::after {align-self: flex-start;width: 50%;}#sk-container-id-12 div.sk-parallel-item:only-child::after {width: 0;}#sk-container-id-12 div.sk-dashed-wrapped {border: 1px dashed gray;margin: 0 0.4em 0.5em 0.4em;box-sizing: border-box;padding-bottom: 0.4em;background-color: white;}#sk-container-id-12 div.sk-label label {font-family: monospace;font-weight: bold;display: inline-block;line-height: 1.2em;}#sk-container-id-12 div.sk-label-container {text-align: center;}#sk-container-id-12 div.sk-container {/* jupyter's `normalize.less` sets `[hidden] { display: none; }` but bootstrap.min.css set `[hidden] { display: none !important; }` so we also need the `!important` here to be able to override the default hidden behavior on the sphinx rendered scikit-learn.org. See: https://github.com/scikit-learn/scikit-learn/issues/21755 */display: inline-block !important;position: relative;}#sk-container-id-12 div.sk-text-repr-fallback {display: none;}</style><div id=\"sk-container-id-12\" class=\"sk-top-container\"><div class=\"sk-text-repr-fallback\"><pre>GridSearchCV(estimator=Pipeline(steps=[(&#x27;cvec&#x27;, CountVectorizer()),\n",
       "                                       (&#x27;nb&#x27;, MultinomialNB())]),\n",
       "             n_jobs=-1,\n",
       "             param_grid={&#x27;cvec__max_df&#x27;: [0.9, 0.95, 1.0],\n",
       "                         &#x27;cvec__max_features&#x27;: [1000, 4000, 7000, 10000, 13000,\n",
       "                                                16000, 19000, 22000],\n",
       "                         &#x27;cvec__min_df&#x27;: [1, 2, 3],\n",
       "                         &#x27;cvec__ngram_range&#x27;: [(1, 1), (1, 2), (1, 3), (2, 3)],\n",
       "                         &#x27;cvec__stop_words&#x27;: [None,\n",
       "                                              [&#x27;i&#x27;, &#x27;me&#x27;, &#x27;my&#x27;, &#x27;myself&#x27;, &#x27;we&#x27;,\n",
       "                                               &#x27;our&#x27;, &#x27;ours&#x27;, &#x27;ourselves&#x27;,\n",
       "                                               &#x27;you&#x27;, &quot;you&#x27;re&quot;, &quot;you&#x27;ve&quot;,\n",
       "                                               &quot;you&#x27;ll&quot;, &quot;you&#x27;d&quot;, &#x27;your&#x27;,\n",
       "                                               &#x27;yours&#x27;, &#x27;yourself&#x27;,\n",
       "                                               &#x27;yourselves&#x27;, &#x27;he&#x27;, &#x27;him&#x27;, &#x27;his&#x27;,\n",
       "                                               &#x27;himself&#x27;, &#x27;she&#x27;, &quot;she&#x27;s&quot;, &#x27;her&#x27;,\n",
       "                                               &#x27;hers&#x27;, &#x27;herself&#x27;, &#x27;it&#x27;, &quot;it&#x27;s&quot;,\n",
       "                                               &#x27;its&#x27;, &#x27;itself&#x27;, ...],\n",
       "                                              &#x27;english&#x27;]})</pre><b>In a Jupyter environment, please rerun this cell to show the HTML representation or trust the notebook. <br />On GitHub, the HTML representation is unable to render, please try loading this page with nbviewer.org.</b></div><div class=\"sk-container\" hidden><div class=\"sk-item sk-dashed-wrapped\"><div class=\"sk-label-container\"><div class=\"sk-label sk-toggleable\"><input class=\"sk-toggleable__control sk-hidden--visually\" id=\"sk-estimator-id-66\" type=\"checkbox\" ><label for=\"sk-estimator-id-66\" class=\"sk-toggleable__label sk-toggleable__label-arrow\">GridSearchCV</label><div class=\"sk-toggleable__content\"><pre>GridSearchCV(estimator=Pipeline(steps=[(&#x27;cvec&#x27;, CountVectorizer()),\n",
       "                                       (&#x27;nb&#x27;, MultinomialNB())]),\n",
       "             n_jobs=-1,\n",
       "             param_grid={&#x27;cvec__max_df&#x27;: [0.9, 0.95, 1.0],\n",
       "                         &#x27;cvec__max_features&#x27;: [1000, 4000, 7000, 10000, 13000,\n",
       "                                                16000, 19000, 22000],\n",
       "                         &#x27;cvec__min_df&#x27;: [1, 2, 3],\n",
       "                         &#x27;cvec__ngram_range&#x27;: [(1, 1), (1, 2), (1, 3), (2, 3)],\n",
       "                         &#x27;cvec__stop_words&#x27;: [None,\n",
       "                                              [&#x27;i&#x27;, &#x27;me&#x27;, &#x27;my&#x27;, &#x27;myself&#x27;, &#x27;we&#x27;,\n",
       "                                               &#x27;our&#x27;, &#x27;ours&#x27;, &#x27;ourselves&#x27;,\n",
       "                                               &#x27;you&#x27;, &quot;you&#x27;re&quot;, &quot;you&#x27;ve&quot;,\n",
       "                                               &quot;you&#x27;ll&quot;, &quot;you&#x27;d&quot;, &#x27;your&#x27;,\n",
       "                                               &#x27;yours&#x27;, &#x27;yourself&#x27;,\n",
       "                                               &#x27;yourselves&#x27;, &#x27;he&#x27;, &#x27;him&#x27;, &#x27;his&#x27;,\n",
       "                                               &#x27;himself&#x27;, &#x27;she&#x27;, &quot;she&#x27;s&quot;, &#x27;her&#x27;,\n",
       "                                               &#x27;hers&#x27;, &#x27;herself&#x27;, &#x27;it&#x27;, &quot;it&#x27;s&quot;,\n",
       "                                               &#x27;its&#x27;, &#x27;itself&#x27;, ...],\n",
       "                                              &#x27;english&#x27;]})</pre></div></div></div><div class=\"sk-parallel\"><div class=\"sk-parallel-item\"><div class=\"sk-item\"><div class=\"sk-label-container\"><div class=\"sk-label sk-toggleable\"><input class=\"sk-toggleable__control sk-hidden--visually\" id=\"sk-estimator-id-67\" type=\"checkbox\" ><label for=\"sk-estimator-id-67\" class=\"sk-toggleable__label sk-toggleable__label-arrow\">estimator: Pipeline</label><div class=\"sk-toggleable__content\"><pre>Pipeline(steps=[(&#x27;cvec&#x27;, CountVectorizer()), (&#x27;nb&#x27;, MultinomialNB())])</pre></div></div></div><div class=\"sk-serial\"><div class=\"sk-item\"><div class=\"sk-serial\"><div class=\"sk-item\"><div class=\"sk-estimator sk-toggleable\"><input class=\"sk-toggleable__control sk-hidden--visually\" id=\"sk-estimator-id-68\" type=\"checkbox\" ><label for=\"sk-estimator-id-68\" class=\"sk-toggleable__label sk-toggleable__label-arrow\">CountVectorizer</label><div class=\"sk-toggleable__content\"><pre>CountVectorizer()</pre></div></div></div><div class=\"sk-item\"><div class=\"sk-estimator sk-toggleable\"><input class=\"sk-toggleable__control sk-hidden--visually\" id=\"sk-estimator-id-69\" type=\"checkbox\" ><label for=\"sk-estimator-id-69\" class=\"sk-toggleable__label sk-toggleable__label-arrow\">MultinomialNB</label><div class=\"sk-toggleable__content\"><pre>MultinomialNB()</pre></div></div></div></div></div></div></div></div></div></div></div></div>"
      ],
      "text/plain": [
       "GridSearchCV(estimator=Pipeline(steps=[('cvec', CountVectorizer()),\n",
       "                                       ('nb', MultinomialNB())]),\n",
       "             n_jobs=-1,\n",
       "             param_grid={'cvec__max_df': [0.9, 0.95, 1.0],\n",
       "                         'cvec__max_features': [1000, 4000, 7000, 10000, 13000,\n",
       "                                                16000, 19000, 22000],\n",
       "                         'cvec__min_df': [1, 2, 3],\n",
       "                         'cvec__ngram_range': [(1, 1), (1, 2), (1, 3), (2, 3)],\n",
       "                         'cvec__stop_words': [None,\n",
       "                                              ['i', 'me', 'my', 'myself', 'we',\n",
       "                                               'our', 'ours', 'ourselves',\n",
       "                                               'you', \"you're\", \"you've\",\n",
       "                                               \"you'll\", \"you'd\", 'your',\n",
       "                                               'yours', 'yourself',\n",
       "                                               'yourselves', 'he', 'him', 'his',\n",
       "                                               'himself', 'she', \"she's\", 'her',\n",
       "                                               'hers', 'herself', 'it', \"it's\",\n",
       "                                               'its', 'itself', ...],\n",
       "                                              'english']})"
      ]
     },
     "execution_count": 318,
     "metadata": {},
     "output_type": "execute_result"
    }
   ],
   "source": [
    "\n",
    "nb_gs.fit(X_train, y_train)"
   ]
  },
  {
   "cell_type": "code",
   "execution_count": null,
   "id": "7d5332f2-914a-4bd5-a68b-48442b8d79b1",
   "metadata": {
    "id": "7d5332f2-914a-4bd5-a68b-48442b8d79b1",
    "outputId": "bd7170d5-2e6a-4254-904a-1cb212c4ccfb"
   },
   "outputs": [
    {
     "data": {
      "text/plain": [
       "Destiny    0.503356\n",
       "VaushV     0.496644\n",
       "Name: subreddit, dtype: float64"
      ]
     },
     "execution_count": 45,
     "metadata": {},
     "output_type": "execute_result"
    }
   ],
   "source": [
    "\n",
    "#Baseline accuracy is close to 50/50\n",
    "y_train.value_counts(normalize=True)"
   ]
  },
  {
   "cell_type": "code",
   "execution_count": null,
   "id": "00e15c10-f1d3-4710-9bb0-d67ab7ac5f1b",
   "metadata": {
    "id": "00e15c10-f1d3-4710-9bb0-d67ab7ac5f1b",
    "outputId": "5d9cbbe6-d381-42d1-98c1-391ad926be52"
   },
   "outputs": [
    {
     "data": {
      "text/plain": [
       "0.7624798711755234"
      ]
     },
     "execution_count": 319,
     "metadata": {},
     "output_type": "execute_result"
    }
   ],
   "source": [
    "#with lematization\n",
    "nb_gs.score(X_test, y_test)"
   ]
  },
  {
   "cell_type": "code",
   "execution_count": null,
   "id": "43c29535-5a20-4595-b239-ca20c5b933a3",
   "metadata": {
    "id": "43c29535-5a20-4595-b239-ca20c5b933a3",
    "outputId": "0a67d757-b9ef-46ec-dd93-8947df9744d1"
   },
   "outputs": [
    {
     "data": {
      "text/plain": [
       "0.7540257648953301"
      ]
     },
     "execution_count": 151,
     "metadata": {},
     "output_type": "execute_result"
    }
   ],
   "source": [
    "#without lematization\n",
    "nb_gs.score(X_test, y_test) "
   ]
  },
  {
   "cell_type": "code",
   "execution_count": null,
   "id": "f61d4390-d1ec-4096-99ac-a55f3f4105d5",
   "metadata": {
    "id": "f61d4390-d1ec-4096-99ac-a55f3f4105d5",
    "outputId": "63e72973-5810-492a-f347-738f74d3f14d"
   },
   "outputs": [
    {
     "data": {
      "text/plain": [
       "{'cvec__max_df': 0.9,\n",
       " 'cvec__max_features': 16000,\n",
       " 'cvec__min_df': 1,\n",
       " 'cvec__ngram_range': (1, 1),\n",
       " 'cvec__stop_words': 'english'}"
      ]
     },
     "execution_count": 320,
     "metadata": {},
     "output_type": "execute_result"
    }
   ],
   "source": [
    "#with lematization\n",
    "nb_gs.best_params_"
   ]
  },
  {
   "cell_type": "code",
   "execution_count": null,
   "id": "7b32cf80-6bea-4d74-8be4-b7312e328093",
   "metadata": {
    "id": "7b32cf80-6bea-4d74-8be4-b7312e328093",
    "outputId": "d534a300-7705-42a6-e020-1c6884041a00"
   },
   "outputs": [
    {
     "data": {
      "text/plain": [
       "{'cvec__max_df': 0.9,\n",
       " 'cvec__max_features': 13000,\n",
       " 'cvec__min_df': 2,\n",
       " 'cvec__ngram_range': (1, 2),\n",
       " 'cvec__stop_words': 'english'}"
      ]
     },
     "execution_count": 152,
     "metadata": {},
     "output_type": "execute_result"
    }
   ],
   "source": [
    "#without lematization\n",
    "nb_gs.best_params_ "
   ]
  },
  {
   "cell_type": "code",
   "execution_count": null,
   "id": "0dd0ac89-e3b8-421a-a9f4-749cdd411003",
   "metadata": {
    "id": "0dd0ac89-e3b8-421a-a9f4-749cdd411003"
   },
   "outputs": [],
   "source": []
  },
  {
   "cell_type": "markdown",
   "id": "goH8i-QiUGZ1",
   "metadata": {
    "id": "goH8i-QiUGZ1"
   },
   "source": [
    "This cross val score was with lemmatizaiton. I did't run cross val everytime due to the longer runtimes"
   ]
  },
  {
   "cell_type": "code",
   "execution_count": null,
   "id": "06734078-c161-4b7b-9fff-9438be7ab8de",
   "metadata": {
    "id": "06734078-c161-4b7b-9fff-9438be7ab8de",
    "outputId": "7eb0800b-f363-477c-cd99-c58687b2de71"
   },
   "outputs": [
    {
     "data": {
      "text/plain": [
       "0.7089366846238722"
      ]
     },
     "execution_count": 145,
     "metadata": {},
     "output_type": "execute_result"
    }
   ],
   "source": [
    "cross_val_score(nb_gs,X_test, y_test).mean()"
   ]
  },
  {
   "cell_type": "markdown",
   "id": "c5603e86-8a54-426f-aa37-21bc798afd73",
   "metadata": {
    "id": "c5603e86-8a54-426f-aa37-21bc798afd73"
   },
   "source": [
    "## Naive Bayes with Lemmatizaiton "
   ]
  },
  {
   "cell_type": "code",
   "execution_count": null,
   "id": "871ee270-64a1-4703-809c-4d965b340193",
   "metadata": {
    "id": "871ee270-64a1-4703-809c-4d965b340193"
   },
   "outputs": [],
   "source": [
    "X = vaush_destiny_df['lem']\n",
    "y = vaush_destiny_df['subreddit']\n",
    "\n",
    "X_train, X_test, y_train, y_test = train_test_split(X, y, random_state=42,\n",
    "                                                    stratify=y)"
   ]
  },
  {
   "cell_type": "code",
   "execution_count": null,
   "id": "eba478ce-fa2e-41da-8ac9-d18d01fb5bca",
   "metadata": {
    "id": "eba478ce-fa2e-41da-8ac9-d18d01fb5bca"
   },
   "outputs": [],
   "source": [
    "nb_pipe = Pipeline([\n",
    "    ('cvec', CountVectorizer(max_df= 0.9,max_features = 16000, min_df=1, ngram_range =(1,1), stop_words='english' )),\n",
    "    ('nb', MultinomialNB())\n",
    "])\n",
    "\n"
   ]
  },
  {
   "cell_type": "code",
   "execution_count": null,
   "id": "5bf4826e-38a6-47f6-964f-6d9f6e7e9cd5",
   "metadata": {
    "id": "5bf4826e-38a6-47f6-964f-6d9f6e7e9cd5",
    "outputId": "bee6d330-21d5-40b0-e4cd-9578177e793c"
   },
   "outputs": [
    {
     "data": {
      "text/html": [
       "<style>#sk-container-id-29 {color: black;background-color: white;}#sk-container-id-29 pre{padding: 0;}#sk-container-id-29 div.sk-toggleable {background-color: white;}#sk-container-id-29 label.sk-toggleable__label {cursor: pointer;display: block;width: 100%;margin-bottom: 0;padding: 0.3em;box-sizing: border-box;text-align: center;}#sk-container-id-29 label.sk-toggleable__label-arrow:before {content: \"▸\";float: left;margin-right: 0.25em;color: #696969;}#sk-container-id-29 label.sk-toggleable__label-arrow:hover:before {color: black;}#sk-container-id-29 div.sk-estimator:hover label.sk-toggleable__label-arrow:before {color: black;}#sk-container-id-29 div.sk-toggleable__content {max-height: 0;max-width: 0;overflow: hidden;text-align: left;background-color: #f0f8ff;}#sk-container-id-29 div.sk-toggleable__content pre {margin: 0.2em;color: black;border-radius: 0.25em;background-color: #f0f8ff;}#sk-container-id-29 input.sk-toggleable__control:checked~div.sk-toggleable__content {max-height: 200px;max-width: 100%;overflow: auto;}#sk-container-id-29 input.sk-toggleable__control:checked~label.sk-toggleable__label-arrow:before {content: \"▾\";}#sk-container-id-29 div.sk-estimator input.sk-toggleable__control:checked~label.sk-toggleable__label {background-color: #d4ebff;}#sk-container-id-29 div.sk-label input.sk-toggleable__control:checked~label.sk-toggleable__label {background-color: #d4ebff;}#sk-container-id-29 input.sk-hidden--visually {border: 0;clip: rect(1px 1px 1px 1px);clip: rect(1px, 1px, 1px, 1px);height: 1px;margin: -1px;overflow: hidden;padding: 0;position: absolute;width: 1px;}#sk-container-id-29 div.sk-estimator {font-family: monospace;background-color: #f0f8ff;border: 1px dotted black;border-radius: 0.25em;box-sizing: border-box;margin-bottom: 0.5em;}#sk-container-id-29 div.sk-estimator:hover {background-color: #d4ebff;}#sk-container-id-29 div.sk-parallel-item::after {content: \"\";width: 100%;border-bottom: 1px solid gray;flex-grow: 1;}#sk-container-id-29 div.sk-label:hover label.sk-toggleable__label {background-color: #d4ebff;}#sk-container-id-29 div.sk-serial::before {content: \"\";position: absolute;border-left: 1px solid gray;box-sizing: border-box;top: 0;bottom: 0;left: 50%;z-index: 0;}#sk-container-id-29 div.sk-serial {display: flex;flex-direction: column;align-items: center;background-color: white;padding-right: 0.2em;padding-left: 0.2em;position: relative;}#sk-container-id-29 div.sk-item {position: relative;z-index: 1;}#sk-container-id-29 div.sk-parallel {display: flex;align-items: stretch;justify-content: center;background-color: white;position: relative;}#sk-container-id-29 div.sk-item::before, #sk-container-id-29 div.sk-parallel-item::before {content: \"\";position: absolute;border-left: 1px solid gray;box-sizing: border-box;top: 0;bottom: 0;left: 50%;z-index: -1;}#sk-container-id-29 div.sk-parallel-item {display: flex;flex-direction: column;z-index: 1;position: relative;background-color: white;}#sk-container-id-29 div.sk-parallel-item:first-child::after {align-self: flex-end;width: 50%;}#sk-container-id-29 div.sk-parallel-item:last-child::after {align-self: flex-start;width: 50%;}#sk-container-id-29 div.sk-parallel-item:only-child::after {width: 0;}#sk-container-id-29 div.sk-dashed-wrapped {border: 1px dashed gray;margin: 0 0.4em 0.5em 0.4em;box-sizing: border-box;padding-bottom: 0.4em;background-color: white;}#sk-container-id-29 div.sk-label label {font-family: monospace;font-weight: bold;display: inline-block;line-height: 1.2em;}#sk-container-id-29 div.sk-label-container {text-align: center;}#sk-container-id-29 div.sk-container {/* jupyter's `normalize.less` sets `[hidden] { display: none; }` but bootstrap.min.css set `[hidden] { display: none !important; }` so we also need the `!important` here to be able to override the default hidden behavior on the sphinx rendered scikit-learn.org. See: https://github.com/scikit-learn/scikit-learn/issues/21755 */display: inline-block !important;position: relative;}#sk-container-id-29 div.sk-text-repr-fallback {display: none;}</style><div id=\"sk-container-id-29\" class=\"sk-top-container\"><div class=\"sk-text-repr-fallback\"><pre>Pipeline(steps=[(&#x27;cvec&#x27;,\n",
       "                 CountVectorizer(max_df=0.9, max_features=16000,\n",
       "                                 stop_words=&#x27;english&#x27;)),\n",
       "                (&#x27;nb&#x27;, MultinomialNB())])</pre><b>In a Jupyter environment, please rerun this cell to show the HTML representation or trust the notebook. <br />On GitHub, the HTML representation is unable to render, please try loading this page with nbviewer.org.</b></div><div class=\"sk-container\" hidden><div class=\"sk-item sk-dashed-wrapped\"><div class=\"sk-label-container\"><div class=\"sk-label sk-toggleable\"><input class=\"sk-toggleable__control sk-hidden--visually\" id=\"sk-estimator-id-180\" type=\"checkbox\" ><label for=\"sk-estimator-id-180\" class=\"sk-toggleable__label sk-toggleable__label-arrow\">Pipeline</label><div class=\"sk-toggleable__content\"><pre>Pipeline(steps=[(&#x27;cvec&#x27;,\n",
       "                 CountVectorizer(max_df=0.9, max_features=16000,\n",
       "                                 stop_words=&#x27;english&#x27;)),\n",
       "                (&#x27;nb&#x27;, MultinomialNB())])</pre></div></div></div><div class=\"sk-serial\"><div class=\"sk-item\"><div class=\"sk-estimator sk-toggleable\"><input class=\"sk-toggleable__control sk-hidden--visually\" id=\"sk-estimator-id-181\" type=\"checkbox\" ><label for=\"sk-estimator-id-181\" class=\"sk-toggleable__label sk-toggleable__label-arrow\">CountVectorizer</label><div class=\"sk-toggleable__content\"><pre>CountVectorizer(max_df=0.9, max_features=16000, stop_words=&#x27;english&#x27;)</pre></div></div></div><div class=\"sk-item\"><div class=\"sk-estimator sk-toggleable\"><input class=\"sk-toggleable__control sk-hidden--visually\" id=\"sk-estimator-id-182\" type=\"checkbox\" ><label for=\"sk-estimator-id-182\" class=\"sk-toggleable__label sk-toggleable__label-arrow\">MultinomialNB</label><div class=\"sk-toggleable__content\"><pre>MultinomialNB()</pre></div></div></div></div></div></div></div>"
      ],
      "text/plain": [
       "Pipeline(steps=[('cvec',\n",
       "                 CountVectorizer(max_df=0.9, max_features=16000,\n",
       "                                 stop_words='english')),\n",
       "                ('nb', MultinomialNB())])"
      ]
     },
     "execution_count": 422,
     "metadata": {},
     "output_type": "execute_result"
    }
   ],
   "source": [
    "nb_pipe.fit(X_train, y_train)"
   ]
  },
  {
   "cell_type": "code",
   "execution_count": null,
   "id": "e7a0fe96-20b2-47da-8e49-f0ef8a34b84e",
   "metadata": {
    "id": "e7a0fe96-20b2-47da-8e49-f0ef8a34b84e",
    "outputId": "72103354-cfb7-46a7-f49c-9b7eed1a762b"
   },
   "outputs": [
    {
     "data": {
      "text/plain": [
       "0.7624798711755234"
      ]
     },
     "execution_count": 423,
     "metadata": {},
     "output_type": "execute_result"
    }
   ],
   "source": [
    "nb_pipe.score(X_test,y_test)"
   ]
  },
  {
   "cell_type": "code",
   "execution_count": null,
   "id": "3edbf7f9-6f49-4028-9241-99f3bc53ce1f",
   "metadata": {
    "id": "3edbf7f9-6f49-4028-9241-99f3bc53ce1f"
   },
   "outputs": [],
   "source": []
  },
  {
   "cell_type": "markdown",
   "id": "d9e1c497-37c5-47e6-8615-bfe0e2ed57ba",
   "metadata": {
    "id": "d9e1c497-37c5-47e6-8615-bfe0e2ed57ba"
   },
   "source": [
    "## RAndom Forest with numercial values "
   ]
  },
  {
   "cell_type": "code",
   "execution_count": null,
   "id": "d38f1bc2-e41a-406b-92d4-0fb853e0e983",
   "metadata": {
    "id": "d38f1bc2-e41a-406b-92d4-0fb853e0e983"
   },
   "outputs": [],
   "source": [
    "preprocessor = ColumnTransformer(\n",
    "    [\n",
    "        ('cvec', CountVectorizer(), 'no_links_2'),\n",
    "        #('text', text_transformer, \n",
    "         # text_features),\n",
    "        #('numericals', numeric_transformer, numeric_features),\n",
    "        ('scaler', StandardScaler(),['compound','post_word_count'])\n",
    "    ],\n",
    "    remainder = 'passthrough'\n",
    ")"
   ]
  },
  {
   "cell_type": "code",
   "execution_count": null,
   "id": "159ecd7c-8bbe-4485-a80e-2e0d12abb57e",
   "metadata": {
    "id": "159ecd7c-8bbe-4485-a80e-2e0d12abb57e"
   },
   "outputs": [],
   "source": [
    "rf_pipe = Pipeline([\n",
    "    ('prep', preprocessor),\n",
    "    ('ss', StandardScaler(with_mean=False)),\n",
    "    ('rf', RandomForestClassifier())\n",
    "])"
   ]
  },
  {
   "cell_type": "code",
   "execution_count": null,
   "id": "e5a87099-6a2f-4f3a-b964-b6d6f767146e",
   "metadata": {
    "id": "e5a87099-6a2f-4f3a-b964-b6d6f767146e"
   },
   "outputs": [],
   "source": [
    "rf_pipe_params = {\n",
    "    'rf__n_estimators':[50,100,150],\n",
    "    'rf__max_depth':[None,5],\n",
    "    'rf__min_samples_split':[2,5,10],\n",
    "    'rf__ccp_alpha':[0,.01,.1],\n",
    "    'prep__cvec__stop_words': ['english',stopwords.words('english')],\n",
    "    'prep__cvec__max_features': [1000,5000,10_000,15_000],\n",
    "    'prep__cvec__min_df': range(1,3,5),\n",
    "    'prep__cvec__max_df': [.8, .9],\n",
    "    'prep__cvec__ngram_range': [(1, 2)]\n",
    "}"
   ]
  },
  {
   "cell_type": "code",
   "execution_count": null,
   "id": "d248d5b2-ebb7-4ff5-8e8a-1528f4f78bed",
   "metadata": {
    "id": "d248d5b2-ebb7-4ff5-8e8a-1528f4f78bed"
   },
   "outputs": [],
   "source": [
    "rf_gs = GridSearchCV(rf_pipe, param_grid = rf_pipe_params, n_jobs=-1)"
   ]
  },
  {
   "cell_type": "code",
   "execution_count": null,
   "id": "9382830a-fda2-4633-85cc-b49fa78b32af",
   "metadata": {
    "id": "9382830a-fda2-4633-85cc-b49fa78b32af",
    "outputId": "3ac32300-f9bf-42a3-c697-eb0fff115e7a"
   },
   "outputs": [
    {
     "data": {
      "text/html": [
       "<style>#sk-container-id-11 {color: black;background-color: white;}#sk-container-id-11 pre{padding: 0;}#sk-container-id-11 div.sk-toggleable {background-color: white;}#sk-container-id-11 label.sk-toggleable__label {cursor: pointer;display: block;width: 100%;margin-bottom: 0;padding: 0.3em;box-sizing: border-box;text-align: center;}#sk-container-id-11 label.sk-toggleable__label-arrow:before {content: \"▸\";float: left;margin-right: 0.25em;color: #696969;}#sk-container-id-11 label.sk-toggleable__label-arrow:hover:before {color: black;}#sk-container-id-11 div.sk-estimator:hover label.sk-toggleable__label-arrow:before {color: black;}#sk-container-id-11 div.sk-toggleable__content {max-height: 0;max-width: 0;overflow: hidden;text-align: left;background-color: #f0f8ff;}#sk-container-id-11 div.sk-toggleable__content pre {margin: 0.2em;color: black;border-radius: 0.25em;background-color: #f0f8ff;}#sk-container-id-11 input.sk-toggleable__control:checked~div.sk-toggleable__content {max-height: 200px;max-width: 100%;overflow: auto;}#sk-container-id-11 input.sk-toggleable__control:checked~label.sk-toggleable__label-arrow:before {content: \"▾\";}#sk-container-id-11 div.sk-estimator input.sk-toggleable__control:checked~label.sk-toggleable__label {background-color: #d4ebff;}#sk-container-id-11 div.sk-label input.sk-toggleable__control:checked~label.sk-toggleable__label {background-color: #d4ebff;}#sk-container-id-11 input.sk-hidden--visually {border: 0;clip: rect(1px 1px 1px 1px);clip: rect(1px, 1px, 1px, 1px);height: 1px;margin: -1px;overflow: hidden;padding: 0;position: absolute;width: 1px;}#sk-container-id-11 div.sk-estimator {font-family: monospace;background-color: #f0f8ff;border: 1px dotted black;border-radius: 0.25em;box-sizing: border-box;margin-bottom: 0.5em;}#sk-container-id-11 div.sk-estimator:hover {background-color: #d4ebff;}#sk-container-id-11 div.sk-parallel-item::after {content: \"\";width: 100%;border-bottom: 1px solid gray;flex-grow: 1;}#sk-container-id-11 div.sk-label:hover label.sk-toggleable__label {background-color: #d4ebff;}#sk-container-id-11 div.sk-serial::before {content: \"\";position: absolute;border-left: 1px solid gray;box-sizing: border-box;top: 0;bottom: 0;left: 50%;z-index: 0;}#sk-container-id-11 div.sk-serial {display: flex;flex-direction: column;align-items: center;background-color: white;padding-right: 0.2em;padding-left: 0.2em;position: relative;}#sk-container-id-11 div.sk-item {position: relative;z-index: 1;}#sk-container-id-11 div.sk-parallel {display: flex;align-items: stretch;justify-content: center;background-color: white;position: relative;}#sk-container-id-11 div.sk-item::before, #sk-container-id-11 div.sk-parallel-item::before {content: \"\";position: absolute;border-left: 1px solid gray;box-sizing: border-box;top: 0;bottom: 0;left: 50%;z-index: -1;}#sk-container-id-11 div.sk-parallel-item {display: flex;flex-direction: column;z-index: 1;position: relative;background-color: white;}#sk-container-id-11 div.sk-parallel-item:first-child::after {align-self: flex-end;width: 50%;}#sk-container-id-11 div.sk-parallel-item:last-child::after {align-self: flex-start;width: 50%;}#sk-container-id-11 div.sk-parallel-item:only-child::after {width: 0;}#sk-container-id-11 div.sk-dashed-wrapped {border: 1px dashed gray;margin: 0 0.4em 0.5em 0.4em;box-sizing: border-box;padding-bottom: 0.4em;background-color: white;}#sk-container-id-11 div.sk-label label {font-family: monospace;font-weight: bold;display: inline-block;line-height: 1.2em;}#sk-container-id-11 div.sk-label-container {text-align: center;}#sk-container-id-11 div.sk-container {/* jupyter's `normalize.less` sets `[hidden] { display: none; }` but bootstrap.min.css set `[hidden] { display: none !important; }` so we also need the `!important` here to be able to override the default hidden behavior on the sphinx rendered scikit-learn.org. See: https://github.com/scikit-learn/scikit-learn/issues/21755 */display: inline-block !important;position: relative;}#sk-container-id-11 div.sk-text-repr-fallback {display: none;}</style><div id=\"sk-container-id-11\" class=\"sk-top-container\"><div class=\"sk-text-repr-fallback\"><pre>GridSearchCV(estimator=Pipeline(steps=[(&#x27;prep&#x27;,\n",
       "                                        ColumnTransformer(remainder=&#x27;passthrough&#x27;,\n",
       "                                                          transformers=[(&#x27;cvec&#x27;,\n",
       "                                                                         CountVectorizer(),\n",
       "                                                                         &#x27;no_links_2&#x27;),\n",
       "                                                                        (&#x27;scaler&#x27;,\n",
       "                                                                         StandardScaler(),\n",
       "                                                                         [&#x27;compound&#x27;,\n",
       "                                                                          &#x27;post_word_count&#x27;])])),\n",
       "                                       (&#x27;ss&#x27;, StandardScaler(with_mean=False)),\n",
       "                                       (&#x27;rf&#x27;, RandomForestClassifier())]),\n",
       "             n_jobs=-1,\n",
       "             param_grid={&#x27;prep__cvec__max_df&#x27;: [0.8, 0.9],\n",
       "                         &#x27;prep__cvec__max_features&#x27;: [1000, 5000, 10000, 15000],\n",
       "                         &#x27;prep__cvec__min_df&#x27;: range(1, 3, 5),\n",
       "                         &#x27;prep__cvec__ngram_range&#x27;: [(1, 2)],\n",
       "                         &#x27;prep__cvec__stop_words&#x27;: [&#x27;english&#x27;],\n",
       "                         &#x27;rf__ccp_alpha&#x27;: [0, 0.01, 0.1],\n",
       "                         &#x27;rf__max_depth&#x27;: [None, 5],\n",
       "                         &#x27;rf__min_samples_split&#x27;: [2, 5, 10],\n",
       "                         &#x27;rf__n_estimators&#x27;: [50, 100, 150]})</pre><b>In a Jupyter environment, please rerun this cell to show the HTML representation or trust the notebook. <br />On GitHub, the HTML representation is unable to render, please try loading this page with nbviewer.org.</b></div><div class=\"sk-container\" hidden><div class=\"sk-item sk-dashed-wrapped\"><div class=\"sk-label-container\"><div class=\"sk-label sk-toggleable\"><input class=\"sk-toggleable__control sk-hidden--visually\" id=\"sk-estimator-id-55\" type=\"checkbox\" ><label for=\"sk-estimator-id-55\" class=\"sk-toggleable__label sk-toggleable__label-arrow\">GridSearchCV</label><div class=\"sk-toggleable__content\"><pre>GridSearchCV(estimator=Pipeline(steps=[(&#x27;prep&#x27;,\n",
       "                                        ColumnTransformer(remainder=&#x27;passthrough&#x27;,\n",
       "                                                          transformers=[(&#x27;cvec&#x27;,\n",
       "                                                                         CountVectorizer(),\n",
       "                                                                         &#x27;no_links_2&#x27;),\n",
       "                                                                        (&#x27;scaler&#x27;,\n",
       "                                                                         StandardScaler(),\n",
       "                                                                         [&#x27;compound&#x27;,\n",
       "                                                                          &#x27;post_word_count&#x27;])])),\n",
       "                                       (&#x27;ss&#x27;, StandardScaler(with_mean=False)),\n",
       "                                       (&#x27;rf&#x27;, RandomForestClassifier())]),\n",
       "             n_jobs=-1,\n",
       "             param_grid={&#x27;prep__cvec__max_df&#x27;: [0.8, 0.9],\n",
       "                         &#x27;prep__cvec__max_features&#x27;: [1000, 5000, 10000, 15000],\n",
       "                         &#x27;prep__cvec__min_df&#x27;: range(1, 3, 5),\n",
       "                         &#x27;prep__cvec__ngram_range&#x27;: [(1, 2)],\n",
       "                         &#x27;prep__cvec__stop_words&#x27;: [&#x27;english&#x27;],\n",
       "                         &#x27;rf__ccp_alpha&#x27;: [0, 0.01, 0.1],\n",
       "                         &#x27;rf__max_depth&#x27;: [None, 5],\n",
       "                         &#x27;rf__min_samples_split&#x27;: [2, 5, 10],\n",
       "                         &#x27;rf__n_estimators&#x27;: [50, 100, 150]})</pre></div></div></div><div class=\"sk-parallel\"><div class=\"sk-parallel-item\"><div class=\"sk-item\"><div class=\"sk-label-container\"><div class=\"sk-label sk-toggleable\"><input class=\"sk-toggleable__control sk-hidden--visually\" id=\"sk-estimator-id-56\" type=\"checkbox\" ><label for=\"sk-estimator-id-56\" class=\"sk-toggleable__label sk-toggleable__label-arrow\">estimator: Pipeline</label><div class=\"sk-toggleable__content\"><pre>Pipeline(steps=[(&#x27;prep&#x27;,\n",
       "                 ColumnTransformer(remainder=&#x27;passthrough&#x27;,\n",
       "                                   transformers=[(&#x27;cvec&#x27;, CountVectorizer(),\n",
       "                                                  &#x27;no_links_2&#x27;),\n",
       "                                                 (&#x27;scaler&#x27;, StandardScaler(),\n",
       "                                                  [&#x27;compound&#x27;,\n",
       "                                                   &#x27;post_word_count&#x27;])])),\n",
       "                (&#x27;ss&#x27;, StandardScaler(with_mean=False)),\n",
       "                (&#x27;rf&#x27;, RandomForestClassifier())])</pre></div></div></div><div class=\"sk-serial\"><div class=\"sk-item\"><div class=\"sk-serial\"><div class=\"sk-item sk-dashed-wrapped\"><div class=\"sk-label-container\"><div class=\"sk-label sk-toggleable\"><input class=\"sk-toggleable__control sk-hidden--visually\" id=\"sk-estimator-id-57\" type=\"checkbox\" ><label for=\"sk-estimator-id-57\" class=\"sk-toggleable__label sk-toggleable__label-arrow\">prep: ColumnTransformer</label><div class=\"sk-toggleable__content\"><pre>ColumnTransformer(remainder=&#x27;passthrough&#x27;,\n",
       "                  transformers=[(&#x27;cvec&#x27;, CountVectorizer(), &#x27;no_links_2&#x27;),\n",
       "                                (&#x27;scaler&#x27;, StandardScaler(),\n",
       "                                 [&#x27;compound&#x27;, &#x27;post_word_count&#x27;])])</pre></div></div></div><div class=\"sk-parallel\"><div class=\"sk-parallel-item\"><div class=\"sk-item\"><div class=\"sk-label-container\"><div class=\"sk-label sk-toggleable\"><input class=\"sk-toggleable__control sk-hidden--visually\" id=\"sk-estimator-id-58\" type=\"checkbox\" ><label for=\"sk-estimator-id-58\" class=\"sk-toggleable__label sk-toggleable__label-arrow\">cvec</label><div class=\"sk-toggleable__content\"><pre>no_links_2</pre></div></div></div><div class=\"sk-serial\"><div class=\"sk-item\"><div class=\"sk-estimator sk-toggleable\"><input class=\"sk-toggleable__control sk-hidden--visually\" id=\"sk-estimator-id-59\" type=\"checkbox\" ><label for=\"sk-estimator-id-59\" class=\"sk-toggleable__label sk-toggleable__label-arrow\">CountVectorizer</label><div class=\"sk-toggleable__content\"><pre>CountVectorizer()</pre></div></div></div></div></div></div><div class=\"sk-parallel-item\"><div class=\"sk-item\"><div class=\"sk-label-container\"><div class=\"sk-label sk-toggleable\"><input class=\"sk-toggleable__control sk-hidden--visually\" id=\"sk-estimator-id-60\" type=\"checkbox\" ><label for=\"sk-estimator-id-60\" class=\"sk-toggleable__label sk-toggleable__label-arrow\">scaler</label><div class=\"sk-toggleable__content\"><pre>[&#x27;compound&#x27;, &#x27;post_word_count&#x27;]</pre></div></div></div><div class=\"sk-serial\"><div class=\"sk-item\"><div class=\"sk-estimator sk-toggleable\"><input class=\"sk-toggleable__control sk-hidden--visually\" id=\"sk-estimator-id-61\" type=\"checkbox\" ><label for=\"sk-estimator-id-61\" class=\"sk-toggleable__label sk-toggleable__label-arrow\">StandardScaler</label><div class=\"sk-toggleable__content\"><pre>StandardScaler()</pre></div></div></div></div></div></div><div class=\"sk-parallel-item\"><div class=\"sk-item\"><div class=\"sk-label-container\"><div class=\"sk-label sk-toggleable\"><input class=\"sk-toggleable__control sk-hidden--visually\" id=\"sk-estimator-id-62\" type=\"checkbox\" ><label for=\"sk-estimator-id-62\" class=\"sk-toggleable__label sk-toggleable__label-arrow\">remainder</label><div class=\"sk-toggleable__content\"><pre></pre></div></div></div><div class=\"sk-serial\"><div class=\"sk-item\"><div class=\"sk-estimator sk-toggleable\"><input class=\"sk-toggleable__control sk-hidden--visually\" id=\"sk-estimator-id-63\" type=\"checkbox\" ><label for=\"sk-estimator-id-63\" class=\"sk-toggleable__label sk-toggleable__label-arrow\">passthrough</label><div class=\"sk-toggleable__content\"><pre>passthrough</pre></div></div></div></div></div></div></div></div><div class=\"sk-item\"><div class=\"sk-estimator sk-toggleable\"><input class=\"sk-toggleable__control sk-hidden--visually\" id=\"sk-estimator-id-64\" type=\"checkbox\" ><label for=\"sk-estimator-id-64\" class=\"sk-toggleable__label sk-toggleable__label-arrow\">StandardScaler</label><div class=\"sk-toggleable__content\"><pre>StandardScaler(with_mean=False)</pre></div></div></div><div class=\"sk-item\"><div class=\"sk-estimator sk-toggleable\"><input class=\"sk-toggleable__control sk-hidden--visually\" id=\"sk-estimator-id-65\" type=\"checkbox\" ><label for=\"sk-estimator-id-65\" class=\"sk-toggleable__label sk-toggleable__label-arrow\">RandomForestClassifier</label><div class=\"sk-toggleable__content\"><pre>RandomForestClassifier()</pre></div></div></div></div></div></div></div></div></div></div></div></div>"
      ],
      "text/plain": [
       "GridSearchCV(estimator=Pipeline(steps=[('prep',\n",
       "                                        ColumnTransformer(remainder='passthrough',\n",
       "                                                          transformers=[('cvec',\n",
       "                                                                         CountVectorizer(),\n",
       "                                                                         'no_links_2'),\n",
       "                                                                        ('scaler',\n",
       "                                                                         StandardScaler(),\n",
       "                                                                         ['compound',\n",
       "                                                                          'post_word_count'])])),\n",
       "                                       ('ss', StandardScaler(with_mean=False)),\n",
       "                                       ('rf', RandomForestClassifier())]),\n",
       "             n_jobs=-1,\n",
       "             param_grid={'prep__cvec__max_df': [0.8, 0.9],\n",
       "                         'prep__cvec__max_features': [1000, 5000, 10000, 15000],\n",
       "                         'prep__cvec__min_df': range(1, 3, 5),\n",
       "                         'prep__cvec__ngram_range': [(1, 2)],\n",
       "                         'prep__cvec__stop_words': ['english'],\n",
       "                         'rf__ccp_alpha': [0, 0.01, 0.1],\n",
       "                         'rf__max_depth': [None, 5],\n",
       "                         'rf__min_samples_split': [2, 5, 10],\n",
       "                         'rf__n_estimators': [50, 100, 150]})"
      ]
     },
     "execution_count": 309,
     "metadata": {},
     "output_type": "execute_result"
    }
   ],
   "source": [
    "rf_gs.fit(X_train, y_train)\n"
   ]
  },
  {
   "cell_type": "code",
   "execution_count": null,
   "id": "6516a98e-7193-4571-b7b9-8f06c6fc82ae",
   "metadata": {
    "id": "6516a98e-7193-4571-b7b9-8f06c6fc82ae",
    "outputId": "bddf5195-55e3-4aa0-fbe7-d975551eeadd"
   },
   "outputs": [
    {
     "data": {
      "text/plain": [
       "0.7383252818035426"
      ]
     },
     "execution_count": 310,
     "metadata": {},
     "output_type": "execute_result"
    }
   ],
   "source": [
    "rf_gs.score(X_test, y_test)"
   ]
  },
  {
   "cell_type": "code",
   "execution_count": null,
   "id": "ca5cffcb-c201-41d4-a368-07cd40aa39e1",
   "metadata": {
    "id": "ca5cffcb-c201-41d4-a368-07cd40aa39e1",
    "outputId": "334c1591-704d-413c-b815-fa0cd27737fe"
   },
   "outputs": [
    {
     "data": {
      "text/plain": [
       "0.9892617449664429"
      ]
     },
     "execution_count": 311,
     "metadata": {},
     "output_type": "execute_result"
    }
   ],
   "source": [
    "rf_gs.score(X_train, y_train)"
   ]
  },
  {
   "cell_type": "code",
   "execution_count": null,
   "id": "6733344f-e177-4545-ab79-83eb730136ba",
   "metadata": {
    "id": "6733344f-e177-4545-ab79-83eb730136ba",
    "outputId": "af562826-9fd9-4716-ecf7-a8a620a9ba31"
   },
   "outputs": [
    {
     "data": {
      "text/plain": [
       "0.6811514246770948"
      ]
     },
     "execution_count": 58,
     "metadata": {},
     "output_type": "execute_result"
    }
   ],
   "source": [
    "cross_val_score(rf_gs,X_test, y_test).mean()"
   ]
  },
  {
   "cell_type": "code",
   "execution_count": null,
   "id": "5ca9c231-ce4a-4f08-a1ad-5c534eef751e",
   "metadata": {
    "id": "5ca9c231-ce4a-4f08-a1ad-5c534eef751e",
    "outputId": "663f5ee6-7b00-49ee-ca08-9c4344a02570"
   },
   "outputs": [
    {
     "data": {
      "text/plain": [
       "{'prep__cvec__max_df': 0.9,\n",
       " 'prep__cvec__max_features': 10000,\n",
       " 'prep__cvec__min_df': 1,\n",
       " 'prep__cvec__ngram_range': (1, 2),\n",
       " 'prep__cvec__stop_words': 'english',\n",
       " 'rf__ccp_alpha': 0,\n",
       " 'rf__max_depth': None,\n",
       " 'rf__min_samples_split': 10,\n",
       " 'rf__n_estimators': 150}"
      ]
     },
     "execution_count": 294,
     "metadata": {},
     "output_type": "execute_result"
    }
   ],
   "source": [
    "rf_gs.best_params_"
   ]
  },
  {
   "cell_type": "markdown",
   "id": "6979626b-07f4-4873-ad15-bd35a0fc19ca",
   "metadata": {
    "id": "6979626b-07f4-4873-ad15-bd35a0fc19ca"
   },
   "source": [
    "## Random Forest with Lematizaiton "
   ]
  },
  {
   "cell_type": "code",
   "execution_count": null,
   "id": "5b1fd7b4-968f-4459-a877-3ee7c15fdbe8",
   "metadata": {
    "id": "5b1fd7b4-968f-4459-a877-3ee7c15fdbe8"
   },
   "outputs": [],
   "source": [
    "X = vaush_destiny_df['lem']\n",
    "y = vaush_destiny_df['subreddit']\n",
    "\n",
    "X_train, X_test, y_train, y_test = train_test_split(X, y, random_state=42,\n",
    "                                                    stratify=y)"
   ]
  },
  {
   "cell_type": "code",
   "execution_count": null,
   "id": "9929e76d-7729-421a-b3ca-ad140aca1506",
   "metadata": {
    "id": "9929e76d-7729-421a-b3ca-ad140aca1506"
   },
   "outputs": [],
   "source": [
    "rf_pipe = Pipeline([\n",
    "    ('cvec', CountVectorizer()),\n",
    "    ('ss', StandardScaler(with_mean=False)),\n",
    "    ('rf', RandomForestClassifier())\n",
    "])"
   ]
  },
  {
   "cell_type": "code",
   "execution_count": null,
   "id": "b5bc9b01-1bc2-4e1c-86b2-503731a33b6a",
   "metadata": {
    "id": "b5bc9b01-1bc2-4e1c-86b2-503731a33b6a"
   },
   "outputs": [],
   "source": [
    "rf_pipe_params = {\n",
    "    'rf__n_estimators':[50,100,150],\n",
    "    'rf__max_depth':[None,5],\n",
    "    'rf__min_samples_split':[2,5,10],\n",
    "    'rf__ccp_alpha':[0,.01,.1],\n",
    "    'cvec__stop_words': ['english',stopwords.words('english')],\n",
    "    'cvec__max_features': [8000,10_000,15_000],\n",
    "    'cvec__min_df': range(1,3,5),\n",
    "    'cvec__max_df': [.8, .9],\n",
    "    'cvec__ngram_range': [(1, 2)]\n",
    "}"
   ]
  },
  {
   "cell_type": "code",
   "execution_count": null,
   "id": "ecf1a8f4-2e91-45f9-abdd-0eb0513177cc",
   "metadata": {
    "id": "ecf1a8f4-2e91-45f9-abdd-0eb0513177cc"
   },
   "outputs": [],
   "source": [
    "rf_gs_lem = GridSearchCV(rf_pipe, param_grid = rf_pipe_params, n_jobs=-1)"
   ]
  },
  {
   "cell_type": "code",
   "execution_count": null,
   "id": "1b693673-3394-4712-8e59-4a7a54af35e1",
   "metadata": {
    "id": "1b693673-3394-4712-8e59-4a7a54af35e1",
    "outputId": "f414fe87-4316-4ef6-ac16-050c6fc363f6"
   },
   "outputs": [
    {
     "data": {
      "text/html": [
       "<style>#sk-container-id-30 {color: black;background-color: white;}#sk-container-id-30 pre{padding: 0;}#sk-container-id-30 div.sk-toggleable {background-color: white;}#sk-container-id-30 label.sk-toggleable__label {cursor: pointer;display: block;width: 100%;margin-bottom: 0;padding: 0.3em;box-sizing: border-box;text-align: center;}#sk-container-id-30 label.sk-toggleable__label-arrow:before {content: \"▸\";float: left;margin-right: 0.25em;color: #696969;}#sk-container-id-30 label.sk-toggleable__label-arrow:hover:before {color: black;}#sk-container-id-30 div.sk-estimator:hover label.sk-toggleable__label-arrow:before {color: black;}#sk-container-id-30 div.sk-toggleable__content {max-height: 0;max-width: 0;overflow: hidden;text-align: left;background-color: #f0f8ff;}#sk-container-id-30 div.sk-toggleable__content pre {margin: 0.2em;color: black;border-radius: 0.25em;background-color: #f0f8ff;}#sk-container-id-30 input.sk-toggleable__control:checked~div.sk-toggleable__content {max-height: 200px;max-width: 100%;overflow: auto;}#sk-container-id-30 input.sk-toggleable__control:checked~label.sk-toggleable__label-arrow:before {content: \"▾\";}#sk-container-id-30 div.sk-estimator input.sk-toggleable__control:checked~label.sk-toggleable__label {background-color: #d4ebff;}#sk-container-id-30 div.sk-label input.sk-toggleable__control:checked~label.sk-toggleable__label {background-color: #d4ebff;}#sk-container-id-30 input.sk-hidden--visually {border: 0;clip: rect(1px 1px 1px 1px);clip: rect(1px, 1px, 1px, 1px);height: 1px;margin: -1px;overflow: hidden;padding: 0;position: absolute;width: 1px;}#sk-container-id-30 div.sk-estimator {font-family: monospace;background-color: #f0f8ff;border: 1px dotted black;border-radius: 0.25em;box-sizing: border-box;margin-bottom: 0.5em;}#sk-container-id-30 div.sk-estimator:hover {background-color: #d4ebff;}#sk-container-id-30 div.sk-parallel-item::after {content: \"\";width: 100%;border-bottom: 1px solid gray;flex-grow: 1;}#sk-container-id-30 div.sk-label:hover label.sk-toggleable__label {background-color: #d4ebff;}#sk-container-id-30 div.sk-serial::before {content: \"\";position: absolute;border-left: 1px solid gray;box-sizing: border-box;top: 0;bottom: 0;left: 50%;z-index: 0;}#sk-container-id-30 div.sk-serial {display: flex;flex-direction: column;align-items: center;background-color: white;padding-right: 0.2em;padding-left: 0.2em;position: relative;}#sk-container-id-30 div.sk-item {position: relative;z-index: 1;}#sk-container-id-30 div.sk-parallel {display: flex;align-items: stretch;justify-content: center;background-color: white;position: relative;}#sk-container-id-30 div.sk-item::before, #sk-container-id-30 div.sk-parallel-item::before {content: \"\";position: absolute;border-left: 1px solid gray;box-sizing: border-box;top: 0;bottom: 0;left: 50%;z-index: -1;}#sk-container-id-30 div.sk-parallel-item {display: flex;flex-direction: column;z-index: 1;position: relative;background-color: white;}#sk-container-id-30 div.sk-parallel-item:first-child::after {align-self: flex-end;width: 50%;}#sk-container-id-30 div.sk-parallel-item:last-child::after {align-self: flex-start;width: 50%;}#sk-container-id-30 div.sk-parallel-item:only-child::after {width: 0;}#sk-container-id-30 div.sk-dashed-wrapped {border: 1px dashed gray;margin: 0 0.4em 0.5em 0.4em;box-sizing: border-box;padding-bottom: 0.4em;background-color: white;}#sk-container-id-30 div.sk-label label {font-family: monospace;font-weight: bold;display: inline-block;line-height: 1.2em;}#sk-container-id-30 div.sk-label-container {text-align: center;}#sk-container-id-30 div.sk-container {/* jupyter's `normalize.less` sets `[hidden] { display: none; }` but bootstrap.min.css set `[hidden] { display: none !important; }` so we also need the `!important` here to be able to override the default hidden behavior on the sphinx rendered scikit-learn.org. See: https://github.com/scikit-learn/scikit-learn/issues/21755 */display: inline-block !important;position: relative;}#sk-container-id-30 div.sk-text-repr-fallback {display: none;}</style><div id=\"sk-container-id-30\" class=\"sk-top-container\"><div class=\"sk-text-repr-fallback\"><pre>GridSearchCV(estimator=Pipeline(steps=[(&#x27;cvec&#x27;, CountVectorizer()),\n",
       "                                       (&#x27;ss&#x27;, StandardScaler(with_mean=False)),\n",
       "                                       (&#x27;rf&#x27;, RandomForestClassifier())]),\n",
       "             n_jobs=-1,\n",
       "             param_grid={&#x27;cvec__max_df&#x27;: [0.8, 0.9],\n",
       "                         &#x27;cvec__max_features&#x27;: [8000, 10000, 15000],\n",
       "                         &#x27;cvec__min_df&#x27;: range(1, 3, 5),\n",
       "                         &#x27;cvec__ngram_range&#x27;: [(1, 2)],\n",
       "                         &#x27;cvec__stop_words&#x27;: [&#x27;english&#x27;,\n",
       "                                              [&#x27;i&#x27;, &#x27;me&#x27;, &#x27;my&#x27;, &#x27;myself&#x27;, &#x27;we&#x27;,\n",
       "                                               &#x27;our&#x27;, &#x27;ours&#x27;, &#x27;ourselves&#x27;,\n",
       "                                               &#x27;you&#x27;, &quot;you&#x27;re&quot;, &quot;you&#x27;ve&quot;,\n",
       "                                               &quot;you&#x27;ll&quot;, &quot;you&#x27;d&quot;, &#x27;your&#x27;,\n",
       "                                               &#x27;yours&#x27;, &#x27;yourself&#x27;,\n",
       "                                               &#x27;yourselves&#x27;, &#x27;he&#x27;, &#x27;him&#x27;, &#x27;his&#x27;,\n",
       "                                               &#x27;himself&#x27;, &#x27;she&#x27;, &quot;she&#x27;s&quot;, &#x27;her&#x27;,\n",
       "                                               &#x27;hers&#x27;, &#x27;herself&#x27;, &#x27;it&#x27;, &quot;it&#x27;s&quot;,\n",
       "                                               &#x27;its&#x27;, &#x27;itself&#x27;, ...]],\n",
       "                         &#x27;rf__ccp_alpha&#x27;: [0, 0.01, 0.1],\n",
       "                         &#x27;rf__max_depth&#x27;: [None, 5],\n",
       "                         &#x27;rf__min_samples_split&#x27;: [2, 5, 10],\n",
       "                         &#x27;rf__n_estimators&#x27;: [50, 100, 150]})</pre><b>In a Jupyter environment, please rerun this cell to show the HTML representation or trust the notebook. <br />On GitHub, the HTML representation is unable to render, please try loading this page with nbviewer.org.</b></div><div class=\"sk-container\" hidden><div class=\"sk-item sk-dashed-wrapped\"><div class=\"sk-label-container\"><div class=\"sk-label sk-toggleable\"><input class=\"sk-toggleable__control sk-hidden--visually\" id=\"sk-estimator-id-183\" type=\"checkbox\" ><label for=\"sk-estimator-id-183\" class=\"sk-toggleable__label sk-toggleable__label-arrow\">GridSearchCV</label><div class=\"sk-toggleable__content\"><pre>GridSearchCV(estimator=Pipeline(steps=[(&#x27;cvec&#x27;, CountVectorizer()),\n",
       "                                       (&#x27;ss&#x27;, StandardScaler(with_mean=False)),\n",
       "                                       (&#x27;rf&#x27;, RandomForestClassifier())]),\n",
       "             n_jobs=-1,\n",
       "             param_grid={&#x27;cvec__max_df&#x27;: [0.8, 0.9],\n",
       "                         &#x27;cvec__max_features&#x27;: [8000, 10000, 15000],\n",
       "                         &#x27;cvec__min_df&#x27;: range(1, 3, 5),\n",
       "                         &#x27;cvec__ngram_range&#x27;: [(1, 2)],\n",
       "                         &#x27;cvec__stop_words&#x27;: [&#x27;english&#x27;,\n",
       "                                              [&#x27;i&#x27;, &#x27;me&#x27;, &#x27;my&#x27;, &#x27;myself&#x27;, &#x27;we&#x27;,\n",
       "                                               &#x27;our&#x27;, &#x27;ours&#x27;, &#x27;ourselves&#x27;,\n",
       "                                               &#x27;you&#x27;, &quot;you&#x27;re&quot;, &quot;you&#x27;ve&quot;,\n",
       "                                               &quot;you&#x27;ll&quot;, &quot;you&#x27;d&quot;, &#x27;your&#x27;,\n",
       "                                               &#x27;yours&#x27;, &#x27;yourself&#x27;,\n",
       "                                               &#x27;yourselves&#x27;, &#x27;he&#x27;, &#x27;him&#x27;, &#x27;his&#x27;,\n",
       "                                               &#x27;himself&#x27;, &#x27;she&#x27;, &quot;she&#x27;s&quot;, &#x27;her&#x27;,\n",
       "                                               &#x27;hers&#x27;, &#x27;herself&#x27;, &#x27;it&#x27;, &quot;it&#x27;s&quot;,\n",
       "                                               &#x27;its&#x27;, &#x27;itself&#x27;, ...]],\n",
       "                         &#x27;rf__ccp_alpha&#x27;: [0, 0.01, 0.1],\n",
       "                         &#x27;rf__max_depth&#x27;: [None, 5],\n",
       "                         &#x27;rf__min_samples_split&#x27;: [2, 5, 10],\n",
       "                         &#x27;rf__n_estimators&#x27;: [50, 100, 150]})</pre></div></div></div><div class=\"sk-parallel\"><div class=\"sk-parallel-item\"><div class=\"sk-item\"><div class=\"sk-label-container\"><div class=\"sk-label sk-toggleable\"><input class=\"sk-toggleable__control sk-hidden--visually\" id=\"sk-estimator-id-184\" type=\"checkbox\" ><label for=\"sk-estimator-id-184\" class=\"sk-toggleable__label sk-toggleable__label-arrow\">estimator: Pipeline</label><div class=\"sk-toggleable__content\"><pre>Pipeline(steps=[(&#x27;cvec&#x27;, CountVectorizer()),\n",
       "                (&#x27;ss&#x27;, StandardScaler(with_mean=False)),\n",
       "                (&#x27;rf&#x27;, RandomForestClassifier())])</pre></div></div></div><div class=\"sk-serial\"><div class=\"sk-item\"><div class=\"sk-serial\"><div class=\"sk-item\"><div class=\"sk-estimator sk-toggleable\"><input class=\"sk-toggleable__control sk-hidden--visually\" id=\"sk-estimator-id-185\" type=\"checkbox\" ><label for=\"sk-estimator-id-185\" class=\"sk-toggleable__label sk-toggleable__label-arrow\">CountVectorizer</label><div class=\"sk-toggleable__content\"><pre>CountVectorizer()</pre></div></div></div><div class=\"sk-item\"><div class=\"sk-estimator sk-toggleable\"><input class=\"sk-toggleable__control sk-hidden--visually\" id=\"sk-estimator-id-186\" type=\"checkbox\" ><label for=\"sk-estimator-id-186\" class=\"sk-toggleable__label sk-toggleable__label-arrow\">StandardScaler</label><div class=\"sk-toggleable__content\"><pre>StandardScaler(with_mean=False)</pre></div></div></div><div class=\"sk-item\"><div class=\"sk-estimator sk-toggleable\"><input class=\"sk-toggleable__control sk-hidden--visually\" id=\"sk-estimator-id-187\" type=\"checkbox\" ><label for=\"sk-estimator-id-187\" class=\"sk-toggleable__label sk-toggleable__label-arrow\">RandomForestClassifier</label><div class=\"sk-toggleable__content\"><pre>RandomForestClassifier()</pre></div></div></div></div></div></div></div></div></div></div></div></div>"
      ],
      "text/plain": [
       "GridSearchCV(estimator=Pipeline(steps=[('cvec', CountVectorizer()),\n",
       "                                       ('ss', StandardScaler(with_mean=False)),\n",
       "                                       ('rf', RandomForestClassifier())]),\n",
       "             n_jobs=-1,\n",
       "             param_grid={'cvec__max_df': [0.8, 0.9],\n",
       "                         'cvec__max_features': [8000, 10000, 15000],\n",
       "                         'cvec__min_df': range(1, 3, 5),\n",
       "                         'cvec__ngram_range': [(1, 2)],\n",
       "                         'cvec__stop_words': ['english',\n",
       "                                              ['i', 'me', 'my', 'myself', 'we',\n",
       "                                               'our', 'ours', 'ourselves',\n",
       "                                               'you', \"you're\", \"you've\",\n",
       "                                               \"you'll\", \"you'd\", 'your',\n",
       "                                               'yours', 'yourself',\n",
       "                                               'yourselves', 'he', 'him', 'his',\n",
       "                                               'himself', 'she', \"she's\", 'her',\n",
       "                                               'hers', 'herself', 'it', \"it's\",\n",
       "                                               'its', 'itself', ...]],\n",
       "                         'rf__ccp_alpha': [0, 0.01, 0.1],\n",
       "                         'rf__max_depth': [None, 5],\n",
       "                         'rf__min_samples_split': [2, 5, 10],\n",
       "                         'rf__n_estimators': [50, 100, 150]})"
      ]
     },
     "execution_count": 428,
     "metadata": {},
     "output_type": "execute_result"
    }
   ],
   "source": [
    "rf_gs_lem.fit(X_train, y_train)"
   ]
  },
  {
   "cell_type": "code",
   "execution_count": null,
   "id": "4215bb55-7aaf-489e-911f-cbc037ec04c6",
   "metadata": {
    "id": "4215bb55-7aaf-489e-911f-cbc037ec04c6",
    "outputId": "6642f056-fb3f-475f-f5d9-613e65f0321b"
   },
   "outputs": [
    {
     "data": {
      "text/plain": [
       "0.751207729468599"
      ]
     },
     "execution_count": 429,
     "metadata": {},
     "output_type": "execute_result"
    }
   ],
   "source": [
    "rf_gs_lem.score(X_test, y_test)"
   ]
  },
  {
   "cell_type": "markdown",
   "id": "a4edcc42-746f-450f-a6a4-2d2603fab1cd",
   "metadata": {
    "id": "a4edcc42-746f-450f-a6a4-2d2603fab1cd"
   },
   "source": [
    "## The random forest was better withour the additional columns as well"
   ]
  },
  {
   "cell_type": "code",
   "execution_count": null,
   "id": "f5b9eb6e-c18b-4149-91b2-d758f5a0c892",
   "metadata": {
    "id": "f5b9eb6e-c18b-4149-91b2-d758f5a0c892"
   },
   "outputs": [],
   "source": [
    "rf_pipe = Pipeline([\n",
    "    ('cvec', CountVectorizer()),\n",
    "    ('ss', StandardScaler(with_mean=False)),\n",
    "    ('rf', RandomForestClassifier())\n",
    "])"
   ]
  },
  {
   "cell_type": "code",
   "execution_count": null,
   "id": "7cae4e85-0864-480c-a46a-24090d400e29",
   "metadata": {
    "id": "7cae4e85-0864-480c-a46a-24090d400e29"
   },
   "outputs": [],
   "source": [
    "rf_pipe_params = {\n",
    "    'rf__n_estimators':[50,100,150],\n",
    "    'rf__max_depth':[None,5],\n",
    "    'rf__min_samples_split':[2,5,10],\n",
    "    'rf__ccp_alpha':[0,.01,.1],\n",
    "    'cvec__stop_words': ['english',stopwords.words('english')],\n",
    "    'cvec__max_features': [8000,10_000,15_000],\n",
    "    'cvec__min_df': range(1,3,5),\n",
    "    'cvec__max_df': [.8, .9],\n",
    "    'cvec__ngram_range': [(1, 2)]\n",
    "}"
   ]
  },
  {
   "cell_type": "code",
   "execution_count": null,
   "id": "206948c8-dd88-4789-88a1-e38949e350c1",
   "metadata": {
    "id": "206948c8-dd88-4789-88a1-e38949e350c1"
   },
   "outputs": [],
   "source": [
    "rf_gs2 = GridSearchCV(rf_pipe, param_grid = rf_pipe_params, n_jobs=-1)"
   ]
  },
  {
   "cell_type": "code",
   "execution_count": null,
   "id": "7e9d41c2-20eb-481d-b2e7-0fad89548ce9",
   "metadata": {
    "id": "7e9d41c2-20eb-481d-b2e7-0fad89548ce9",
    "outputId": "8cbf254e-9740-4fa8-f50f-6f8df17875c2"
   },
   "outputs": [
    {
     "data": {
      "text/html": [
       "<style>#sk-container-id-20 {color: black;background-color: white;}#sk-container-id-20 pre{padding: 0;}#sk-container-id-20 div.sk-toggleable {background-color: white;}#sk-container-id-20 label.sk-toggleable__label {cursor: pointer;display: block;width: 100%;margin-bottom: 0;padding: 0.3em;box-sizing: border-box;text-align: center;}#sk-container-id-20 label.sk-toggleable__label-arrow:before {content: \"▸\";float: left;margin-right: 0.25em;color: #696969;}#sk-container-id-20 label.sk-toggleable__label-arrow:hover:before {color: black;}#sk-container-id-20 div.sk-estimator:hover label.sk-toggleable__label-arrow:before {color: black;}#sk-container-id-20 div.sk-toggleable__content {max-height: 0;max-width: 0;overflow: hidden;text-align: left;background-color: #f0f8ff;}#sk-container-id-20 div.sk-toggleable__content pre {margin: 0.2em;color: black;border-radius: 0.25em;background-color: #f0f8ff;}#sk-container-id-20 input.sk-toggleable__control:checked~div.sk-toggleable__content {max-height: 200px;max-width: 100%;overflow: auto;}#sk-container-id-20 input.sk-toggleable__control:checked~label.sk-toggleable__label-arrow:before {content: \"▾\";}#sk-container-id-20 div.sk-estimator input.sk-toggleable__control:checked~label.sk-toggleable__label {background-color: #d4ebff;}#sk-container-id-20 div.sk-label input.sk-toggleable__control:checked~label.sk-toggleable__label {background-color: #d4ebff;}#sk-container-id-20 input.sk-hidden--visually {border: 0;clip: rect(1px 1px 1px 1px);clip: rect(1px, 1px, 1px, 1px);height: 1px;margin: -1px;overflow: hidden;padding: 0;position: absolute;width: 1px;}#sk-container-id-20 div.sk-estimator {font-family: monospace;background-color: #f0f8ff;border: 1px dotted black;border-radius: 0.25em;box-sizing: border-box;margin-bottom: 0.5em;}#sk-container-id-20 div.sk-estimator:hover {background-color: #d4ebff;}#sk-container-id-20 div.sk-parallel-item::after {content: \"\";width: 100%;border-bottom: 1px solid gray;flex-grow: 1;}#sk-container-id-20 div.sk-label:hover label.sk-toggleable__label {background-color: #d4ebff;}#sk-container-id-20 div.sk-serial::before {content: \"\";position: absolute;border-left: 1px solid gray;box-sizing: border-box;top: 0;bottom: 0;left: 50%;z-index: 0;}#sk-container-id-20 div.sk-serial {display: flex;flex-direction: column;align-items: center;background-color: white;padding-right: 0.2em;padding-left: 0.2em;position: relative;}#sk-container-id-20 div.sk-item {position: relative;z-index: 1;}#sk-container-id-20 div.sk-parallel {display: flex;align-items: stretch;justify-content: center;background-color: white;position: relative;}#sk-container-id-20 div.sk-item::before, #sk-container-id-20 div.sk-parallel-item::before {content: \"\";position: absolute;border-left: 1px solid gray;box-sizing: border-box;top: 0;bottom: 0;left: 50%;z-index: -1;}#sk-container-id-20 div.sk-parallel-item {display: flex;flex-direction: column;z-index: 1;position: relative;background-color: white;}#sk-container-id-20 div.sk-parallel-item:first-child::after {align-self: flex-end;width: 50%;}#sk-container-id-20 div.sk-parallel-item:last-child::after {align-self: flex-start;width: 50%;}#sk-container-id-20 div.sk-parallel-item:only-child::after {width: 0;}#sk-container-id-20 div.sk-dashed-wrapped {border: 1px dashed gray;margin: 0 0.4em 0.5em 0.4em;box-sizing: border-box;padding-bottom: 0.4em;background-color: white;}#sk-container-id-20 div.sk-label label {font-family: monospace;font-weight: bold;display: inline-block;line-height: 1.2em;}#sk-container-id-20 div.sk-label-container {text-align: center;}#sk-container-id-20 div.sk-container {/* jupyter's `normalize.less` sets `[hidden] { display: none; }` but bootstrap.min.css set `[hidden] { display: none !important; }` so we also need the `!important` here to be able to override the default hidden behavior on the sphinx rendered scikit-learn.org. See: https://github.com/scikit-learn/scikit-learn/issues/21755 */display: inline-block !important;position: relative;}#sk-container-id-20 div.sk-text-repr-fallback {display: none;}</style><div id=\"sk-container-id-20\" class=\"sk-top-container\"><div class=\"sk-text-repr-fallback\"><pre>GridSearchCV(estimator=Pipeline(steps=[(&#x27;cvec&#x27;, CountVectorizer()),\n",
       "                                       (&#x27;ss&#x27;, StandardScaler(with_mean=False)),\n",
       "                                       (&#x27;rf&#x27;, RandomForestClassifier())]),\n",
       "             n_jobs=-1,\n",
       "             param_grid={&#x27;cvec__max_df&#x27;: [0.8, 0.9],\n",
       "                         &#x27;cvec__max_features&#x27;: [8000, 10000, 15000],\n",
       "                         &#x27;cvec__min_df&#x27;: range(1, 3, 5),\n",
       "                         &#x27;cvec__ngram_range&#x27;: [(1, 2)],\n",
       "                         &#x27;cvec__stop_words&#x27;: [&#x27;english&#x27;,\n",
       "                                              [&#x27;i&#x27;, &#x27;me&#x27;, &#x27;my&#x27;, &#x27;myself&#x27;, &#x27;we&#x27;,\n",
       "                                               &#x27;our&#x27;, &#x27;ours&#x27;, &#x27;ourselves&#x27;,\n",
       "                                               &#x27;you&#x27;, &quot;you&#x27;re&quot;, &quot;you&#x27;ve&quot;,\n",
       "                                               &quot;you&#x27;ll&quot;, &quot;you&#x27;d&quot;, &#x27;your&#x27;,\n",
       "                                               &#x27;yours&#x27;, &#x27;yourself&#x27;,\n",
       "                                               &#x27;yourselves&#x27;, &#x27;he&#x27;, &#x27;him&#x27;, &#x27;his&#x27;,\n",
       "                                               &#x27;himself&#x27;, &#x27;she&#x27;, &quot;she&#x27;s&quot;, &#x27;her&#x27;,\n",
       "                                               &#x27;hers&#x27;, &#x27;herself&#x27;, &#x27;it&#x27;, &quot;it&#x27;s&quot;,\n",
       "                                               &#x27;its&#x27;, &#x27;itself&#x27;, ...]],\n",
       "                         &#x27;rf__ccp_alpha&#x27;: [0, 0.01, 0.1],\n",
       "                         &#x27;rf__max_depth&#x27;: [None, 5],\n",
       "                         &#x27;rf__min_samples_split&#x27;: [2, 5, 10],\n",
       "                         &#x27;rf__n_estimators&#x27;: [50, 100, 150]})</pre><b>In a Jupyter environment, please rerun this cell to show the HTML representation or trust the notebook. <br />On GitHub, the HTML representation is unable to render, please try loading this page with nbviewer.org.</b></div><div class=\"sk-container\" hidden><div class=\"sk-item sk-dashed-wrapped\"><div class=\"sk-label-container\"><div class=\"sk-label sk-toggleable\"><input class=\"sk-toggleable__control sk-hidden--visually\" id=\"sk-estimator-id-107\" type=\"checkbox\" ><label for=\"sk-estimator-id-107\" class=\"sk-toggleable__label sk-toggleable__label-arrow\">GridSearchCV</label><div class=\"sk-toggleable__content\"><pre>GridSearchCV(estimator=Pipeline(steps=[(&#x27;cvec&#x27;, CountVectorizer()),\n",
       "                                       (&#x27;ss&#x27;, StandardScaler(with_mean=False)),\n",
       "                                       (&#x27;rf&#x27;, RandomForestClassifier())]),\n",
       "             n_jobs=-1,\n",
       "             param_grid={&#x27;cvec__max_df&#x27;: [0.8, 0.9],\n",
       "                         &#x27;cvec__max_features&#x27;: [8000, 10000, 15000],\n",
       "                         &#x27;cvec__min_df&#x27;: range(1, 3, 5),\n",
       "                         &#x27;cvec__ngram_range&#x27;: [(1, 2)],\n",
       "                         &#x27;cvec__stop_words&#x27;: [&#x27;english&#x27;,\n",
       "                                              [&#x27;i&#x27;, &#x27;me&#x27;, &#x27;my&#x27;, &#x27;myself&#x27;, &#x27;we&#x27;,\n",
       "                                               &#x27;our&#x27;, &#x27;ours&#x27;, &#x27;ourselves&#x27;,\n",
       "                                               &#x27;you&#x27;, &quot;you&#x27;re&quot;, &quot;you&#x27;ve&quot;,\n",
       "                                               &quot;you&#x27;ll&quot;, &quot;you&#x27;d&quot;, &#x27;your&#x27;,\n",
       "                                               &#x27;yours&#x27;, &#x27;yourself&#x27;,\n",
       "                                               &#x27;yourselves&#x27;, &#x27;he&#x27;, &#x27;him&#x27;, &#x27;his&#x27;,\n",
       "                                               &#x27;himself&#x27;, &#x27;she&#x27;, &quot;she&#x27;s&quot;, &#x27;her&#x27;,\n",
       "                                               &#x27;hers&#x27;, &#x27;herself&#x27;, &#x27;it&#x27;, &quot;it&#x27;s&quot;,\n",
       "                                               &#x27;its&#x27;, &#x27;itself&#x27;, ...]],\n",
       "                         &#x27;rf__ccp_alpha&#x27;: [0, 0.01, 0.1],\n",
       "                         &#x27;rf__max_depth&#x27;: [None, 5],\n",
       "                         &#x27;rf__min_samples_split&#x27;: [2, 5, 10],\n",
       "                         &#x27;rf__n_estimators&#x27;: [50, 100, 150]})</pre></div></div></div><div class=\"sk-parallel\"><div class=\"sk-parallel-item\"><div class=\"sk-item\"><div class=\"sk-label-container\"><div class=\"sk-label sk-toggleable\"><input class=\"sk-toggleable__control sk-hidden--visually\" id=\"sk-estimator-id-108\" type=\"checkbox\" ><label for=\"sk-estimator-id-108\" class=\"sk-toggleable__label sk-toggleable__label-arrow\">estimator: Pipeline</label><div class=\"sk-toggleable__content\"><pre>Pipeline(steps=[(&#x27;cvec&#x27;, CountVectorizer()),\n",
       "                (&#x27;ss&#x27;, StandardScaler(with_mean=False)),\n",
       "                (&#x27;rf&#x27;, RandomForestClassifier())])</pre></div></div></div><div class=\"sk-serial\"><div class=\"sk-item\"><div class=\"sk-serial\"><div class=\"sk-item\"><div class=\"sk-estimator sk-toggleable\"><input class=\"sk-toggleable__control sk-hidden--visually\" id=\"sk-estimator-id-109\" type=\"checkbox\" ><label for=\"sk-estimator-id-109\" class=\"sk-toggleable__label sk-toggleable__label-arrow\">CountVectorizer</label><div class=\"sk-toggleable__content\"><pre>CountVectorizer()</pre></div></div></div><div class=\"sk-item\"><div class=\"sk-estimator sk-toggleable\"><input class=\"sk-toggleable__control sk-hidden--visually\" id=\"sk-estimator-id-110\" type=\"checkbox\" ><label for=\"sk-estimator-id-110\" class=\"sk-toggleable__label sk-toggleable__label-arrow\">StandardScaler</label><div class=\"sk-toggleable__content\"><pre>StandardScaler(with_mean=False)</pre></div></div></div><div class=\"sk-item\"><div class=\"sk-estimator sk-toggleable\"><input class=\"sk-toggleable__control sk-hidden--visually\" id=\"sk-estimator-id-111\" type=\"checkbox\" ><label for=\"sk-estimator-id-111\" class=\"sk-toggleable__label sk-toggleable__label-arrow\">RandomForestClassifier</label><div class=\"sk-toggleable__content\"><pre>RandomForestClassifier()</pre></div></div></div></div></div></div></div></div></div></div></div></div>"
      ],
      "text/plain": [
       "GridSearchCV(estimator=Pipeline(steps=[('cvec', CountVectorizer()),\n",
       "                                       ('ss', StandardScaler(with_mean=False)),\n",
       "                                       ('rf', RandomForestClassifier())]),\n",
       "             n_jobs=-1,\n",
       "             param_grid={'cvec__max_df': [0.8, 0.9],\n",
       "                         'cvec__max_features': [8000, 10000, 15000],\n",
       "                         'cvec__min_df': range(1, 3, 5),\n",
       "                         'cvec__ngram_range': [(1, 2)],\n",
       "                         'cvec__stop_words': ['english',\n",
       "                                              ['i', 'me', 'my', 'myself', 'we',\n",
       "                                               'our', 'ours', 'ourselves',\n",
       "                                               'you', \"you're\", \"you've\",\n",
       "                                               \"you'll\", \"you'd\", 'your',\n",
       "                                               'yours', 'yourself',\n",
       "                                               'yourselves', 'he', 'him', 'his',\n",
       "                                               'himself', 'she', \"she's\", 'her',\n",
       "                                               'hers', 'herself', 'it', \"it's\",\n",
       "                                               'its', 'itself', ...]],\n",
       "                         'rf__ccp_alpha': [0, 0.01, 0.1],\n",
       "                         'rf__max_depth': [None, 5],\n",
       "                         'rf__min_samples_split': [2, 5, 10],\n",
       "                         'rf__n_estimators': [50, 100, 150]})"
      ]
     },
     "execution_count": 383,
     "metadata": {},
     "output_type": "execute_result"
    }
   ],
   "source": [
    "rf_gs2.fit(X_train, y_train)"
   ]
  },
  {
   "cell_type": "code",
   "execution_count": null,
   "id": "ccb1b49e-148f-434e-aed9-e1efb262dedb",
   "metadata": {
    "id": "ccb1b49e-148f-434e-aed9-e1efb262dedb",
    "outputId": "06f9d530-24e3-4705-b75c-8b4d588ab854"
   },
   "outputs": [
    {
     "data": {
      "text/plain": [
       "0.9818791946308725"
      ]
     },
     "execution_count": 384,
     "metadata": {},
     "output_type": "execute_result"
    }
   ],
   "source": [
    "rf_gs2.score(X_train, y_train)"
   ]
  },
  {
   "cell_type": "code",
   "execution_count": null,
   "id": "ece267f7-10ed-4511-9922-766a6df2ce06",
   "metadata": {
    "id": "ece267f7-10ed-4511-9922-766a6df2ce06",
    "outputId": "f9392918-40c6-47a9-ae5e-2490fbd078bc"
   },
   "outputs": [
    {
     "data": {
      "text/plain": [
       "0.749194847020934"
      ]
     },
     "execution_count": 385,
     "metadata": {},
     "output_type": "execute_result"
    }
   ],
   "source": [
    "rf_gs2.score(X_test, y_test)"
   ]
  },
  {
   "cell_type": "code",
   "execution_count": null,
   "id": "593af31e-448e-42fa-ab36-a71e7babc9a4",
   "metadata": {
    "id": "593af31e-448e-42fa-ab36-a71e7babc9a4",
    "outputId": "cf4ea9c4-7afd-4dd3-b675-3e863deb325c"
   },
   "outputs": [
    {
     "data": {
      "text/html": [
       "<style>#sk-container-id-21 {color: black;background-color: white;}#sk-container-id-21 pre{padding: 0;}#sk-container-id-21 div.sk-toggleable {background-color: white;}#sk-container-id-21 label.sk-toggleable__label {cursor: pointer;display: block;width: 100%;margin-bottom: 0;padding: 0.3em;box-sizing: border-box;text-align: center;}#sk-container-id-21 label.sk-toggleable__label-arrow:before {content: \"▸\";float: left;margin-right: 0.25em;color: #696969;}#sk-container-id-21 label.sk-toggleable__label-arrow:hover:before {color: black;}#sk-container-id-21 div.sk-estimator:hover label.sk-toggleable__label-arrow:before {color: black;}#sk-container-id-21 div.sk-toggleable__content {max-height: 0;max-width: 0;overflow: hidden;text-align: left;background-color: #f0f8ff;}#sk-container-id-21 div.sk-toggleable__content pre {margin: 0.2em;color: black;border-radius: 0.25em;background-color: #f0f8ff;}#sk-container-id-21 input.sk-toggleable__control:checked~div.sk-toggleable__content {max-height: 200px;max-width: 100%;overflow: auto;}#sk-container-id-21 input.sk-toggleable__control:checked~label.sk-toggleable__label-arrow:before {content: \"▾\";}#sk-container-id-21 div.sk-estimator input.sk-toggleable__control:checked~label.sk-toggleable__label {background-color: #d4ebff;}#sk-container-id-21 div.sk-label input.sk-toggleable__control:checked~label.sk-toggleable__label {background-color: #d4ebff;}#sk-container-id-21 input.sk-hidden--visually {border: 0;clip: rect(1px 1px 1px 1px);clip: rect(1px, 1px, 1px, 1px);height: 1px;margin: -1px;overflow: hidden;padding: 0;position: absolute;width: 1px;}#sk-container-id-21 div.sk-estimator {font-family: monospace;background-color: #f0f8ff;border: 1px dotted black;border-radius: 0.25em;box-sizing: border-box;margin-bottom: 0.5em;}#sk-container-id-21 div.sk-estimator:hover {background-color: #d4ebff;}#sk-container-id-21 div.sk-parallel-item::after {content: \"\";width: 100%;border-bottom: 1px solid gray;flex-grow: 1;}#sk-container-id-21 div.sk-label:hover label.sk-toggleable__label {background-color: #d4ebff;}#sk-container-id-21 div.sk-serial::before {content: \"\";position: absolute;border-left: 1px solid gray;box-sizing: border-box;top: 0;bottom: 0;left: 50%;z-index: 0;}#sk-container-id-21 div.sk-serial {display: flex;flex-direction: column;align-items: center;background-color: white;padding-right: 0.2em;padding-left: 0.2em;position: relative;}#sk-container-id-21 div.sk-item {position: relative;z-index: 1;}#sk-container-id-21 div.sk-parallel {display: flex;align-items: stretch;justify-content: center;background-color: white;position: relative;}#sk-container-id-21 div.sk-item::before, #sk-container-id-21 div.sk-parallel-item::before {content: \"\";position: absolute;border-left: 1px solid gray;box-sizing: border-box;top: 0;bottom: 0;left: 50%;z-index: -1;}#sk-container-id-21 div.sk-parallel-item {display: flex;flex-direction: column;z-index: 1;position: relative;background-color: white;}#sk-container-id-21 div.sk-parallel-item:first-child::after {align-self: flex-end;width: 50%;}#sk-container-id-21 div.sk-parallel-item:last-child::after {align-self: flex-start;width: 50%;}#sk-container-id-21 div.sk-parallel-item:only-child::after {width: 0;}#sk-container-id-21 div.sk-dashed-wrapped {border: 1px dashed gray;margin: 0 0.4em 0.5em 0.4em;box-sizing: border-box;padding-bottom: 0.4em;background-color: white;}#sk-container-id-21 div.sk-label label {font-family: monospace;font-weight: bold;display: inline-block;line-height: 1.2em;}#sk-container-id-21 div.sk-label-container {text-align: center;}#sk-container-id-21 div.sk-container {/* jupyter's `normalize.less` sets `[hidden] { display: none; }` but bootstrap.min.css set `[hidden] { display: none !important; }` so we also need the `!important` here to be able to override the default hidden behavior on the sphinx rendered scikit-learn.org. See: https://github.com/scikit-learn/scikit-learn/issues/21755 */display: inline-block !important;position: relative;}#sk-container-id-21 div.sk-text-repr-fallback {display: none;}</style><div id=\"sk-container-id-21\" class=\"sk-top-container\"><div class=\"sk-text-repr-fallback\"><pre>Pipeline(steps=[(&#x27;cvec&#x27;,\n",
       "                 CountVectorizer(max_df=0.9, max_features=15000,\n",
       "                                 ngram_range=(1, 2),\n",
       "                                 stop_words=[&#x27;i&#x27;, &#x27;me&#x27;, &#x27;my&#x27;, &#x27;myself&#x27;, &#x27;we&#x27;,\n",
       "                                             &#x27;our&#x27;, &#x27;ours&#x27;, &#x27;ourselves&#x27;, &#x27;you&#x27;,\n",
       "                                             &quot;you&#x27;re&quot;, &quot;you&#x27;ve&quot;, &quot;you&#x27;ll&quot;,\n",
       "                                             &quot;you&#x27;d&quot;, &#x27;your&#x27;, &#x27;yours&#x27;,\n",
       "                                             &#x27;yourself&#x27;, &#x27;yourselves&#x27;, &#x27;he&#x27;,\n",
       "                                             &#x27;him&#x27;, &#x27;his&#x27;, &#x27;himself&#x27;, &#x27;she&#x27;,\n",
       "                                             &quot;she&#x27;s&quot;, &#x27;her&#x27;, &#x27;hers&#x27;, &#x27;herself&#x27;,\n",
       "                                             &#x27;it&#x27;, &quot;it&#x27;s&quot;, &#x27;its&#x27;, &#x27;itself&#x27;, ...])),\n",
       "                (&#x27;ss&#x27;, StandardScaler(with_mean=False)),\n",
       "                (&#x27;rf&#x27;,\n",
       "                 RandomForestClassifier(ccp_alpha=0, min_samples_split=5))])</pre><b>In a Jupyter environment, please rerun this cell to show the HTML representation or trust the notebook. <br />On GitHub, the HTML representation is unable to render, please try loading this page with nbviewer.org.</b></div><div class=\"sk-container\" hidden><div class=\"sk-item sk-dashed-wrapped\"><div class=\"sk-label-container\"><div class=\"sk-label sk-toggleable\"><input class=\"sk-toggleable__control sk-hidden--visually\" id=\"sk-estimator-id-112\" type=\"checkbox\" ><label for=\"sk-estimator-id-112\" class=\"sk-toggleable__label sk-toggleable__label-arrow\">Pipeline</label><div class=\"sk-toggleable__content\"><pre>Pipeline(steps=[(&#x27;cvec&#x27;,\n",
       "                 CountVectorizer(max_df=0.9, max_features=15000,\n",
       "                                 ngram_range=(1, 2),\n",
       "                                 stop_words=[&#x27;i&#x27;, &#x27;me&#x27;, &#x27;my&#x27;, &#x27;myself&#x27;, &#x27;we&#x27;,\n",
       "                                             &#x27;our&#x27;, &#x27;ours&#x27;, &#x27;ourselves&#x27;, &#x27;you&#x27;,\n",
       "                                             &quot;you&#x27;re&quot;, &quot;you&#x27;ve&quot;, &quot;you&#x27;ll&quot;,\n",
       "                                             &quot;you&#x27;d&quot;, &#x27;your&#x27;, &#x27;yours&#x27;,\n",
       "                                             &#x27;yourself&#x27;, &#x27;yourselves&#x27;, &#x27;he&#x27;,\n",
       "                                             &#x27;him&#x27;, &#x27;his&#x27;, &#x27;himself&#x27;, &#x27;she&#x27;,\n",
       "                                             &quot;she&#x27;s&quot;, &#x27;her&#x27;, &#x27;hers&#x27;, &#x27;herself&#x27;,\n",
       "                                             &#x27;it&#x27;, &quot;it&#x27;s&quot;, &#x27;its&#x27;, &#x27;itself&#x27;, ...])),\n",
       "                (&#x27;ss&#x27;, StandardScaler(with_mean=False)),\n",
       "                (&#x27;rf&#x27;,\n",
       "                 RandomForestClassifier(ccp_alpha=0, min_samples_split=5))])</pre></div></div></div><div class=\"sk-serial\"><div class=\"sk-item\"><div class=\"sk-estimator sk-toggleable\"><input class=\"sk-toggleable__control sk-hidden--visually\" id=\"sk-estimator-id-113\" type=\"checkbox\" ><label for=\"sk-estimator-id-113\" class=\"sk-toggleable__label sk-toggleable__label-arrow\">CountVectorizer</label><div class=\"sk-toggleable__content\"><pre>CountVectorizer(max_df=0.9, max_features=15000, ngram_range=(1, 2),\n",
       "                stop_words=[&#x27;i&#x27;, &#x27;me&#x27;, &#x27;my&#x27;, &#x27;myself&#x27;, &#x27;we&#x27;, &#x27;our&#x27;, &#x27;ours&#x27;,\n",
       "                            &#x27;ourselves&#x27;, &#x27;you&#x27;, &quot;you&#x27;re&quot;, &quot;you&#x27;ve&quot;, &quot;you&#x27;ll&quot;,\n",
       "                            &quot;you&#x27;d&quot;, &#x27;your&#x27;, &#x27;yours&#x27;, &#x27;yourself&#x27;, &#x27;yourselves&#x27;,\n",
       "                            &#x27;he&#x27;, &#x27;him&#x27;, &#x27;his&#x27;, &#x27;himself&#x27;, &#x27;she&#x27;, &quot;she&#x27;s&quot;,\n",
       "                            &#x27;her&#x27;, &#x27;hers&#x27;, &#x27;herself&#x27;, &#x27;it&#x27;, &quot;it&#x27;s&quot;, &#x27;its&#x27;,\n",
       "                            &#x27;itself&#x27;, ...])</pre></div></div></div><div class=\"sk-item\"><div class=\"sk-estimator sk-toggleable\"><input class=\"sk-toggleable__control sk-hidden--visually\" id=\"sk-estimator-id-114\" type=\"checkbox\" ><label for=\"sk-estimator-id-114\" class=\"sk-toggleable__label sk-toggleable__label-arrow\">StandardScaler</label><div class=\"sk-toggleable__content\"><pre>StandardScaler(with_mean=False)</pre></div></div></div><div class=\"sk-item\"><div class=\"sk-estimator sk-toggleable\"><input class=\"sk-toggleable__control sk-hidden--visually\" id=\"sk-estimator-id-115\" type=\"checkbox\" ><label for=\"sk-estimator-id-115\" class=\"sk-toggleable__label sk-toggleable__label-arrow\">RandomForestClassifier</label><div class=\"sk-toggleable__content\"><pre>RandomForestClassifier(ccp_alpha=0, min_samples_split=5)</pre></div></div></div></div></div></div></div>"
      ],
      "text/plain": [
       "Pipeline(steps=[('cvec',\n",
       "                 CountVectorizer(max_df=0.9, max_features=15000,\n",
       "                                 ngram_range=(1, 2),\n",
       "                                 stop_words=['i', 'me', 'my', 'myself', 'we',\n",
       "                                             'our', 'ours', 'ourselves', 'you',\n",
       "                                             \"you're\", \"you've\", \"you'll\",\n",
       "                                             \"you'd\", 'your', 'yours',\n",
       "                                             'yourself', 'yourselves', 'he',\n",
       "                                             'him', 'his', 'himself', 'she',\n",
       "                                             \"she's\", 'her', 'hers', 'herself',\n",
       "                                             'it', \"it's\", 'its', 'itself', ...])),\n",
       "                ('ss', StandardScaler(with_mean=False)),\n",
       "                ('rf',\n",
       "                 RandomForestClassifier(ccp_alpha=0, min_samples_split=5))])"
      ]
     },
     "execution_count": 387,
     "metadata": {},
     "output_type": "execute_result"
    }
   ],
   "source": [
    "rf_gs2.best_estimator_"
   ]
  },
  {
   "cell_type": "markdown",
   "id": "2170a302-72e2-4425-9f8f-3449d0d2dce0",
   "metadata": {
    "id": "2170a302-72e2-4425-9f8f-3449d0d2dce0"
   },
   "source": [
    "# Losgitic Regression no lemmatization"
   ]
  },
  {
   "cell_type": "code",
   "execution_count": null,
   "id": "8048829c-0522-4e31-8639-35c9c2ff987e",
   "metadata": {
    "id": "8048829c-0522-4e31-8639-35c9c2ff987e"
   },
   "outputs": [],
   "source": [
    "X = vaush_destiny_df['no_links_2']\n",
    "y = vaush_destiny_df['subreddit']\n",
    "\n",
    "X_train, X_test, y_train, y_test = train_test_split(X, y, random_state=42,\n",
    "                                                    stratify=y)"
   ]
  },
  {
   "cell_type": "code",
   "execution_count": null,
   "id": "531f7eb2-30bd-4708-8886-736fafe61d15",
   "metadata": {
    "id": "531f7eb2-30bd-4708-8886-736fafe61d15"
   },
   "outputs": [],
   "source": [
    "lr_pipe = Pipeline([\n",
    "    ('cvec', CountVectorizer()),\n",
    "    ('ss',StandardScaler(with_mean=False)),\n",
    "    ('lr', LogisticRegression(max_iter = 10000))\n",
    "])"
   ]
  },
  {
   "cell_type": "code",
   "execution_count": null,
   "id": "72b51898-69ea-40fe-95c0-ec31978efa5f",
   "metadata": {
    "id": "72b51898-69ea-40fe-95c0-ec31978efa5f"
   },
   "outputs": [],
   "source": [
    "lr_pipe_params = {\n",
    "    'lr__C':[.1,1,2,5,10],\n",
    "    'cvec__stop_words': ['english'],\n",
    "    'cvec__max_features': [1000,5000,10000,15000],\n",
    "    'cvec__min_df': [1,3,5,10],\n",
    "    'cvec__max_df': [.7,.8, .9],\n",
    "    'cvec__ngram_range': [(1,1),(1, 2),(1,3)]\n",
    "}"
   ]
  },
  {
   "cell_type": "code",
   "execution_count": null,
   "id": "8da9f201-0dde-4920-8ed6-9a651c2348af",
   "metadata": {
    "id": "8da9f201-0dde-4920-8ed6-9a651c2348af"
   },
   "outputs": [],
   "source": [
    "lr_gs = GridSearchCV(lr_pipe, param_grid = lr_pipe_params, n_jobs=-1)\n"
   ]
  },
  {
   "cell_type": "code",
   "execution_count": null,
   "id": "c443c7bf-a182-4be4-ab07-6747393a12c8",
   "metadata": {
    "id": "c443c7bf-a182-4be4-ab07-6747393a12c8",
    "outputId": "c34e783b-00eb-48b5-ce20-a2f0ca44ab0a"
   },
   "outputs": [
    {
     "data": {
      "text/html": [
       "<style>#sk-container-id-14 {color: black;background-color: white;}#sk-container-id-14 pre{padding: 0;}#sk-container-id-14 div.sk-toggleable {background-color: white;}#sk-container-id-14 label.sk-toggleable__label {cursor: pointer;display: block;width: 100%;margin-bottom: 0;padding: 0.3em;box-sizing: border-box;text-align: center;}#sk-container-id-14 label.sk-toggleable__label-arrow:before {content: \"▸\";float: left;margin-right: 0.25em;color: #696969;}#sk-container-id-14 label.sk-toggleable__label-arrow:hover:before {color: black;}#sk-container-id-14 div.sk-estimator:hover label.sk-toggleable__label-arrow:before {color: black;}#sk-container-id-14 div.sk-toggleable__content {max-height: 0;max-width: 0;overflow: hidden;text-align: left;background-color: #f0f8ff;}#sk-container-id-14 div.sk-toggleable__content pre {margin: 0.2em;color: black;border-radius: 0.25em;background-color: #f0f8ff;}#sk-container-id-14 input.sk-toggleable__control:checked~div.sk-toggleable__content {max-height: 200px;max-width: 100%;overflow: auto;}#sk-container-id-14 input.sk-toggleable__control:checked~label.sk-toggleable__label-arrow:before {content: \"▾\";}#sk-container-id-14 div.sk-estimator input.sk-toggleable__control:checked~label.sk-toggleable__label {background-color: #d4ebff;}#sk-container-id-14 div.sk-label input.sk-toggleable__control:checked~label.sk-toggleable__label {background-color: #d4ebff;}#sk-container-id-14 input.sk-hidden--visually {border: 0;clip: rect(1px 1px 1px 1px);clip: rect(1px, 1px, 1px, 1px);height: 1px;margin: -1px;overflow: hidden;padding: 0;position: absolute;width: 1px;}#sk-container-id-14 div.sk-estimator {font-family: monospace;background-color: #f0f8ff;border: 1px dotted black;border-radius: 0.25em;box-sizing: border-box;margin-bottom: 0.5em;}#sk-container-id-14 div.sk-estimator:hover {background-color: #d4ebff;}#sk-container-id-14 div.sk-parallel-item::after {content: \"\";width: 100%;border-bottom: 1px solid gray;flex-grow: 1;}#sk-container-id-14 div.sk-label:hover label.sk-toggleable__label {background-color: #d4ebff;}#sk-container-id-14 div.sk-serial::before {content: \"\";position: absolute;border-left: 1px solid gray;box-sizing: border-box;top: 0;bottom: 0;left: 50%;z-index: 0;}#sk-container-id-14 div.sk-serial {display: flex;flex-direction: column;align-items: center;background-color: white;padding-right: 0.2em;padding-left: 0.2em;position: relative;}#sk-container-id-14 div.sk-item {position: relative;z-index: 1;}#sk-container-id-14 div.sk-parallel {display: flex;align-items: stretch;justify-content: center;background-color: white;position: relative;}#sk-container-id-14 div.sk-item::before, #sk-container-id-14 div.sk-parallel-item::before {content: \"\";position: absolute;border-left: 1px solid gray;box-sizing: border-box;top: 0;bottom: 0;left: 50%;z-index: -1;}#sk-container-id-14 div.sk-parallel-item {display: flex;flex-direction: column;z-index: 1;position: relative;background-color: white;}#sk-container-id-14 div.sk-parallel-item:first-child::after {align-self: flex-end;width: 50%;}#sk-container-id-14 div.sk-parallel-item:last-child::after {align-self: flex-start;width: 50%;}#sk-container-id-14 div.sk-parallel-item:only-child::after {width: 0;}#sk-container-id-14 div.sk-dashed-wrapped {border: 1px dashed gray;margin: 0 0.4em 0.5em 0.4em;box-sizing: border-box;padding-bottom: 0.4em;background-color: white;}#sk-container-id-14 div.sk-label label {font-family: monospace;font-weight: bold;display: inline-block;line-height: 1.2em;}#sk-container-id-14 div.sk-label-container {text-align: center;}#sk-container-id-14 div.sk-container {/* jupyter's `normalize.less` sets `[hidden] { display: none; }` but bootstrap.min.css set `[hidden] { display: none !important; }` so we also need the `!important` here to be able to override the default hidden behavior on the sphinx rendered scikit-learn.org. See: https://github.com/scikit-learn/scikit-learn/issues/21755 */display: inline-block !important;position: relative;}#sk-container-id-14 div.sk-text-repr-fallback {display: none;}</style><div id=\"sk-container-id-14\" class=\"sk-top-container\"><div class=\"sk-text-repr-fallback\"><pre>GridSearchCV(estimator=Pipeline(steps=[(&#x27;cvec&#x27;, CountVectorizer()),\n",
       "                                       (&#x27;ss&#x27;, StandardScaler(with_mean=False)),\n",
       "                                       (&#x27;lr&#x27;,\n",
       "                                        LogisticRegression(max_iter=10000))]),\n",
       "             n_jobs=-1,\n",
       "             param_grid={&#x27;cvec__max_df&#x27;: [0.7, 0.8, 0.9],\n",
       "                         &#x27;cvec__max_features&#x27;: [1000, 5000, 10000, 15000],\n",
       "                         &#x27;cvec__min_df&#x27;: [1, 3, 5, 10],\n",
       "                         &#x27;cvec__ngram_range&#x27;: [(1, 1), (1, 2), (1, 3)],\n",
       "                         &#x27;cvec__stop_words&#x27;: [&#x27;english&#x27;],\n",
       "                         &#x27;lr__C&#x27;: [0.1, 1, 2, 5, 10]})</pre><b>In a Jupyter environment, please rerun this cell to show the HTML representation or trust the notebook. <br />On GitHub, the HTML representation is unable to render, please try loading this page with nbviewer.org.</b></div><div class=\"sk-container\" hidden><div class=\"sk-item sk-dashed-wrapped\"><div class=\"sk-label-container\"><div class=\"sk-label sk-toggleable\"><input class=\"sk-toggleable__control sk-hidden--visually\" id=\"sk-estimator-id-75\" type=\"checkbox\" ><label for=\"sk-estimator-id-75\" class=\"sk-toggleable__label sk-toggleable__label-arrow\">GridSearchCV</label><div class=\"sk-toggleable__content\"><pre>GridSearchCV(estimator=Pipeline(steps=[(&#x27;cvec&#x27;, CountVectorizer()),\n",
       "                                       (&#x27;ss&#x27;, StandardScaler(with_mean=False)),\n",
       "                                       (&#x27;lr&#x27;,\n",
       "                                        LogisticRegression(max_iter=10000))]),\n",
       "             n_jobs=-1,\n",
       "             param_grid={&#x27;cvec__max_df&#x27;: [0.7, 0.8, 0.9],\n",
       "                         &#x27;cvec__max_features&#x27;: [1000, 5000, 10000, 15000],\n",
       "                         &#x27;cvec__min_df&#x27;: [1, 3, 5, 10],\n",
       "                         &#x27;cvec__ngram_range&#x27;: [(1, 1), (1, 2), (1, 3)],\n",
       "                         &#x27;cvec__stop_words&#x27;: [&#x27;english&#x27;],\n",
       "                         &#x27;lr__C&#x27;: [0.1, 1, 2, 5, 10]})</pre></div></div></div><div class=\"sk-parallel\"><div class=\"sk-parallel-item\"><div class=\"sk-item\"><div class=\"sk-label-container\"><div class=\"sk-label sk-toggleable\"><input class=\"sk-toggleable__control sk-hidden--visually\" id=\"sk-estimator-id-76\" type=\"checkbox\" ><label for=\"sk-estimator-id-76\" class=\"sk-toggleable__label sk-toggleable__label-arrow\">estimator: Pipeline</label><div class=\"sk-toggleable__content\"><pre>Pipeline(steps=[(&#x27;cvec&#x27;, CountVectorizer()),\n",
       "                (&#x27;ss&#x27;, StandardScaler(with_mean=False)),\n",
       "                (&#x27;lr&#x27;, LogisticRegression(max_iter=10000))])</pre></div></div></div><div class=\"sk-serial\"><div class=\"sk-item\"><div class=\"sk-serial\"><div class=\"sk-item\"><div class=\"sk-estimator sk-toggleable\"><input class=\"sk-toggleable__control sk-hidden--visually\" id=\"sk-estimator-id-77\" type=\"checkbox\" ><label for=\"sk-estimator-id-77\" class=\"sk-toggleable__label sk-toggleable__label-arrow\">CountVectorizer</label><div class=\"sk-toggleable__content\"><pre>CountVectorizer()</pre></div></div></div><div class=\"sk-item\"><div class=\"sk-estimator sk-toggleable\"><input class=\"sk-toggleable__control sk-hidden--visually\" id=\"sk-estimator-id-78\" type=\"checkbox\" ><label for=\"sk-estimator-id-78\" class=\"sk-toggleable__label sk-toggleable__label-arrow\">StandardScaler</label><div class=\"sk-toggleable__content\"><pre>StandardScaler(with_mean=False)</pre></div></div></div><div class=\"sk-item\"><div class=\"sk-estimator sk-toggleable\"><input class=\"sk-toggleable__control sk-hidden--visually\" id=\"sk-estimator-id-79\" type=\"checkbox\" ><label for=\"sk-estimator-id-79\" class=\"sk-toggleable__label sk-toggleable__label-arrow\">LogisticRegression</label><div class=\"sk-toggleable__content\"><pre>LogisticRegression(max_iter=10000)</pre></div></div></div></div></div></div></div></div></div></div></div></div>"
      ],
      "text/plain": [
       "GridSearchCV(estimator=Pipeline(steps=[('cvec', CountVectorizer()),\n",
       "                                       ('ss', StandardScaler(with_mean=False)),\n",
       "                                       ('lr',\n",
       "                                        LogisticRegression(max_iter=10000))]),\n",
       "             n_jobs=-1,\n",
       "             param_grid={'cvec__max_df': [0.7, 0.8, 0.9],\n",
       "                         'cvec__max_features': [1000, 5000, 10000, 15000],\n",
       "                         'cvec__min_df': [1, 3, 5, 10],\n",
       "                         'cvec__ngram_range': [(1, 1), (1, 2), (1, 3)],\n",
       "                         'cvec__stop_words': ['english'],\n",
       "                         'lr__C': [0.1, 1, 2, 5, 10]})"
      ]
     },
     "execution_count": 339,
     "metadata": {},
     "output_type": "execute_result"
    }
   ],
   "source": [
    "\n",
    "lr_gs.fit(X_train, y_train)"
   ]
  },
  {
   "cell_type": "code",
   "execution_count": null,
   "id": "fae7c0e2-c937-46c4-98ef-cb375d6bd4e8",
   "metadata": {
    "id": "fae7c0e2-c937-46c4-98ef-cb375d6bd4e8",
    "outputId": "75b952fe-eb45-4c56-ae73-cca0581dc2a3"
   },
   "outputs": [
    {
     "data": {
      "text/plain": [
       "0.6980676328502415"
      ]
     },
     "execution_count": 341,
     "metadata": {},
     "output_type": "execute_result"
    }
   ],
   "source": [
    "\n",
    "lr_gs.score(X_test, y_test)"
   ]
  },
  {
   "cell_type": "code",
   "execution_count": null,
   "id": "0cb06b34-fe08-48df-8da8-8f38d7d99cd1",
   "metadata": {
    "id": "0cb06b34-fe08-48df-8da8-8f38d7d99cd1",
    "outputId": "ecd754db-8300-4ecf-c4be-ca1a22586bed"
   },
   "outputs": [
    {
     "data": {
      "text/plain": [
       "{'cvec__max_df': 0.7,\n",
       " 'cvec__max_features': 15000,\n",
       " 'cvec__min_df': 1,\n",
       " 'cvec__ngram_range': (1, 1),\n",
       " 'cvec__stop_words': 'english',\n",
       " 'lr__C': 0.1}"
      ]
     },
     "execution_count": 342,
     "metadata": {},
     "output_type": "execute_result"
    }
   ],
   "source": [
    "lr_gs.best_params_"
   ]
  },
  {
   "cell_type": "code",
   "execution_count": null,
   "id": "20beafaa-189b-4e03-97cf-42db90f2e3da",
   "metadata": {
    "id": "20beafaa-189b-4e03-97cf-42db90f2e3da",
    "outputId": "901f30d2-3147-491e-d55a-da35ad8fb022"
   },
   "outputs": [
    {
     "data": {
      "text/plain": [
       "0.650164697864607"
      ]
     },
     "execution_count": 71,
     "metadata": {},
     "output_type": "execute_result"
    }
   ],
   "source": [
    "cross_val_score(lr_gs,X_test, y_test).mean()"
   ]
  },
  {
   "cell_type": "code",
   "execution_count": null,
   "id": "90972dea-25fb-4f97-9d19-83b4bfc7c75e",
   "metadata": {
    "id": "90972dea-25fb-4f97-9d19-83b4bfc7c75e"
   },
   "outputs": [],
   "source": []
  },
  {
   "cell_type": "markdown",
   "id": "78ce58a8-5ae0-477d-996a-167297c1cb18",
   "metadata": {
    "id": "78ce58a8-5ae0-477d-996a-167297c1cb18"
   },
   "source": [
    "# LEMATIZE ADA Boost"
   ]
  },
  {
   "cell_type": "code",
   "execution_count": null,
   "id": "2a48a709-13da-4a3f-ab1a-d096fc8e391f",
   "metadata": {
    "id": "2a48a709-13da-4a3f-ab1a-d096fc8e391f"
   },
   "outputs": [],
   "source": [
    "X = vaush_destiny_df['lem']\n",
    "y = vaush_destiny_df['subreddit']\n",
    "\n",
    "X_train, X_test, y_train, y_test = train_test_split(X, y, random_state=42,\n",
    "                                                    stratify=y)"
   ]
  },
  {
   "cell_type": "code",
   "execution_count": null,
   "id": "268625c2-7635-4638-9603-811878fd5f18",
   "metadata": {
    "id": "268625c2-7635-4638-9603-811878fd5f18"
   },
   "outputs": [],
   "source": [
    "boost_pipe = Pipeline([\n",
    "    ('cvec', CountVectorizer()),\n",
    "    ('ss', StandardScaler(with_mean=False)),\n",
    "    ('boost', AdaBoostClassifier())\n",
    "])"
   ]
  },
  {
   "cell_type": "code",
   "execution_count": null,
   "id": "9977a656-dbd0-43b5-8c78-cfb436d2c798",
   "metadata": {
    "id": "9977a656-dbd0-43b5-8c78-cfb436d2c798"
   },
   "outputs": [],
   "source": [
    "boost_pipe_params = {\n",
    "    'boost__n_estimators': [30, 50, 70,80],\n",
    "    'boost__base_estimator':[None,LogisticRegression()],\n",
    "    'cvec__stop_words': ['english'],\n",
    "    'cvec__max_features': [1000,2000,5000,8000,11000,14000,15000,18000,22000],\n",
    "    'cvec__min_df': [1,3,5,7],\n",
    "    'cvec__max_df': [.7, .8, .9],\n",
    "    'cvec__ngram_range': [(1,1),(1, 2),(1,3),(2,3),(2,2)]\n",
    "}"
   ]
  },
  {
   "cell_type": "code",
   "execution_count": null,
   "id": "9decdf02-ff9c-41a0-9b53-dbe7ad28e4f1",
   "metadata": {
    "id": "9decdf02-ff9c-41a0-9b53-dbe7ad28e4f1"
   },
   "outputs": [],
   "source": [
    "boost_gs = GridSearchCV(boost_pipe, param_grid = boost_pipe_params, n_jobs=-1)\n"
   ]
  },
  {
   "cell_type": "code",
   "execution_count": null,
   "id": "2f336c30-3e89-4039-a2ef-74881af1e6fc",
   "metadata": {
    "id": "2f336c30-3e89-4039-a2ef-74881af1e6fc"
   },
   "outputs": [],
   "source": [
    "boost_gs = GridSearchCV(boost_pipe, param_grid = boost_pipe_params, n_jobs=-1)"
   ]
  },
  {
   "cell_type": "code",
   "execution_count": null,
   "id": "0e339a45-900d-4c3c-a62f-c88de9af781a",
   "metadata": {
    "id": "0e339a45-900d-4c3c-a62f-c88de9af781a",
    "outputId": "8d093fd0-67a0-4ffc-f987-da6ab536b3c3"
   },
   "outputs": [
    {
     "data": {
      "text/html": [
       "<style>#sk-container-id-13 {color: black;background-color: white;}#sk-container-id-13 pre{padding: 0;}#sk-container-id-13 div.sk-toggleable {background-color: white;}#sk-container-id-13 label.sk-toggleable__label {cursor: pointer;display: block;width: 100%;margin-bottom: 0;padding: 0.3em;box-sizing: border-box;text-align: center;}#sk-container-id-13 label.sk-toggleable__label-arrow:before {content: \"▸\";float: left;margin-right: 0.25em;color: #696969;}#sk-container-id-13 label.sk-toggleable__label-arrow:hover:before {color: black;}#sk-container-id-13 div.sk-estimator:hover label.sk-toggleable__label-arrow:before {color: black;}#sk-container-id-13 div.sk-toggleable__content {max-height: 0;max-width: 0;overflow: hidden;text-align: left;background-color: #f0f8ff;}#sk-container-id-13 div.sk-toggleable__content pre {margin: 0.2em;color: black;border-radius: 0.25em;background-color: #f0f8ff;}#sk-container-id-13 input.sk-toggleable__control:checked~div.sk-toggleable__content {max-height: 200px;max-width: 100%;overflow: auto;}#sk-container-id-13 input.sk-toggleable__control:checked~label.sk-toggleable__label-arrow:before {content: \"▾\";}#sk-container-id-13 div.sk-estimator input.sk-toggleable__control:checked~label.sk-toggleable__label {background-color: #d4ebff;}#sk-container-id-13 div.sk-label input.sk-toggleable__control:checked~label.sk-toggleable__label {background-color: #d4ebff;}#sk-container-id-13 input.sk-hidden--visually {border: 0;clip: rect(1px 1px 1px 1px);clip: rect(1px, 1px, 1px, 1px);height: 1px;margin: -1px;overflow: hidden;padding: 0;position: absolute;width: 1px;}#sk-container-id-13 div.sk-estimator {font-family: monospace;background-color: #f0f8ff;border: 1px dotted black;border-radius: 0.25em;box-sizing: border-box;margin-bottom: 0.5em;}#sk-container-id-13 div.sk-estimator:hover {background-color: #d4ebff;}#sk-container-id-13 div.sk-parallel-item::after {content: \"\";width: 100%;border-bottom: 1px solid gray;flex-grow: 1;}#sk-container-id-13 div.sk-label:hover label.sk-toggleable__label {background-color: #d4ebff;}#sk-container-id-13 div.sk-serial::before {content: \"\";position: absolute;border-left: 1px solid gray;box-sizing: border-box;top: 0;bottom: 0;left: 50%;z-index: 0;}#sk-container-id-13 div.sk-serial {display: flex;flex-direction: column;align-items: center;background-color: white;padding-right: 0.2em;padding-left: 0.2em;position: relative;}#sk-container-id-13 div.sk-item {position: relative;z-index: 1;}#sk-container-id-13 div.sk-parallel {display: flex;align-items: stretch;justify-content: center;background-color: white;position: relative;}#sk-container-id-13 div.sk-item::before, #sk-container-id-13 div.sk-parallel-item::before {content: \"\";position: absolute;border-left: 1px solid gray;box-sizing: border-box;top: 0;bottom: 0;left: 50%;z-index: -1;}#sk-container-id-13 div.sk-parallel-item {display: flex;flex-direction: column;z-index: 1;position: relative;background-color: white;}#sk-container-id-13 div.sk-parallel-item:first-child::after {align-self: flex-end;width: 50%;}#sk-container-id-13 div.sk-parallel-item:last-child::after {align-self: flex-start;width: 50%;}#sk-container-id-13 div.sk-parallel-item:only-child::after {width: 0;}#sk-container-id-13 div.sk-dashed-wrapped {border: 1px dashed gray;margin: 0 0.4em 0.5em 0.4em;box-sizing: border-box;padding-bottom: 0.4em;background-color: white;}#sk-container-id-13 div.sk-label label {font-family: monospace;font-weight: bold;display: inline-block;line-height: 1.2em;}#sk-container-id-13 div.sk-label-container {text-align: center;}#sk-container-id-13 div.sk-container {/* jupyter's `normalize.less` sets `[hidden] { display: none; }` but bootstrap.min.css set `[hidden] { display: none !important; }` so we also need the `!important` here to be able to override the default hidden behavior on the sphinx rendered scikit-learn.org. See: https://github.com/scikit-learn/scikit-learn/issues/21755 */display: inline-block !important;position: relative;}#sk-container-id-13 div.sk-text-repr-fallback {display: none;}</style><div id=\"sk-container-id-13\" class=\"sk-top-container\"><div class=\"sk-text-repr-fallback\"><pre>GridSearchCV(estimator=Pipeline(steps=[(&#x27;cvec&#x27;, CountVectorizer()),\n",
       "                                       (&#x27;ss&#x27;, StandardScaler(with_mean=False)),\n",
       "                                       (&#x27;boost&#x27;, AdaBoostClassifier())]),\n",
       "             n_jobs=-1,\n",
       "             param_grid={&#x27;boost__base_estimator&#x27;: [None, LogisticRegression()],\n",
       "                         &#x27;boost__n_estimators&#x27;: [30, 50, 70, 80],\n",
       "                         &#x27;cvec__max_df&#x27;: [0.7, 0.8, 0.9],\n",
       "                         &#x27;cvec__max_features&#x27;: [1000, 2000, 5000, 8000, 11000,\n",
       "                                                14000, 15000, 18000, 22000],\n",
       "                         &#x27;cvec__min_df&#x27;: [1, 3, 5, 7],\n",
       "                         &#x27;cvec__ngram_range&#x27;: [(1, 1), (1, 2), (1, 3), (2, 3),\n",
       "                                               (2, 2)],\n",
       "                         &#x27;cvec__stop_words&#x27;: [&#x27;english&#x27;]})</pre><b>In a Jupyter environment, please rerun this cell to show the HTML representation or trust the notebook. <br />On GitHub, the HTML representation is unable to render, please try loading this page with nbviewer.org.</b></div><div class=\"sk-container\" hidden><div class=\"sk-item sk-dashed-wrapped\"><div class=\"sk-label-container\"><div class=\"sk-label sk-toggleable\"><input class=\"sk-toggleable__control sk-hidden--visually\" id=\"sk-estimator-id-70\" type=\"checkbox\" ><label for=\"sk-estimator-id-70\" class=\"sk-toggleable__label sk-toggleable__label-arrow\">GridSearchCV</label><div class=\"sk-toggleable__content\"><pre>GridSearchCV(estimator=Pipeline(steps=[(&#x27;cvec&#x27;, CountVectorizer()),\n",
       "                                       (&#x27;ss&#x27;, StandardScaler(with_mean=False)),\n",
       "                                       (&#x27;boost&#x27;, AdaBoostClassifier())]),\n",
       "             n_jobs=-1,\n",
       "             param_grid={&#x27;boost__base_estimator&#x27;: [None, LogisticRegression()],\n",
       "                         &#x27;boost__n_estimators&#x27;: [30, 50, 70, 80],\n",
       "                         &#x27;cvec__max_df&#x27;: [0.7, 0.8, 0.9],\n",
       "                         &#x27;cvec__max_features&#x27;: [1000, 2000, 5000, 8000, 11000,\n",
       "                                                14000, 15000, 18000, 22000],\n",
       "                         &#x27;cvec__min_df&#x27;: [1, 3, 5, 7],\n",
       "                         &#x27;cvec__ngram_range&#x27;: [(1, 1), (1, 2), (1, 3), (2, 3),\n",
       "                                               (2, 2)],\n",
       "                         &#x27;cvec__stop_words&#x27;: [&#x27;english&#x27;]})</pre></div></div></div><div class=\"sk-parallel\"><div class=\"sk-parallel-item\"><div class=\"sk-item\"><div class=\"sk-label-container\"><div class=\"sk-label sk-toggleable\"><input class=\"sk-toggleable__control sk-hidden--visually\" id=\"sk-estimator-id-71\" type=\"checkbox\" ><label for=\"sk-estimator-id-71\" class=\"sk-toggleable__label sk-toggleable__label-arrow\">estimator: Pipeline</label><div class=\"sk-toggleable__content\"><pre>Pipeline(steps=[(&#x27;cvec&#x27;, CountVectorizer()),\n",
       "                (&#x27;ss&#x27;, StandardScaler(with_mean=False)),\n",
       "                (&#x27;boost&#x27;, AdaBoostClassifier())])</pre></div></div></div><div class=\"sk-serial\"><div class=\"sk-item\"><div class=\"sk-serial\"><div class=\"sk-item\"><div class=\"sk-estimator sk-toggleable\"><input class=\"sk-toggleable__control sk-hidden--visually\" id=\"sk-estimator-id-72\" type=\"checkbox\" ><label for=\"sk-estimator-id-72\" class=\"sk-toggleable__label sk-toggleable__label-arrow\">CountVectorizer</label><div class=\"sk-toggleable__content\"><pre>CountVectorizer()</pre></div></div></div><div class=\"sk-item\"><div class=\"sk-estimator sk-toggleable\"><input class=\"sk-toggleable__control sk-hidden--visually\" id=\"sk-estimator-id-73\" type=\"checkbox\" ><label for=\"sk-estimator-id-73\" class=\"sk-toggleable__label sk-toggleable__label-arrow\">StandardScaler</label><div class=\"sk-toggleable__content\"><pre>StandardScaler(with_mean=False)</pre></div></div></div><div class=\"sk-item\"><div class=\"sk-estimator sk-toggleable\"><input class=\"sk-toggleable__control sk-hidden--visually\" id=\"sk-estimator-id-74\" type=\"checkbox\" ><label for=\"sk-estimator-id-74\" class=\"sk-toggleable__label sk-toggleable__label-arrow\">AdaBoostClassifier</label><div class=\"sk-toggleable__content\"><pre>AdaBoostClassifier()</pre></div></div></div></div></div></div></div></div></div></div></div></div>"
      ],
      "text/plain": [
       "GridSearchCV(estimator=Pipeline(steps=[('cvec', CountVectorizer()),\n",
       "                                       ('ss', StandardScaler(with_mean=False)),\n",
       "                                       ('boost', AdaBoostClassifier())]),\n",
       "             n_jobs=-1,\n",
       "             param_grid={'boost__base_estimator': [None, LogisticRegression()],\n",
       "                         'boost__n_estimators': [30, 50, 70, 80],\n",
       "                         'cvec__max_df': [0.7, 0.8, 0.9],\n",
       "                         'cvec__max_features': [1000, 2000, 5000, 8000, 11000,\n",
       "                                                14000, 15000, 18000, 22000],\n",
       "                         'cvec__min_df': [1, 3, 5, 7],\n",
       "                         'cvec__ngram_range': [(1, 1), (1, 2), (1, 3), (2, 3),\n",
       "                                               (2, 2)],\n",
       "                         'cvec__stop_words': ['english']})"
      ]
     },
     "execution_count": 332,
     "metadata": {},
     "output_type": "execute_result"
    }
   ],
   "source": [
    "boost_gs.fit(X_train, y_train)"
   ]
  },
  {
   "cell_type": "code",
   "execution_count": null,
   "id": "27a47fd0-18d7-449e-9c29-58849bdb63e6",
   "metadata": {
    "id": "27a47fd0-18d7-449e-9c29-58849bdb63e6",
    "outputId": "a46a5ba0-2030-4eac-ff5c-b18054ee76ed"
   },
   "outputs": [
    {
     "data": {
      "text/plain": [
       "0.717391304347826"
      ]
     },
     "execution_count": 333,
     "metadata": {},
     "output_type": "execute_result"
    }
   ],
   "source": [
    "boost_gs.score(X_test, y_test)"
   ]
  },
  {
   "cell_type": "code",
   "execution_count": null,
   "id": "73eeb74e-ca68-4e86-b160-b567503a9897",
   "metadata": {
    "id": "73eeb74e-ca68-4e86-b160-b567503a9897",
    "outputId": "dc967d90-eb3c-4b26-8f03-bd358dac97a8"
   },
   "outputs": [
    {
     "data": {
      "text/plain": [
       "{'boost__base_estimator': LogisticRegression(),\n",
       " 'boost__n_estimators': 30,\n",
       " 'cvec__max_df': 0.7,\n",
       " 'cvec__max_features': 5000,\n",
       " 'cvec__min_df': 5,\n",
       " 'cvec__ngram_range': (1, 1),\n",
       " 'cvec__stop_words': 'english'}"
      ]
     },
     "execution_count": 334,
     "metadata": {},
     "output_type": "execute_result"
    }
   ],
   "source": [
    "boost_gs.best_params_"
   ]
  },
  {
   "cell_type": "markdown",
   "id": "c2113185-afcd-4861-8cd2-7d6a668b6a0c",
   "metadata": {
    "id": "c2113185-afcd-4861-8cd2-7d6a668b6a0c"
   },
   "source": [
    "# NOT LEMATIZED ADA BOOST"
   ]
  },
  {
   "cell_type": "code",
   "execution_count": null,
   "id": "1e04f475-802a-4240-9db6-9cf0b4d2739f",
   "metadata": {
    "id": "1e04f475-802a-4240-9db6-9cf0b4d2739f"
   },
   "outputs": [],
   "source": [
    "boost_pipe = Pipeline([\n",
    "    ('cvec', CountVectorizer()),\n",
    "    ('ss', StandardScaler(with_mean=False)),\n",
    "    ('boost', AdaBoostClassifier())\n",
    "])"
   ]
  },
  {
   "cell_type": "code",
   "execution_count": null,
   "id": "539085de-6415-4436-ad53-2517eced6a46",
   "metadata": {
    "id": "539085de-6415-4436-ad53-2517eced6a46"
   },
   "outputs": [],
   "source": [
    "boost_pipe_params = {\n",
    "    'boost__n_estimators': [30, 50, 70,80],\n",
    "    'boost__base_estimator':[None,LogisticRegression()],\n",
    "    'cvec__stop_words': ['english'],\n",
    "    'cvec__max_features': [1000,2000,5000,8000,11000,14000,15000,18000,22000],\n",
    "    'cvec__min_df': [1,3,5,7],\n",
    "    'cvec__max_df': [.7, .8, .9],\n",
    "    'cvec__ngram_range': [(1,1),(1, 2),(1,3)(2,3)(2,2)]\n",
    "}"
   ]
  },
  {
   "cell_type": "code",
   "execution_count": null,
   "id": "bea5501e-c7d1-4296-8de1-7b6849964347",
   "metadata": {
    "id": "bea5501e-c7d1-4296-8de1-7b6849964347"
   },
   "outputs": [],
   "source": [
    "\n",
    "boost_gs = GridSearchCV(boost_pipe, param_grid = boost_pipe_params, n_jobs=-1)"
   ]
  },
  {
   "cell_type": "code",
   "execution_count": null,
   "id": "6a4160d0-c3b1-483e-a16d-17adc518c8d5",
   "metadata": {
    "id": "6a4160d0-c3b1-483e-a16d-17adc518c8d5",
    "outputId": "0686b444-1c57-491a-a196-7c50dcebd044"
   },
   "outputs": [
    {
     "data": {
      "text/html": [
       "<style>#sk-container-id-4 {color: black;background-color: white;}#sk-container-id-4 pre{padding: 0;}#sk-container-id-4 div.sk-toggleable {background-color: white;}#sk-container-id-4 label.sk-toggleable__label {cursor: pointer;display: block;width: 100%;margin-bottom: 0;padding: 0.3em;box-sizing: border-box;text-align: center;}#sk-container-id-4 label.sk-toggleable__label-arrow:before {content: \"▸\";float: left;margin-right: 0.25em;color: #696969;}#sk-container-id-4 label.sk-toggleable__label-arrow:hover:before {color: black;}#sk-container-id-4 div.sk-estimator:hover label.sk-toggleable__label-arrow:before {color: black;}#sk-container-id-4 div.sk-toggleable__content {max-height: 0;max-width: 0;overflow: hidden;text-align: left;background-color: #f0f8ff;}#sk-container-id-4 div.sk-toggleable__content pre {margin: 0.2em;color: black;border-radius: 0.25em;background-color: #f0f8ff;}#sk-container-id-4 input.sk-toggleable__control:checked~div.sk-toggleable__content {max-height: 200px;max-width: 100%;overflow: auto;}#sk-container-id-4 input.sk-toggleable__control:checked~label.sk-toggleable__label-arrow:before {content: \"▾\";}#sk-container-id-4 div.sk-estimator input.sk-toggleable__control:checked~label.sk-toggleable__label {background-color: #d4ebff;}#sk-container-id-4 div.sk-label input.sk-toggleable__control:checked~label.sk-toggleable__label {background-color: #d4ebff;}#sk-container-id-4 input.sk-hidden--visually {border: 0;clip: rect(1px 1px 1px 1px);clip: rect(1px, 1px, 1px, 1px);height: 1px;margin: -1px;overflow: hidden;padding: 0;position: absolute;width: 1px;}#sk-container-id-4 div.sk-estimator {font-family: monospace;background-color: #f0f8ff;border: 1px dotted black;border-radius: 0.25em;box-sizing: border-box;margin-bottom: 0.5em;}#sk-container-id-4 div.sk-estimator:hover {background-color: #d4ebff;}#sk-container-id-4 div.sk-parallel-item::after {content: \"\";width: 100%;border-bottom: 1px solid gray;flex-grow: 1;}#sk-container-id-4 div.sk-label:hover label.sk-toggleable__label {background-color: #d4ebff;}#sk-container-id-4 div.sk-serial::before {content: \"\";position: absolute;border-left: 1px solid gray;box-sizing: border-box;top: 0;bottom: 0;left: 50%;z-index: 0;}#sk-container-id-4 div.sk-serial {display: flex;flex-direction: column;align-items: center;background-color: white;padding-right: 0.2em;padding-left: 0.2em;position: relative;}#sk-container-id-4 div.sk-item {position: relative;z-index: 1;}#sk-container-id-4 div.sk-parallel {display: flex;align-items: stretch;justify-content: center;background-color: white;position: relative;}#sk-container-id-4 div.sk-item::before, #sk-container-id-4 div.sk-parallel-item::before {content: \"\";position: absolute;border-left: 1px solid gray;box-sizing: border-box;top: 0;bottom: 0;left: 50%;z-index: -1;}#sk-container-id-4 div.sk-parallel-item {display: flex;flex-direction: column;z-index: 1;position: relative;background-color: white;}#sk-container-id-4 div.sk-parallel-item:first-child::after {align-self: flex-end;width: 50%;}#sk-container-id-4 div.sk-parallel-item:last-child::after {align-self: flex-start;width: 50%;}#sk-container-id-4 div.sk-parallel-item:only-child::after {width: 0;}#sk-container-id-4 div.sk-dashed-wrapped {border: 1px dashed gray;margin: 0 0.4em 0.5em 0.4em;box-sizing: border-box;padding-bottom: 0.4em;background-color: white;}#sk-container-id-4 div.sk-label label {font-family: monospace;font-weight: bold;display: inline-block;line-height: 1.2em;}#sk-container-id-4 div.sk-label-container {text-align: center;}#sk-container-id-4 div.sk-container {/* jupyter's `normalize.less` sets `[hidden] { display: none; }` but bootstrap.min.css set `[hidden] { display: none !important; }` so we also need the `!important` here to be able to override the default hidden behavior on the sphinx rendered scikit-learn.org. See: https://github.com/scikit-learn/scikit-learn/issues/21755 */display: inline-block !important;position: relative;}#sk-container-id-4 div.sk-text-repr-fallback {display: none;}</style><div id=\"sk-container-id-4\" class=\"sk-top-container\"><div class=\"sk-text-repr-fallback\"><pre>GridSearchCV(estimator=Pipeline(steps=[(&#x27;cvec&#x27;, CountVectorizer()),\n",
       "                                       (&#x27;ss&#x27;, StandardScaler(with_mean=False)),\n",
       "                                       (&#x27;boost&#x27;, AdaBoostClassifier())]),\n",
       "             n_jobs=-1,\n",
       "             param_grid={&#x27;boost__base_estimator&#x27;: [None, LogisticRegression()],\n",
       "                         &#x27;boost__n_estimators&#x27;: [30, 50, 70],\n",
       "                         &#x27;cvec__max_df&#x27;: [0.7, 0.8, 0.9],\n",
       "                         &#x27;cvec__max_features&#x27;: [1000, 2000, 5000],\n",
       "                         &#x27;cvec__min_df&#x27;: [1, 3, 5, 7],\n",
       "                         &#x27;cvec__ngram_range&#x27;: [(1, 1), (1, 2)],\n",
       "                         &#x27;cvec__stop_words&#x27;: [&#x27;english&#x27;]})</pre><b>In a Jupyter environment, please rerun this cell to show the HTML representation or trust the notebook. <br />On GitHub, the HTML representation is unable to render, please try loading this page with nbviewer.org.</b></div><div class=\"sk-container\" hidden><div class=\"sk-item sk-dashed-wrapped\"><div class=\"sk-label-container\"><div class=\"sk-label sk-toggleable\"><input class=\"sk-toggleable__control sk-hidden--visually\" id=\"sk-estimator-id-14\" type=\"checkbox\" ><label for=\"sk-estimator-id-14\" class=\"sk-toggleable__label sk-toggleable__label-arrow\">GridSearchCV</label><div class=\"sk-toggleable__content\"><pre>GridSearchCV(estimator=Pipeline(steps=[(&#x27;cvec&#x27;, CountVectorizer()),\n",
       "                                       (&#x27;ss&#x27;, StandardScaler(with_mean=False)),\n",
       "                                       (&#x27;boost&#x27;, AdaBoostClassifier())]),\n",
       "             n_jobs=-1,\n",
       "             param_grid={&#x27;boost__base_estimator&#x27;: [None, LogisticRegression()],\n",
       "                         &#x27;boost__n_estimators&#x27;: [30, 50, 70],\n",
       "                         &#x27;cvec__max_df&#x27;: [0.7, 0.8, 0.9],\n",
       "                         &#x27;cvec__max_features&#x27;: [1000, 2000, 5000],\n",
       "                         &#x27;cvec__min_df&#x27;: [1, 3, 5, 7],\n",
       "                         &#x27;cvec__ngram_range&#x27;: [(1, 1), (1, 2)],\n",
       "                         &#x27;cvec__stop_words&#x27;: [&#x27;english&#x27;]})</pre></div></div></div><div class=\"sk-parallel\"><div class=\"sk-parallel-item\"><div class=\"sk-item\"><div class=\"sk-label-container\"><div class=\"sk-label sk-toggleable\"><input class=\"sk-toggleable__control sk-hidden--visually\" id=\"sk-estimator-id-15\" type=\"checkbox\" ><label for=\"sk-estimator-id-15\" class=\"sk-toggleable__label sk-toggleable__label-arrow\">estimator: Pipeline</label><div class=\"sk-toggleable__content\"><pre>Pipeline(steps=[(&#x27;cvec&#x27;, CountVectorizer()),\n",
       "                (&#x27;ss&#x27;, StandardScaler(with_mean=False)),\n",
       "                (&#x27;boost&#x27;, AdaBoostClassifier())])</pre></div></div></div><div class=\"sk-serial\"><div class=\"sk-item\"><div class=\"sk-serial\"><div class=\"sk-item\"><div class=\"sk-estimator sk-toggleable\"><input class=\"sk-toggleable__control sk-hidden--visually\" id=\"sk-estimator-id-16\" type=\"checkbox\" ><label for=\"sk-estimator-id-16\" class=\"sk-toggleable__label sk-toggleable__label-arrow\">CountVectorizer</label><div class=\"sk-toggleable__content\"><pre>CountVectorizer()</pre></div></div></div><div class=\"sk-item\"><div class=\"sk-estimator sk-toggleable\"><input class=\"sk-toggleable__control sk-hidden--visually\" id=\"sk-estimator-id-17\" type=\"checkbox\" ><label for=\"sk-estimator-id-17\" class=\"sk-toggleable__label sk-toggleable__label-arrow\">StandardScaler</label><div class=\"sk-toggleable__content\"><pre>StandardScaler(with_mean=False)</pre></div></div></div><div class=\"sk-item\"><div class=\"sk-estimator sk-toggleable\"><input class=\"sk-toggleable__control sk-hidden--visually\" id=\"sk-estimator-id-18\" type=\"checkbox\" ><label for=\"sk-estimator-id-18\" class=\"sk-toggleable__label sk-toggleable__label-arrow\">AdaBoostClassifier</label><div class=\"sk-toggleable__content\"><pre>AdaBoostClassifier()</pre></div></div></div></div></div></div></div></div></div></div></div></div>"
      ],
      "text/plain": [
       "GridSearchCV(estimator=Pipeline(steps=[('cvec', CountVectorizer()),\n",
       "                                       ('ss', StandardScaler(with_mean=False)),\n",
       "                                       ('boost', AdaBoostClassifier())]),\n",
       "             n_jobs=-1,\n",
       "             param_grid={'boost__base_estimator': [None, LogisticRegression()],\n",
       "                         'boost__n_estimators': [30, 50, 70],\n",
       "                         'cvec__max_df': [0.7, 0.8, 0.9],\n",
       "                         'cvec__max_features': [1000, 2000, 5000],\n",
       "                         'cvec__min_df': [1, 3, 5, 7],\n",
       "                         'cvec__ngram_range': [(1, 1), (1, 2)],\n",
       "                         'cvec__stop_words': ['english']})"
      ]
     },
     "execution_count": 75,
     "metadata": {},
     "output_type": "execute_result"
    }
   ],
   "source": [
    "\n",
    "boost_gs.fit(X_train, y_train)"
   ]
  },
  {
   "cell_type": "code",
   "execution_count": null,
   "id": "92ef2acf-7c66-4d8b-805b-567b6695fc7b",
   "metadata": {
    "id": "92ef2acf-7c66-4d8b-805b-567b6695fc7b",
    "outputId": "02bb1a41-6719-439d-fcc9-c2e332c7a082"
   },
   "outputs": [
    {
     "data": {
      "text/plain": [
       "0.6674587849678718"
      ]
     },
     "execution_count": 77,
     "metadata": {},
     "output_type": "execute_result"
    }
   ],
   "source": [
    "cross_val_score(boost_gs,X_test, y_test).mean()"
   ]
  },
  {
   "cell_type": "markdown",
   "id": "a4ca68fd-c317-4391-a9e5-e618abd423bf",
   "metadata": {
    "id": "a4ca68fd-c317-4391-a9e5-e618abd423bf"
   },
   "source": [
    "### INSTALL XGBOOST"
   ]
  },
  {
   "cell_type": "code",
   "execution_count": null,
   "id": "efef1590-f7a2-48b4-9246-8209a7d8b293",
   "metadata": {
    "id": "efef1590-f7a2-48b4-9246-8209a7d8b293",
    "outputId": "303a06c1-50f1-4557-a15a-7b8260c89613"
   },
   "outputs": [
    {
     "name": "stdout",
     "output_type": "stream",
     "text": [
      "Collecting xgboost\n",
      "  Downloading xgboost-1.7.3-py3-none-macosx_10_15_x86_64.macosx_11_0_x86_64.macosx_12_0_x86_64.whl (1.8 MB)\n",
      "\u001b[2K     \u001b[90m━━━━━━━━━━━━━━━━━━━━━━━━━━━━━━━━━━━━━━━━\u001b[0m \u001b[32m1.8/1.8 MB\u001b[0m \u001b[31m19.8 MB/s\u001b[0m eta \u001b[36m0:00:00\u001b[0ma \u001b[36m0:00:01\u001b[0m\n",
      "\u001b[?25hRequirement already satisfied: numpy in /Users/sheilalong/opt/anaconda3/lib/python3.9/site-packages (from xgboost) (1.23.4)\n",
      "Requirement already satisfied: scipy in /Users/sheilalong/opt/anaconda3/lib/python3.9/site-packages (from xgboost) (1.9.3)\n",
      "Installing collected packages: xgboost\n",
      "Successfully installed xgboost-1.7.3\n"
     ]
    }
   ],
   "source": [
    "!pip install xgboost\n"
   ]
  },
  {
   "cell_type": "code",
   "execution_count": null,
   "id": "0aebec1b-443c-4e9b-be1f-e861aa997533",
   "metadata": {
    "id": "0aebec1b-443c-4e9b-be1f-e861aa997533"
   },
   "outputs": [],
   "source": [
    "import xgboost as xgb"
   ]
  },
  {
   "cell_type": "code",
   "execution_count": null,
   "id": "7437eafc-a5a6-4bbf-a49f-94a0cfc4198e",
   "metadata": {
    "id": "7437eafc-a5a6-4bbf-a49f-94a0cfc4198e"
   },
   "outputs": [],
   "source": [
    "X = vaush_destiny_df['no_links_2']\n",
    "y = vaush_destiny_df['subreddit'].map(dict(Destiny=1, VaushV=0))\n",
    "\n",
    "X_train, X_test, y_train, y_test = train_test_split(X, y, random_state=42,\n",
    "                                                    stratify=y)"
   ]
  },
  {
   "cell_type": "code",
   "execution_count": null,
   "id": "87ffd582-dc34-4528-bcdb-1f7dc32c38e6",
   "metadata": {
    "id": "87ffd582-dc34-4528-bcdb-1f7dc32c38e6",
    "outputId": "1ddfa20a-1152-4f31-c6d9-ff1f65b53082"
   },
   "outputs": [
    {
     "name": "stdout",
     "output_type": "stream",
     "text": [
      "0       0\n",
      "1       0\n",
      "2       0\n",
      "3       0\n",
      "4       0\n",
      "       ..\n",
      "9929    1\n",
      "9930    1\n",
      "9931    1\n",
      "9932    1\n",
      "9933    1\n",
      "Name: subreddit, Length: 9934, dtype: int64\n"
     ]
    }
   ],
   "source": [
    "print(y)"
   ]
  },
  {
   "cell_type": "markdown",
   "id": "9b0c7c53-be63-43ee-b5e7-04eacd48e94c",
   "metadata": {
    "id": "9b0c7c53-be63-43ee-b5e7-04eacd48e94c"
   },
   "source": [
    "## XGBOOST WITH LEMMATIZER"
   ]
  },
  {
   "cell_type": "code",
   "execution_count": null,
   "id": "c7cf6f06-95e0-4f71-97e6-f6be4ab05f88",
   "metadata": {
    "id": "c7cf6f06-95e0-4f71-97e6-f6be4ab05f88"
   },
   "outputs": [],
   "source": [
    "X = vaush_destiny_df['lem']\n",
    "y = vaush_destiny_df['subreddit'].map(dict(Destiny=1, VaushV=0))\n",
    "\n",
    "X_train, X_test, y_train, y_test = train_test_split(X, y, random_state=42,\n",
    "                                                    stratify=y)"
   ]
  },
  {
   "cell_type": "code",
   "execution_count": null,
   "id": "61890cf3-0842-43a8-b012-b378932d0610",
   "metadata": {
    "id": "61890cf3-0842-43a8-b012-b378932d0610"
   },
   "outputs": [],
   "source": [
    "xboost_pipe = Pipeline([\n",
    "    ('cvec', CountVectorizer()),\n",
    "    ('ss', StandardScaler(with_mean=False)),\n",
    "    ('xboost', xgb.XGBClassifier())\n",
    "])"
   ]
  },
  {
   "cell_type": "code",
   "execution_count": null,
   "id": "fea432fe-e448-466e-863f-8e82e0631400",
   "metadata": {
    "id": "fea432fe-e448-466e-863f-8e82e0631400"
   },
   "outputs": [],
   "source": [
    "xboost_pipe_params = {\n",
    "    'cvec__stop_words': [None, stopwords.words('english'),'english'],\n",
    "    'cvec__max_features': [1000,2000,5000,8000,13000,16000,30000,50000,100000],\n",
    "    'cvec__min_df': [1,3,5,7],\n",
    "    'cvec__max_df': [.7, .8, .9],\n",
    "    'cvec__ngram_range': [(1,1),(1, 2)]\n",
    "}"
   ]
  },
  {
   "cell_type": "code",
   "execution_count": null,
   "id": "cf9ae3ca-307c-4bd3-9b3f-99d7fcd4d69a",
   "metadata": {
    "id": "cf9ae3ca-307c-4bd3-9b3f-99d7fcd4d69a"
   },
   "outputs": [],
   "source": [
    "xboost_gs_lem = GridSearchCV(boost_pipe, param_grid = boost_pipe_params, n_jobs=-1)"
   ]
  },
  {
   "cell_type": "code",
   "execution_count": null,
   "id": "eb8394ab-f1fd-4cdd-bc7d-ec46ff143809",
   "metadata": {
    "id": "eb8394ab-f1fd-4cdd-bc7d-ec46ff143809",
    "outputId": "bc0f5cbe-6868-4239-8cca-ffb98440f707"
   },
   "outputs": [
    {
     "data": {
      "text/html": [
       "<style>#sk-container-id-31 {color: black;background-color: white;}#sk-container-id-31 pre{padding: 0;}#sk-container-id-31 div.sk-toggleable {background-color: white;}#sk-container-id-31 label.sk-toggleable__label {cursor: pointer;display: block;width: 100%;margin-bottom: 0;padding: 0.3em;box-sizing: border-box;text-align: center;}#sk-container-id-31 label.sk-toggleable__label-arrow:before {content: \"▸\";float: left;margin-right: 0.25em;color: #696969;}#sk-container-id-31 label.sk-toggleable__label-arrow:hover:before {color: black;}#sk-container-id-31 div.sk-estimator:hover label.sk-toggleable__label-arrow:before {color: black;}#sk-container-id-31 div.sk-toggleable__content {max-height: 0;max-width: 0;overflow: hidden;text-align: left;background-color: #f0f8ff;}#sk-container-id-31 div.sk-toggleable__content pre {margin: 0.2em;color: black;border-radius: 0.25em;background-color: #f0f8ff;}#sk-container-id-31 input.sk-toggleable__control:checked~div.sk-toggleable__content {max-height: 200px;max-width: 100%;overflow: auto;}#sk-container-id-31 input.sk-toggleable__control:checked~label.sk-toggleable__label-arrow:before {content: \"▾\";}#sk-container-id-31 div.sk-estimator input.sk-toggleable__control:checked~label.sk-toggleable__label {background-color: #d4ebff;}#sk-container-id-31 div.sk-label input.sk-toggleable__control:checked~label.sk-toggleable__label {background-color: #d4ebff;}#sk-container-id-31 input.sk-hidden--visually {border: 0;clip: rect(1px 1px 1px 1px);clip: rect(1px, 1px, 1px, 1px);height: 1px;margin: -1px;overflow: hidden;padding: 0;position: absolute;width: 1px;}#sk-container-id-31 div.sk-estimator {font-family: monospace;background-color: #f0f8ff;border: 1px dotted black;border-radius: 0.25em;box-sizing: border-box;margin-bottom: 0.5em;}#sk-container-id-31 div.sk-estimator:hover {background-color: #d4ebff;}#sk-container-id-31 div.sk-parallel-item::after {content: \"\";width: 100%;border-bottom: 1px solid gray;flex-grow: 1;}#sk-container-id-31 div.sk-label:hover label.sk-toggleable__label {background-color: #d4ebff;}#sk-container-id-31 div.sk-serial::before {content: \"\";position: absolute;border-left: 1px solid gray;box-sizing: border-box;top: 0;bottom: 0;left: 50%;z-index: 0;}#sk-container-id-31 div.sk-serial {display: flex;flex-direction: column;align-items: center;background-color: white;padding-right: 0.2em;padding-left: 0.2em;position: relative;}#sk-container-id-31 div.sk-item {position: relative;z-index: 1;}#sk-container-id-31 div.sk-parallel {display: flex;align-items: stretch;justify-content: center;background-color: white;position: relative;}#sk-container-id-31 div.sk-item::before, #sk-container-id-31 div.sk-parallel-item::before {content: \"\";position: absolute;border-left: 1px solid gray;box-sizing: border-box;top: 0;bottom: 0;left: 50%;z-index: -1;}#sk-container-id-31 div.sk-parallel-item {display: flex;flex-direction: column;z-index: 1;position: relative;background-color: white;}#sk-container-id-31 div.sk-parallel-item:first-child::after {align-self: flex-end;width: 50%;}#sk-container-id-31 div.sk-parallel-item:last-child::after {align-self: flex-start;width: 50%;}#sk-container-id-31 div.sk-parallel-item:only-child::after {width: 0;}#sk-container-id-31 div.sk-dashed-wrapped {border: 1px dashed gray;margin: 0 0.4em 0.5em 0.4em;box-sizing: border-box;padding-bottom: 0.4em;background-color: white;}#sk-container-id-31 div.sk-label label {font-family: monospace;font-weight: bold;display: inline-block;line-height: 1.2em;}#sk-container-id-31 div.sk-label-container {text-align: center;}#sk-container-id-31 div.sk-container {/* jupyter's `normalize.less` sets `[hidden] { display: none; }` but bootstrap.min.css set `[hidden] { display: none !important; }` so we also need the `!important` here to be able to override the default hidden behavior on the sphinx rendered scikit-learn.org. See: https://github.com/scikit-learn/scikit-learn/issues/21755 */display: inline-block !important;position: relative;}#sk-container-id-31 div.sk-text-repr-fallback {display: none;}</style><div id=\"sk-container-id-31\" class=\"sk-top-container\"><div class=\"sk-text-repr-fallback\"><pre>GridSearchCV(estimator=Pipeline(steps=[(&#x27;cvec&#x27;, CountVectorizer()),\n",
       "                                       (&#x27;ss&#x27;, StandardScaler(with_mean=False)),\n",
       "                                       (&#x27;boost&#x27;, AdaBoostClassifier())]),\n",
       "             n_jobs=-1,\n",
       "             param_grid={&#x27;cvec__max_df&#x27;: [0.7, 0.8, 0.9],\n",
       "                         &#x27;cvec__max_features&#x27;: [1000, 2000, 5000, 8000, 13000,\n",
       "                                                16000, 30000, 50000, 100000],\n",
       "                         &#x27;cvec__min_df&#x27;: [1, 3, 5, 7],\n",
       "                         &#x27;cvec__ngram_range&#x27;: [(1, 1), (1, 2)],\n",
       "                         &#x27;cvec__stop_words&#x27;: [None,\n",
       "                                              [&#x27;i&#x27;, &#x27;me&#x27;, &#x27;my&#x27;, &#x27;myself&#x27;, &#x27;we&#x27;,\n",
       "                                               &#x27;our&#x27;, &#x27;ours&#x27;, &#x27;ourselves&#x27;,\n",
       "                                               &#x27;you&#x27;, &quot;you&#x27;re&quot;, &quot;you&#x27;ve&quot;,\n",
       "                                               &quot;you&#x27;ll&quot;, &quot;you&#x27;d&quot;, &#x27;your&#x27;,\n",
       "                                               &#x27;yours&#x27;, &#x27;yourself&#x27;,\n",
       "                                               &#x27;yourselves&#x27;, &#x27;he&#x27;, &#x27;him&#x27;, &#x27;his&#x27;,\n",
       "                                               &#x27;himself&#x27;, &#x27;she&#x27;, &quot;she&#x27;s&quot;, &#x27;her&#x27;,\n",
       "                                               &#x27;hers&#x27;, &#x27;herself&#x27;, &#x27;it&#x27;, &quot;it&#x27;s&quot;,\n",
       "                                               &#x27;its&#x27;, &#x27;itself&#x27;, ...],\n",
       "                                              &#x27;english&#x27;]})</pre><b>In a Jupyter environment, please rerun this cell to show the HTML representation or trust the notebook. <br />On GitHub, the HTML representation is unable to render, please try loading this page with nbviewer.org.</b></div><div class=\"sk-container\" hidden><div class=\"sk-item sk-dashed-wrapped\"><div class=\"sk-label-container\"><div class=\"sk-label sk-toggleable\"><input class=\"sk-toggleable__control sk-hidden--visually\" id=\"sk-estimator-id-188\" type=\"checkbox\" ><label for=\"sk-estimator-id-188\" class=\"sk-toggleable__label sk-toggleable__label-arrow\">GridSearchCV</label><div class=\"sk-toggleable__content\"><pre>GridSearchCV(estimator=Pipeline(steps=[(&#x27;cvec&#x27;, CountVectorizer()),\n",
       "                                       (&#x27;ss&#x27;, StandardScaler(with_mean=False)),\n",
       "                                       (&#x27;boost&#x27;, AdaBoostClassifier())]),\n",
       "             n_jobs=-1,\n",
       "             param_grid={&#x27;cvec__max_df&#x27;: [0.7, 0.8, 0.9],\n",
       "                         &#x27;cvec__max_features&#x27;: [1000, 2000, 5000, 8000, 13000,\n",
       "                                                16000, 30000, 50000, 100000],\n",
       "                         &#x27;cvec__min_df&#x27;: [1, 3, 5, 7],\n",
       "                         &#x27;cvec__ngram_range&#x27;: [(1, 1), (1, 2)],\n",
       "                         &#x27;cvec__stop_words&#x27;: [None,\n",
       "                                              [&#x27;i&#x27;, &#x27;me&#x27;, &#x27;my&#x27;, &#x27;myself&#x27;, &#x27;we&#x27;,\n",
       "                                               &#x27;our&#x27;, &#x27;ours&#x27;, &#x27;ourselves&#x27;,\n",
       "                                               &#x27;you&#x27;, &quot;you&#x27;re&quot;, &quot;you&#x27;ve&quot;,\n",
       "                                               &quot;you&#x27;ll&quot;, &quot;you&#x27;d&quot;, &#x27;your&#x27;,\n",
       "                                               &#x27;yours&#x27;, &#x27;yourself&#x27;,\n",
       "                                               &#x27;yourselves&#x27;, &#x27;he&#x27;, &#x27;him&#x27;, &#x27;his&#x27;,\n",
       "                                               &#x27;himself&#x27;, &#x27;she&#x27;, &quot;she&#x27;s&quot;, &#x27;her&#x27;,\n",
       "                                               &#x27;hers&#x27;, &#x27;herself&#x27;, &#x27;it&#x27;, &quot;it&#x27;s&quot;,\n",
       "                                               &#x27;its&#x27;, &#x27;itself&#x27;, ...],\n",
       "                                              &#x27;english&#x27;]})</pre></div></div></div><div class=\"sk-parallel\"><div class=\"sk-parallel-item\"><div class=\"sk-item\"><div class=\"sk-label-container\"><div class=\"sk-label sk-toggleable\"><input class=\"sk-toggleable__control sk-hidden--visually\" id=\"sk-estimator-id-189\" type=\"checkbox\" ><label for=\"sk-estimator-id-189\" class=\"sk-toggleable__label sk-toggleable__label-arrow\">estimator: Pipeline</label><div class=\"sk-toggleable__content\"><pre>Pipeline(steps=[(&#x27;cvec&#x27;, CountVectorizer()),\n",
       "                (&#x27;ss&#x27;, StandardScaler(with_mean=False)),\n",
       "                (&#x27;boost&#x27;, AdaBoostClassifier())])</pre></div></div></div><div class=\"sk-serial\"><div class=\"sk-item\"><div class=\"sk-serial\"><div class=\"sk-item\"><div class=\"sk-estimator sk-toggleable\"><input class=\"sk-toggleable__control sk-hidden--visually\" id=\"sk-estimator-id-190\" type=\"checkbox\" ><label for=\"sk-estimator-id-190\" class=\"sk-toggleable__label sk-toggleable__label-arrow\">CountVectorizer</label><div class=\"sk-toggleable__content\"><pre>CountVectorizer()</pre></div></div></div><div class=\"sk-item\"><div class=\"sk-estimator sk-toggleable\"><input class=\"sk-toggleable__control sk-hidden--visually\" id=\"sk-estimator-id-191\" type=\"checkbox\" ><label for=\"sk-estimator-id-191\" class=\"sk-toggleable__label sk-toggleable__label-arrow\">StandardScaler</label><div class=\"sk-toggleable__content\"><pre>StandardScaler(with_mean=False)</pre></div></div></div><div class=\"sk-item\"><div class=\"sk-estimator sk-toggleable\"><input class=\"sk-toggleable__control sk-hidden--visually\" id=\"sk-estimator-id-192\" type=\"checkbox\" ><label for=\"sk-estimator-id-192\" class=\"sk-toggleable__label sk-toggleable__label-arrow\">AdaBoostClassifier</label><div class=\"sk-toggleable__content\"><pre>AdaBoostClassifier()</pre></div></div></div></div></div></div></div></div></div></div></div></div>"
      ],
      "text/plain": [
       "GridSearchCV(estimator=Pipeline(steps=[('cvec', CountVectorizer()),\n",
       "                                       ('ss', StandardScaler(with_mean=False)),\n",
       "                                       ('boost', AdaBoostClassifier())]),\n",
       "             n_jobs=-1,\n",
       "             param_grid={'cvec__max_df': [0.7, 0.8, 0.9],\n",
       "                         'cvec__max_features': [1000, 2000, 5000, 8000, 13000,\n",
       "                                                16000, 30000, 50000, 100000],\n",
       "                         'cvec__min_df': [1, 3, 5, 7],\n",
       "                         'cvec__ngram_range': [(1, 1), (1, 2)],\n",
       "                         'cvec__stop_words': [None,\n",
       "                                              ['i', 'me', 'my', 'myself', 'we',\n",
       "                                               'our', 'ours', 'ourselves',\n",
       "                                               'you', \"you're\", \"you've\",\n",
       "                                               \"you'll\", \"you'd\", 'your',\n",
       "                                               'yours', 'yourself',\n",
       "                                               'yourselves', 'he', 'him', 'his',\n",
       "                                               'himself', 'she', \"she's\", 'her',\n",
       "                                               'hers', 'herself', 'it', \"it's\",\n",
       "                                               'its', 'itself', ...],\n",
       "                                              'english']})"
      ]
     },
     "execution_count": 435,
     "metadata": {},
     "output_type": "execute_result"
    }
   ],
   "source": [
    "\n",
    "xboost_gs_lem.fit(X_train, y_train)"
   ]
  },
  {
   "cell_type": "code",
   "execution_count": null,
   "id": "556ab9f7-bfcf-4b8d-a945-52657a96f0bb",
   "metadata": {
    "id": "556ab9f7-bfcf-4b8d-a945-52657a96f0bb",
    "outputId": "df388bc9-5556-4e14-8328-968ae6000305"
   },
   "outputs": [
    {
     "data": {
      "text/plain": [
       "0.6964573268921095"
      ]
     },
     "execution_count": 436,
     "metadata": {},
     "output_type": "execute_result"
    }
   ],
   "source": [
    "xboost_gs_lem.score(X_test, y_test)"
   ]
  },
  {
   "cell_type": "markdown",
   "id": "5a39a50a-5000-440e-9cb8-1971d535e0df",
   "metadata": {
    "id": "5a39a50a-5000-440e-9cb8-1971d535e0df"
   },
   "source": [
    "## XGBOOST NO LEMATIZER"
   ]
  },
  {
   "cell_type": "code",
   "execution_count": null,
   "id": "67dcda03-4586-44c4-a787-e367d6477aca",
   "metadata": {
    "id": "67dcda03-4586-44c4-a787-e367d6477aca"
   },
   "outputs": [],
   "source": [
    " y.values.reshape(-1, 1)"
   ]
  },
  {
   "cell_type": "code",
   "execution_count": null,
   "id": "f2e813ca-551d-463d-9943-947233d814f2",
   "metadata": {
    "id": "f2e813ca-551d-463d-9943-947233d814f2"
   },
   "outputs": [],
   "source": [
    "xgbc0 = xgb.XGBClassifier(objective='binary:logistic',\n",
    "                          booster='gbtree',\n",
    "                          eval_metric='auc',\n",
    "                          tree_method='hist',\n",
    "                          grow_policy='lossguide',\n",
    "                          use_label_encoder=False)\n",
    "#https://towardsdatascience.com/binary-classification-xgboost-hyperparameter-tuning-scenarios-by-non-exhaustive-grid-search-and-c261f4ce098d"
   ]
  },
  {
   "cell_type": "code",
   "execution_count": null,
   "id": "fb192359-ed2c-4126-8741-44cd2134852e",
   "metadata": {
    "id": "fb192359-ed2c-4126-8741-44cd2134852e"
   },
   "outputs": [],
   "source": [
    "xboost_pipe = Pipeline([\n",
    "    ('cvec', CountVectorizer()),\n",
    "    ('ss', StandardScaler(with_mean=False)),\n",
    "    ('xboost', xgb.XGBClassifier())\n",
    "])"
   ]
  },
  {
   "cell_type": "code",
   "execution_count": null,
   "id": "39ea4654-f9e7-4ee3-b3d2-1f8d4658a07f",
   "metadata": {
    "id": "39ea4654-f9e7-4ee3-b3d2-1f8d4658a07f"
   },
   "outputs": [],
   "source": [
    "xboost_pipe_params = {\n",
    "    'cvec__stop_words': [None, stopwords.words('english'),'english'],\n",
    "    'cvec__max_features': [1000,2000,5000,8000,13000,16000,30000,50000,100000],\n",
    "    'cvec__min_df': [1,3,5,7],\n",
    "    'cvec__max_df': [.7, .8, .9],\n",
    "    'cvec__ngram_range': [(1,1),(1, 2)]\n",
    "}"
   ]
  },
  {
   "cell_type": "code",
   "execution_count": null,
   "id": "6645f696-456e-4df5-9bdf-2df9dc4649bf",
   "metadata": {
    "id": "6645f696-456e-4df5-9bdf-2df9dc4649bf"
   },
   "outputs": [],
   "source": [
    "xboost_gs = GridSearchCV(boost_pipe, param_grid = boost_pipe_params, n_jobs=-1)\n"
   ]
  },
  {
   "cell_type": "code",
   "execution_count": null,
   "id": "e564b426-421c-4365-bba8-2cff1897b3bc",
   "metadata": {
    "id": "e564b426-421c-4365-bba8-2cff1897b3bc",
    "outputId": "855ea08d-950f-4e9b-d923-2c127037072c"
   },
   "outputs": [
    {
     "data": {
      "text/html": [
       "<style>#sk-container-id-15 {color: black;background-color: white;}#sk-container-id-15 pre{padding: 0;}#sk-container-id-15 div.sk-toggleable {background-color: white;}#sk-container-id-15 label.sk-toggleable__label {cursor: pointer;display: block;width: 100%;margin-bottom: 0;padding: 0.3em;box-sizing: border-box;text-align: center;}#sk-container-id-15 label.sk-toggleable__label-arrow:before {content: \"▸\";float: left;margin-right: 0.25em;color: #696969;}#sk-container-id-15 label.sk-toggleable__label-arrow:hover:before {color: black;}#sk-container-id-15 div.sk-estimator:hover label.sk-toggleable__label-arrow:before {color: black;}#sk-container-id-15 div.sk-toggleable__content {max-height: 0;max-width: 0;overflow: hidden;text-align: left;background-color: #f0f8ff;}#sk-container-id-15 div.sk-toggleable__content pre {margin: 0.2em;color: black;border-radius: 0.25em;background-color: #f0f8ff;}#sk-container-id-15 input.sk-toggleable__control:checked~div.sk-toggleable__content {max-height: 200px;max-width: 100%;overflow: auto;}#sk-container-id-15 input.sk-toggleable__control:checked~label.sk-toggleable__label-arrow:before {content: \"▾\";}#sk-container-id-15 div.sk-estimator input.sk-toggleable__control:checked~label.sk-toggleable__label {background-color: #d4ebff;}#sk-container-id-15 div.sk-label input.sk-toggleable__control:checked~label.sk-toggleable__label {background-color: #d4ebff;}#sk-container-id-15 input.sk-hidden--visually {border: 0;clip: rect(1px 1px 1px 1px);clip: rect(1px, 1px, 1px, 1px);height: 1px;margin: -1px;overflow: hidden;padding: 0;position: absolute;width: 1px;}#sk-container-id-15 div.sk-estimator {font-family: monospace;background-color: #f0f8ff;border: 1px dotted black;border-radius: 0.25em;box-sizing: border-box;margin-bottom: 0.5em;}#sk-container-id-15 div.sk-estimator:hover {background-color: #d4ebff;}#sk-container-id-15 div.sk-parallel-item::after {content: \"\";width: 100%;border-bottom: 1px solid gray;flex-grow: 1;}#sk-container-id-15 div.sk-label:hover label.sk-toggleable__label {background-color: #d4ebff;}#sk-container-id-15 div.sk-serial::before {content: \"\";position: absolute;border-left: 1px solid gray;box-sizing: border-box;top: 0;bottom: 0;left: 50%;z-index: 0;}#sk-container-id-15 div.sk-serial {display: flex;flex-direction: column;align-items: center;background-color: white;padding-right: 0.2em;padding-left: 0.2em;position: relative;}#sk-container-id-15 div.sk-item {position: relative;z-index: 1;}#sk-container-id-15 div.sk-parallel {display: flex;align-items: stretch;justify-content: center;background-color: white;position: relative;}#sk-container-id-15 div.sk-item::before, #sk-container-id-15 div.sk-parallel-item::before {content: \"\";position: absolute;border-left: 1px solid gray;box-sizing: border-box;top: 0;bottom: 0;left: 50%;z-index: -1;}#sk-container-id-15 div.sk-parallel-item {display: flex;flex-direction: column;z-index: 1;position: relative;background-color: white;}#sk-container-id-15 div.sk-parallel-item:first-child::after {align-self: flex-end;width: 50%;}#sk-container-id-15 div.sk-parallel-item:last-child::after {align-self: flex-start;width: 50%;}#sk-container-id-15 div.sk-parallel-item:only-child::after {width: 0;}#sk-container-id-15 div.sk-dashed-wrapped {border: 1px dashed gray;margin: 0 0.4em 0.5em 0.4em;box-sizing: border-box;padding-bottom: 0.4em;background-color: white;}#sk-container-id-15 div.sk-label label {font-family: monospace;font-weight: bold;display: inline-block;line-height: 1.2em;}#sk-container-id-15 div.sk-label-container {text-align: center;}#sk-container-id-15 div.sk-container {/* jupyter's `normalize.less` sets `[hidden] { display: none; }` but bootstrap.min.css set `[hidden] { display: none !important; }` so we also need the `!important` here to be able to override the default hidden behavior on the sphinx rendered scikit-learn.org. See: https://github.com/scikit-learn/scikit-learn/issues/21755 */display: inline-block !important;position: relative;}#sk-container-id-15 div.sk-text-repr-fallback {display: none;}</style><div id=\"sk-container-id-15\" class=\"sk-top-container\"><div class=\"sk-text-repr-fallback\"><pre>GridSearchCV(estimator=Pipeline(steps=[(&#x27;cvec&#x27;, CountVectorizer()),\n",
       "                                       (&#x27;ss&#x27;, StandardScaler(with_mean=False)),\n",
       "                                       (&#x27;boost&#x27;, AdaBoostClassifier())]),\n",
       "             n_jobs=-1,\n",
       "             param_grid={&#x27;cvec__max_df&#x27;: [0.7, 0.8, 0.9],\n",
       "                         &#x27;cvec__max_features&#x27;: [1000, 2000, 5000, 8000, 13000,\n",
       "                                                16000, 30000, 50000, 100000],\n",
       "                         &#x27;cvec__min_df&#x27;: [1, 3, 5, 7],\n",
       "                         &#x27;cvec__ngram_range&#x27;: [(1, 1), (1, 2)],\n",
       "                         &#x27;cvec__stop_words&#x27;: [None,\n",
       "                                              [&#x27;i&#x27;, &#x27;me&#x27;, &#x27;my&#x27;, &#x27;myself&#x27;, &#x27;we&#x27;,\n",
       "                                               &#x27;our&#x27;, &#x27;ours&#x27;, &#x27;ourselves&#x27;,\n",
       "                                               &#x27;you&#x27;, &quot;you&#x27;re&quot;, &quot;you&#x27;ve&quot;,\n",
       "                                               &quot;you&#x27;ll&quot;, &quot;you&#x27;d&quot;, &#x27;your&#x27;,\n",
       "                                               &#x27;yours&#x27;, &#x27;yourself&#x27;,\n",
       "                                               &#x27;yourselves&#x27;, &#x27;he&#x27;, &#x27;him&#x27;, &#x27;his&#x27;,\n",
       "                                               &#x27;himself&#x27;, &#x27;she&#x27;, &quot;she&#x27;s&quot;, &#x27;her&#x27;,\n",
       "                                               &#x27;hers&#x27;, &#x27;herself&#x27;, &#x27;it&#x27;, &quot;it&#x27;s&quot;,\n",
       "                                               &#x27;its&#x27;, &#x27;itself&#x27;, ...],\n",
       "                                              &#x27;english&#x27;]})</pre><b>In a Jupyter environment, please rerun this cell to show the HTML representation or trust the notebook. <br />On GitHub, the HTML representation is unable to render, please try loading this page with nbviewer.org.</b></div><div class=\"sk-container\" hidden><div class=\"sk-item sk-dashed-wrapped\"><div class=\"sk-label-container\"><div class=\"sk-label sk-toggleable\"><input class=\"sk-toggleable__control sk-hidden--visually\" id=\"sk-estimator-id-80\" type=\"checkbox\" ><label for=\"sk-estimator-id-80\" class=\"sk-toggleable__label sk-toggleable__label-arrow\">GridSearchCV</label><div class=\"sk-toggleable__content\"><pre>GridSearchCV(estimator=Pipeline(steps=[(&#x27;cvec&#x27;, CountVectorizer()),\n",
       "                                       (&#x27;ss&#x27;, StandardScaler(with_mean=False)),\n",
       "                                       (&#x27;boost&#x27;, AdaBoostClassifier())]),\n",
       "             n_jobs=-1,\n",
       "             param_grid={&#x27;cvec__max_df&#x27;: [0.7, 0.8, 0.9],\n",
       "                         &#x27;cvec__max_features&#x27;: [1000, 2000, 5000, 8000, 13000,\n",
       "                                                16000, 30000, 50000, 100000],\n",
       "                         &#x27;cvec__min_df&#x27;: [1, 3, 5, 7],\n",
       "                         &#x27;cvec__ngram_range&#x27;: [(1, 1), (1, 2)],\n",
       "                         &#x27;cvec__stop_words&#x27;: [None,\n",
       "                                              [&#x27;i&#x27;, &#x27;me&#x27;, &#x27;my&#x27;, &#x27;myself&#x27;, &#x27;we&#x27;,\n",
       "                                               &#x27;our&#x27;, &#x27;ours&#x27;, &#x27;ourselves&#x27;,\n",
       "                                               &#x27;you&#x27;, &quot;you&#x27;re&quot;, &quot;you&#x27;ve&quot;,\n",
       "                                               &quot;you&#x27;ll&quot;, &quot;you&#x27;d&quot;, &#x27;your&#x27;,\n",
       "                                               &#x27;yours&#x27;, &#x27;yourself&#x27;,\n",
       "                                               &#x27;yourselves&#x27;, &#x27;he&#x27;, &#x27;him&#x27;, &#x27;his&#x27;,\n",
       "                                               &#x27;himself&#x27;, &#x27;she&#x27;, &quot;she&#x27;s&quot;, &#x27;her&#x27;,\n",
       "                                               &#x27;hers&#x27;, &#x27;herself&#x27;, &#x27;it&#x27;, &quot;it&#x27;s&quot;,\n",
       "                                               &#x27;its&#x27;, &#x27;itself&#x27;, ...],\n",
       "                                              &#x27;english&#x27;]})</pre></div></div></div><div class=\"sk-parallel\"><div class=\"sk-parallel-item\"><div class=\"sk-item\"><div class=\"sk-label-container\"><div class=\"sk-label sk-toggleable\"><input class=\"sk-toggleable__control sk-hidden--visually\" id=\"sk-estimator-id-81\" type=\"checkbox\" ><label for=\"sk-estimator-id-81\" class=\"sk-toggleable__label sk-toggleable__label-arrow\">estimator: Pipeline</label><div class=\"sk-toggleable__content\"><pre>Pipeline(steps=[(&#x27;cvec&#x27;, CountVectorizer()),\n",
       "                (&#x27;ss&#x27;, StandardScaler(with_mean=False)),\n",
       "                (&#x27;boost&#x27;, AdaBoostClassifier())])</pre></div></div></div><div class=\"sk-serial\"><div class=\"sk-item\"><div class=\"sk-serial\"><div class=\"sk-item\"><div class=\"sk-estimator sk-toggleable\"><input class=\"sk-toggleable__control sk-hidden--visually\" id=\"sk-estimator-id-82\" type=\"checkbox\" ><label for=\"sk-estimator-id-82\" class=\"sk-toggleable__label sk-toggleable__label-arrow\">CountVectorizer</label><div class=\"sk-toggleable__content\"><pre>CountVectorizer()</pre></div></div></div><div class=\"sk-item\"><div class=\"sk-estimator sk-toggleable\"><input class=\"sk-toggleable__control sk-hidden--visually\" id=\"sk-estimator-id-83\" type=\"checkbox\" ><label for=\"sk-estimator-id-83\" class=\"sk-toggleable__label sk-toggleable__label-arrow\">StandardScaler</label><div class=\"sk-toggleable__content\"><pre>StandardScaler(with_mean=False)</pre></div></div></div><div class=\"sk-item\"><div class=\"sk-estimator sk-toggleable\"><input class=\"sk-toggleable__control sk-hidden--visually\" id=\"sk-estimator-id-84\" type=\"checkbox\" ><label for=\"sk-estimator-id-84\" class=\"sk-toggleable__label sk-toggleable__label-arrow\">AdaBoostClassifier</label><div class=\"sk-toggleable__content\"><pre>AdaBoostClassifier()</pre></div></div></div></div></div></div></div></div></div></div></div></div>"
      ],
      "text/plain": [
       "GridSearchCV(estimator=Pipeline(steps=[('cvec', CountVectorizer()),\n",
       "                                       ('ss', StandardScaler(with_mean=False)),\n",
       "                                       ('boost', AdaBoostClassifier())]),\n",
       "             n_jobs=-1,\n",
       "             param_grid={'cvec__max_df': [0.7, 0.8, 0.9],\n",
       "                         'cvec__max_features': [1000, 2000, 5000, 8000, 13000,\n",
       "                                                16000, 30000, 50000, 100000],\n",
       "                         'cvec__min_df': [1, 3, 5, 7],\n",
       "                         'cvec__ngram_range': [(1, 1), (1, 2)],\n",
       "                         'cvec__stop_words': [None,\n",
       "                                              ['i', 'me', 'my', 'myself', 'we',\n",
       "                                               'our', 'ours', 'ourselves',\n",
       "                                               'you', \"you're\", \"you've\",\n",
       "                                               \"you'll\", \"you'd\", 'your',\n",
       "                                               'yours', 'yourself',\n",
       "                                               'yourselves', 'he', 'him', 'his',\n",
       "                                               'himself', 'she', \"she's\", 'her',\n",
       "                                               'hers', 'herself', 'it', \"it's\",\n",
       "                                               'its', 'itself', ...],\n",
       "                                              'english']})"
      ]
     },
     "execution_count": 352,
     "metadata": {},
     "output_type": "execute_result"
    }
   ],
   "source": [
    "\n",
    "xboost_gs.fit(X_train, y_train)"
   ]
  },
  {
   "cell_type": "code",
   "execution_count": null,
   "id": "923d41e2-2eb6-41eb-8efa-6b61a3e7613b",
   "metadata": {
    "id": "923d41e2-2eb6-41eb-8efa-6b61a3e7613b",
    "outputId": "d5c4619d-62f8-476d-be83-1adb0c0d485f",
    "scrolled": true,
    "tags": []
   },
   "outputs": [
    {
     "data": {
      "text/plain": [
       "{'cvec__max_df': 0.7,\n",
       " 'cvec__max_features': 2000,\n",
       " 'cvec__min_df': 1,\n",
       " 'cvec__ngram_range': (1, 2),\n",
       " 'cvec__stop_words': ['i',\n",
       "  'me',\n",
       "  'my',\n",
       "  'myself',\n",
       "  'we',\n",
       "  'our',\n",
       "  'ours',\n",
       "  'ourselves',\n",
       "  'you',\n",
       "  \"you're\",\n",
       "  \"you've\",\n",
       "  \"you'll\",\n",
       "  \"you'd\",\n",
       "  'your',\n",
       "  'yours',\n",
       "  'yourself',\n",
       "  'yourselves',\n",
       "  'he',\n",
       "  'him',\n",
       "  'his',\n",
       "  'himself',\n",
       "  'she',\n",
       "  \"she's\",\n",
       "  'her',\n",
       "  'hers',\n",
       "  'herself',\n",
       "  'it',\n",
       "  \"it's\",\n",
       "  'its',\n",
       "  'itself',\n",
       "  'they',\n",
       "  'them',\n",
       "  'their',\n",
       "  'theirs',\n",
       "  'themselves',\n",
       "  'what',\n",
       "  'which',\n",
       "  'who',\n",
       "  'whom',\n",
       "  'this',\n",
       "  'that',\n",
       "  \"that'll\",\n",
       "  'these',\n",
       "  'those',\n",
       "  'am',\n",
       "  'is',\n",
       "  'are',\n",
       "  'was',\n",
       "  'were',\n",
       "  'be',\n",
       "  'been',\n",
       "  'being',\n",
       "  'have',\n",
       "  'has',\n",
       "  'had',\n",
       "  'having',\n",
       "  'do',\n",
       "  'does',\n",
       "  'did',\n",
       "  'doing',\n",
       "  'a',\n",
       "  'an',\n",
       "  'the',\n",
       "  'and',\n",
       "  'but',\n",
       "  'if',\n",
       "  'or',\n",
       "  'because',\n",
       "  'as',\n",
       "  'until',\n",
       "  'while',\n",
       "  'of',\n",
       "  'at',\n",
       "  'by',\n",
       "  'for',\n",
       "  'with',\n",
       "  'about',\n",
       "  'against',\n",
       "  'between',\n",
       "  'into',\n",
       "  'through',\n",
       "  'during',\n",
       "  'before',\n",
       "  'after',\n",
       "  'above',\n",
       "  'below',\n",
       "  'to',\n",
       "  'from',\n",
       "  'up',\n",
       "  'down',\n",
       "  'in',\n",
       "  'out',\n",
       "  'on',\n",
       "  'off',\n",
       "  'over',\n",
       "  'under',\n",
       "  'again',\n",
       "  'further',\n",
       "  'then',\n",
       "  'once',\n",
       "  'here',\n",
       "  'there',\n",
       "  'when',\n",
       "  'where',\n",
       "  'why',\n",
       "  'how',\n",
       "  'all',\n",
       "  'any',\n",
       "  'both',\n",
       "  'each',\n",
       "  'few',\n",
       "  'more',\n",
       "  'most',\n",
       "  'other',\n",
       "  'some',\n",
       "  'such',\n",
       "  'no',\n",
       "  'nor',\n",
       "  'not',\n",
       "  'only',\n",
       "  'own',\n",
       "  'same',\n",
       "  'so',\n",
       "  'than',\n",
       "  'too',\n",
       "  'very',\n",
       "  's',\n",
       "  't',\n",
       "  'can',\n",
       "  'will',\n",
       "  'just',\n",
       "  'don',\n",
       "  \"don't\",\n",
       "  'should',\n",
       "  \"should've\",\n",
       "  'now',\n",
       "  'd',\n",
       "  'll',\n",
       "  'm',\n",
       "  'o',\n",
       "  're',\n",
       "  've',\n",
       "  'y',\n",
       "  'ain',\n",
       "  'aren',\n",
       "  \"aren't\",\n",
       "  'couldn',\n",
       "  \"couldn't\",\n",
       "  'didn',\n",
       "  \"didn't\",\n",
       "  'doesn',\n",
       "  \"doesn't\",\n",
       "  'hadn',\n",
       "  \"hadn't\",\n",
       "  'hasn',\n",
       "  \"hasn't\",\n",
       "  'haven',\n",
       "  \"haven't\",\n",
       "  'isn',\n",
       "  \"isn't\",\n",
       "  'ma',\n",
       "  'mightn',\n",
       "  \"mightn't\",\n",
       "  'mustn',\n",
       "  \"mustn't\",\n",
       "  'needn',\n",
       "  \"needn't\",\n",
       "  'shan',\n",
       "  \"shan't\",\n",
       "  'shouldn',\n",
       "  \"shouldn't\",\n",
       "  'wasn',\n",
       "  \"wasn't\",\n",
       "  'weren',\n",
       "  \"weren't\",\n",
       "  'won',\n",
       "  \"won't\",\n",
       "  'wouldn',\n",
       "  \"wouldn't\"]}"
      ]
     },
     "execution_count": 355,
     "metadata": {},
     "output_type": "execute_result"
    }
   ],
   "source": [
    "xboost_gs.best_params_"
   ]
  },
  {
   "cell_type": "code",
   "execution_count": null,
   "id": "ad8e4615-5b5d-421d-a98e-9d0e041caecd",
   "metadata": {
    "id": "ad8e4615-5b5d-421d-a98e-9d0e041caecd",
    "outputId": "42e426cb-2240-49e3-d08b-4d08845bca8e",
    "scrolled": true,
    "tags": []
   },
   "outputs": [
    {
     "data": {
      "text/plain": [
       "{'cvec__max_df': 0.7,\n",
       " 'cvec__max_features': 8000,\n",
       " 'cvec__min_df': 1,\n",
       " 'cvec__ngram_range': (1, 2),\n",
       " 'cvec__stop_words': ['i',\n",
       "  'me',\n",
       "  'my',\n",
       "  'myself',\n",
       "  'we',\n",
       "  'our',\n",
       "  'ours',\n",
       "  'ourselves',\n",
       "  'you',\n",
       "  \"you're\",\n",
       "  \"you've\",\n",
       "  \"you'll\",\n",
       "  \"you'd\",\n",
       "  'your',\n",
       "  'yours',\n",
       "  'yourself',\n",
       "  'yourselves',\n",
       "  'he',\n",
       "  'him',\n",
       "  'his',\n",
       "  'himself',\n",
       "  'she',\n",
       "  \"she's\",\n",
       "  'her',\n",
       "  'hers',\n",
       "  'herself',\n",
       "  'it',\n",
       "  \"it's\",\n",
       "  'its',\n",
       "  'itself',\n",
       "  'they',\n",
       "  'them',\n",
       "  'their',\n",
       "  'theirs',\n",
       "  'themselves',\n",
       "  'what',\n",
       "  'which',\n",
       "  'who',\n",
       "  'whom',\n",
       "  'this',\n",
       "  'that',\n",
       "  \"that'll\",\n",
       "  'these',\n",
       "  'those',\n",
       "  'am',\n",
       "  'is',\n",
       "  'are',\n",
       "  'was',\n",
       "  'were',\n",
       "  'be',\n",
       "  'been',\n",
       "  'being',\n",
       "  'have',\n",
       "  'has',\n",
       "  'had',\n",
       "  'having',\n",
       "  'do',\n",
       "  'does',\n",
       "  'did',\n",
       "  'doing',\n",
       "  'a',\n",
       "  'an',\n",
       "  'the',\n",
       "  'and',\n",
       "  'but',\n",
       "  'if',\n",
       "  'or',\n",
       "  'because',\n",
       "  'as',\n",
       "  'until',\n",
       "  'while',\n",
       "  'of',\n",
       "  'at',\n",
       "  'by',\n",
       "  'for',\n",
       "  'with',\n",
       "  'about',\n",
       "  'against',\n",
       "  'between',\n",
       "  'into',\n",
       "  'through',\n",
       "  'during',\n",
       "  'before',\n",
       "  'after',\n",
       "  'above',\n",
       "  'below',\n",
       "  'to',\n",
       "  'from',\n",
       "  'up',\n",
       "  'down',\n",
       "  'in',\n",
       "  'out',\n",
       "  'on',\n",
       "  'off',\n",
       "  'over',\n",
       "  'under',\n",
       "  'again',\n",
       "  'further',\n",
       "  'then',\n",
       "  'once',\n",
       "  'here',\n",
       "  'there',\n",
       "  'when',\n",
       "  'where',\n",
       "  'why',\n",
       "  'how',\n",
       "  'all',\n",
       "  'any',\n",
       "  'both',\n",
       "  'each',\n",
       "  'few',\n",
       "  'more',\n",
       "  'most',\n",
       "  'other',\n",
       "  'some',\n",
       "  'such',\n",
       "  'no',\n",
       "  'nor',\n",
       "  'not',\n",
       "  'only',\n",
       "  'own',\n",
       "  'same',\n",
       "  'so',\n",
       "  'than',\n",
       "  'too',\n",
       "  'very',\n",
       "  's',\n",
       "  't',\n",
       "  'can',\n",
       "  'will',\n",
       "  'just',\n",
       "  'don',\n",
       "  \"don't\",\n",
       "  'should',\n",
       "  \"should've\",\n",
       "  'now',\n",
       "  'd',\n",
       "  'll',\n",
       "  'm',\n",
       "  'o',\n",
       "  're',\n",
       "  've',\n",
       "  'y',\n",
       "  'ain',\n",
       "  'aren',\n",
       "  \"aren't\",\n",
       "  'couldn',\n",
       "  \"couldn't\",\n",
       "  'didn',\n",
       "  \"didn't\",\n",
       "  'doesn',\n",
       "  \"doesn't\",\n",
       "  'hadn',\n",
       "  \"hadn't\",\n",
       "  'hasn',\n",
       "  \"hasn't\",\n",
       "  'haven',\n",
       "  \"haven't\",\n",
       "  'isn',\n",
       "  \"isn't\",\n",
       "  'ma',\n",
       "  'mightn',\n",
       "  \"mightn't\",\n",
       "  'mustn',\n",
       "  \"mustn't\",\n",
       "  'needn',\n",
       "  \"needn't\",\n",
       "  'shan',\n",
       "  \"shan't\",\n",
       "  'shouldn',\n",
       "  \"shouldn't\",\n",
       "  'wasn',\n",
       "  \"wasn't\",\n",
       "  'weren',\n",
       "  \"weren't\",\n",
       "  'won',\n",
       "  \"won't\",\n",
       "  'wouldn',\n",
       "  \"wouldn't\"]}"
      ]
     },
     "execution_count": 216,
     "metadata": {},
     "output_type": "execute_result"
    }
   ],
   "source": [
    "boost_gs.best_params_"
   ]
  },
  {
   "cell_type": "code",
   "execution_count": null,
   "id": "3e21d1dc-0efc-417f-ae66-0bcfe236e582",
   "metadata": {
    "id": "3e21d1dc-0efc-417f-ae66-0bcfe236e582",
    "outputId": "9a03e1d0-7183-499b-d5be-084202959904"
   },
   "outputs": [
    {
     "data": {
      "text/plain": [
       "0.6964573268921095"
      ]
     },
     "execution_count": 354,
     "metadata": {},
     "output_type": "execute_result"
    }
   ],
   "source": [
    "xboost_gs.score(X_test, y_test)"
   ]
  },
  {
   "cell_type": "code",
   "execution_count": null,
   "id": "4117061a-dc89-4fe5-8b32-013c3a316b42",
   "metadata": {
    "id": "4117061a-dc89-4fe5-8b32-013c3a316b42",
    "outputId": "2a029a71-4631-480c-fa7d-4ba99578b9c2"
   },
   "outputs": [
    {
     "data": {
      "text/plain": [
       "0.7174496644295302"
      ]
     },
     "execution_count": 353,
     "metadata": {},
     "output_type": "execute_result"
    }
   ],
   "source": [
    "xboost_gs.score(X_train, y_train)"
   ]
  },
  {
   "cell_type": "code",
   "execution_count": null,
   "id": "de788412-6325-454c-b004-1b07d65c64f3",
   "metadata": {
    "id": "de788412-6325-454c-b004-1b07d65c64f3",
    "outputId": "aec6a59b-e4fe-4576-9cee-ea81f8a4c959"
   },
   "outputs": [
    {
     "data": {
      "text/plain": [
       "0.8122147651006711"
      ]
     },
     "execution_count": 215,
     "metadata": {},
     "output_type": "execute_result"
    }
   ],
   "source": [
    "xboost_gs.score(X_train, y_train)\n",
    "#first attempt score "
   ]
  },
  {
   "cell_type": "code",
   "execution_count": null,
   "id": "5a5571a3-bde2-4edd-ab42-a214ca436a7b",
   "metadata": {
    "id": "5a5571a3-bde2-4edd-ab42-a214ca436a7b"
   },
   "outputs": [],
   "source": [
    " # deccent score"
   ]
  },
  {
   "cell_type": "code",
   "execution_count": null,
   "id": "7a4bb988-c934-46a6-abe6-76e8fe17f491",
   "metadata": {
    "id": "7a4bb988-c934-46a6-abe6-76e8fe17f491",
    "outputId": "a4c75efc-d546-4ef7-9f16-41471be2b43f"
   },
   "outputs": [
    {
     "data": {
      "text/plain": [
       "0.7326892109500805"
      ]
     },
     "execution_count": 214,
     "metadata": {},
     "output_type": "execute_result"
    }
   ],
   "source": [
    "xboost_gs.score(X_test, y_test)"
   ]
  },
  {
   "cell_type": "markdown",
   "id": "LwUAxDfzUi62",
   "metadata": {
    "id": "LwUAxDfzUi62"
   },
   "source": [
    "## Below I loaded in the best estimators to save them if my kernal crashed and to load them inton stacked models"
   ]
  },
  {
   "cell_type": "code",
   "execution_count": null,
   "id": "9be21848-6268-4004-97fa-040a30168def",
   "metadata": {
    "id": "9be21848-6268-4004-97fa-040a30168def",
    "outputId": "5674fbd4-d679-4989-a7ec-bf233bc2b2fe"
   },
   "outputs": [
    {
     "data": {
      "text/html": [
       "<style>#sk-container-id-17 {color: black;background-color: white;}#sk-container-id-17 pre{padding: 0;}#sk-container-id-17 div.sk-toggleable {background-color: white;}#sk-container-id-17 label.sk-toggleable__label {cursor: pointer;display: block;width: 100%;margin-bottom: 0;padding: 0.3em;box-sizing: border-box;text-align: center;}#sk-container-id-17 label.sk-toggleable__label-arrow:before {content: \"▸\";float: left;margin-right: 0.25em;color: #696969;}#sk-container-id-17 label.sk-toggleable__label-arrow:hover:before {color: black;}#sk-container-id-17 div.sk-estimator:hover label.sk-toggleable__label-arrow:before {color: black;}#sk-container-id-17 div.sk-toggleable__content {max-height: 0;max-width: 0;overflow: hidden;text-align: left;background-color: #f0f8ff;}#sk-container-id-17 div.sk-toggleable__content pre {margin: 0.2em;color: black;border-radius: 0.25em;background-color: #f0f8ff;}#sk-container-id-17 input.sk-toggleable__control:checked~div.sk-toggleable__content {max-height: 200px;max-width: 100%;overflow: auto;}#sk-container-id-17 input.sk-toggleable__control:checked~label.sk-toggleable__label-arrow:before {content: \"▾\";}#sk-container-id-17 div.sk-estimator input.sk-toggleable__control:checked~label.sk-toggleable__label {background-color: #d4ebff;}#sk-container-id-17 div.sk-label input.sk-toggleable__control:checked~label.sk-toggleable__label {background-color: #d4ebff;}#sk-container-id-17 input.sk-hidden--visually {border: 0;clip: rect(1px 1px 1px 1px);clip: rect(1px, 1px, 1px, 1px);height: 1px;margin: -1px;overflow: hidden;padding: 0;position: absolute;width: 1px;}#sk-container-id-17 div.sk-estimator {font-family: monospace;background-color: #f0f8ff;border: 1px dotted black;border-radius: 0.25em;box-sizing: border-box;margin-bottom: 0.5em;}#sk-container-id-17 div.sk-estimator:hover {background-color: #d4ebff;}#sk-container-id-17 div.sk-parallel-item::after {content: \"\";width: 100%;border-bottom: 1px solid gray;flex-grow: 1;}#sk-container-id-17 div.sk-label:hover label.sk-toggleable__label {background-color: #d4ebff;}#sk-container-id-17 div.sk-serial::before {content: \"\";position: absolute;border-left: 1px solid gray;box-sizing: border-box;top: 0;bottom: 0;left: 50%;z-index: 0;}#sk-container-id-17 div.sk-serial {display: flex;flex-direction: column;align-items: center;background-color: white;padding-right: 0.2em;padding-left: 0.2em;position: relative;}#sk-container-id-17 div.sk-item {position: relative;z-index: 1;}#sk-container-id-17 div.sk-parallel {display: flex;align-items: stretch;justify-content: center;background-color: white;position: relative;}#sk-container-id-17 div.sk-item::before, #sk-container-id-17 div.sk-parallel-item::before {content: \"\";position: absolute;border-left: 1px solid gray;box-sizing: border-box;top: 0;bottom: 0;left: 50%;z-index: -1;}#sk-container-id-17 div.sk-parallel-item {display: flex;flex-direction: column;z-index: 1;position: relative;background-color: white;}#sk-container-id-17 div.sk-parallel-item:first-child::after {align-self: flex-end;width: 50%;}#sk-container-id-17 div.sk-parallel-item:last-child::after {align-self: flex-start;width: 50%;}#sk-container-id-17 div.sk-parallel-item:only-child::after {width: 0;}#sk-container-id-17 div.sk-dashed-wrapped {border: 1px dashed gray;margin: 0 0.4em 0.5em 0.4em;box-sizing: border-box;padding-bottom: 0.4em;background-color: white;}#sk-container-id-17 div.sk-label label {font-family: monospace;font-weight: bold;display: inline-block;line-height: 1.2em;}#sk-container-id-17 div.sk-label-container {text-align: center;}#sk-container-id-17 div.sk-container {/* jupyter's `normalize.less` sets `[hidden] { display: none; }` but bootstrap.min.css set `[hidden] { display: none !important; }` so we also need the `!important` here to be able to override the default hidden behavior on the sphinx rendered scikit-learn.org. See: https://github.com/scikit-learn/scikit-learn/issues/21755 */display: inline-block !important;position: relative;}#sk-container-id-17 div.sk-text-repr-fallback {display: none;}</style><div id=\"sk-container-id-17\" class=\"sk-top-container\"><div class=\"sk-text-repr-fallback\"><pre>Pipeline(steps=[(&#x27;cvec&#x27;,\n",
       "                 CountVectorizer(max_df=0.9, max_features=16000,\n",
       "                                 stop_words=&#x27;english&#x27;)),\n",
       "                (&#x27;nb&#x27;, MultinomialNB())])</pre><b>In a Jupyter environment, please rerun this cell to show the HTML representation or trust the notebook. <br />On GitHub, the HTML representation is unable to render, please try loading this page with nbviewer.org.</b></div><div class=\"sk-container\" hidden><div class=\"sk-item sk-dashed-wrapped\"><div class=\"sk-label-container\"><div class=\"sk-label sk-toggleable\"><input class=\"sk-toggleable__control sk-hidden--visually\" id=\"sk-estimator-id-90\" type=\"checkbox\" ><label for=\"sk-estimator-id-90\" class=\"sk-toggleable__label sk-toggleable__label-arrow\">Pipeline</label><div class=\"sk-toggleable__content\"><pre>Pipeline(steps=[(&#x27;cvec&#x27;,\n",
       "                 CountVectorizer(max_df=0.9, max_features=16000,\n",
       "                                 stop_words=&#x27;english&#x27;)),\n",
       "                (&#x27;nb&#x27;, MultinomialNB())])</pre></div></div></div><div class=\"sk-serial\"><div class=\"sk-item\"><div class=\"sk-estimator sk-toggleable\"><input class=\"sk-toggleable__control sk-hidden--visually\" id=\"sk-estimator-id-91\" type=\"checkbox\" ><label for=\"sk-estimator-id-91\" class=\"sk-toggleable__label sk-toggleable__label-arrow\">CountVectorizer</label><div class=\"sk-toggleable__content\"><pre>CountVectorizer(max_df=0.9, max_features=16000, stop_words=&#x27;english&#x27;)</pre></div></div></div><div class=\"sk-item\"><div class=\"sk-estimator sk-toggleable\"><input class=\"sk-toggleable__control sk-hidden--visually\" id=\"sk-estimator-id-92\" type=\"checkbox\" ><label for=\"sk-estimator-id-92\" class=\"sk-toggleable__label sk-toggleable__label-arrow\">MultinomialNB</label><div class=\"sk-toggleable__content\"><pre>MultinomialNB()</pre></div></div></div></div></div></div></div>"
      ],
      "text/plain": [
       "Pipeline(steps=[('cvec',\n",
       "                 CountVectorizer(max_df=0.9, max_features=16000,\n",
       "                                 stop_words='english')),\n",
       "                ('nb', MultinomialNB())])"
      ]
     },
     "execution_count": 367,
     "metadata": {},
     "output_type": "execute_result"
    }
   ],
   "source": [
    "nb_gs.best_estimator_"
   ]
  },
  {
   "cell_type": "code",
   "execution_count": null,
   "id": "311e83b1-6723-4af0-b98f-b2af845c81b7",
   "metadata": {
    "id": "311e83b1-6723-4af0-b98f-b2af845c81b7",
    "outputId": "002ab68c-29f8-4efa-c390-e079721cc3c5"
   },
   "outputs": [
    {
     "data": {
      "text/html": [
       "<style>#sk-container-id-18 {color: black;background-color: white;}#sk-container-id-18 pre{padding: 0;}#sk-container-id-18 div.sk-toggleable {background-color: white;}#sk-container-id-18 label.sk-toggleable__label {cursor: pointer;display: block;width: 100%;margin-bottom: 0;padding: 0.3em;box-sizing: border-box;text-align: center;}#sk-container-id-18 label.sk-toggleable__label-arrow:before {content: \"▸\";float: left;margin-right: 0.25em;color: #696969;}#sk-container-id-18 label.sk-toggleable__label-arrow:hover:before {color: black;}#sk-container-id-18 div.sk-estimator:hover label.sk-toggleable__label-arrow:before {color: black;}#sk-container-id-18 div.sk-toggleable__content {max-height: 0;max-width: 0;overflow: hidden;text-align: left;background-color: #f0f8ff;}#sk-container-id-18 div.sk-toggleable__content pre {margin: 0.2em;color: black;border-radius: 0.25em;background-color: #f0f8ff;}#sk-container-id-18 input.sk-toggleable__control:checked~div.sk-toggleable__content {max-height: 200px;max-width: 100%;overflow: auto;}#sk-container-id-18 input.sk-toggleable__control:checked~label.sk-toggleable__label-arrow:before {content: \"▾\";}#sk-container-id-18 div.sk-estimator input.sk-toggleable__control:checked~label.sk-toggleable__label {background-color: #d4ebff;}#sk-container-id-18 div.sk-label input.sk-toggleable__control:checked~label.sk-toggleable__label {background-color: #d4ebff;}#sk-container-id-18 input.sk-hidden--visually {border: 0;clip: rect(1px 1px 1px 1px);clip: rect(1px, 1px, 1px, 1px);height: 1px;margin: -1px;overflow: hidden;padding: 0;position: absolute;width: 1px;}#sk-container-id-18 div.sk-estimator {font-family: monospace;background-color: #f0f8ff;border: 1px dotted black;border-radius: 0.25em;box-sizing: border-box;margin-bottom: 0.5em;}#sk-container-id-18 div.sk-estimator:hover {background-color: #d4ebff;}#sk-container-id-18 div.sk-parallel-item::after {content: \"\";width: 100%;border-bottom: 1px solid gray;flex-grow: 1;}#sk-container-id-18 div.sk-label:hover label.sk-toggleable__label {background-color: #d4ebff;}#sk-container-id-18 div.sk-serial::before {content: \"\";position: absolute;border-left: 1px solid gray;box-sizing: border-box;top: 0;bottom: 0;left: 50%;z-index: 0;}#sk-container-id-18 div.sk-serial {display: flex;flex-direction: column;align-items: center;background-color: white;padding-right: 0.2em;padding-left: 0.2em;position: relative;}#sk-container-id-18 div.sk-item {position: relative;z-index: 1;}#sk-container-id-18 div.sk-parallel {display: flex;align-items: stretch;justify-content: center;background-color: white;position: relative;}#sk-container-id-18 div.sk-item::before, #sk-container-id-18 div.sk-parallel-item::before {content: \"\";position: absolute;border-left: 1px solid gray;box-sizing: border-box;top: 0;bottom: 0;left: 50%;z-index: -1;}#sk-container-id-18 div.sk-parallel-item {display: flex;flex-direction: column;z-index: 1;position: relative;background-color: white;}#sk-container-id-18 div.sk-parallel-item:first-child::after {align-self: flex-end;width: 50%;}#sk-container-id-18 div.sk-parallel-item:last-child::after {align-self: flex-start;width: 50%;}#sk-container-id-18 div.sk-parallel-item:only-child::after {width: 0;}#sk-container-id-18 div.sk-dashed-wrapped {border: 1px dashed gray;margin: 0 0.4em 0.5em 0.4em;box-sizing: border-box;padding-bottom: 0.4em;background-color: white;}#sk-container-id-18 div.sk-label label {font-family: monospace;font-weight: bold;display: inline-block;line-height: 1.2em;}#sk-container-id-18 div.sk-label-container {text-align: center;}#sk-container-id-18 div.sk-container {/* jupyter's `normalize.less` sets `[hidden] { display: none; }` but bootstrap.min.css set `[hidden] { display: none !important; }` so we also need the `!important` here to be able to override the default hidden behavior on the sphinx rendered scikit-learn.org. See: https://github.com/scikit-learn/scikit-learn/issues/21755 */display: inline-block !important;position: relative;}#sk-container-id-18 div.sk-text-repr-fallback {display: none;}</style><div id=\"sk-container-id-18\" class=\"sk-top-container\"><div class=\"sk-text-repr-fallback\"><pre>Pipeline(steps=[(&#x27;cvec&#x27;,\n",
       "                 CountVectorizer(max_df=0.7, max_features=2000,\n",
       "                                 ngram_range=(1, 2),\n",
       "                                 stop_words=[&#x27;i&#x27;, &#x27;me&#x27;, &#x27;my&#x27;, &#x27;myself&#x27;, &#x27;we&#x27;,\n",
       "                                             &#x27;our&#x27;, &#x27;ours&#x27;, &#x27;ourselves&#x27;, &#x27;you&#x27;,\n",
       "                                             &quot;you&#x27;re&quot;, &quot;you&#x27;ve&quot;, &quot;you&#x27;ll&quot;,\n",
       "                                             &quot;you&#x27;d&quot;, &#x27;your&#x27;, &#x27;yours&#x27;,\n",
       "                                             &#x27;yourself&#x27;, &#x27;yourselves&#x27;, &#x27;he&#x27;,\n",
       "                                             &#x27;him&#x27;, &#x27;his&#x27;, &#x27;himself&#x27;, &#x27;she&#x27;,\n",
       "                                             &quot;she&#x27;s&quot;, &#x27;her&#x27;, &#x27;hers&#x27;, &#x27;herself&#x27;,\n",
       "                                             &#x27;it&#x27;, &quot;it&#x27;s&quot;, &#x27;its&#x27;, &#x27;itself&#x27;, ...])),\n",
       "                (&#x27;ss&#x27;, StandardScaler(with_mean=False)),\n",
       "                (&#x27;boost&#x27;, AdaBoostClassifier())])</pre><b>In a Jupyter environment, please rerun this cell to show the HTML representation or trust the notebook. <br />On GitHub, the HTML representation is unable to render, please try loading this page with nbviewer.org.</b></div><div class=\"sk-container\" hidden><div class=\"sk-item sk-dashed-wrapped\"><div class=\"sk-label-container\"><div class=\"sk-label sk-toggleable\"><input class=\"sk-toggleable__control sk-hidden--visually\" id=\"sk-estimator-id-93\" type=\"checkbox\" ><label for=\"sk-estimator-id-93\" class=\"sk-toggleable__label sk-toggleable__label-arrow\">Pipeline</label><div class=\"sk-toggleable__content\"><pre>Pipeline(steps=[(&#x27;cvec&#x27;,\n",
       "                 CountVectorizer(max_df=0.7, max_features=2000,\n",
       "                                 ngram_range=(1, 2),\n",
       "                                 stop_words=[&#x27;i&#x27;, &#x27;me&#x27;, &#x27;my&#x27;, &#x27;myself&#x27;, &#x27;we&#x27;,\n",
       "                                             &#x27;our&#x27;, &#x27;ours&#x27;, &#x27;ourselves&#x27;, &#x27;you&#x27;,\n",
       "                                             &quot;you&#x27;re&quot;, &quot;you&#x27;ve&quot;, &quot;you&#x27;ll&quot;,\n",
       "                                             &quot;you&#x27;d&quot;, &#x27;your&#x27;, &#x27;yours&#x27;,\n",
       "                                             &#x27;yourself&#x27;, &#x27;yourselves&#x27;, &#x27;he&#x27;,\n",
       "                                             &#x27;him&#x27;, &#x27;his&#x27;, &#x27;himself&#x27;, &#x27;she&#x27;,\n",
       "                                             &quot;she&#x27;s&quot;, &#x27;her&#x27;, &#x27;hers&#x27;, &#x27;herself&#x27;,\n",
       "                                             &#x27;it&#x27;, &quot;it&#x27;s&quot;, &#x27;its&#x27;, &#x27;itself&#x27;, ...])),\n",
       "                (&#x27;ss&#x27;, StandardScaler(with_mean=False)),\n",
       "                (&#x27;boost&#x27;, AdaBoostClassifier())])</pre></div></div></div><div class=\"sk-serial\"><div class=\"sk-item\"><div class=\"sk-estimator sk-toggleable\"><input class=\"sk-toggleable__control sk-hidden--visually\" id=\"sk-estimator-id-94\" type=\"checkbox\" ><label for=\"sk-estimator-id-94\" class=\"sk-toggleable__label sk-toggleable__label-arrow\">CountVectorizer</label><div class=\"sk-toggleable__content\"><pre>CountVectorizer(max_df=0.7, max_features=2000, ngram_range=(1, 2),\n",
       "                stop_words=[&#x27;i&#x27;, &#x27;me&#x27;, &#x27;my&#x27;, &#x27;myself&#x27;, &#x27;we&#x27;, &#x27;our&#x27;, &#x27;ours&#x27;,\n",
       "                            &#x27;ourselves&#x27;, &#x27;you&#x27;, &quot;you&#x27;re&quot;, &quot;you&#x27;ve&quot;, &quot;you&#x27;ll&quot;,\n",
       "                            &quot;you&#x27;d&quot;, &#x27;your&#x27;, &#x27;yours&#x27;, &#x27;yourself&#x27;, &#x27;yourselves&#x27;,\n",
       "                            &#x27;he&#x27;, &#x27;him&#x27;, &#x27;his&#x27;, &#x27;himself&#x27;, &#x27;she&#x27;, &quot;she&#x27;s&quot;,\n",
       "                            &#x27;her&#x27;, &#x27;hers&#x27;, &#x27;herself&#x27;, &#x27;it&#x27;, &quot;it&#x27;s&quot;, &#x27;its&#x27;,\n",
       "                            &#x27;itself&#x27;, ...])</pre></div></div></div><div class=\"sk-item\"><div class=\"sk-estimator sk-toggleable\"><input class=\"sk-toggleable__control sk-hidden--visually\" id=\"sk-estimator-id-95\" type=\"checkbox\" ><label for=\"sk-estimator-id-95\" class=\"sk-toggleable__label sk-toggleable__label-arrow\">StandardScaler</label><div class=\"sk-toggleable__content\"><pre>StandardScaler(with_mean=False)</pre></div></div></div><div class=\"sk-item\"><div class=\"sk-estimator sk-toggleable\"><input class=\"sk-toggleable__control sk-hidden--visually\" id=\"sk-estimator-id-96\" type=\"checkbox\" ><label for=\"sk-estimator-id-96\" class=\"sk-toggleable__label sk-toggleable__label-arrow\">AdaBoostClassifier</label><div class=\"sk-toggleable__content\"><pre>AdaBoostClassifier()</pre></div></div></div></div></div></div></div>"
      ],
      "text/plain": [
       "Pipeline(steps=[('cvec',\n",
       "                 CountVectorizer(max_df=0.7, max_features=2000,\n",
       "                                 ngram_range=(1, 2),\n",
       "                                 stop_words=['i', 'me', 'my', 'myself', 'we',\n",
       "                                             'our', 'ours', 'ourselves', 'you',\n",
       "                                             \"you're\", \"you've\", \"you'll\",\n",
       "                                             \"you'd\", 'your', 'yours',\n",
       "                                             'yourself', 'yourselves', 'he',\n",
       "                                             'him', 'his', 'himself', 'she',\n",
       "                                             \"she's\", 'her', 'hers', 'herself',\n",
       "                                             'it', \"it's\", 'its', 'itself', ...])),\n",
       "                ('ss', StandardScaler(with_mean=False)),\n",
       "                ('boost', AdaBoostClassifier())])"
      ]
     },
     "execution_count": 368,
     "metadata": {},
     "output_type": "execute_result"
    }
   ],
   "source": [
    "xboost_gs.best_estimator_"
   ]
  },
  {
   "cell_type": "code",
   "execution_count": null,
   "id": "6bd85224-7654-4611-8204-cbcb8e74787c",
   "metadata": {
    "id": "6bd85224-7654-4611-8204-cbcb8e74787c",
    "outputId": "4edf5a2d-7fe1-48b4-f92e-cdd1746ed64c"
   },
   "outputs": [
    {
     "data": {
      "text/html": [
       "<style>#sk-container-id-19 {color: black;background-color: white;}#sk-container-id-19 pre{padding: 0;}#sk-container-id-19 div.sk-toggleable {background-color: white;}#sk-container-id-19 label.sk-toggleable__label {cursor: pointer;display: block;width: 100%;margin-bottom: 0;padding: 0.3em;box-sizing: border-box;text-align: center;}#sk-container-id-19 label.sk-toggleable__label-arrow:before {content: \"▸\";float: left;margin-right: 0.25em;color: #696969;}#sk-container-id-19 label.sk-toggleable__label-arrow:hover:before {color: black;}#sk-container-id-19 div.sk-estimator:hover label.sk-toggleable__label-arrow:before {color: black;}#sk-container-id-19 div.sk-toggleable__content {max-height: 0;max-width: 0;overflow: hidden;text-align: left;background-color: #f0f8ff;}#sk-container-id-19 div.sk-toggleable__content pre {margin: 0.2em;color: black;border-radius: 0.25em;background-color: #f0f8ff;}#sk-container-id-19 input.sk-toggleable__control:checked~div.sk-toggleable__content {max-height: 200px;max-width: 100%;overflow: auto;}#sk-container-id-19 input.sk-toggleable__control:checked~label.sk-toggleable__label-arrow:before {content: \"▾\";}#sk-container-id-19 div.sk-estimator input.sk-toggleable__control:checked~label.sk-toggleable__label {background-color: #d4ebff;}#sk-container-id-19 div.sk-label input.sk-toggleable__control:checked~label.sk-toggleable__label {background-color: #d4ebff;}#sk-container-id-19 input.sk-hidden--visually {border: 0;clip: rect(1px 1px 1px 1px);clip: rect(1px, 1px, 1px, 1px);height: 1px;margin: -1px;overflow: hidden;padding: 0;position: absolute;width: 1px;}#sk-container-id-19 div.sk-estimator {font-family: monospace;background-color: #f0f8ff;border: 1px dotted black;border-radius: 0.25em;box-sizing: border-box;margin-bottom: 0.5em;}#sk-container-id-19 div.sk-estimator:hover {background-color: #d4ebff;}#sk-container-id-19 div.sk-parallel-item::after {content: \"\";width: 100%;border-bottom: 1px solid gray;flex-grow: 1;}#sk-container-id-19 div.sk-label:hover label.sk-toggleable__label {background-color: #d4ebff;}#sk-container-id-19 div.sk-serial::before {content: \"\";position: absolute;border-left: 1px solid gray;box-sizing: border-box;top: 0;bottom: 0;left: 50%;z-index: 0;}#sk-container-id-19 div.sk-serial {display: flex;flex-direction: column;align-items: center;background-color: white;padding-right: 0.2em;padding-left: 0.2em;position: relative;}#sk-container-id-19 div.sk-item {position: relative;z-index: 1;}#sk-container-id-19 div.sk-parallel {display: flex;align-items: stretch;justify-content: center;background-color: white;position: relative;}#sk-container-id-19 div.sk-item::before, #sk-container-id-19 div.sk-parallel-item::before {content: \"\";position: absolute;border-left: 1px solid gray;box-sizing: border-box;top: 0;bottom: 0;left: 50%;z-index: -1;}#sk-container-id-19 div.sk-parallel-item {display: flex;flex-direction: column;z-index: 1;position: relative;background-color: white;}#sk-container-id-19 div.sk-parallel-item:first-child::after {align-self: flex-end;width: 50%;}#sk-container-id-19 div.sk-parallel-item:last-child::after {align-self: flex-start;width: 50%;}#sk-container-id-19 div.sk-parallel-item:only-child::after {width: 0;}#sk-container-id-19 div.sk-dashed-wrapped {border: 1px dashed gray;margin: 0 0.4em 0.5em 0.4em;box-sizing: border-box;padding-bottom: 0.4em;background-color: white;}#sk-container-id-19 div.sk-label label {font-family: monospace;font-weight: bold;display: inline-block;line-height: 1.2em;}#sk-container-id-19 div.sk-label-container {text-align: center;}#sk-container-id-19 div.sk-container {/* jupyter's `normalize.less` sets `[hidden] { display: none; }` but bootstrap.min.css set `[hidden] { display: none !important; }` so we also need the `!important` here to be able to override the default hidden behavior on the sphinx rendered scikit-learn.org. See: https://github.com/scikit-learn/scikit-learn/issues/21755 */display: inline-block !important;position: relative;}#sk-container-id-19 div.sk-text-repr-fallback {display: none;}</style><div id=\"sk-container-id-19\" class=\"sk-top-container\"><div class=\"sk-text-repr-fallback\"><pre>Pipeline(steps=[(&#x27;prep&#x27;,\n",
       "                 ColumnTransformer(remainder=&#x27;passthrough&#x27;,\n",
       "                                   transformers=[(&#x27;cvec&#x27;,\n",
       "                                                  CountVectorizer(max_df=0.8,\n",
       "                                                                  max_features=15000,\n",
       "                                                                  ngram_range=(1,\n",
       "                                                                               2),\n",
       "                                                                  stop_words=&#x27;english&#x27;),\n",
       "                                                  &#x27;no_links_2&#x27;),\n",
       "                                                 (&#x27;scaler&#x27;, StandardScaler(),\n",
       "                                                  [&#x27;compound&#x27;,\n",
       "                                                   &#x27;post_word_count&#x27;])])),\n",
       "                (&#x27;ss&#x27;, StandardScaler(with_mean=False)),\n",
       "                (&#x27;rf&#x27;,\n",
       "                 RandomForestClassifier(ccp_alpha=0, min_samples_split=5))])</pre><b>In a Jupyter environment, please rerun this cell to show the HTML representation or trust the notebook. <br />On GitHub, the HTML representation is unable to render, please try loading this page with nbviewer.org.</b></div><div class=\"sk-container\" hidden><div class=\"sk-item sk-dashed-wrapped\"><div class=\"sk-label-container\"><div class=\"sk-label sk-toggleable\"><input class=\"sk-toggleable__control sk-hidden--visually\" id=\"sk-estimator-id-97\" type=\"checkbox\" ><label for=\"sk-estimator-id-97\" class=\"sk-toggleable__label sk-toggleable__label-arrow\">Pipeline</label><div class=\"sk-toggleable__content\"><pre>Pipeline(steps=[(&#x27;prep&#x27;,\n",
       "                 ColumnTransformer(remainder=&#x27;passthrough&#x27;,\n",
       "                                   transformers=[(&#x27;cvec&#x27;,\n",
       "                                                  CountVectorizer(max_df=0.8,\n",
       "                                                                  max_features=15000,\n",
       "                                                                  ngram_range=(1,\n",
       "                                                                               2),\n",
       "                                                                  stop_words=&#x27;english&#x27;),\n",
       "                                                  &#x27;no_links_2&#x27;),\n",
       "                                                 (&#x27;scaler&#x27;, StandardScaler(),\n",
       "                                                  [&#x27;compound&#x27;,\n",
       "                                                   &#x27;post_word_count&#x27;])])),\n",
       "                (&#x27;ss&#x27;, StandardScaler(with_mean=False)),\n",
       "                (&#x27;rf&#x27;,\n",
       "                 RandomForestClassifier(ccp_alpha=0, min_samples_split=5))])</pre></div></div></div><div class=\"sk-serial\"><div class=\"sk-item sk-dashed-wrapped\"><div class=\"sk-label-container\"><div class=\"sk-label sk-toggleable\"><input class=\"sk-toggleable__control sk-hidden--visually\" id=\"sk-estimator-id-98\" type=\"checkbox\" ><label for=\"sk-estimator-id-98\" class=\"sk-toggleable__label sk-toggleable__label-arrow\">prep: ColumnTransformer</label><div class=\"sk-toggleable__content\"><pre>ColumnTransformer(remainder=&#x27;passthrough&#x27;,\n",
       "                  transformers=[(&#x27;cvec&#x27;,\n",
       "                                 CountVectorizer(max_df=0.8, max_features=15000,\n",
       "                                                 ngram_range=(1, 2),\n",
       "                                                 stop_words=&#x27;english&#x27;),\n",
       "                                 &#x27;no_links_2&#x27;),\n",
       "                                (&#x27;scaler&#x27;, StandardScaler(),\n",
       "                                 [&#x27;compound&#x27;, &#x27;post_word_count&#x27;])])</pre></div></div></div><div class=\"sk-parallel\"><div class=\"sk-parallel-item\"><div class=\"sk-item\"><div class=\"sk-label-container\"><div class=\"sk-label sk-toggleable\"><input class=\"sk-toggleable__control sk-hidden--visually\" id=\"sk-estimator-id-99\" type=\"checkbox\" ><label for=\"sk-estimator-id-99\" class=\"sk-toggleable__label sk-toggleable__label-arrow\">cvec</label><div class=\"sk-toggleable__content\"><pre>no_links_2</pre></div></div></div><div class=\"sk-serial\"><div class=\"sk-item\"><div class=\"sk-estimator sk-toggleable\"><input class=\"sk-toggleable__control sk-hidden--visually\" id=\"sk-estimator-id-100\" type=\"checkbox\" ><label for=\"sk-estimator-id-100\" class=\"sk-toggleable__label sk-toggleable__label-arrow\">CountVectorizer</label><div class=\"sk-toggleable__content\"><pre>CountVectorizer(max_df=0.8, max_features=15000, ngram_range=(1, 2),\n",
       "                stop_words=&#x27;english&#x27;)</pre></div></div></div></div></div></div><div class=\"sk-parallel-item\"><div class=\"sk-item\"><div class=\"sk-label-container\"><div class=\"sk-label sk-toggleable\"><input class=\"sk-toggleable__control sk-hidden--visually\" id=\"sk-estimator-id-101\" type=\"checkbox\" ><label for=\"sk-estimator-id-101\" class=\"sk-toggleable__label sk-toggleable__label-arrow\">scaler</label><div class=\"sk-toggleable__content\"><pre>[&#x27;compound&#x27;, &#x27;post_word_count&#x27;]</pre></div></div></div><div class=\"sk-serial\"><div class=\"sk-item\"><div class=\"sk-estimator sk-toggleable\"><input class=\"sk-toggleable__control sk-hidden--visually\" id=\"sk-estimator-id-102\" type=\"checkbox\" ><label for=\"sk-estimator-id-102\" class=\"sk-toggleable__label sk-toggleable__label-arrow\">StandardScaler</label><div class=\"sk-toggleable__content\"><pre>StandardScaler()</pre></div></div></div></div></div></div><div class=\"sk-parallel-item\"><div class=\"sk-item\"><div class=\"sk-label-container\"><div class=\"sk-label sk-toggleable\"><input class=\"sk-toggleable__control sk-hidden--visually\" id=\"sk-estimator-id-103\" type=\"checkbox\" ><label for=\"sk-estimator-id-103\" class=\"sk-toggleable__label sk-toggleable__label-arrow\">remainder</label><div class=\"sk-toggleable__content\"><pre>[&#x27;post_length&#x27;, &#x27;neg&#x27;, &#x27;neu&#x27;, &#x27;pos&#x27;]</pre></div></div></div><div class=\"sk-serial\"><div class=\"sk-item\"><div class=\"sk-estimator sk-toggleable\"><input class=\"sk-toggleable__control sk-hidden--visually\" id=\"sk-estimator-id-104\" type=\"checkbox\" ><label for=\"sk-estimator-id-104\" class=\"sk-toggleable__label sk-toggleable__label-arrow\">passthrough</label><div class=\"sk-toggleable__content\"><pre>passthrough</pre></div></div></div></div></div></div></div></div><div class=\"sk-item\"><div class=\"sk-estimator sk-toggleable\"><input class=\"sk-toggleable__control sk-hidden--visually\" id=\"sk-estimator-id-105\" type=\"checkbox\" ><label for=\"sk-estimator-id-105\" class=\"sk-toggleable__label sk-toggleable__label-arrow\">StandardScaler</label><div class=\"sk-toggleable__content\"><pre>StandardScaler(with_mean=False)</pre></div></div></div><div class=\"sk-item\"><div class=\"sk-estimator sk-toggleable\"><input class=\"sk-toggleable__control sk-hidden--visually\" id=\"sk-estimator-id-106\" type=\"checkbox\" ><label for=\"sk-estimator-id-106\" class=\"sk-toggleable__label sk-toggleable__label-arrow\">RandomForestClassifier</label><div class=\"sk-toggleable__content\"><pre>RandomForestClassifier(ccp_alpha=0, min_samples_split=5)</pre></div></div></div></div></div></div></div>"
      ],
      "text/plain": [
       "Pipeline(steps=[('prep',\n",
       "                 ColumnTransformer(remainder='passthrough',\n",
       "                                   transformers=[('cvec',\n",
       "                                                  CountVectorizer(max_df=0.8,\n",
       "                                                                  max_features=15000,\n",
       "                                                                  ngram_range=(1,\n",
       "                                                                               2),\n",
       "                                                                  stop_words='english'),\n",
       "                                                  'no_links_2'),\n",
       "                                                 ('scaler', StandardScaler(),\n",
       "                                                  ['compound',\n",
       "                                                   'post_word_count'])])),\n",
       "                ('ss', StandardScaler(with_mean=False)),\n",
       "                ('rf',\n",
       "                 RandomForestClassifier(ccp_alpha=0, min_samples_split=5))])"
      ]
     },
     "execution_count": 369,
     "metadata": {},
     "output_type": "execute_result"
    }
   ],
   "source": [
    "rf_gs.best_estimator_"
   ]
  },
  {
   "cell_type": "code",
   "execution_count": null,
   "id": "ab64b2f3-0c64-456e-9825-ce1186421bf5",
   "metadata": {
    "id": "ab64b2f3-0c64-456e-9825-ce1186421bf5"
   },
   "outputs": [],
   "source": [
    "# Stacked Model 1 This model performed the best of the stacked models and did not use lemmatization "
   ]
  },
  {
   "cell_type": "code",
   "execution_count": null,
   "id": "3c40f16e-907b-4c50-b3cc-932a0136f2a8",
   "metadata": {
    "id": "3c40f16e-907b-4c50-b3cc-932a0136f2a8"
   },
   "outputs": [],
   "source": [
    "level1_estimators = [\n",
    "    ('xb', xboost_gs.best_estimator_),\n",
    "    ('nb', nb_gs.best_estimator_),\n",
    "    ('rf', rf_gs2.best_estimator_),\n",
    "    ('pipe', Pipeline([\n",
    "        ('cvec', CountVectorizer(ngram_range=(1,1),stop_words='english',min_df=5,max_features=5000,max_df=0.7)),\n",
    "        ('ada', AdaBoostClassifier(base_estimator=LogisticRegression(),n_estimators=30))\n",
    "    ]))\n",
    "   \n",
    "]\n",
    "\n",
    "stacked_model = StackingClassifier(estimators=level1_estimators,\n",
    "                                 final_estimator=LogisticRegression())\n"
   ]
  },
  {
   "cell_type": "code",
   "execution_count": null,
   "id": "b9305092-4212-482c-9e8f-9ca5bb00d605",
   "metadata": {
    "id": "b9305092-4212-482c-9e8f-9ca5bb00d605",
    "outputId": "18eb827d-1554-4263-9f41-dd52622d0534"
   },
   "outputs": [
    {
     "data": {
      "text/html": [
       "<style>#sk-container-id-22 {color: black;background-color: white;}#sk-container-id-22 pre{padding: 0;}#sk-container-id-22 div.sk-toggleable {background-color: white;}#sk-container-id-22 label.sk-toggleable__label {cursor: pointer;display: block;width: 100%;margin-bottom: 0;padding: 0.3em;box-sizing: border-box;text-align: center;}#sk-container-id-22 label.sk-toggleable__label-arrow:before {content: \"▸\";float: left;margin-right: 0.25em;color: #696969;}#sk-container-id-22 label.sk-toggleable__label-arrow:hover:before {color: black;}#sk-container-id-22 div.sk-estimator:hover label.sk-toggleable__label-arrow:before {color: black;}#sk-container-id-22 div.sk-toggleable__content {max-height: 0;max-width: 0;overflow: hidden;text-align: left;background-color: #f0f8ff;}#sk-container-id-22 div.sk-toggleable__content pre {margin: 0.2em;color: black;border-radius: 0.25em;background-color: #f0f8ff;}#sk-container-id-22 input.sk-toggleable__control:checked~div.sk-toggleable__content {max-height: 200px;max-width: 100%;overflow: auto;}#sk-container-id-22 input.sk-toggleable__control:checked~label.sk-toggleable__label-arrow:before {content: \"▾\";}#sk-container-id-22 div.sk-estimator input.sk-toggleable__control:checked~label.sk-toggleable__label {background-color: #d4ebff;}#sk-container-id-22 div.sk-label input.sk-toggleable__control:checked~label.sk-toggleable__label {background-color: #d4ebff;}#sk-container-id-22 input.sk-hidden--visually {border: 0;clip: rect(1px 1px 1px 1px);clip: rect(1px, 1px, 1px, 1px);height: 1px;margin: -1px;overflow: hidden;padding: 0;position: absolute;width: 1px;}#sk-container-id-22 div.sk-estimator {font-family: monospace;background-color: #f0f8ff;border: 1px dotted black;border-radius: 0.25em;box-sizing: border-box;margin-bottom: 0.5em;}#sk-container-id-22 div.sk-estimator:hover {background-color: #d4ebff;}#sk-container-id-22 div.sk-parallel-item::after {content: \"\";width: 100%;border-bottom: 1px solid gray;flex-grow: 1;}#sk-container-id-22 div.sk-label:hover label.sk-toggleable__label {background-color: #d4ebff;}#sk-container-id-22 div.sk-serial::before {content: \"\";position: absolute;border-left: 1px solid gray;box-sizing: border-box;top: 0;bottom: 0;left: 50%;z-index: 0;}#sk-container-id-22 div.sk-serial {display: flex;flex-direction: column;align-items: center;background-color: white;padding-right: 0.2em;padding-left: 0.2em;position: relative;}#sk-container-id-22 div.sk-item {position: relative;z-index: 1;}#sk-container-id-22 div.sk-parallel {display: flex;align-items: stretch;justify-content: center;background-color: white;position: relative;}#sk-container-id-22 div.sk-item::before, #sk-container-id-22 div.sk-parallel-item::before {content: \"\";position: absolute;border-left: 1px solid gray;box-sizing: border-box;top: 0;bottom: 0;left: 50%;z-index: -1;}#sk-container-id-22 div.sk-parallel-item {display: flex;flex-direction: column;z-index: 1;position: relative;background-color: white;}#sk-container-id-22 div.sk-parallel-item:first-child::after {align-self: flex-end;width: 50%;}#sk-container-id-22 div.sk-parallel-item:last-child::after {align-self: flex-start;width: 50%;}#sk-container-id-22 div.sk-parallel-item:only-child::after {width: 0;}#sk-container-id-22 div.sk-dashed-wrapped {border: 1px dashed gray;margin: 0 0.4em 0.5em 0.4em;box-sizing: border-box;padding-bottom: 0.4em;background-color: white;}#sk-container-id-22 div.sk-label label {font-family: monospace;font-weight: bold;display: inline-block;line-height: 1.2em;}#sk-container-id-22 div.sk-label-container {text-align: center;}#sk-container-id-22 div.sk-container {/* jupyter's `normalize.less` sets `[hidden] { display: none; }` but bootstrap.min.css set `[hidden] { display: none !important; }` so we also need the `!important` here to be able to override the default hidden behavior on the sphinx rendered scikit-learn.org. See: https://github.com/scikit-learn/scikit-learn/issues/21755 */display: inline-block !important;position: relative;}#sk-container-id-22 div.sk-text-repr-fallback {display: none;}</style><div id=\"sk-container-id-22\" class=\"sk-top-container\"><div class=\"sk-text-repr-fallback\"><pre>StackingClassifier(estimators=[(&#x27;xb&#x27;,\n",
       "                                Pipeline(steps=[(&#x27;cvec&#x27;,\n",
       "                                                 CountVectorizer(max_df=0.7,\n",
       "                                                                 max_features=2000,\n",
       "                                                                 ngram_range=(1,\n",
       "                                                                              2),\n",
       "                                                                 stop_words=[&#x27;i&#x27;,\n",
       "                                                                             &#x27;me&#x27;,\n",
       "                                                                             &#x27;my&#x27;,\n",
       "                                                                             &#x27;myself&#x27;,\n",
       "                                                                             &#x27;we&#x27;,\n",
       "                                                                             &#x27;our&#x27;,\n",
       "                                                                             &#x27;ours&#x27;,\n",
       "                                                                             &#x27;ourselves&#x27;,\n",
       "                                                                             &#x27;you&#x27;,\n",
       "                                                                             &quot;you&#x27;re&quot;,\n",
       "                                                                             &quot;you&#x27;ve&quot;,\n",
       "                                                                             &quot;you&#x27;ll&quot;,\n",
       "                                                                             &quot;you&#x27;d&quot;,\n",
       "                                                                             &#x27;your&#x27;,\n",
       "                                                                             &#x27;yours&#x27;,\n",
       "                                                                             &#x27;yourself&#x27;,\n",
       "                                                                             &#x27;yourselves&#x27;,\n",
       "                                                                             &#x27;he&#x27;,\n",
       "                                                                             &#x27;him&#x27;,\n",
       "                                                                             &#x27;his&#x27;,\n",
       "                                                                             &#x27;himself&#x27;,\n",
       "                                                                             &#x27;she&#x27;,\n",
       "                                                                             &quot;she&#x27;s&quot;,\n",
       "                                                                             &#x27;her&#x27;,\n",
       "                                                                             &#x27;hers&#x27;,\n",
       "                                                                             &#x27;herself&#x27;,\n",
       "                                                                             &#x27;it&#x27;,\n",
       "                                                                             &quot;it&#x27;s&quot;,\n",
       "                                                                             &#x27;its&#x27;...\n",
       "                                                                             &#x27;itself&#x27;, ...])),\n",
       "                                                (&#x27;ss&#x27;,\n",
       "                                                 StandardScaler(with_mean=False)),\n",
       "                                                (&#x27;rf&#x27;,\n",
       "                                                 RandomForestClassifier(ccp_alpha=0,\n",
       "                                                                        min_samples_split=5))])),\n",
       "                               (&#x27;pipe&#x27;,\n",
       "                                Pipeline(steps=[(&#x27;cvec&#x27;,\n",
       "                                                 CountVectorizer(max_df=0.7,\n",
       "                                                                 max_features=5000,\n",
       "                                                                 min_df=5,\n",
       "                                                                 stop_words=&#x27;english&#x27;)),\n",
       "                                                (&#x27;ada&#x27;,\n",
       "                                                 AdaBoostClassifier(base_estimator=LogisticRegression(),\n",
       "                                                                    n_estimators=30))]))],\n",
       "                   final_estimator=LogisticRegression())</pre><b>In a Jupyter environment, please rerun this cell to show the HTML representation or trust the notebook. <br />On GitHub, the HTML representation is unable to render, please try loading this page with nbviewer.org.</b></div><div class=\"sk-container\" hidden><div class=\"sk-item sk-dashed-wrapped\"><div class=\"sk-label-container\"><div class=\"sk-label sk-toggleable\"><input class=\"sk-toggleable__control sk-hidden--visually\" id=\"sk-estimator-id-116\" type=\"checkbox\" ><label for=\"sk-estimator-id-116\" class=\"sk-toggleable__label sk-toggleable__label-arrow\">StackingClassifier</label><div class=\"sk-toggleable__content\"><pre>StackingClassifier(estimators=[(&#x27;xb&#x27;,\n",
       "                                Pipeline(steps=[(&#x27;cvec&#x27;,\n",
       "                                                 CountVectorizer(max_df=0.7,\n",
       "                                                                 max_features=2000,\n",
       "                                                                 ngram_range=(1,\n",
       "                                                                              2),\n",
       "                                                                 stop_words=[&#x27;i&#x27;,\n",
       "                                                                             &#x27;me&#x27;,\n",
       "                                                                             &#x27;my&#x27;,\n",
       "                                                                             &#x27;myself&#x27;,\n",
       "                                                                             &#x27;we&#x27;,\n",
       "                                                                             &#x27;our&#x27;,\n",
       "                                                                             &#x27;ours&#x27;,\n",
       "                                                                             &#x27;ourselves&#x27;,\n",
       "                                                                             &#x27;you&#x27;,\n",
       "                                                                             &quot;you&#x27;re&quot;,\n",
       "                                                                             &quot;you&#x27;ve&quot;,\n",
       "                                                                             &quot;you&#x27;ll&quot;,\n",
       "                                                                             &quot;you&#x27;d&quot;,\n",
       "                                                                             &#x27;your&#x27;,\n",
       "                                                                             &#x27;yours&#x27;,\n",
       "                                                                             &#x27;yourself&#x27;,\n",
       "                                                                             &#x27;yourselves&#x27;,\n",
       "                                                                             &#x27;he&#x27;,\n",
       "                                                                             &#x27;him&#x27;,\n",
       "                                                                             &#x27;his&#x27;,\n",
       "                                                                             &#x27;himself&#x27;,\n",
       "                                                                             &#x27;she&#x27;,\n",
       "                                                                             &quot;she&#x27;s&quot;,\n",
       "                                                                             &#x27;her&#x27;,\n",
       "                                                                             &#x27;hers&#x27;,\n",
       "                                                                             &#x27;herself&#x27;,\n",
       "                                                                             &#x27;it&#x27;,\n",
       "                                                                             &quot;it&#x27;s&quot;,\n",
       "                                                                             &#x27;its&#x27;...\n",
       "                                                                             &#x27;itself&#x27;, ...])),\n",
       "                                                (&#x27;ss&#x27;,\n",
       "                                                 StandardScaler(with_mean=False)),\n",
       "                                                (&#x27;rf&#x27;,\n",
       "                                                 RandomForestClassifier(ccp_alpha=0,\n",
       "                                                                        min_samples_split=5))])),\n",
       "                               (&#x27;pipe&#x27;,\n",
       "                                Pipeline(steps=[(&#x27;cvec&#x27;,\n",
       "                                                 CountVectorizer(max_df=0.7,\n",
       "                                                                 max_features=5000,\n",
       "                                                                 min_df=5,\n",
       "                                                                 stop_words=&#x27;english&#x27;)),\n",
       "                                                (&#x27;ada&#x27;,\n",
       "                                                 AdaBoostClassifier(base_estimator=LogisticRegression(),\n",
       "                                                                    n_estimators=30))]))],\n",
       "                   final_estimator=LogisticRegression())</pre></div></div></div><div class=\"sk-serial\"><div class=\"sk-item\"><div class=\"sk-parallel\"><div class=\"sk-parallel-item\"><div class=\"sk-item\"><div class=\"sk-label-container\"><div class=\"sk-label sk-toggleable\"><label>xb</label></div></div><div class=\"sk-serial\"><div class=\"sk-item\"><div class=\"sk-serial\"><div class=\"sk-item\"><div class=\"sk-estimator sk-toggleable\"><input class=\"sk-toggleable__control sk-hidden--visually\" id=\"sk-estimator-id-117\" type=\"checkbox\" ><label for=\"sk-estimator-id-117\" class=\"sk-toggleable__label sk-toggleable__label-arrow\">CountVectorizer</label><div class=\"sk-toggleable__content\"><pre>CountVectorizer(max_df=0.7, max_features=2000, ngram_range=(1, 2),\n",
       "                stop_words=[&#x27;i&#x27;, &#x27;me&#x27;, &#x27;my&#x27;, &#x27;myself&#x27;, &#x27;we&#x27;, &#x27;our&#x27;, &#x27;ours&#x27;,\n",
       "                            &#x27;ourselves&#x27;, &#x27;you&#x27;, &quot;you&#x27;re&quot;, &quot;you&#x27;ve&quot;, &quot;you&#x27;ll&quot;,\n",
       "                            &quot;you&#x27;d&quot;, &#x27;your&#x27;, &#x27;yours&#x27;, &#x27;yourself&#x27;, &#x27;yourselves&#x27;,\n",
       "                            &#x27;he&#x27;, &#x27;him&#x27;, &#x27;his&#x27;, &#x27;himself&#x27;, &#x27;she&#x27;, &quot;she&#x27;s&quot;,\n",
       "                            &#x27;her&#x27;, &#x27;hers&#x27;, &#x27;herself&#x27;, &#x27;it&#x27;, &quot;it&#x27;s&quot;, &#x27;its&#x27;,\n",
       "                            &#x27;itself&#x27;, ...])</pre></div></div></div><div class=\"sk-item\"><div class=\"sk-estimator sk-toggleable\"><input class=\"sk-toggleable__control sk-hidden--visually\" id=\"sk-estimator-id-118\" type=\"checkbox\" ><label for=\"sk-estimator-id-118\" class=\"sk-toggleable__label sk-toggleable__label-arrow\">StandardScaler</label><div class=\"sk-toggleable__content\"><pre>StandardScaler(with_mean=False)</pre></div></div></div><div class=\"sk-item\"><div class=\"sk-estimator sk-toggleable\"><input class=\"sk-toggleable__control sk-hidden--visually\" id=\"sk-estimator-id-119\" type=\"checkbox\" ><label for=\"sk-estimator-id-119\" class=\"sk-toggleable__label sk-toggleable__label-arrow\">AdaBoostClassifier</label><div class=\"sk-toggleable__content\"><pre>AdaBoostClassifier()</pre></div></div></div></div></div></div></div></div><div class=\"sk-parallel-item\"><div class=\"sk-item\"><div class=\"sk-label-container\"><div class=\"sk-label sk-toggleable\"><label>nb</label></div></div><div class=\"sk-serial\"><div class=\"sk-item\"><div class=\"sk-serial\"><div class=\"sk-item\"><div class=\"sk-estimator sk-toggleable\"><input class=\"sk-toggleable__control sk-hidden--visually\" id=\"sk-estimator-id-120\" type=\"checkbox\" ><label for=\"sk-estimator-id-120\" class=\"sk-toggleable__label sk-toggleable__label-arrow\">CountVectorizer</label><div class=\"sk-toggleable__content\"><pre>CountVectorizer(max_df=0.9, max_features=16000, stop_words=&#x27;english&#x27;)</pre></div></div></div><div class=\"sk-item\"><div class=\"sk-estimator sk-toggleable\"><input class=\"sk-toggleable__control sk-hidden--visually\" id=\"sk-estimator-id-121\" type=\"checkbox\" ><label for=\"sk-estimator-id-121\" class=\"sk-toggleable__label sk-toggleable__label-arrow\">MultinomialNB</label><div class=\"sk-toggleable__content\"><pre>MultinomialNB()</pre></div></div></div></div></div></div></div></div><div class=\"sk-parallel-item\"><div class=\"sk-item\"><div class=\"sk-label-container\"><div class=\"sk-label sk-toggleable\"><label>rf</label></div></div><div class=\"sk-serial\"><div class=\"sk-item\"><div class=\"sk-serial\"><div class=\"sk-item\"><div class=\"sk-estimator sk-toggleable\"><input class=\"sk-toggleable__control sk-hidden--visually\" id=\"sk-estimator-id-122\" type=\"checkbox\" ><label for=\"sk-estimator-id-122\" class=\"sk-toggleable__label sk-toggleable__label-arrow\">CountVectorizer</label><div class=\"sk-toggleable__content\"><pre>CountVectorizer(max_df=0.9, max_features=15000, ngram_range=(1, 2),\n",
       "                stop_words=[&#x27;i&#x27;, &#x27;me&#x27;, &#x27;my&#x27;, &#x27;myself&#x27;, &#x27;we&#x27;, &#x27;our&#x27;, &#x27;ours&#x27;,\n",
       "                            &#x27;ourselves&#x27;, &#x27;you&#x27;, &quot;you&#x27;re&quot;, &quot;you&#x27;ve&quot;, &quot;you&#x27;ll&quot;,\n",
       "                            &quot;you&#x27;d&quot;, &#x27;your&#x27;, &#x27;yours&#x27;, &#x27;yourself&#x27;, &#x27;yourselves&#x27;,\n",
       "                            &#x27;he&#x27;, &#x27;him&#x27;, &#x27;his&#x27;, &#x27;himself&#x27;, &#x27;she&#x27;, &quot;she&#x27;s&quot;,\n",
       "                            &#x27;her&#x27;, &#x27;hers&#x27;, &#x27;herself&#x27;, &#x27;it&#x27;, &quot;it&#x27;s&quot;, &#x27;its&#x27;,\n",
       "                            &#x27;itself&#x27;, ...])</pre></div></div></div><div class=\"sk-item\"><div class=\"sk-estimator sk-toggleable\"><input class=\"sk-toggleable__control sk-hidden--visually\" id=\"sk-estimator-id-123\" type=\"checkbox\" ><label for=\"sk-estimator-id-123\" class=\"sk-toggleable__label sk-toggleable__label-arrow\">StandardScaler</label><div class=\"sk-toggleable__content\"><pre>StandardScaler(with_mean=False)</pre></div></div></div><div class=\"sk-item\"><div class=\"sk-estimator sk-toggleable\"><input class=\"sk-toggleable__control sk-hidden--visually\" id=\"sk-estimator-id-124\" type=\"checkbox\" ><label for=\"sk-estimator-id-124\" class=\"sk-toggleable__label sk-toggleable__label-arrow\">RandomForestClassifier</label><div class=\"sk-toggleable__content\"><pre>RandomForestClassifier(ccp_alpha=0, min_samples_split=5)</pre></div></div></div></div></div></div></div></div><div class=\"sk-parallel-item\"><div class=\"sk-item\"><div class=\"sk-label-container\"><div class=\"sk-label sk-toggleable\"><label>pipe</label></div></div><div class=\"sk-serial\"><div class=\"sk-item\"><div class=\"sk-serial\"><div class=\"sk-item\"><div class=\"sk-estimator sk-toggleable\"><input class=\"sk-toggleable__control sk-hidden--visually\" id=\"sk-estimator-id-125\" type=\"checkbox\" ><label for=\"sk-estimator-id-125\" class=\"sk-toggleable__label sk-toggleable__label-arrow\">CountVectorizer</label><div class=\"sk-toggleable__content\"><pre>CountVectorizer(max_df=0.7, max_features=5000, min_df=5, stop_words=&#x27;english&#x27;)</pre></div></div></div><div class=\"sk-item sk-dashed-wrapped\"><div class=\"sk-label-container\"><div class=\"sk-label sk-toggleable\"><input class=\"sk-toggleable__control sk-hidden--visually\" id=\"sk-estimator-id-126\" type=\"checkbox\" ><label for=\"sk-estimator-id-126\" class=\"sk-toggleable__label sk-toggleable__label-arrow\">ada: AdaBoostClassifier</label><div class=\"sk-toggleable__content\"><pre>AdaBoostClassifier(base_estimator=LogisticRegression(), n_estimators=30)</pre></div></div></div><div class=\"sk-parallel\"><div class=\"sk-parallel-item\"><div class=\"sk-item\"><div class=\"sk-label-container\"><div class=\"sk-label sk-toggleable\"><input class=\"sk-toggleable__control sk-hidden--visually\" id=\"sk-estimator-id-127\" type=\"checkbox\" ><label for=\"sk-estimator-id-127\" class=\"sk-toggleable__label sk-toggleable__label-arrow\">base_estimator: LogisticRegression</label><div class=\"sk-toggleable__content\"><pre>LogisticRegression()</pre></div></div></div><div class=\"sk-serial\"><div class=\"sk-item\"><div class=\"sk-estimator sk-toggleable\"><input class=\"sk-toggleable__control sk-hidden--visually\" id=\"sk-estimator-id-128\" type=\"checkbox\" ><label for=\"sk-estimator-id-128\" class=\"sk-toggleable__label sk-toggleable__label-arrow\">LogisticRegression</label><div class=\"sk-toggleable__content\"><pre>LogisticRegression()</pre></div></div></div></div></div></div></div></div></div></div></div></div></div></div></div><div class=\"sk-item\"><div class=\"sk-parallel\"><div class=\"sk-parallel-item\"><div class=\"sk-item\"><div class=\"sk-label-container\"><div class=\"sk-label sk-toggleable\"><label>final_estimator</label></div></div><div class=\"sk-serial\"><div class=\"sk-item\"><div class=\"sk-estimator sk-toggleable\"><input class=\"sk-toggleable__control sk-hidden--visually\" id=\"sk-estimator-id-129\" type=\"checkbox\" ><label for=\"sk-estimator-id-129\" class=\"sk-toggleable__label sk-toggleable__label-arrow\">LogisticRegression</label><div class=\"sk-toggleable__content\"><pre>LogisticRegression()</pre></div></div></div></div></div></div></div></div></div></div></div></div>"
      ],
      "text/plain": [
       "StackingClassifier(estimators=[('xb',\n",
       "                                Pipeline(steps=[('cvec',\n",
       "                                                 CountVectorizer(max_df=0.7,\n",
       "                                                                 max_features=2000,\n",
       "                                                                 ngram_range=(1,\n",
       "                                                                              2),\n",
       "                                                                 stop_words=['i',\n",
       "                                                                             'me',\n",
       "                                                                             'my',\n",
       "                                                                             'myself',\n",
       "                                                                             'we',\n",
       "                                                                             'our',\n",
       "                                                                             'ours',\n",
       "                                                                             'ourselves',\n",
       "                                                                             'you',\n",
       "                                                                             \"you're\",\n",
       "                                                                             \"you've\",\n",
       "                                                                             \"you'll\",\n",
       "                                                                             \"you'd\",\n",
       "                                                                             'your',\n",
       "                                                                             'yours',\n",
       "                                                                             'yourself',\n",
       "                                                                             'yourselves',\n",
       "                                                                             'he',\n",
       "                                                                             'him',\n",
       "                                                                             'his',\n",
       "                                                                             'himself',\n",
       "                                                                             'she',\n",
       "                                                                             \"she's\",\n",
       "                                                                             'her',\n",
       "                                                                             'hers',\n",
       "                                                                             'herself',\n",
       "                                                                             'it',\n",
       "                                                                             \"it's\",\n",
       "                                                                             'its'...\n",
       "                                                                             'itself', ...])),\n",
       "                                                ('ss',\n",
       "                                                 StandardScaler(with_mean=False)),\n",
       "                                                ('rf',\n",
       "                                                 RandomForestClassifier(ccp_alpha=0,\n",
       "                                                                        min_samples_split=5))])),\n",
       "                               ('pipe',\n",
       "                                Pipeline(steps=[('cvec',\n",
       "                                                 CountVectorizer(max_df=0.7,\n",
       "                                                                 max_features=5000,\n",
       "                                                                 min_df=5,\n",
       "                                                                 stop_words='english')),\n",
       "                                                ('ada',\n",
       "                                                 AdaBoostClassifier(base_estimator=LogisticRegression(),\n",
       "                                                                    n_estimators=30))]))],\n",
       "                   final_estimator=LogisticRegression())"
      ]
     },
     "execution_count": 389,
     "metadata": {},
     "output_type": "execute_result"
    }
   ],
   "source": [
    "stacked_model.fit(X_train, y_train)\n"
   ]
  },
  {
   "cell_type": "code",
   "execution_count": null,
   "id": "21e107e6-ed8b-41e6-bca8-509246eccfc2",
   "metadata": {
    "id": "21e107e6-ed8b-41e6-bca8-509246eccfc2",
    "outputId": "54580731-532d-4b4c-9ef7-594462f2d724"
   },
   "outputs": [
    {
     "data": {
      "text/plain": [
       "0.9546308724832214"
      ]
     },
     "execution_count": 390,
     "metadata": {},
     "output_type": "execute_result"
    }
   ],
   "source": [
    "stacked_model.score(X_train, y_train)"
   ]
  },
  {
   "cell_type": "code",
   "execution_count": null,
   "id": "66196bdf-e929-4656-876f-fd7010b277b8",
   "metadata": {
    "id": "66196bdf-e929-4656-876f-fd7010b277b8",
    "outputId": "015edff3-1e8b-4699-a91e-6c9cccf0a8a4"
   },
   "outputs": [
    {
     "data": {
      "text/plain": [
       "0.7588566827697263"
      ]
     },
     "execution_count": 391,
     "metadata": {},
     "output_type": "execute_result"
    }
   ],
   "source": [
    "stacked_model.score(X_test, y_test)"
   ]
  },
  {
   "cell_type": "code",
   "execution_count": null,
   "id": "c57710ee-8626-482c-959e-d5b7368795a4",
   "metadata": {
    "id": "c57710ee-8626-482c-959e-d5b7368795a4"
   },
   "outputs": [],
   "source": [
    "\n",
    "# Stacked Model 2"
   ]
  },
  {
   "cell_type": "code",
   "execution_count": null,
   "id": "be20831b-4d44-4cbe-b3a2-edb7eae7f7a9",
   "metadata": {
    "id": "be20831b-4d44-4cbe-b3a2-edb7eae7f7a9"
   },
   "outputs": [],
   "source": [
    "level1_estimators = [\n",
    "    #('xb', xboost_gs.best_estimator_),\n",
    "    ('nb', nb_gs.best_estimator_),\n",
    "    ('rf', rf_gs2.best_estimator_),\n",
    "    ('pipe', Pipeline([\n",
    "        ('cvec', CountVectorizer(ngram_range=(1,1),stop_words='english',min_df=5,max_features=5000,max_df=0.7)),\n",
    "        ('ada', AdaBoostClassifier(base_estimator=LogisticRegression(),n_estimators=30))\n",
    "    ]))\n",
    "   \n",
    "]\n",
    "\n",
    "stacked_model2 = StackingClassifier(estimators=level1_estimators,\n",
    "                                 final_estimator=LogisticRegression())\n"
   ]
  },
  {
   "cell_type": "code",
   "execution_count": null,
   "id": "bde0efc2-09c5-46e7-be59-42f0fc0e6738",
   "metadata": {
    "id": "bde0efc2-09c5-46e7-be59-42f0fc0e6738",
    "outputId": "2706cf0a-6c0c-4016-efcd-e950eaace24b"
   },
   "outputs": [
    {
     "data": {
      "text/html": [
       "<style>#sk-container-id-23 {color: black;background-color: white;}#sk-container-id-23 pre{padding: 0;}#sk-container-id-23 div.sk-toggleable {background-color: white;}#sk-container-id-23 label.sk-toggleable__label {cursor: pointer;display: block;width: 100%;margin-bottom: 0;padding: 0.3em;box-sizing: border-box;text-align: center;}#sk-container-id-23 label.sk-toggleable__label-arrow:before {content: \"▸\";float: left;margin-right: 0.25em;color: #696969;}#sk-container-id-23 label.sk-toggleable__label-arrow:hover:before {color: black;}#sk-container-id-23 div.sk-estimator:hover label.sk-toggleable__label-arrow:before {color: black;}#sk-container-id-23 div.sk-toggleable__content {max-height: 0;max-width: 0;overflow: hidden;text-align: left;background-color: #f0f8ff;}#sk-container-id-23 div.sk-toggleable__content pre {margin: 0.2em;color: black;border-radius: 0.25em;background-color: #f0f8ff;}#sk-container-id-23 input.sk-toggleable__control:checked~div.sk-toggleable__content {max-height: 200px;max-width: 100%;overflow: auto;}#sk-container-id-23 input.sk-toggleable__control:checked~label.sk-toggleable__label-arrow:before {content: \"▾\";}#sk-container-id-23 div.sk-estimator input.sk-toggleable__control:checked~label.sk-toggleable__label {background-color: #d4ebff;}#sk-container-id-23 div.sk-label input.sk-toggleable__control:checked~label.sk-toggleable__label {background-color: #d4ebff;}#sk-container-id-23 input.sk-hidden--visually {border: 0;clip: rect(1px 1px 1px 1px);clip: rect(1px, 1px, 1px, 1px);height: 1px;margin: -1px;overflow: hidden;padding: 0;position: absolute;width: 1px;}#sk-container-id-23 div.sk-estimator {font-family: monospace;background-color: #f0f8ff;border: 1px dotted black;border-radius: 0.25em;box-sizing: border-box;margin-bottom: 0.5em;}#sk-container-id-23 div.sk-estimator:hover {background-color: #d4ebff;}#sk-container-id-23 div.sk-parallel-item::after {content: \"\";width: 100%;border-bottom: 1px solid gray;flex-grow: 1;}#sk-container-id-23 div.sk-label:hover label.sk-toggleable__label {background-color: #d4ebff;}#sk-container-id-23 div.sk-serial::before {content: \"\";position: absolute;border-left: 1px solid gray;box-sizing: border-box;top: 0;bottom: 0;left: 50%;z-index: 0;}#sk-container-id-23 div.sk-serial {display: flex;flex-direction: column;align-items: center;background-color: white;padding-right: 0.2em;padding-left: 0.2em;position: relative;}#sk-container-id-23 div.sk-item {position: relative;z-index: 1;}#sk-container-id-23 div.sk-parallel {display: flex;align-items: stretch;justify-content: center;background-color: white;position: relative;}#sk-container-id-23 div.sk-item::before, #sk-container-id-23 div.sk-parallel-item::before {content: \"\";position: absolute;border-left: 1px solid gray;box-sizing: border-box;top: 0;bottom: 0;left: 50%;z-index: -1;}#sk-container-id-23 div.sk-parallel-item {display: flex;flex-direction: column;z-index: 1;position: relative;background-color: white;}#sk-container-id-23 div.sk-parallel-item:first-child::after {align-self: flex-end;width: 50%;}#sk-container-id-23 div.sk-parallel-item:last-child::after {align-self: flex-start;width: 50%;}#sk-container-id-23 div.sk-parallel-item:only-child::after {width: 0;}#sk-container-id-23 div.sk-dashed-wrapped {border: 1px dashed gray;margin: 0 0.4em 0.5em 0.4em;box-sizing: border-box;padding-bottom: 0.4em;background-color: white;}#sk-container-id-23 div.sk-label label {font-family: monospace;font-weight: bold;display: inline-block;line-height: 1.2em;}#sk-container-id-23 div.sk-label-container {text-align: center;}#sk-container-id-23 div.sk-container {/* jupyter's `normalize.less` sets `[hidden] { display: none; }` but bootstrap.min.css set `[hidden] { display: none !important; }` so we also need the `!important` here to be able to override the default hidden behavior on the sphinx rendered scikit-learn.org. See: https://github.com/scikit-learn/scikit-learn/issues/21755 */display: inline-block !important;position: relative;}#sk-container-id-23 div.sk-text-repr-fallback {display: none;}</style><div id=\"sk-container-id-23\" class=\"sk-top-container\"><div class=\"sk-text-repr-fallback\"><pre>StackingClassifier(estimators=[(&#x27;nb&#x27;,\n",
       "                                Pipeline(steps=[(&#x27;cvec&#x27;,\n",
       "                                                 CountVectorizer(max_df=0.9,\n",
       "                                                                 max_features=16000,\n",
       "                                                                 stop_words=&#x27;english&#x27;)),\n",
       "                                                (&#x27;nb&#x27;, MultinomialNB())])),\n",
       "                               (&#x27;rf&#x27;,\n",
       "                                Pipeline(steps=[(&#x27;cvec&#x27;,\n",
       "                                                 CountVectorizer(max_df=0.9,\n",
       "                                                                 max_features=15000,\n",
       "                                                                 ngram_range=(1,\n",
       "                                                                              2),\n",
       "                                                                 stop_words=[&#x27;i&#x27;,\n",
       "                                                                             &#x27;me&#x27;,\n",
       "                                                                             &#x27;my&#x27;,\n",
       "                                                                             &#x27;myself&#x27;,\n",
       "                                                                             &#x27;we&#x27;,\n",
       "                                                                             &#x27;our&#x27;,\n",
       "                                                                             &#x27;ours&#x27;,\n",
       "                                                                             &#x27;ourselves&#x27;,\n",
       "                                                                             &#x27;you&#x27;,\n",
       "                                                                             &quot;you&#x27;re&quot;,\n",
       "                                                                             &quot;you&#x27;ve&quot;,\n",
       "                                                                             &quot;you&#x27;ll&quot;,\n",
       "                                                                             &quot;y...\n",
       "                                                                             &#x27;itself&#x27;, ...])),\n",
       "                                                (&#x27;ss&#x27;,\n",
       "                                                 StandardScaler(with_mean=False)),\n",
       "                                                (&#x27;rf&#x27;,\n",
       "                                                 RandomForestClassifier(ccp_alpha=0,\n",
       "                                                                        min_samples_split=5))])),\n",
       "                               (&#x27;pipe&#x27;,\n",
       "                                Pipeline(steps=[(&#x27;cvec&#x27;,\n",
       "                                                 CountVectorizer(max_df=0.7,\n",
       "                                                                 max_features=5000,\n",
       "                                                                 min_df=5,\n",
       "                                                                 stop_words=&#x27;english&#x27;)),\n",
       "                                                (&#x27;ada&#x27;,\n",
       "                                                 AdaBoostClassifier(base_estimator=LogisticRegression(),\n",
       "                                                                    n_estimators=30))]))],\n",
       "                   final_estimator=LogisticRegression())</pre><b>In a Jupyter environment, please rerun this cell to show the HTML representation or trust the notebook. <br />On GitHub, the HTML representation is unable to render, please try loading this page with nbviewer.org.</b></div><div class=\"sk-container\" hidden><div class=\"sk-item sk-dashed-wrapped\"><div class=\"sk-label-container\"><div class=\"sk-label sk-toggleable\"><input class=\"sk-toggleable__control sk-hidden--visually\" id=\"sk-estimator-id-130\" type=\"checkbox\" ><label for=\"sk-estimator-id-130\" class=\"sk-toggleable__label sk-toggleable__label-arrow\">StackingClassifier</label><div class=\"sk-toggleable__content\"><pre>StackingClassifier(estimators=[(&#x27;nb&#x27;,\n",
       "                                Pipeline(steps=[(&#x27;cvec&#x27;,\n",
       "                                                 CountVectorizer(max_df=0.9,\n",
       "                                                                 max_features=16000,\n",
       "                                                                 stop_words=&#x27;english&#x27;)),\n",
       "                                                (&#x27;nb&#x27;, MultinomialNB())])),\n",
       "                               (&#x27;rf&#x27;,\n",
       "                                Pipeline(steps=[(&#x27;cvec&#x27;,\n",
       "                                                 CountVectorizer(max_df=0.9,\n",
       "                                                                 max_features=15000,\n",
       "                                                                 ngram_range=(1,\n",
       "                                                                              2),\n",
       "                                                                 stop_words=[&#x27;i&#x27;,\n",
       "                                                                             &#x27;me&#x27;,\n",
       "                                                                             &#x27;my&#x27;,\n",
       "                                                                             &#x27;myself&#x27;,\n",
       "                                                                             &#x27;we&#x27;,\n",
       "                                                                             &#x27;our&#x27;,\n",
       "                                                                             &#x27;ours&#x27;,\n",
       "                                                                             &#x27;ourselves&#x27;,\n",
       "                                                                             &#x27;you&#x27;,\n",
       "                                                                             &quot;you&#x27;re&quot;,\n",
       "                                                                             &quot;you&#x27;ve&quot;,\n",
       "                                                                             &quot;you&#x27;ll&quot;,\n",
       "                                                                             &quot;y...\n",
       "                                                                             &#x27;itself&#x27;, ...])),\n",
       "                                                (&#x27;ss&#x27;,\n",
       "                                                 StandardScaler(with_mean=False)),\n",
       "                                                (&#x27;rf&#x27;,\n",
       "                                                 RandomForestClassifier(ccp_alpha=0,\n",
       "                                                                        min_samples_split=5))])),\n",
       "                               (&#x27;pipe&#x27;,\n",
       "                                Pipeline(steps=[(&#x27;cvec&#x27;,\n",
       "                                                 CountVectorizer(max_df=0.7,\n",
       "                                                                 max_features=5000,\n",
       "                                                                 min_df=5,\n",
       "                                                                 stop_words=&#x27;english&#x27;)),\n",
       "                                                (&#x27;ada&#x27;,\n",
       "                                                 AdaBoostClassifier(base_estimator=LogisticRegression(),\n",
       "                                                                    n_estimators=30))]))],\n",
       "                   final_estimator=LogisticRegression())</pre></div></div></div><div class=\"sk-serial\"><div class=\"sk-item\"><div class=\"sk-parallel\"><div class=\"sk-parallel-item\"><div class=\"sk-item\"><div class=\"sk-label-container\"><div class=\"sk-label sk-toggleable\"><label>nb</label></div></div><div class=\"sk-serial\"><div class=\"sk-item\"><div class=\"sk-serial\"><div class=\"sk-item\"><div class=\"sk-estimator sk-toggleable\"><input class=\"sk-toggleable__control sk-hidden--visually\" id=\"sk-estimator-id-131\" type=\"checkbox\" ><label for=\"sk-estimator-id-131\" class=\"sk-toggleable__label sk-toggleable__label-arrow\">CountVectorizer</label><div class=\"sk-toggleable__content\"><pre>CountVectorizer(max_df=0.9, max_features=16000, stop_words=&#x27;english&#x27;)</pre></div></div></div><div class=\"sk-item\"><div class=\"sk-estimator sk-toggleable\"><input class=\"sk-toggleable__control sk-hidden--visually\" id=\"sk-estimator-id-132\" type=\"checkbox\" ><label for=\"sk-estimator-id-132\" class=\"sk-toggleable__label sk-toggleable__label-arrow\">MultinomialNB</label><div class=\"sk-toggleable__content\"><pre>MultinomialNB()</pre></div></div></div></div></div></div></div></div><div class=\"sk-parallel-item\"><div class=\"sk-item\"><div class=\"sk-label-container\"><div class=\"sk-label sk-toggleable\"><label>rf</label></div></div><div class=\"sk-serial\"><div class=\"sk-item\"><div class=\"sk-serial\"><div class=\"sk-item\"><div class=\"sk-estimator sk-toggleable\"><input class=\"sk-toggleable__control sk-hidden--visually\" id=\"sk-estimator-id-133\" type=\"checkbox\" ><label for=\"sk-estimator-id-133\" class=\"sk-toggleable__label sk-toggleable__label-arrow\">CountVectorizer</label><div class=\"sk-toggleable__content\"><pre>CountVectorizer(max_df=0.9, max_features=15000, ngram_range=(1, 2),\n",
       "                stop_words=[&#x27;i&#x27;, &#x27;me&#x27;, &#x27;my&#x27;, &#x27;myself&#x27;, &#x27;we&#x27;, &#x27;our&#x27;, &#x27;ours&#x27;,\n",
       "                            &#x27;ourselves&#x27;, &#x27;you&#x27;, &quot;you&#x27;re&quot;, &quot;you&#x27;ve&quot;, &quot;you&#x27;ll&quot;,\n",
       "                            &quot;you&#x27;d&quot;, &#x27;your&#x27;, &#x27;yours&#x27;, &#x27;yourself&#x27;, &#x27;yourselves&#x27;,\n",
       "                            &#x27;he&#x27;, &#x27;him&#x27;, &#x27;his&#x27;, &#x27;himself&#x27;, &#x27;she&#x27;, &quot;she&#x27;s&quot;,\n",
       "                            &#x27;her&#x27;, &#x27;hers&#x27;, &#x27;herself&#x27;, &#x27;it&#x27;, &quot;it&#x27;s&quot;, &#x27;its&#x27;,\n",
       "                            &#x27;itself&#x27;, ...])</pre></div></div></div><div class=\"sk-item\"><div class=\"sk-estimator sk-toggleable\"><input class=\"sk-toggleable__control sk-hidden--visually\" id=\"sk-estimator-id-134\" type=\"checkbox\" ><label for=\"sk-estimator-id-134\" class=\"sk-toggleable__label sk-toggleable__label-arrow\">StandardScaler</label><div class=\"sk-toggleable__content\"><pre>StandardScaler(with_mean=False)</pre></div></div></div><div class=\"sk-item\"><div class=\"sk-estimator sk-toggleable\"><input class=\"sk-toggleable__control sk-hidden--visually\" id=\"sk-estimator-id-135\" type=\"checkbox\" ><label for=\"sk-estimator-id-135\" class=\"sk-toggleable__label sk-toggleable__label-arrow\">RandomForestClassifier</label><div class=\"sk-toggleable__content\"><pre>RandomForestClassifier(ccp_alpha=0, min_samples_split=5)</pre></div></div></div></div></div></div></div></div><div class=\"sk-parallel-item\"><div class=\"sk-item\"><div class=\"sk-label-container\"><div class=\"sk-label sk-toggleable\"><label>pipe</label></div></div><div class=\"sk-serial\"><div class=\"sk-item\"><div class=\"sk-serial\"><div class=\"sk-item\"><div class=\"sk-estimator sk-toggleable\"><input class=\"sk-toggleable__control sk-hidden--visually\" id=\"sk-estimator-id-136\" type=\"checkbox\" ><label for=\"sk-estimator-id-136\" class=\"sk-toggleable__label sk-toggleable__label-arrow\">CountVectorizer</label><div class=\"sk-toggleable__content\"><pre>CountVectorizer(max_df=0.7, max_features=5000, min_df=5, stop_words=&#x27;english&#x27;)</pre></div></div></div><div class=\"sk-item sk-dashed-wrapped\"><div class=\"sk-label-container\"><div class=\"sk-label sk-toggleable\"><input class=\"sk-toggleable__control sk-hidden--visually\" id=\"sk-estimator-id-137\" type=\"checkbox\" ><label for=\"sk-estimator-id-137\" class=\"sk-toggleable__label sk-toggleable__label-arrow\">ada: AdaBoostClassifier</label><div class=\"sk-toggleable__content\"><pre>AdaBoostClassifier(base_estimator=LogisticRegression(), n_estimators=30)</pre></div></div></div><div class=\"sk-parallel\"><div class=\"sk-parallel-item\"><div class=\"sk-item\"><div class=\"sk-label-container\"><div class=\"sk-label sk-toggleable\"><input class=\"sk-toggleable__control sk-hidden--visually\" id=\"sk-estimator-id-138\" type=\"checkbox\" ><label for=\"sk-estimator-id-138\" class=\"sk-toggleable__label sk-toggleable__label-arrow\">base_estimator: LogisticRegression</label><div class=\"sk-toggleable__content\"><pre>LogisticRegression()</pre></div></div></div><div class=\"sk-serial\"><div class=\"sk-item\"><div class=\"sk-estimator sk-toggleable\"><input class=\"sk-toggleable__control sk-hidden--visually\" id=\"sk-estimator-id-139\" type=\"checkbox\" ><label for=\"sk-estimator-id-139\" class=\"sk-toggleable__label sk-toggleable__label-arrow\">LogisticRegression</label><div class=\"sk-toggleable__content\"><pre>LogisticRegression()</pre></div></div></div></div></div></div></div></div></div></div></div></div></div></div></div><div class=\"sk-item\"><div class=\"sk-parallel\"><div class=\"sk-parallel-item\"><div class=\"sk-item\"><div class=\"sk-label-container\"><div class=\"sk-label sk-toggleable\"><label>final_estimator</label></div></div><div class=\"sk-serial\"><div class=\"sk-item\"><div class=\"sk-estimator sk-toggleable\"><input class=\"sk-toggleable__control sk-hidden--visually\" id=\"sk-estimator-id-140\" type=\"checkbox\" ><label for=\"sk-estimator-id-140\" class=\"sk-toggleable__label sk-toggleable__label-arrow\">LogisticRegression</label><div class=\"sk-toggleable__content\"><pre>LogisticRegression()</pre></div></div></div></div></div></div></div></div></div></div></div></div>"
      ],
      "text/plain": [
       "StackingClassifier(estimators=[('nb',\n",
       "                                Pipeline(steps=[('cvec',\n",
       "                                                 CountVectorizer(max_df=0.9,\n",
       "                                                                 max_features=16000,\n",
       "                                                                 stop_words='english')),\n",
       "                                                ('nb', MultinomialNB())])),\n",
       "                               ('rf',\n",
       "                                Pipeline(steps=[('cvec',\n",
       "                                                 CountVectorizer(max_df=0.9,\n",
       "                                                                 max_features=15000,\n",
       "                                                                 ngram_range=(1,\n",
       "                                                                              2),\n",
       "                                                                 stop_words=['i',\n",
       "                                                                             'me',\n",
       "                                                                             'my',\n",
       "                                                                             'myself',\n",
       "                                                                             'we',\n",
       "                                                                             'our',\n",
       "                                                                             'ours',\n",
       "                                                                             'ourselves',\n",
       "                                                                             'you',\n",
       "                                                                             \"you're\",\n",
       "                                                                             \"you've\",\n",
       "                                                                             \"you'll\",\n",
       "                                                                             \"y...\n",
       "                                                                             'itself', ...])),\n",
       "                                                ('ss',\n",
       "                                                 StandardScaler(with_mean=False)),\n",
       "                                                ('rf',\n",
       "                                                 RandomForestClassifier(ccp_alpha=0,\n",
       "                                                                        min_samples_split=5))])),\n",
       "                               ('pipe',\n",
       "                                Pipeline(steps=[('cvec',\n",
       "                                                 CountVectorizer(max_df=0.7,\n",
       "                                                                 max_features=5000,\n",
       "                                                                 min_df=5,\n",
       "                                                                 stop_words='english')),\n",
       "                                                ('ada',\n",
       "                                                 AdaBoostClassifier(base_estimator=LogisticRegression(),\n",
       "                                                                    n_estimators=30))]))],\n",
       "                   final_estimator=LogisticRegression())"
      ]
     },
     "execution_count": 393,
     "metadata": {},
     "output_type": "execute_result"
    }
   ],
   "source": [
    "stacked_model2.fit(X_train, y_train)"
   ]
  },
  {
   "cell_type": "code",
   "execution_count": null,
   "id": "5bdbe31c-8eb4-4be9-8075-fac8a9419973",
   "metadata": {
    "id": "5bdbe31c-8eb4-4be9-8075-fac8a9419973",
    "outputId": "3a5e3d63-7d32-4565-b965-be4a15df9128"
   },
   "outputs": [
    {
     "data": {
      "text/plain": [
       "0.7568438003220612"
      ]
     },
     "execution_count": 394,
     "metadata": {},
     "output_type": "execute_result"
    }
   ],
   "source": [
    "stacked_model2.score(X_test, y_test)"
   ]
  },
  {
   "cell_type": "code",
   "execution_count": null,
   "id": "0c74d216-ddf8-484f-8cc0-82ccd35bf46c",
   "metadata": {
    "id": "0c74d216-ddf8-484f-8cc0-82ccd35bf46c"
   },
   "outputs": [],
   "source": [
    "# Stacked Model 3"
   ]
  },
  {
   "cell_type": "code",
   "execution_count": null,
   "id": "28840796-321f-42aa-b338-223791156f56",
   "metadata": {
    "id": "28840796-321f-42aa-b338-223791156f56"
   },
   "outputs": [],
   "source": [
    "level1_estimators = [\n",
    "    ('xb', xboost_gs.best_estimator_),\n",
    "    ('nb', nb_gs.best_estimator_),\n",
    "    ('rf', rf_gs2.best_estimator_),\n",
    "    #('pipe', Pipeline([\n",
    "        #('cvec', CountVectorizer(ngram_range=(1,1),stop_words='english',min_df=5,max_features=5000,max_df=0.7)),\n",
    "        #('ada', AdaBoostClassifier(base_estimator=LogisticRegression(),n_estimators=30))\n",
    "    #]))\n",
    "   \n",
    "]\n",
    "\n",
    "stacked_model3 = StackingClassifier(estimators=level1_estimators,\n",
    "                                 final_estimator=LogisticRegression())\n"
   ]
  },
  {
   "cell_type": "code",
   "execution_count": null,
   "id": "baf6b74c-1dcb-4568-8be4-6062ae87617f",
   "metadata": {
    "id": "baf6b74c-1dcb-4568-8be4-6062ae87617f",
    "outputId": "04e52cab-d369-444d-815f-a1950643ef76"
   },
   "outputs": [
    {
     "data": {
      "text/html": [
       "<style>#sk-container-id-24 {color: black;background-color: white;}#sk-container-id-24 pre{padding: 0;}#sk-container-id-24 div.sk-toggleable {background-color: white;}#sk-container-id-24 label.sk-toggleable__label {cursor: pointer;display: block;width: 100%;margin-bottom: 0;padding: 0.3em;box-sizing: border-box;text-align: center;}#sk-container-id-24 label.sk-toggleable__label-arrow:before {content: \"▸\";float: left;margin-right: 0.25em;color: #696969;}#sk-container-id-24 label.sk-toggleable__label-arrow:hover:before {color: black;}#sk-container-id-24 div.sk-estimator:hover label.sk-toggleable__label-arrow:before {color: black;}#sk-container-id-24 div.sk-toggleable__content {max-height: 0;max-width: 0;overflow: hidden;text-align: left;background-color: #f0f8ff;}#sk-container-id-24 div.sk-toggleable__content pre {margin: 0.2em;color: black;border-radius: 0.25em;background-color: #f0f8ff;}#sk-container-id-24 input.sk-toggleable__control:checked~div.sk-toggleable__content {max-height: 200px;max-width: 100%;overflow: auto;}#sk-container-id-24 input.sk-toggleable__control:checked~label.sk-toggleable__label-arrow:before {content: \"▾\";}#sk-container-id-24 div.sk-estimator input.sk-toggleable__control:checked~label.sk-toggleable__label {background-color: #d4ebff;}#sk-container-id-24 div.sk-label input.sk-toggleable__control:checked~label.sk-toggleable__label {background-color: #d4ebff;}#sk-container-id-24 input.sk-hidden--visually {border: 0;clip: rect(1px 1px 1px 1px);clip: rect(1px, 1px, 1px, 1px);height: 1px;margin: -1px;overflow: hidden;padding: 0;position: absolute;width: 1px;}#sk-container-id-24 div.sk-estimator {font-family: monospace;background-color: #f0f8ff;border: 1px dotted black;border-radius: 0.25em;box-sizing: border-box;margin-bottom: 0.5em;}#sk-container-id-24 div.sk-estimator:hover {background-color: #d4ebff;}#sk-container-id-24 div.sk-parallel-item::after {content: \"\";width: 100%;border-bottom: 1px solid gray;flex-grow: 1;}#sk-container-id-24 div.sk-label:hover label.sk-toggleable__label {background-color: #d4ebff;}#sk-container-id-24 div.sk-serial::before {content: \"\";position: absolute;border-left: 1px solid gray;box-sizing: border-box;top: 0;bottom: 0;left: 50%;z-index: 0;}#sk-container-id-24 div.sk-serial {display: flex;flex-direction: column;align-items: center;background-color: white;padding-right: 0.2em;padding-left: 0.2em;position: relative;}#sk-container-id-24 div.sk-item {position: relative;z-index: 1;}#sk-container-id-24 div.sk-parallel {display: flex;align-items: stretch;justify-content: center;background-color: white;position: relative;}#sk-container-id-24 div.sk-item::before, #sk-container-id-24 div.sk-parallel-item::before {content: \"\";position: absolute;border-left: 1px solid gray;box-sizing: border-box;top: 0;bottom: 0;left: 50%;z-index: -1;}#sk-container-id-24 div.sk-parallel-item {display: flex;flex-direction: column;z-index: 1;position: relative;background-color: white;}#sk-container-id-24 div.sk-parallel-item:first-child::after {align-self: flex-end;width: 50%;}#sk-container-id-24 div.sk-parallel-item:last-child::after {align-self: flex-start;width: 50%;}#sk-container-id-24 div.sk-parallel-item:only-child::after {width: 0;}#sk-container-id-24 div.sk-dashed-wrapped {border: 1px dashed gray;margin: 0 0.4em 0.5em 0.4em;box-sizing: border-box;padding-bottom: 0.4em;background-color: white;}#sk-container-id-24 div.sk-label label {font-family: monospace;font-weight: bold;display: inline-block;line-height: 1.2em;}#sk-container-id-24 div.sk-label-container {text-align: center;}#sk-container-id-24 div.sk-container {/* jupyter's `normalize.less` sets `[hidden] { display: none; }` but bootstrap.min.css set `[hidden] { display: none !important; }` so we also need the `!important` here to be able to override the default hidden behavior on the sphinx rendered scikit-learn.org. See: https://github.com/scikit-learn/scikit-learn/issues/21755 */display: inline-block !important;position: relative;}#sk-container-id-24 div.sk-text-repr-fallback {display: none;}</style><div id=\"sk-container-id-24\" class=\"sk-top-container\"><div class=\"sk-text-repr-fallback\"><pre>StackingClassifier(estimators=[(&#x27;xb&#x27;,\n",
       "                                Pipeline(steps=[(&#x27;cvec&#x27;,\n",
       "                                                 CountVectorizer(max_df=0.7,\n",
       "                                                                 max_features=2000,\n",
       "                                                                 ngram_range=(1,\n",
       "                                                                              2),\n",
       "                                                                 stop_words=[&#x27;i&#x27;,\n",
       "                                                                             &#x27;me&#x27;,\n",
       "                                                                             &#x27;my&#x27;,\n",
       "                                                                             &#x27;myself&#x27;,\n",
       "                                                                             &#x27;we&#x27;,\n",
       "                                                                             &#x27;our&#x27;,\n",
       "                                                                             &#x27;ours&#x27;,\n",
       "                                                                             &#x27;ourselves&#x27;,\n",
       "                                                                             &#x27;you&#x27;,\n",
       "                                                                             &quot;you&#x27;re&quot;,\n",
       "                                                                             &quot;you&#x27;ve&quot;,\n",
       "                                                                             &quot;you&#x27;ll&quot;,\n",
       "                                                                             &quot;you&#x27;d&quot;,\n",
       "                                                                             &#x27;your&#x27;,\n",
       "                                                                             &#x27;yours&#x27;,\n",
       "                                                                             &#x27;yourself&#x27;,\n",
       "                                                                             &#x27;yourselves&#x27;,\n",
       "                                                                             &#x27;he&#x27;,\n",
       "                                                                             &#x27;him&#x27;,\n",
       "                                                                             &#x27;his&#x27;,\n",
       "                                                                             &#x27;himself&#x27;,\n",
       "                                                                             &#x27;she&#x27;,\n",
       "                                                                             &quot;she&#x27;s&quot;,\n",
       "                                                                             &#x27;her&#x27;,\n",
       "                                                                             &#x27;hers&#x27;,\n",
       "                                                                             &#x27;herself&#x27;,\n",
       "                                                                             &#x27;it&#x27;,\n",
       "                                                                             &quot;it&#x27;s&quot;,\n",
       "                                                                             &#x27;its&#x27;...\n",
       "                                                                             &#x27;we&#x27;,\n",
       "                                                                             &#x27;our&#x27;,\n",
       "                                                                             &#x27;ours&#x27;,\n",
       "                                                                             &#x27;ourselves&#x27;,\n",
       "                                                                             &#x27;you&#x27;,\n",
       "                                                                             &quot;you&#x27;re&quot;,\n",
       "                                                                             &quot;you&#x27;ve&quot;,\n",
       "                                                                             &quot;you&#x27;ll&quot;,\n",
       "                                                                             &quot;you&#x27;d&quot;,\n",
       "                                                                             &#x27;your&#x27;,\n",
       "                                                                             &#x27;yours&#x27;,\n",
       "                                                                             &#x27;yourself&#x27;,\n",
       "                                                                             &#x27;yourselves&#x27;,\n",
       "                                                                             &#x27;he&#x27;,\n",
       "                                                                             &#x27;him&#x27;,\n",
       "                                                                             &#x27;his&#x27;,\n",
       "                                                                             &#x27;himself&#x27;,\n",
       "                                                                             &#x27;she&#x27;,\n",
       "                                                                             &quot;she&#x27;s&quot;,\n",
       "                                                                             &#x27;her&#x27;,\n",
       "                                                                             &#x27;hers&#x27;,\n",
       "                                                                             &#x27;herself&#x27;,\n",
       "                                                                             &#x27;it&#x27;,\n",
       "                                                                             &quot;it&#x27;s&quot;,\n",
       "                                                                             &#x27;its&#x27;,\n",
       "                                                                             &#x27;itself&#x27;, ...])),\n",
       "                                                (&#x27;ss&#x27;,\n",
       "                                                 StandardScaler(with_mean=False)),\n",
       "                                                (&#x27;rf&#x27;,\n",
       "                                                 RandomForestClassifier(ccp_alpha=0,\n",
       "                                                                        min_samples_split=5))]))],\n",
       "                   final_estimator=LogisticRegression())</pre><b>In a Jupyter environment, please rerun this cell to show the HTML representation or trust the notebook. <br />On GitHub, the HTML representation is unable to render, please try loading this page with nbviewer.org.</b></div><div class=\"sk-container\" hidden><div class=\"sk-item sk-dashed-wrapped\"><div class=\"sk-label-container\"><div class=\"sk-label sk-toggleable\"><input class=\"sk-toggleable__control sk-hidden--visually\" id=\"sk-estimator-id-141\" type=\"checkbox\" ><label for=\"sk-estimator-id-141\" class=\"sk-toggleable__label sk-toggleable__label-arrow\">StackingClassifier</label><div class=\"sk-toggleable__content\"><pre>StackingClassifier(estimators=[(&#x27;xb&#x27;,\n",
       "                                Pipeline(steps=[(&#x27;cvec&#x27;,\n",
       "                                                 CountVectorizer(max_df=0.7,\n",
       "                                                                 max_features=2000,\n",
       "                                                                 ngram_range=(1,\n",
       "                                                                              2),\n",
       "                                                                 stop_words=[&#x27;i&#x27;,\n",
       "                                                                             &#x27;me&#x27;,\n",
       "                                                                             &#x27;my&#x27;,\n",
       "                                                                             &#x27;myself&#x27;,\n",
       "                                                                             &#x27;we&#x27;,\n",
       "                                                                             &#x27;our&#x27;,\n",
       "                                                                             &#x27;ours&#x27;,\n",
       "                                                                             &#x27;ourselves&#x27;,\n",
       "                                                                             &#x27;you&#x27;,\n",
       "                                                                             &quot;you&#x27;re&quot;,\n",
       "                                                                             &quot;you&#x27;ve&quot;,\n",
       "                                                                             &quot;you&#x27;ll&quot;,\n",
       "                                                                             &quot;you&#x27;d&quot;,\n",
       "                                                                             &#x27;your&#x27;,\n",
       "                                                                             &#x27;yours&#x27;,\n",
       "                                                                             &#x27;yourself&#x27;,\n",
       "                                                                             &#x27;yourselves&#x27;,\n",
       "                                                                             &#x27;he&#x27;,\n",
       "                                                                             &#x27;him&#x27;,\n",
       "                                                                             &#x27;his&#x27;,\n",
       "                                                                             &#x27;himself&#x27;,\n",
       "                                                                             &#x27;she&#x27;,\n",
       "                                                                             &quot;she&#x27;s&quot;,\n",
       "                                                                             &#x27;her&#x27;,\n",
       "                                                                             &#x27;hers&#x27;,\n",
       "                                                                             &#x27;herself&#x27;,\n",
       "                                                                             &#x27;it&#x27;,\n",
       "                                                                             &quot;it&#x27;s&quot;,\n",
       "                                                                             &#x27;its&#x27;...\n",
       "                                                                             &#x27;we&#x27;,\n",
       "                                                                             &#x27;our&#x27;,\n",
       "                                                                             &#x27;ours&#x27;,\n",
       "                                                                             &#x27;ourselves&#x27;,\n",
       "                                                                             &#x27;you&#x27;,\n",
       "                                                                             &quot;you&#x27;re&quot;,\n",
       "                                                                             &quot;you&#x27;ve&quot;,\n",
       "                                                                             &quot;you&#x27;ll&quot;,\n",
       "                                                                             &quot;you&#x27;d&quot;,\n",
       "                                                                             &#x27;your&#x27;,\n",
       "                                                                             &#x27;yours&#x27;,\n",
       "                                                                             &#x27;yourself&#x27;,\n",
       "                                                                             &#x27;yourselves&#x27;,\n",
       "                                                                             &#x27;he&#x27;,\n",
       "                                                                             &#x27;him&#x27;,\n",
       "                                                                             &#x27;his&#x27;,\n",
       "                                                                             &#x27;himself&#x27;,\n",
       "                                                                             &#x27;she&#x27;,\n",
       "                                                                             &quot;she&#x27;s&quot;,\n",
       "                                                                             &#x27;her&#x27;,\n",
       "                                                                             &#x27;hers&#x27;,\n",
       "                                                                             &#x27;herself&#x27;,\n",
       "                                                                             &#x27;it&#x27;,\n",
       "                                                                             &quot;it&#x27;s&quot;,\n",
       "                                                                             &#x27;its&#x27;,\n",
       "                                                                             &#x27;itself&#x27;, ...])),\n",
       "                                                (&#x27;ss&#x27;,\n",
       "                                                 StandardScaler(with_mean=False)),\n",
       "                                                (&#x27;rf&#x27;,\n",
       "                                                 RandomForestClassifier(ccp_alpha=0,\n",
       "                                                                        min_samples_split=5))]))],\n",
       "                   final_estimator=LogisticRegression())</pre></div></div></div><div class=\"sk-serial\"><div class=\"sk-item\"><div class=\"sk-parallel\"><div class=\"sk-parallel-item\"><div class=\"sk-item\"><div class=\"sk-label-container\"><div class=\"sk-label sk-toggleable\"><label>xb</label></div></div><div class=\"sk-serial\"><div class=\"sk-item\"><div class=\"sk-serial\"><div class=\"sk-item\"><div class=\"sk-estimator sk-toggleable\"><input class=\"sk-toggleable__control sk-hidden--visually\" id=\"sk-estimator-id-142\" type=\"checkbox\" ><label for=\"sk-estimator-id-142\" class=\"sk-toggleable__label sk-toggleable__label-arrow\">CountVectorizer</label><div class=\"sk-toggleable__content\"><pre>CountVectorizer(max_df=0.7, max_features=2000, ngram_range=(1, 2),\n",
       "                stop_words=[&#x27;i&#x27;, &#x27;me&#x27;, &#x27;my&#x27;, &#x27;myself&#x27;, &#x27;we&#x27;, &#x27;our&#x27;, &#x27;ours&#x27;,\n",
       "                            &#x27;ourselves&#x27;, &#x27;you&#x27;, &quot;you&#x27;re&quot;, &quot;you&#x27;ve&quot;, &quot;you&#x27;ll&quot;,\n",
       "                            &quot;you&#x27;d&quot;, &#x27;your&#x27;, &#x27;yours&#x27;, &#x27;yourself&#x27;, &#x27;yourselves&#x27;,\n",
       "                            &#x27;he&#x27;, &#x27;him&#x27;, &#x27;his&#x27;, &#x27;himself&#x27;, &#x27;she&#x27;, &quot;she&#x27;s&quot;,\n",
       "                            &#x27;her&#x27;, &#x27;hers&#x27;, &#x27;herself&#x27;, &#x27;it&#x27;, &quot;it&#x27;s&quot;, &#x27;its&#x27;,\n",
       "                            &#x27;itself&#x27;, ...])</pre></div></div></div><div class=\"sk-item\"><div class=\"sk-estimator sk-toggleable\"><input class=\"sk-toggleable__control sk-hidden--visually\" id=\"sk-estimator-id-143\" type=\"checkbox\" ><label for=\"sk-estimator-id-143\" class=\"sk-toggleable__label sk-toggleable__label-arrow\">StandardScaler</label><div class=\"sk-toggleable__content\"><pre>StandardScaler(with_mean=False)</pre></div></div></div><div class=\"sk-item\"><div class=\"sk-estimator sk-toggleable\"><input class=\"sk-toggleable__control sk-hidden--visually\" id=\"sk-estimator-id-144\" type=\"checkbox\" ><label for=\"sk-estimator-id-144\" class=\"sk-toggleable__label sk-toggleable__label-arrow\">AdaBoostClassifier</label><div class=\"sk-toggleable__content\"><pre>AdaBoostClassifier()</pre></div></div></div></div></div></div></div></div><div class=\"sk-parallel-item\"><div class=\"sk-item\"><div class=\"sk-label-container\"><div class=\"sk-label sk-toggleable\"><label>nb</label></div></div><div class=\"sk-serial\"><div class=\"sk-item\"><div class=\"sk-serial\"><div class=\"sk-item\"><div class=\"sk-estimator sk-toggleable\"><input class=\"sk-toggleable__control sk-hidden--visually\" id=\"sk-estimator-id-145\" type=\"checkbox\" ><label for=\"sk-estimator-id-145\" class=\"sk-toggleable__label sk-toggleable__label-arrow\">CountVectorizer</label><div class=\"sk-toggleable__content\"><pre>CountVectorizer(max_df=0.9, max_features=16000, stop_words=&#x27;english&#x27;)</pre></div></div></div><div class=\"sk-item\"><div class=\"sk-estimator sk-toggleable\"><input class=\"sk-toggleable__control sk-hidden--visually\" id=\"sk-estimator-id-146\" type=\"checkbox\" ><label for=\"sk-estimator-id-146\" class=\"sk-toggleable__label sk-toggleable__label-arrow\">MultinomialNB</label><div class=\"sk-toggleable__content\"><pre>MultinomialNB()</pre></div></div></div></div></div></div></div></div><div class=\"sk-parallel-item\"><div class=\"sk-item\"><div class=\"sk-label-container\"><div class=\"sk-label sk-toggleable\"><label>rf</label></div></div><div class=\"sk-serial\"><div class=\"sk-item\"><div class=\"sk-serial\"><div class=\"sk-item\"><div class=\"sk-estimator sk-toggleable\"><input class=\"sk-toggleable__control sk-hidden--visually\" id=\"sk-estimator-id-147\" type=\"checkbox\" ><label for=\"sk-estimator-id-147\" class=\"sk-toggleable__label sk-toggleable__label-arrow\">CountVectorizer</label><div class=\"sk-toggleable__content\"><pre>CountVectorizer(max_df=0.9, max_features=15000, ngram_range=(1, 2),\n",
       "                stop_words=[&#x27;i&#x27;, &#x27;me&#x27;, &#x27;my&#x27;, &#x27;myself&#x27;, &#x27;we&#x27;, &#x27;our&#x27;, &#x27;ours&#x27;,\n",
       "                            &#x27;ourselves&#x27;, &#x27;you&#x27;, &quot;you&#x27;re&quot;, &quot;you&#x27;ve&quot;, &quot;you&#x27;ll&quot;,\n",
       "                            &quot;you&#x27;d&quot;, &#x27;your&#x27;, &#x27;yours&#x27;, &#x27;yourself&#x27;, &#x27;yourselves&#x27;,\n",
       "                            &#x27;he&#x27;, &#x27;him&#x27;, &#x27;his&#x27;, &#x27;himself&#x27;, &#x27;she&#x27;, &quot;she&#x27;s&quot;,\n",
       "                            &#x27;her&#x27;, &#x27;hers&#x27;, &#x27;herself&#x27;, &#x27;it&#x27;, &quot;it&#x27;s&quot;, &#x27;its&#x27;,\n",
       "                            &#x27;itself&#x27;, ...])</pre></div></div></div><div class=\"sk-item\"><div class=\"sk-estimator sk-toggleable\"><input class=\"sk-toggleable__control sk-hidden--visually\" id=\"sk-estimator-id-148\" type=\"checkbox\" ><label for=\"sk-estimator-id-148\" class=\"sk-toggleable__label sk-toggleable__label-arrow\">StandardScaler</label><div class=\"sk-toggleable__content\"><pre>StandardScaler(with_mean=False)</pre></div></div></div><div class=\"sk-item\"><div class=\"sk-estimator sk-toggleable\"><input class=\"sk-toggleable__control sk-hidden--visually\" id=\"sk-estimator-id-149\" type=\"checkbox\" ><label for=\"sk-estimator-id-149\" class=\"sk-toggleable__label sk-toggleable__label-arrow\">RandomForestClassifier</label><div class=\"sk-toggleable__content\"><pre>RandomForestClassifier(ccp_alpha=0, min_samples_split=5)</pre></div></div></div></div></div></div></div></div></div></div><div class=\"sk-item\"><div class=\"sk-parallel\"><div class=\"sk-parallel-item\"><div class=\"sk-item\"><div class=\"sk-label-container\"><div class=\"sk-label sk-toggleable\"><label>final_estimator</label></div></div><div class=\"sk-serial\"><div class=\"sk-item\"><div class=\"sk-estimator sk-toggleable\"><input class=\"sk-toggleable__control sk-hidden--visually\" id=\"sk-estimator-id-150\" type=\"checkbox\" ><label for=\"sk-estimator-id-150\" class=\"sk-toggleable__label sk-toggleable__label-arrow\">LogisticRegression</label><div class=\"sk-toggleable__content\"><pre>LogisticRegression()</pre></div></div></div></div></div></div></div></div></div></div></div></div>"
      ],
      "text/plain": [
       "StackingClassifier(estimators=[('xb',\n",
       "                                Pipeline(steps=[('cvec',\n",
       "                                                 CountVectorizer(max_df=0.7,\n",
       "                                                                 max_features=2000,\n",
       "                                                                 ngram_range=(1,\n",
       "                                                                              2),\n",
       "                                                                 stop_words=['i',\n",
       "                                                                             'me',\n",
       "                                                                             'my',\n",
       "                                                                             'myself',\n",
       "                                                                             'we',\n",
       "                                                                             'our',\n",
       "                                                                             'ours',\n",
       "                                                                             'ourselves',\n",
       "                                                                             'you',\n",
       "                                                                             \"you're\",\n",
       "                                                                             \"you've\",\n",
       "                                                                             \"you'll\",\n",
       "                                                                             \"you'd\",\n",
       "                                                                             'your',\n",
       "                                                                             'yours',\n",
       "                                                                             'yourself',\n",
       "                                                                             'yourselves',\n",
       "                                                                             'he',\n",
       "                                                                             'him',\n",
       "                                                                             'his',\n",
       "                                                                             'himself',\n",
       "                                                                             'she',\n",
       "                                                                             \"she's\",\n",
       "                                                                             'her',\n",
       "                                                                             'hers',\n",
       "                                                                             'herself',\n",
       "                                                                             'it',\n",
       "                                                                             \"it's\",\n",
       "                                                                             'its'...\n",
       "                                                                             'we',\n",
       "                                                                             'our',\n",
       "                                                                             'ours',\n",
       "                                                                             'ourselves',\n",
       "                                                                             'you',\n",
       "                                                                             \"you're\",\n",
       "                                                                             \"you've\",\n",
       "                                                                             \"you'll\",\n",
       "                                                                             \"you'd\",\n",
       "                                                                             'your',\n",
       "                                                                             'yours',\n",
       "                                                                             'yourself',\n",
       "                                                                             'yourselves',\n",
       "                                                                             'he',\n",
       "                                                                             'him',\n",
       "                                                                             'his',\n",
       "                                                                             'himself',\n",
       "                                                                             'she',\n",
       "                                                                             \"she's\",\n",
       "                                                                             'her',\n",
       "                                                                             'hers',\n",
       "                                                                             'herself',\n",
       "                                                                             'it',\n",
       "                                                                             \"it's\",\n",
       "                                                                             'its',\n",
       "                                                                             'itself', ...])),\n",
       "                                                ('ss',\n",
       "                                                 StandardScaler(with_mean=False)),\n",
       "                                                ('rf',\n",
       "                                                 RandomForestClassifier(ccp_alpha=0,\n",
       "                                                                        min_samples_split=5))]))],\n",
       "                   final_estimator=LogisticRegression())"
      ]
     },
     "execution_count": 398,
     "metadata": {},
     "output_type": "execute_result"
    }
   ],
   "source": [
    "stacked_model3.fit(X_train, y_train)"
   ]
  },
  {
   "cell_type": "code",
   "execution_count": null,
   "id": "11d89ad7-18e4-4133-9f6b-46660b4e50b4",
   "metadata": {
    "id": "11d89ad7-18e4-4133-9f6b-46660b4e50b4",
    "outputId": "56c0536f-7a17-448f-e8df-581f9d68039b"
   },
   "outputs": [
    {
     "data": {
      "text/plain": [
       "0.7584541062801933"
      ]
     },
     "execution_count": 399,
     "metadata": {},
     "output_type": "execute_result"
    }
   ],
   "source": [
    "stacked_model3.score(X_test, y_test)"
   ]
  },
  {
   "cell_type": "code",
   "execution_count": null,
   "id": "04c5e3e6-0b3b-4d82-8e8d-e3f9a925b4b0",
   "metadata": {
    "id": "04c5e3e6-0b3b-4d82-8e8d-e3f9a925b4b0"
   },
   "outputs": [],
   "source": [
    "# Stacked Model 4"
   ]
  },
  {
   "cell_type": "code",
   "execution_count": null,
   "id": "5d8a1345-e8de-4b5f-96fa-586caa0158fa",
   "metadata": {
    "id": "5d8a1345-e8de-4b5f-96fa-586caa0158fa"
   },
   "outputs": [],
   "source": [
    "level1_estimators = [\n",
    "    ('xb', xboost_gs.best_estimator_),\n",
    "    #('nb', nb_gs.best_estimator_),\n",
    "    ('rf', rf_gs2.best_estimator_),\n",
    "    ('pipe', Pipeline([\n",
    "        ('cvec', CountVectorizer(ngram_range=(1,1),stop_words='english',min_df=5,max_features=5000,max_df=0.7)),\n",
    "        ('ada', AdaBoostClassifier(base_estimator=LogisticRegression(),n_estimators=30))\n",
    "    ]))\n",
    "   \n",
    "]\n",
    "\n",
    "stacked_model4 = StackingClassifier(estimators=level1_estimators,\n",
    "                                 final_estimator=LogisticRegression())"
   ]
  },
  {
   "cell_type": "code",
   "execution_count": null,
   "id": "3e1a7354-1f21-4607-bb4b-2547d4a3c6ea",
   "metadata": {
    "id": "3e1a7354-1f21-4607-bb4b-2547d4a3c6ea",
    "outputId": "827623f5-fd33-4975-b4b9-07775d288a7b"
   },
   "outputs": [
    {
     "data": {
      "text/html": [
       "<style>#sk-container-id-25 {color: black;background-color: white;}#sk-container-id-25 pre{padding: 0;}#sk-container-id-25 div.sk-toggleable {background-color: white;}#sk-container-id-25 label.sk-toggleable__label {cursor: pointer;display: block;width: 100%;margin-bottom: 0;padding: 0.3em;box-sizing: border-box;text-align: center;}#sk-container-id-25 label.sk-toggleable__label-arrow:before {content: \"▸\";float: left;margin-right: 0.25em;color: #696969;}#sk-container-id-25 label.sk-toggleable__label-arrow:hover:before {color: black;}#sk-container-id-25 div.sk-estimator:hover label.sk-toggleable__label-arrow:before {color: black;}#sk-container-id-25 div.sk-toggleable__content {max-height: 0;max-width: 0;overflow: hidden;text-align: left;background-color: #f0f8ff;}#sk-container-id-25 div.sk-toggleable__content pre {margin: 0.2em;color: black;border-radius: 0.25em;background-color: #f0f8ff;}#sk-container-id-25 input.sk-toggleable__control:checked~div.sk-toggleable__content {max-height: 200px;max-width: 100%;overflow: auto;}#sk-container-id-25 input.sk-toggleable__control:checked~label.sk-toggleable__label-arrow:before {content: \"▾\";}#sk-container-id-25 div.sk-estimator input.sk-toggleable__control:checked~label.sk-toggleable__label {background-color: #d4ebff;}#sk-container-id-25 div.sk-label input.sk-toggleable__control:checked~label.sk-toggleable__label {background-color: #d4ebff;}#sk-container-id-25 input.sk-hidden--visually {border: 0;clip: rect(1px 1px 1px 1px);clip: rect(1px, 1px, 1px, 1px);height: 1px;margin: -1px;overflow: hidden;padding: 0;position: absolute;width: 1px;}#sk-container-id-25 div.sk-estimator {font-family: monospace;background-color: #f0f8ff;border: 1px dotted black;border-radius: 0.25em;box-sizing: border-box;margin-bottom: 0.5em;}#sk-container-id-25 div.sk-estimator:hover {background-color: #d4ebff;}#sk-container-id-25 div.sk-parallel-item::after {content: \"\";width: 100%;border-bottom: 1px solid gray;flex-grow: 1;}#sk-container-id-25 div.sk-label:hover label.sk-toggleable__label {background-color: #d4ebff;}#sk-container-id-25 div.sk-serial::before {content: \"\";position: absolute;border-left: 1px solid gray;box-sizing: border-box;top: 0;bottom: 0;left: 50%;z-index: 0;}#sk-container-id-25 div.sk-serial {display: flex;flex-direction: column;align-items: center;background-color: white;padding-right: 0.2em;padding-left: 0.2em;position: relative;}#sk-container-id-25 div.sk-item {position: relative;z-index: 1;}#sk-container-id-25 div.sk-parallel {display: flex;align-items: stretch;justify-content: center;background-color: white;position: relative;}#sk-container-id-25 div.sk-item::before, #sk-container-id-25 div.sk-parallel-item::before {content: \"\";position: absolute;border-left: 1px solid gray;box-sizing: border-box;top: 0;bottom: 0;left: 50%;z-index: -1;}#sk-container-id-25 div.sk-parallel-item {display: flex;flex-direction: column;z-index: 1;position: relative;background-color: white;}#sk-container-id-25 div.sk-parallel-item:first-child::after {align-self: flex-end;width: 50%;}#sk-container-id-25 div.sk-parallel-item:last-child::after {align-self: flex-start;width: 50%;}#sk-container-id-25 div.sk-parallel-item:only-child::after {width: 0;}#sk-container-id-25 div.sk-dashed-wrapped {border: 1px dashed gray;margin: 0 0.4em 0.5em 0.4em;box-sizing: border-box;padding-bottom: 0.4em;background-color: white;}#sk-container-id-25 div.sk-label label {font-family: monospace;font-weight: bold;display: inline-block;line-height: 1.2em;}#sk-container-id-25 div.sk-label-container {text-align: center;}#sk-container-id-25 div.sk-container {/* jupyter's `normalize.less` sets `[hidden] { display: none; }` but bootstrap.min.css set `[hidden] { display: none !important; }` so we also need the `!important` here to be able to override the default hidden behavior on the sphinx rendered scikit-learn.org. See: https://github.com/scikit-learn/scikit-learn/issues/21755 */display: inline-block !important;position: relative;}#sk-container-id-25 div.sk-text-repr-fallback {display: none;}</style><div id=\"sk-container-id-25\" class=\"sk-top-container\"><div class=\"sk-text-repr-fallback\"><pre>StackingClassifier(estimators=[(&#x27;xb&#x27;,\n",
       "                                Pipeline(steps=[(&#x27;cvec&#x27;,\n",
       "                                                 CountVectorizer(max_df=0.7,\n",
       "                                                                 max_features=2000,\n",
       "                                                                 ngram_range=(1,\n",
       "                                                                              2),\n",
       "                                                                 stop_words=[&#x27;i&#x27;,\n",
       "                                                                             &#x27;me&#x27;,\n",
       "                                                                             &#x27;my&#x27;,\n",
       "                                                                             &#x27;myself&#x27;,\n",
       "                                                                             &#x27;we&#x27;,\n",
       "                                                                             &#x27;our&#x27;,\n",
       "                                                                             &#x27;ours&#x27;,\n",
       "                                                                             &#x27;ourselves&#x27;,\n",
       "                                                                             &#x27;you&#x27;,\n",
       "                                                                             &quot;you&#x27;re&quot;,\n",
       "                                                                             &quot;you&#x27;ve&quot;,\n",
       "                                                                             &quot;you&#x27;ll&quot;,\n",
       "                                                                             &quot;you&#x27;d&quot;,\n",
       "                                                                             &#x27;your&#x27;,\n",
       "                                                                             &#x27;yours&#x27;,\n",
       "                                                                             &#x27;yourself&#x27;,\n",
       "                                                                             &#x27;yourselves&#x27;,\n",
       "                                                                             &#x27;he&#x27;,\n",
       "                                                                             &#x27;him&#x27;,\n",
       "                                                                             &#x27;his&#x27;,\n",
       "                                                                             &#x27;himself&#x27;,\n",
       "                                                                             &#x27;she&#x27;,\n",
       "                                                                             &quot;she&#x27;s&quot;,\n",
       "                                                                             &#x27;her&#x27;,\n",
       "                                                                             &#x27;hers&#x27;,\n",
       "                                                                             &#x27;herself&#x27;,\n",
       "                                                                             &#x27;it&#x27;,\n",
       "                                                                             &quot;it&#x27;s&quot;,\n",
       "                                                                             &#x27;its&#x27;...\n",
       "                                                                             &#x27;itself&#x27;, ...])),\n",
       "                                                (&#x27;ss&#x27;,\n",
       "                                                 StandardScaler(with_mean=False)),\n",
       "                                                (&#x27;rf&#x27;,\n",
       "                                                 RandomForestClassifier(ccp_alpha=0,\n",
       "                                                                        min_samples_split=5))])),\n",
       "                               (&#x27;pipe&#x27;,\n",
       "                                Pipeline(steps=[(&#x27;cvec&#x27;,\n",
       "                                                 CountVectorizer(max_df=0.7,\n",
       "                                                                 max_features=5000,\n",
       "                                                                 min_df=5,\n",
       "                                                                 stop_words=&#x27;english&#x27;)),\n",
       "                                                (&#x27;ada&#x27;,\n",
       "                                                 AdaBoostClassifier(base_estimator=LogisticRegression(),\n",
       "                                                                    n_estimators=30))]))],\n",
       "                   final_estimator=LogisticRegression())</pre><b>In a Jupyter environment, please rerun this cell to show the HTML representation or trust the notebook. <br />On GitHub, the HTML representation is unable to render, please try loading this page with nbviewer.org.</b></div><div class=\"sk-container\" hidden><div class=\"sk-item sk-dashed-wrapped\"><div class=\"sk-label-container\"><div class=\"sk-label sk-toggleable\"><input class=\"sk-toggleable__control sk-hidden--visually\" id=\"sk-estimator-id-151\" type=\"checkbox\" ><label for=\"sk-estimator-id-151\" class=\"sk-toggleable__label sk-toggleable__label-arrow\">StackingClassifier</label><div class=\"sk-toggleable__content\"><pre>StackingClassifier(estimators=[(&#x27;xb&#x27;,\n",
       "                                Pipeline(steps=[(&#x27;cvec&#x27;,\n",
       "                                                 CountVectorizer(max_df=0.7,\n",
       "                                                                 max_features=2000,\n",
       "                                                                 ngram_range=(1,\n",
       "                                                                              2),\n",
       "                                                                 stop_words=[&#x27;i&#x27;,\n",
       "                                                                             &#x27;me&#x27;,\n",
       "                                                                             &#x27;my&#x27;,\n",
       "                                                                             &#x27;myself&#x27;,\n",
       "                                                                             &#x27;we&#x27;,\n",
       "                                                                             &#x27;our&#x27;,\n",
       "                                                                             &#x27;ours&#x27;,\n",
       "                                                                             &#x27;ourselves&#x27;,\n",
       "                                                                             &#x27;you&#x27;,\n",
       "                                                                             &quot;you&#x27;re&quot;,\n",
       "                                                                             &quot;you&#x27;ve&quot;,\n",
       "                                                                             &quot;you&#x27;ll&quot;,\n",
       "                                                                             &quot;you&#x27;d&quot;,\n",
       "                                                                             &#x27;your&#x27;,\n",
       "                                                                             &#x27;yours&#x27;,\n",
       "                                                                             &#x27;yourself&#x27;,\n",
       "                                                                             &#x27;yourselves&#x27;,\n",
       "                                                                             &#x27;he&#x27;,\n",
       "                                                                             &#x27;him&#x27;,\n",
       "                                                                             &#x27;his&#x27;,\n",
       "                                                                             &#x27;himself&#x27;,\n",
       "                                                                             &#x27;she&#x27;,\n",
       "                                                                             &quot;she&#x27;s&quot;,\n",
       "                                                                             &#x27;her&#x27;,\n",
       "                                                                             &#x27;hers&#x27;,\n",
       "                                                                             &#x27;herself&#x27;,\n",
       "                                                                             &#x27;it&#x27;,\n",
       "                                                                             &quot;it&#x27;s&quot;,\n",
       "                                                                             &#x27;its&#x27;...\n",
       "                                                                             &#x27;itself&#x27;, ...])),\n",
       "                                                (&#x27;ss&#x27;,\n",
       "                                                 StandardScaler(with_mean=False)),\n",
       "                                                (&#x27;rf&#x27;,\n",
       "                                                 RandomForestClassifier(ccp_alpha=0,\n",
       "                                                                        min_samples_split=5))])),\n",
       "                               (&#x27;pipe&#x27;,\n",
       "                                Pipeline(steps=[(&#x27;cvec&#x27;,\n",
       "                                                 CountVectorizer(max_df=0.7,\n",
       "                                                                 max_features=5000,\n",
       "                                                                 min_df=5,\n",
       "                                                                 stop_words=&#x27;english&#x27;)),\n",
       "                                                (&#x27;ada&#x27;,\n",
       "                                                 AdaBoostClassifier(base_estimator=LogisticRegression(),\n",
       "                                                                    n_estimators=30))]))],\n",
       "                   final_estimator=LogisticRegression())</pre></div></div></div><div class=\"sk-serial\"><div class=\"sk-item\"><div class=\"sk-parallel\"><div class=\"sk-parallel-item\"><div class=\"sk-item\"><div class=\"sk-label-container\"><div class=\"sk-label sk-toggleable\"><label>xb</label></div></div><div class=\"sk-serial\"><div class=\"sk-item\"><div class=\"sk-serial\"><div class=\"sk-item\"><div class=\"sk-estimator sk-toggleable\"><input class=\"sk-toggleable__control sk-hidden--visually\" id=\"sk-estimator-id-152\" type=\"checkbox\" ><label for=\"sk-estimator-id-152\" class=\"sk-toggleable__label sk-toggleable__label-arrow\">CountVectorizer</label><div class=\"sk-toggleable__content\"><pre>CountVectorizer(max_df=0.7, max_features=2000, ngram_range=(1, 2),\n",
       "                stop_words=[&#x27;i&#x27;, &#x27;me&#x27;, &#x27;my&#x27;, &#x27;myself&#x27;, &#x27;we&#x27;, &#x27;our&#x27;, &#x27;ours&#x27;,\n",
       "                            &#x27;ourselves&#x27;, &#x27;you&#x27;, &quot;you&#x27;re&quot;, &quot;you&#x27;ve&quot;, &quot;you&#x27;ll&quot;,\n",
       "                            &quot;you&#x27;d&quot;, &#x27;your&#x27;, &#x27;yours&#x27;, &#x27;yourself&#x27;, &#x27;yourselves&#x27;,\n",
       "                            &#x27;he&#x27;, &#x27;him&#x27;, &#x27;his&#x27;, &#x27;himself&#x27;, &#x27;she&#x27;, &quot;she&#x27;s&quot;,\n",
       "                            &#x27;her&#x27;, &#x27;hers&#x27;, &#x27;herself&#x27;, &#x27;it&#x27;, &quot;it&#x27;s&quot;, &#x27;its&#x27;,\n",
       "                            &#x27;itself&#x27;, ...])</pre></div></div></div><div class=\"sk-item\"><div class=\"sk-estimator sk-toggleable\"><input class=\"sk-toggleable__control sk-hidden--visually\" id=\"sk-estimator-id-153\" type=\"checkbox\" ><label for=\"sk-estimator-id-153\" class=\"sk-toggleable__label sk-toggleable__label-arrow\">StandardScaler</label><div class=\"sk-toggleable__content\"><pre>StandardScaler(with_mean=False)</pre></div></div></div><div class=\"sk-item\"><div class=\"sk-estimator sk-toggleable\"><input class=\"sk-toggleable__control sk-hidden--visually\" id=\"sk-estimator-id-154\" type=\"checkbox\" ><label for=\"sk-estimator-id-154\" class=\"sk-toggleable__label sk-toggleable__label-arrow\">AdaBoostClassifier</label><div class=\"sk-toggleable__content\"><pre>AdaBoostClassifier()</pre></div></div></div></div></div></div></div></div><div class=\"sk-parallel-item\"><div class=\"sk-item\"><div class=\"sk-label-container\"><div class=\"sk-label sk-toggleable\"><label>rf</label></div></div><div class=\"sk-serial\"><div class=\"sk-item\"><div class=\"sk-serial\"><div class=\"sk-item\"><div class=\"sk-estimator sk-toggleable\"><input class=\"sk-toggleable__control sk-hidden--visually\" id=\"sk-estimator-id-155\" type=\"checkbox\" ><label for=\"sk-estimator-id-155\" class=\"sk-toggleable__label sk-toggleable__label-arrow\">CountVectorizer</label><div class=\"sk-toggleable__content\"><pre>CountVectorizer(max_df=0.9, max_features=15000, ngram_range=(1, 2),\n",
       "                stop_words=[&#x27;i&#x27;, &#x27;me&#x27;, &#x27;my&#x27;, &#x27;myself&#x27;, &#x27;we&#x27;, &#x27;our&#x27;, &#x27;ours&#x27;,\n",
       "                            &#x27;ourselves&#x27;, &#x27;you&#x27;, &quot;you&#x27;re&quot;, &quot;you&#x27;ve&quot;, &quot;you&#x27;ll&quot;,\n",
       "                            &quot;you&#x27;d&quot;, &#x27;your&#x27;, &#x27;yours&#x27;, &#x27;yourself&#x27;, &#x27;yourselves&#x27;,\n",
       "                            &#x27;he&#x27;, &#x27;him&#x27;, &#x27;his&#x27;, &#x27;himself&#x27;, &#x27;she&#x27;, &quot;she&#x27;s&quot;,\n",
       "                            &#x27;her&#x27;, &#x27;hers&#x27;, &#x27;herself&#x27;, &#x27;it&#x27;, &quot;it&#x27;s&quot;, &#x27;its&#x27;,\n",
       "                            &#x27;itself&#x27;, ...])</pre></div></div></div><div class=\"sk-item\"><div class=\"sk-estimator sk-toggleable\"><input class=\"sk-toggleable__control sk-hidden--visually\" id=\"sk-estimator-id-156\" type=\"checkbox\" ><label for=\"sk-estimator-id-156\" class=\"sk-toggleable__label sk-toggleable__label-arrow\">StandardScaler</label><div class=\"sk-toggleable__content\"><pre>StandardScaler(with_mean=False)</pre></div></div></div><div class=\"sk-item\"><div class=\"sk-estimator sk-toggleable\"><input class=\"sk-toggleable__control sk-hidden--visually\" id=\"sk-estimator-id-157\" type=\"checkbox\" ><label for=\"sk-estimator-id-157\" class=\"sk-toggleable__label sk-toggleable__label-arrow\">RandomForestClassifier</label><div class=\"sk-toggleable__content\"><pre>RandomForestClassifier(ccp_alpha=0, min_samples_split=5)</pre></div></div></div></div></div></div></div></div><div class=\"sk-parallel-item\"><div class=\"sk-item\"><div class=\"sk-label-container\"><div class=\"sk-label sk-toggleable\"><label>pipe</label></div></div><div class=\"sk-serial\"><div class=\"sk-item\"><div class=\"sk-serial\"><div class=\"sk-item\"><div class=\"sk-estimator sk-toggleable\"><input class=\"sk-toggleable__control sk-hidden--visually\" id=\"sk-estimator-id-158\" type=\"checkbox\" ><label for=\"sk-estimator-id-158\" class=\"sk-toggleable__label sk-toggleable__label-arrow\">CountVectorizer</label><div class=\"sk-toggleable__content\"><pre>CountVectorizer(max_df=0.7, max_features=5000, min_df=5, stop_words=&#x27;english&#x27;)</pre></div></div></div><div class=\"sk-item sk-dashed-wrapped\"><div class=\"sk-label-container\"><div class=\"sk-label sk-toggleable\"><input class=\"sk-toggleable__control sk-hidden--visually\" id=\"sk-estimator-id-159\" type=\"checkbox\" ><label for=\"sk-estimator-id-159\" class=\"sk-toggleable__label sk-toggleable__label-arrow\">ada: AdaBoostClassifier</label><div class=\"sk-toggleable__content\"><pre>AdaBoostClassifier(base_estimator=LogisticRegression(), n_estimators=30)</pre></div></div></div><div class=\"sk-parallel\"><div class=\"sk-parallel-item\"><div class=\"sk-item\"><div class=\"sk-label-container\"><div class=\"sk-label sk-toggleable\"><input class=\"sk-toggleable__control sk-hidden--visually\" id=\"sk-estimator-id-160\" type=\"checkbox\" ><label for=\"sk-estimator-id-160\" class=\"sk-toggleable__label sk-toggleable__label-arrow\">base_estimator: LogisticRegression</label><div class=\"sk-toggleable__content\"><pre>LogisticRegression()</pre></div></div></div><div class=\"sk-serial\"><div class=\"sk-item\"><div class=\"sk-estimator sk-toggleable\"><input class=\"sk-toggleable__control sk-hidden--visually\" id=\"sk-estimator-id-161\" type=\"checkbox\" ><label for=\"sk-estimator-id-161\" class=\"sk-toggleable__label sk-toggleable__label-arrow\">LogisticRegression</label><div class=\"sk-toggleable__content\"><pre>LogisticRegression()</pre></div></div></div></div></div></div></div></div></div></div></div></div></div></div></div><div class=\"sk-item\"><div class=\"sk-parallel\"><div class=\"sk-parallel-item\"><div class=\"sk-item\"><div class=\"sk-label-container\"><div class=\"sk-label sk-toggleable\"><label>final_estimator</label></div></div><div class=\"sk-serial\"><div class=\"sk-item\"><div class=\"sk-estimator sk-toggleable\"><input class=\"sk-toggleable__control sk-hidden--visually\" id=\"sk-estimator-id-162\" type=\"checkbox\" ><label for=\"sk-estimator-id-162\" class=\"sk-toggleable__label sk-toggleable__label-arrow\">LogisticRegression</label><div class=\"sk-toggleable__content\"><pre>LogisticRegression()</pre></div></div></div></div></div></div></div></div></div></div></div></div>"
      ],
      "text/plain": [
       "StackingClassifier(estimators=[('xb',\n",
       "                                Pipeline(steps=[('cvec',\n",
       "                                                 CountVectorizer(max_df=0.7,\n",
       "                                                                 max_features=2000,\n",
       "                                                                 ngram_range=(1,\n",
       "                                                                              2),\n",
       "                                                                 stop_words=['i',\n",
       "                                                                             'me',\n",
       "                                                                             'my',\n",
       "                                                                             'myself',\n",
       "                                                                             'we',\n",
       "                                                                             'our',\n",
       "                                                                             'ours',\n",
       "                                                                             'ourselves',\n",
       "                                                                             'you',\n",
       "                                                                             \"you're\",\n",
       "                                                                             \"you've\",\n",
       "                                                                             \"you'll\",\n",
       "                                                                             \"you'd\",\n",
       "                                                                             'your',\n",
       "                                                                             'yours',\n",
       "                                                                             'yourself',\n",
       "                                                                             'yourselves',\n",
       "                                                                             'he',\n",
       "                                                                             'him',\n",
       "                                                                             'his',\n",
       "                                                                             'himself',\n",
       "                                                                             'she',\n",
       "                                                                             \"she's\",\n",
       "                                                                             'her',\n",
       "                                                                             'hers',\n",
       "                                                                             'herself',\n",
       "                                                                             'it',\n",
       "                                                                             \"it's\",\n",
       "                                                                             'its'...\n",
       "                                                                             'itself', ...])),\n",
       "                                                ('ss',\n",
       "                                                 StandardScaler(with_mean=False)),\n",
       "                                                ('rf',\n",
       "                                                 RandomForestClassifier(ccp_alpha=0,\n",
       "                                                                        min_samples_split=5))])),\n",
       "                               ('pipe',\n",
       "                                Pipeline(steps=[('cvec',\n",
       "                                                 CountVectorizer(max_df=0.7,\n",
       "                                                                 max_features=5000,\n",
       "                                                                 min_df=5,\n",
       "                                                                 stop_words='english')),\n",
       "                                                ('ada',\n",
       "                                                 AdaBoostClassifier(base_estimator=LogisticRegression(),\n",
       "                                                                    n_estimators=30))]))],\n",
       "                   final_estimator=LogisticRegression())"
      ]
     },
     "execution_count": 401,
     "metadata": {},
     "output_type": "execute_result"
    }
   ],
   "source": [
    "stacked_model4.fit(X_train, y_train)"
   ]
  },
  {
   "cell_type": "code",
   "execution_count": null,
   "id": "67891521-9173-4871-b060-a6b7f508e5a0",
   "metadata": {
    "id": "67891521-9173-4871-b060-a6b7f508e5a0",
    "outputId": "d28e0afa-a722-408a-c2fe-b880d802db8c"
   },
   "outputs": [
    {
     "data": {
      "text/plain": [
       "0.7479871175523349"
      ]
     },
     "execution_count": 402,
     "metadata": {},
     "output_type": "execute_result"
    }
   ],
   "source": [
    "stacked_model4.score(X_test, y_test)"
   ]
  },
  {
   "cell_type": "code",
   "execution_count": null,
   "id": "071d7782-b70b-4855-9886-41aa96f7349f",
   "metadata": {
    "id": "071d7782-b70b-4855-9886-41aa96f7349f"
   },
   "outputs": [],
   "source": [
    "# Stacked Model 5"
   ]
  },
  {
   "cell_type": "code",
   "execution_count": null,
   "id": "47a562a0-e19e-4cbf-8ecb-26be74ef4216",
   "metadata": {
    "id": "47a562a0-e19e-4cbf-8ecb-26be74ef4216"
   },
   "outputs": [],
   "source": [
    "level1_estimators = [\n",
    "    ('xb', xboost_gs.best_estimator_),\n",
    "    ('nb', nb_gs.best_estimator_),\n",
    "    #('rf', rf_gs2.best_estimator_),\n",
    "    ('pipe', Pipeline([\n",
    "        ('cvec', CountVectorizer(ngram_range=(1,1),stop_words='english',min_df=5,max_features=5000,max_df=0.7)),\n",
    "        ('ada', AdaBoostClassifier(base_estimator=LogisticRegression(),n_estimators=30))\n",
    "    ]))\n",
    "   \n",
    "]\n",
    "\n",
    "stacked_model5 = StackingClassifier(estimators=level1_estimators,\n",
    "                                 final_estimator=LogisticRegression())"
   ]
  },
  {
   "cell_type": "code",
   "execution_count": null,
   "id": "1e24865f-3fdb-4592-8c24-2434dbc11884",
   "metadata": {
    "id": "1e24865f-3fdb-4592-8c24-2434dbc11884",
    "outputId": "e33b8148-09da-43a7-981c-57802cb88b55"
   },
   "outputs": [
    {
     "data": {
      "text/html": [
       "<style>#sk-container-id-26 {color: black;background-color: white;}#sk-container-id-26 pre{padding: 0;}#sk-container-id-26 div.sk-toggleable {background-color: white;}#sk-container-id-26 label.sk-toggleable__label {cursor: pointer;display: block;width: 100%;margin-bottom: 0;padding: 0.3em;box-sizing: border-box;text-align: center;}#sk-container-id-26 label.sk-toggleable__label-arrow:before {content: \"▸\";float: left;margin-right: 0.25em;color: #696969;}#sk-container-id-26 label.sk-toggleable__label-arrow:hover:before {color: black;}#sk-container-id-26 div.sk-estimator:hover label.sk-toggleable__label-arrow:before {color: black;}#sk-container-id-26 div.sk-toggleable__content {max-height: 0;max-width: 0;overflow: hidden;text-align: left;background-color: #f0f8ff;}#sk-container-id-26 div.sk-toggleable__content pre {margin: 0.2em;color: black;border-radius: 0.25em;background-color: #f0f8ff;}#sk-container-id-26 input.sk-toggleable__control:checked~div.sk-toggleable__content {max-height: 200px;max-width: 100%;overflow: auto;}#sk-container-id-26 input.sk-toggleable__control:checked~label.sk-toggleable__label-arrow:before {content: \"▾\";}#sk-container-id-26 div.sk-estimator input.sk-toggleable__control:checked~label.sk-toggleable__label {background-color: #d4ebff;}#sk-container-id-26 div.sk-label input.sk-toggleable__control:checked~label.sk-toggleable__label {background-color: #d4ebff;}#sk-container-id-26 input.sk-hidden--visually {border: 0;clip: rect(1px 1px 1px 1px);clip: rect(1px, 1px, 1px, 1px);height: 1px;margin: -1px;overflow: hidden;padding: 0;position: absolute;width: 1px;}#sk-container-id-26 div.sk-estimator {font-family: monospace;background-color: #f0f8ff;border: 1px dotted black;border-radius: 0.25em;box-sizing: border-box;margin-bottom: 0.5em;}#sk-container-id-26 div.sk-estimator:hover {background-color: #d4ebff;}#sk-container-id-26 div.sk-parallel-item::after {content: \"\";width: 100%;border-bottom: 1px solid gray;flex-grow: 1;}#sk-container-id-26 div.sk-label:hover label.sk-toggleable__label {background-color: #d4ebff;}#sk-container-id-26 div.sk-serial::before {content: \"\";position: absolute;border-left: 1px solid gray;box-sizing: border-box;top: 0;bottom: 0;left: 50%;z-index: 0;}#sk-container-id-26 div.sk-serial {display: flex;flex-direction: column;align-items: center;background-color: white;padding-right: 0.2em;padding-left: 0.2em;position: relative;}#sk-container-id-26 div.sk-item {position: relative;z-index: 1;}#sk-container-id-26 div.sk-parallel {display: flex;align-items: stretch;justify-content: center;background-color: white;position: relative;}#sk-container-id-26 div.sk-item::before, #sk-container-id-26 div.sk-parallel-item::before {content: \"\";position: absolute;border-left: 1px solid gray;box-sizing: border-box;top: 0;bottom: 0;left: 50%;z-index: -1;}#sk-container-id-26 div.sk-parallel-item {display: flex;flex-direction: column;z-index: 1;position: relative;background-color: white;}#sk-container-id-26 div.sk-parallel-item:first-child::after {align-self: flex-end;width: 50%;}#sk-container-id-26 div.sk-parallel-item:last-child::after {align-self: flex-start;width: 50%;}#sk-container-id-26 div.sk-parallel-item:only-child::after {width: 0;}#sk-container-id-26 div.sk-dashed-wrapped {border: 1px dashed gray;margin: 0 0.4em 0.5em 0.4em;box-sizing: border-box;padding-bottom: 0.4em;background-color: white;}#sk-container-id-26 div.sk-label label {font-family: monospace;font-weight: bold;display: inline-block;line-height: 1.2em;}#sk-container-id-26 div.sk-label-container {text-align: center;}#sk-container-id-26 div.sk-container {/* jupyter's `normalize.less` sets `[hidden] { display: none; }` but bootstrap.min.css set `[hidden] { display: none !important; }` so we also need the `!important` here to be able to override the default hidden behavior on the sphinx rendered scikit-learn.org. See: https://github.com/scikit-learn/scikit-learn/issues/21755 */display: inline-block !important;position: relative;}#sk-container-id-26 div.sk-text-repr-fallback {display: none;}</style><div id=\"sk-container-id-26\" class=\"sk-top-container\"><div class=\"sk-text-repr-fallback\"><pre>StackingClassifier(estimators=[(&#x27;xb&#x27;,\n",
       "                                Pipeline(steps=[(&#x27;cvec&#x27;,\n",
       "                                                 CountVectorizer(max_df=0.7,\n",
       "                                                                 max_features=2000,\n",
       "                                                                 ngram_range=(1,\n",
       "                                                                              2),\n",
       "                                                                 stop_words=[&#x27;i&#x27;,\n",
       "                                                                             &#x27;me&#x27;,\n",
       "                                                                             &#x27;my&#x27;,\n",
       "                                                                             &#x27;myself&#x27;,\n",
       "                                                                             &#x27;we&#x27;,\n",
       "                                                                             &#x27;our&#x27;,\n",
       "                                                                             &#x27;ours&#x27;,\n",
       "                                                                             &#x27;ourselves&#x27;,\n",
       "                                                                             &#x27;you&#x27;,\n",
       "                                                                             &quot;you&#x27;re&quot;,\n",
       "                                                                             &quot;you&#x27;ve&quot;,\n",
       "                                                                             &quot;you&#x27;ll&quot;,\n",
       "                                                                             &quot;you&#x27;d&quot;,\n",
       "                                                                             &#x27;your&#x27;,\n",
       "                                                                             &#x27;yours&#x27;,\n",
       "                                                                             &#x27;yourself&#x27;,\n",
       "                                                                             &#x27;yourselves&#x27;,\n",
       "                                                                             &#x27;he&#x27;,\n",
       "                                                                             &#x27;him&#x27;,\n",
       "                                                                             &#x27;his&#x27;,\n",
       "                                                                             &#x27;himself&#x27;,\n",
       "                                                                             &#x27;she&#x27;,\n",
       "                                                                             &quot;she&#x27;s&quot;,\n",
       "                                                                             &#x27;her&#x27;,\n",
       "                                                                             &#x27;hers&#x27;,\n",
       "                                                                             &#x27;herself&#x27;,\n",
       "                                                                             &#x27;it&#x27;,\n",
       "                                                                             &quot;it&#x27;s&quot;,\n",
       "                                                                             &#x27;its&#x27;...\n",
       "                               (&#x27;nb&#x27;,\n",
       "                                Pipeline(steps=[(&#x27;cvec&#x27;,\n",
       "                                                 CountVectorizer(max_df=0.9,\n",
       "                                                                 max_features=16000,\n",
       "                                                                 stop_words=&#x27;english&#x27;)),\n",
       "                                                (&#x27;nb&#x27;, MultinomialNB())])),\n",
       "                               (&#x27;pipe&#x27;,\n",
       "                                Pipeline(steps=[(&#x27;cvec&#x27;,\n",
       "                                                 CountVectorizer(max_df=0.7,\n",
       "                                                                 max_features=5000,\n",
       "                                                                 min_df=5,\n",
       "                                                                 stop_words=&#x27;english&#x27;)),\n",
       "                                                (&#x27;ada&#x27;,\n",
       "                                                 AdaBoostClassifier(base_estimator=LogisticRegression(),\n",
       "                                                                    n_estimators=30))]))],\n",
       "                   final_estimator=LogisticRegression())</pre><b>In a Jupyter environment, please rerun this cell to show the HTML representation or trust the notebook. <br />On GitHub, the HTML representation is unable to render, please try loading this page with nbviewer.org.</b></div><div class=\"sk-container\" hidden><div class=\"sk-item sk-dashed-wrapped\"><div class=\"sk-label-container\"><div class=\"sk-label sk-toggleable\"><input class=\"sk-toggleable__control sk-hidden--visually\" id=\"sk-estimator-id-163\" type=\"checkbox\" ><label for=\"sk-estimator-id-163\" class=\"sk-toggleable__label sk-toggleable__label-arrow\">StackingClassifier</label><div class=\"sk-toggleable__content\"><pre>StackingClassifier(estimators=[(&#x27;xb&#x27;,\n",
       "                                Pipeline(steps=[(&#x27;cvec&#x27;,\n",
       "                                                 CountVectorizer(max_df=0.7,\n",
       "                                                                 max_features=2000,\n",
       "                                                                 ngram_range=(1,\n",
       "                                                                              2),\n",
       "                                                                 stop_words=[&#x27;i&#x27;,\n",
       "                                                                             &#x27;me&#x27;,\n",
       "                                                                             &#x27;my&#x27;,\n",
       "                                                                             &#x27;myself&#x27;,\n",
       "                                                                             &#x27;we&#x27;,\n",
       "                                                                             &#x27;our&#x27;,\n",
       "                                                                             &#x27;ours&#x27;,\n",
       "                                                                             &#x27;ourselves&#x27;,\n",
       "                                                                             &#x27;you&#x27;,\n",
       "                                                                             &quot;you&#x27;re&quot;,\n",
       "                                                                             &quot;you&#x27;ve&quot;,\n",
       "                                                                             &quot;you&#x27;ll&quot;,\n",
       "                                                                             &quot;you&#x27;d&quot;,\n",
       "                                                                             &#x27;your&#x27;,\n",
       "                                                                             &#x27;yours&#x27;,\n",
       "                                                                             &#x27;yourself&#x27;,\n",
       "                                                                             &#x27;yourselves&#x27;,\n",
       "                                                                             &#x27;he&#x27;,\n",
       "                                                                             &#x27;him&#x27;,\n",
       "                                                                             &#x27;his&#x27;,\n",
       "                                                                             &#x27;himself&#x27;,\n",
       "                                                                             &#x27;she&#x27;,\n",
       "                                                                             &quot;she&#x27;s&quot;,\n",
       "                                                                             &#x27;her&#x27;,\n",
       "                                                                             &#x27;hers&#x27;,\n",
       "                                                                             &#x27;herself&#x27;,\n",
       "                                                                             &#x27;it&#x27;,\n",
       "                                                                             &quot;it&#x27;s&quot;,\n",
       "                                                                             &#x27;its&#x27;...\n",
       "                               (&#x27;nb&#x27;,\n",
       "                                Pipeline(steps=[(&#x27;cvec&#x27;,\n",
       "                                                 CountVectorizer(max_df=0.9,\n",
       "                                                                 max_features=16000,\n",
       "                                                                 stop_words=&#x27;english&#x27;)),\n",
       "                                                (&#x27;nb&#x27;, MultinomialNB())])),\n",
       "                               (&#x27;pipe&#x27;,\n",
       "                                Pipeline(steps=[(&#x27;cvec&#x27;,\n",
       "                                                 CountVectorizer(max_df=0.7,\n",
       "                                                                 max_features=5000,\n",
       "                                                                 min_df=5,\n",
       "                                                                 stop_words=&#x27;english&#x27;)),\n",
       "                                                (&#x27;ada&#x27;,\n",
       "                                                 AdaBoostClassifier(base_estimator=LogisticRegression(),\n",
       "                                                                    n_estimators=30))]))],\n",
       "                   final_estimator=LogisticRegression())</pre></div></div></div><div class=\"sk-serial\"><div class=\"sk-item\"><div class=\"sk-parallel\"><div class=\"sk-parallel-item\"><div class=\"sk-item\"><div class=\"sk-label-container\"><div class=\"sk-label sk-toggleable\"><label>xb</label></div></div><div class=\"sk-serial\"><div class=\"sk-item\"><div class=\"sk-serial\"><div class=\"sk-item\"><div class=\"sk-estimator sk-toggleable\"><input class=\"sk-toggleable__control sk-hidden--visually\" id=\"sk-estimator-id-164\" type=\"checkbox\" ><label for=\"sk-estimator-id-164\" class=\"sk-toggleable__label sk-toggleable__label-arrow\">CountVectorizer</label><div class=\"sk-toggleable__content\"><pre>CountVectorizer(max_df=0.7, max_features=2000, ngram_range=(1, 2),\n",
       "                stop_words=[&#x27;i&#x27;, &#x27;me&#x27;, &#x27;my&#x27;, &#x27;myself&#x27;, &#x27;we&#x27;, &#x27;our&#x27;, &#x27;ours&#x27;,\n",
       "                            &#x27;ourselves&#x27;, &#x27;you&#x27;, &quot;you&#x27;re&quot;, &quot;you&#x27;ve&quot;, &quot;you&#x27;ll&quot;,\n",
       "                            &quot;you&#x27;d&quot;, &#x27;your&#x27;, &#x27;yours&#x27;, &#x27;yourself&#x27;, &#x27;yourselves&#x27;,\n",
       "                            &#x27;he&#x27;, &#x27;him&#x27;, &#x27;his&#x27;, &#x27;himself&#x27;, &#x27;she&#x27;, &quot;she&#x27;s&quot;,\n",
       "                            &#x27;her&#x27;, &#x27;hers&#x27;, &#x27;herself&#x27;, &#x27;it&#x27;, &quot;it&#x27;s&quot;, &#x27;its&#x27;,\n",
       "                            &#x27;itself&#x27;, ...])</pre></div></div></div><div class=\"sk-item\"><div class=\"sk-estimator sk-toggleable\"><input class=\"sk-toggleable__control sk-hidden--visually\" id=\"sk-estimator-id-165\" type=\"checkbox\" ><label for=\"sk-estimator-id-165\" class=\"sk-toggleable__label sk-toggleable__label-arrow\">StandardScaler</label><div class=\"sk-toggleable__content\"><pre>StandardScaler(with_mean=False)</pre></div></div></div><div class=\"sk-item\"><div class=\"sk-estimator sk-toggleable\"><input class=\"sk-toggleable__control sk-hidden--visually\" id=\"sk-estimator-id-166\" type=\"checkbox\" ><label for=\"sk-estimator-id-166\" class=\"sk-toggleable__label sk-toggleable__label-arrow\">AdaBoostClassifier</label><div class=\"sk-toggleable__content\"><pre>AdaBoostClassifier()</pre></div></div></div></div></div></div></div></div><div class=\"sk-parallel-item\"><div class=\"sk-item\"><div class=\"sk-label-container\"><div class=\"sk-label sk-toggleable\"><label>nb</label></div></div><div class=\"sk-serial\"><div class=\"sk-item\"><div class=\"sk-serial\"><div class=\"sk-item\"><div class=\"sk-estimator sk-toggleable\"><input class=\"sk-toggleable__control sk-hidden--visually\" id=\"sk-estimator-id-167\" type=\"checkbox\" ><label for=\"sk-estimator-id-167\" class=\"sk-toggleable__label sk-toggleable__label-arrow\">CountVectorizer</label><div class=\"sk-toggleable__content\"><pre>CountVectorizer(max_df=0.9, max_features=16000, stop_words=&#x27;english&#x27;)</pre></div></div></div><div class=\"sk-item\"><div class=\"sk-estimator sk-toggleable\"><input class=\"sk-toggleable__control sk-hidden--visually\" id=\"sk-estimator-id-168\" type=\"checkbox\" ><label for=\"sk-estimator-id-168\" class=\"sk-toggleable__label sk-toggleable__label-arrow\">MultinomialNB</label><div class=\"sk-toggleable__content\"><pre>MultinomialNB()</pre></div></div></div></div></div></div></div></div><div class=\"sk-parallel-item\"><div class=\"sk-item\"><div class=\"sk-label-container\"><div class=\"sk-label sk-toggleable\"><label>pipe</label></div></div><div class=\"sk-serial\"><div class=\"sk-item\"><div class=\"sk-serial\"><div class=\"sk-item\"><div class=\"sk-estimator sk-toggleable\"><input class=\"sk-toggleable__control sk-hidden--visually\" id=\"sk-estimator-id-169\" type=\"checkbox\" ><label for=\"sk-estimator-id-169\" class=\"sk-toggleable__label sk-toggleable__label-arrow\">CountVectorizer</label><div class=\"sk-toggleable__content\"><pre>CountVectorizer(max_df=0.7, max_features=5000, min_df=5, stop_words=&#x27;english&#x27;)</pre></div></div></div><div class=\"sk-item sk-dashed-wrapped\"><div class=\"sk-label-container\"><div class=\"sk-label sk-toggleable\"><input class=\"sk-toggleable__control sk-hidden--visually\" id=\"sk-estimator-id-170\" type=\"checkbox\" ><label for=\"sk-estimator-id-170\" class=\"sk-toggleable__label sk-toggleable__label-arrow\">ada: AdaBoostClassifier</label><div class=\"sk-toggleable__content\"><pre>AdaBoostClassifier(base_estimator=LogisticRegression(), n_estimators=30)</pre></div></div></div><div class=\"sk-parallel\"><div class=\"sk-parallel-item\"><div class=\"sk-item\"><div class=\"sk-label-container\"><div class=\"sk-label sk-toggleable\"><input class=\"sk-toggleable__control sk-hidden--visually\" id=\"sk-estimator-id-171\" type=\"checkbox\" ><label for=\"sk-estimator-id-171\" class=\"sk-toggleable__label sk-toggleable__label-arrow\">base_estimator: LogisticRegression</label><div class=\"sk-toggleable__content\"><pre>LogisticRegression()</pre></div></div></div><div class=\"sk-serial\"><div class=\"sk-item\"><div class=\"sk-estimator sk-toggleable\"><input class=\"sk-toggleable__control sk-hidden--visually\" id=\"sk-estimator-id-172\" type=\"checkbox\" ><label for=\"sk-estimator-id-172\" class=\"sk-toggleable__label sk-toggleable__label-arrow\">LogisticRegression</label><div class=\"sk-toggleable__content\"><pre>LogisticRegression()</pre></div></div></div></div></div></div></div></div></div></div></div></div></div></div></div><div class=\"sk-item\"><div class=\"sk-parallel\"><div class=\"sk-parallel-item\"><div class=\"sk-item\"><div class=\"sk-label-container\"><div class=\"sk-label sk-toggleable\"><label>final_estimator</label></div></div><div class=\"sk-serial\"><div class=\"sk-item\"><div class=\"sk-estimator sk-toggleable\"><input class=\"sk-toggleable__control sk-hidden--visually\" id=\"sk-estimator-id-173\" type=\"checkbox\" ><label for=\"sk-estimator-id-173\" class=\"sk-toggleable__label sk-toggleable__label-arrow\">LogisticRegression</label><div class=\"sk-toggleable__content\"><pre>LogisticRegression()</pre></div></div></div></div></div></div></div></div></div></div></div></div>"
      ],
      "text/plain": [
       "StackingClassifier(estimators=[('xb',\n",
       "                                Pipeline(steps=[('cvec',\n",
       "                                                 CountVectorizer(max_df=0.7,\n",
       "                                                                 max_features=2000,\n",
       "                                                                 ngram_range=(1,\n",
       "                                                                              2),\n",
       "                                                                 stop_words=['i',\n",
       "                                                                             'me',\n",
       "                                                                             'my',\n",
       "                                                                             'myself',\n",
       "                                                                             'we',\n",
       "                                                                             'our',\n",
       "                                                                             'ours',\n",
       "                                                                             'ourselves',\n",
       "                                                                             'you',\n",
       "                                                                             \"you're\",\n",
       "                                                                             \"you've\",\n",
       "                                                                             \"you'll\",\n",
       "                                                                             \"you'd\",\n",
       "                                                                             'your',\n",
       "                                                                             'yours',\n",
       "                                                                             'yourself',\n",
       "                                                                             'yourselves',\n",
       "                                                                             'he',\n",
       "                                                                             'him',\n",
       "                                                                             'his',\n",
       "                                                                             'himself',\n",
       "                                                                             'she',\n",
       "                                                                             \"she's\",\n",
       "                                                                             'her',\n",
       "                                                                             'hers',\n",
       "                                                                             'herself',\n",
       "                                                                             'it',\n",
       "                                                                             \"it's\",\n",
       "                                                                             'its'...\n",
       "                               ('nb',\n",
       "                                Pipeline(steps=[('cvec',\n",
       "                                                 CountVectorizer(max_df=0.9,\n",
       "                                                                 max_features=16000,\n",
       "                                                                 stop_words='english')),\n",
       "                                                ('nb', MultinomialNB())])),\n",
       "                               ('pipe',\n",
       "                                Pipeline(steps=[('cvec',\n",
       "                                                 CountVectorizer(max_df=0.7,\n",
       "                                                                 max_features=5000,\n",
       "                                                                 min_df=5,\n",
       "                                                                 stop_words='english')),\n",
       "                                                ('ada',\n",
       "                                                 AdaBoostClassifier(base_estimator=LogisticRegression(),\n",
       "                                                                    n_estimators=30))]))],\n",
       "                   final_estimator=LogisticRegression())"
      ]
     },
     "execution_count": 404,
     "metadata": {},
     "output_type": "execute_result"
    }
   ],
   "source": [
    "stacked_model5.fit(X_train, y_train)"
   ]
  },
  {
   "cell_type": "code",
   "execution_count": null,
   "id": "caf8a2bf-3cc7-4461-9125-a1f0d0a5275a",
   "metadata": {
    "id": "caf8a2bf-3cc7-4461-9125-a1f0d0a5275a",
    "outputId": "272ffe59-d9a9-4256-b847-be77e4be1b5d"
   },
   "outputs": [
    {
     "data": {
      "text/plain": [
       "0.7479871175523349"
      ]
     },
     "execution_count": 405,
     "metadata": {},
     "output_type": "execute_result"
    }
   ],
   "source": [
    "stacked_model5.score(X_test, y_test)"
   ]
  },
  {
   "cell_type": "code",
   "execution_count": null,
   "id": "2b3fd63d-41e2-4a8f-b8b4-6acdf2ccd80e",
   "metadata": {
    "id": "2b3fd63d-41e2-4a8f-b8b4-6acdf2ccd80e"
   },
   "outputs": [],
   "source": []
  },
  {
   "cell_type": "code",
   "execution_count": null,
   "id": "020af29c-4ec1-4206-93d7-cf17fcd8e236",
   "metadata": {
    "id": "020af29c-4ec1-4206-93d7-cf17fcd8e236"
   },
   "outputs": [],
   "source": []
  },
  {
   "cell_type": "markdown",
   "id": "49a4ef14-4fe9-4704-8d5a-72cddd7bad50",
   "metadata": {
    "id": "49a4ef14-4fe9-4704-8d5a-72cddd7bad50"
   },
   "source": [
    "## XGBOOST With original PARAMS"
   ]
  },
  {
   "cell_type": "code",
   "execution_count": null,
   "id": "0dc81cb1-c104-4723-81a6-d55d09de9f26",
   "metadata": {
    "id": "0dc81cb1-c104-4723-81a6-d55d09de9f26"
   },
   "outputs": [],
   "source": []
  },
  {
   "cell_type": "code",
   "execution_count": null,
   "id": "609600cf-3bf4-45ef-8e3c-57dfbb565e25",
   "metadata": {
    "id": "609600cf-3bf4-45ef-8e3c-57dfbb565e25"
   },
   "outputs": [],
   "source": []
  },
  {
   "cell_type": "code",
   "execution_count": null,
   "id": "2906c809-9d86-443a-8022-0e662225ab8a",
   "metadata": {
    "id": "2906c809-9d86-443a-8022-0e662225ab8a"
   },
   "outputs": [],
   "source": []
  },
  {
   "cell_type": "code",
   "execution_count": null,
   "id": "5df74584-3806-468c-b9c0-3d626e7b310a",
   "metadata": {
    "id": "5df74584-3806-468c-b9c0-3d626e7b310a"
   },
   "outputs": [],
   "source": [
    "xboost_pipe = Pipeline([\n",
    "    ('cvec', CountVectorizer()),\n",
    "    ('ss', StandardScaler(with_mean=False)),\n",
    "    ('xboost', xgb.XGBClassifier())\n",
    "])"
   ]
  },
  {
   "cell_type": "code",
   "execution_count": null,
   "id": "a3debee3-93b2-49db-9c9f-7cb8dbb21619",
   "metadata": {
    "id": "a3debee3-93b2-49db-9c9f-7cb8dbb21619"
   },
   "outputs": [],
   "source": [
    "xboost_pipe_params = {'cvec__max_df': 0.7,\n",
    " 'cvec__max_features':[ 8000,9000,10000],\n",
    " 'cvec__min_df': 1,\n",
    " 'cvec__ngram_range': (1, 2),\n",
    " 'cvec__stop_words': ['i',\n",
    "  'me',\n",
    "  'my',\n",
    "  'myself',\n",
    "  'we',\n",
    "  'our',\n",
    "  'ours',\n",
    "  'ourselves',\n",
    "  'you',\n",
    "  \"you're\",\n",
    "  \"you've\",\n",
    "  \"you'll\",\n",
    "  \"you'd\",\n",
    "  'your',\n",
    "  'yours',\n",
    "  'yourself',\n",
    "  'yourselves',\n",
    "  'he',\n",
    "  'him',\n",
    "  'his',\n",
    "  'himself',\n",
    "  'she',\n",
    "  \"she's\",\n",
    "  'her',\n",
    "  'hers',\n",
    "  'herself',\n",
    "  'it',\n",
    "  \"it's\",\n",
    "  'its',\n",
    "  'itself',\n",
    "  'they',\n",
    "  'them',\n",
    "  'their',\n",
    "  'theirs',\n",
    "  'themselves',\n",
    "  'what',\n",
    "  'which',\n",
    "  'who',\n",
    "  'whom',\n",
    "  'this',\n",
    "  'that',\n",
    "  \"that'll\",\n",
    "  'these',\n",
    "  'those',\n",
    "  'am',\n",
    "  'is',\n",
    "  'are',\n",
    "  'was',\n",
    "  'were',\n",
    "  'be',\n",
    "  'been',\n",
    "  'being',\n",
    "  'have',\n",
    "  'has',\n",
    "  'had',\n",
    "  'having',\n",
    "  'do',\n",
    "  'does',\n",
    "  'did',\n",
    "  'doing',\n",
    "  'a',\n",
    "  'an',\n",
    "  'the',\n",
    "  'and',\n",
    "  'but',\n",
    "  'if',\n",
    "  'or',\n",
    "  'because',\n",
    "  'as',\n",
    "  'until',\n",
    "  'while',\n",
    "  'of',\n",
    "  'at',\n",
    "  'by',\n",
    "  'for',\n",
    "  'with',\n",
    "  'about',\n",
    "  'against',\n",
    "  'between',\n",
    "  'into',\n",
    "  'through',\n",
    "  'during',\n",
    "  'before',\n",
    "  'after',\n",
    "  'above',\n",
    "  'below',\n",
    "  'to',\n",
    "  'from',\n",
    "  'up',\n",
    "  'down',\n",
    "  'in',\n",
    "  'out',\n",
    "  'on',\n",
    "  'off',\n",
    "  'over',\n",
    "  'under',\n",
    "  'again',\n",
    "  'further',\n",
    "  'then',\n",
    "  'once',\n",
    "  'here',\n",
    "  'there',\n",
    "  'when',\n",
    "  'where',\n",
    "  'why',\n",
    "  'how',\n",
    "  'all',\n",
    "  'any',\n",
    "  'both',\n",
    "  'each',\n",
    "  'few',\n",
    "  'more',\n",
    "  'most',\n",
    "  'other',\n",
    "  'some',\n",
    "  'such',\n",
    "  'no',\n",
    "  'nor',\n",
    "  'not',\n",
    "  'only',\n",
    "  'own',\n",
    "  'same',\n",
    "  'so',\n",
    "  'than',\n",
    "  'too',\n",
    "  'very',\n",
    "  's',\n",
    "  't',\n",
    "  'can',\n",
    "  'will',\n",
    "  'just',\n",
    "  'don',\n",
    "  \"don't\",\n",
    "  'should',\n",
    "  \"should've\",\n",
    "  'now',\n",
    "  'd',\n",
    "  'll',\n",
    "  'm',\n",
    "  'o',\n",
    "  're',\n",
    "  've',\n",
    "  'y',\n",
    "  'ain',\n",
    "  'aren',\n",
    "  \"aren't\",\n",
    "  'couldn',\n",
    "  \"couldn't\",\n",
    "  'didn',\n",
    "  \"didn't\",\n",
    "  'doesn',\n",
    "  \"doesn't\",\n",
    "  'hadn',\n",
    "  \"hadn't\",\n",
    "  'hasn',\n",
    "  \"hasn't\",\n",
    "  'haven',\n",
    "  \"haven't\",\n",
    "  'isn',\n",
    "  \"isn't\",\n",
    "  'ma',\n",
    "  'mightn',\n",
    "  \"mightn't\",\n",
    "  'mustn',\n",
    "  \"mustn't\",\n",
    "  'needn',\n",
    "  \"needn't\",\n",
    "  'shan',\n",
    "  \"shan't\",\n",
    "  'shouldn',\n",
    "  \"shouldn't\",\n",
    "  'wasn',\n",
    "  \"wasn't\",\n",
    "  'weren',\n",
    "  \"weren't\",\n",
    "  'won',\n",
    "  \"won't\",\n",
    "  'wouldn',\n",
    "  \"wouldn't\"]}"
   ]
  },
  {
   "cell_type": "code",
   "execution_count": null,
   "id": "c65b6a39-2f96-4750-8658-f21c362c92d4",
   "metadata": {
    "id": "c65b6a39-2f96-4750-8658-f21c362c92d4"
   },
   "outputs": [],
   "source": [
    "xboost_gs = GridSearchCV(boost_pipe, param_grid = boost_pipe_params, n_jobs=-1)"
   ]
  },
  {
   "cell_type": "code",
   "execution_count": null,
   "id": "ef2c67db-6119-49f3-99c8-7ea382d3dda5",
   "metadata": {
    "id": "ef2c67db-6119-49f3-99c8-7ea382d3dda5",
    "outputId": "d78988ac-439b-4a81-b0c2-4c2cda012364"
   },
   "outputs": [
    {
     "data": {
      "text/html": [
       "<style>#sk-container-id-16 {color: black;background-color: white;}#sk-container-id-16 pre{padding: 0;}#sk-container-id-16 div.sk-toggleable {background-color: white;}#sk-container-id-16 label.sk-toggleable__label {cursor: pointer;display: block;width: 100%;margin-bottom: 0;padding: 0.3em;box-sizing: border-box;text-align: center;}#sk-container-id-16 label.sk-toggleable__label-arrow:before {content: \"▸\";float: left;margin-right: 0.25em;color: #696969;}#sk-container-id-16 label.sk-toggleable__label-arrow:hover:before {color: black;}#sk-container-id-16 div.sk-estimator:hover label.sk-toggleable__label-arrow:before {color: black;}#sk-container-id-16 div.sk-toggleable__content {max-height: 0;max-width: 0;overflow: hidden;text-align: left;background-color: #f0f8ff;}#sk-container-id-16 div.sk-toggleable__content pre {margin: 0.2em;color: black;border-radius: 0.25em;background-color: #f0f8ff;}#sk-container-id-16 input.sk-toggleable__control:checked~div.sk-toggleable__content {max-height: 200px;max-width: 100%;overflow: auto;}#sk-container-id-16 input.sk-toggleable__control:checked~label.sk-toggleable__label-arrow:before {content: \"▾\";}#sk-container-id-16 div.sk-estimator input.sk-toggleable__control:checked~label.sk-toggleable__label {background-color: #d4ebff;}#sk-container-id-16 div.sk-label input.sk-toggleable__control:checked~label.sk-toggleable__label {background-color: #d4ebff;}#sk-container-id-16 input.sk-hidden--visually {border: 0;clip: rect(1px 1px 1px 1px);clip: rect(1px, 1px, 1px, 1px);height: 1px;margin: -1px;overflow: hidden;padding: 0;position: absolute;width: 1px;}#sk-container-id-16 div.sk-estimator {font-family: monospace;background-color: #f0f8ff;border: 1px dotted black;border-radius: 0.25em;box-sizing: border-box;margin-bottom: 0.5em;}#sk-container-id-16 div.sk-estimator:hover {background-color: #d4ebff;}#sk-container-id-16 div.sk-parallel-item::after {content: \"\";width: 100%;border-bottom: 1px solid gray;flex-grow: 1;}#sk-container-id-16 div.sk-label:hover label.sk-toggleable__label {background-color: #d4ebff;}#sk-container-id-16 div.sk-serial::before {content: \"\";position: absolute;border-left: 1px solid gray;box-sizing: border-box;top: 0;bottom: 0;left: 50%;z-index: 0;}#sk-container-id-16 div.sk-serial {display: flex;flex-direction: column;align-items: center;background-color: white;padding-right: 0.2em;padding-left: 0.2em;position: relative;}#sk-container-id-16 div.sk-item {position: relative;z-index: 1;}#sk-container-id-16 div.sk-parallel {display: flex;align-items: stretch;justify-content: center;background-color: white;position: relative;}#sk-container-id-16 div.sk-item::before, #sk-container-id-16 div.sk-parallel-item::before {content: \"\";position: absolute;border-left: 1px solid gray;box-sizing: border-box;top: 0;bottom: 0;left: 50%;z-index: -1;}#sk-container-id-16 div.sk-parallel-item {display: flex;flex-direction: column;z-index: 1;position: relative;background-color: white;}#sk-container-id-16 div.sk-parallel-item:first-child::after {align-self: flex-end;width: 50%;}#sk-container-id-16 div.sk-parallel-item:last-child::after {align-self: flex-start;width: 50%;}#sk-container-id-16 div.sk-parallel-item:only-child::after {width: 0;}#sk-container-id-16 div.sk-dashed-wrapped {border: 1px dashed gray;margin: 0 0.4em 0.5em 0.4em;box-sizing: border-box;padding-bottom: 0.4em;background-color: white;}#sk-container-id-16 div.sk-label label {font-family: monospace;font-weight: bold;display: inline-block;line-height: 1.2em;}#sk-container-id-16 div.sk-label-container {text-align: center;}#sk-container-id-16 div.sk-container {/* jupyter's `normalize.less` sets `[hidden] { display: none; }` but bootstrap.min.css set `[hidden] { display: none !important; }` so we also need the `!important` here to be able to override the default hidden behavior on the sphinx rendered scikit-learn.org. See: https://github.com/scikit-learn/scikit-learn/issues/21755 */display: inline-block !important;position: relative;}#sk-container-id-16 div.sk-text-repr-fallback {display: none;}</style><div id=\"sk-container-id-16\" class=\"sk-top-container\"><div class=\"sk-text-repr-fallback\"><pre>GridSearchCV(estimator=Pipeline(steps=[(&#x27;cvec&#x27;, CountVectorizer()),\n",
       "                                       (&#x27;ss&#x27;, StandardScaler(with_mean=False)),\n",
       "                                       (&#x27;boost&#x27;, AdaBoostClassifier())]),\n",
       "             n_jobs=-1,\n",
       "             param_grid={&#x27;cvec__max_df&#x27;: [0.7, 0.8, 0.9],\n",
       "                         &#x27;cvec__max_features&#x27;: [1000, 2000, 5000, 8000, 13000,\n",
       "                                                16000, 30000, 50000, 100000],\n",
       "                         &#x27;cvec__min_df&#x27;: [1, 3, 5, 7],\n",
       "                         &#x27;cvec__ngram_range&#x27;: [(1, 1), (1, 2)],\n",
       "                         &#x27;cvec__stop_words&#x27;: [None,\n",
       "                                              [&#x27;i&#x27;, &#x27;me&#x27;, &#x27;my&#x27;, &#x27;myself&#x27;, &#x27;we&#x27;,\n",
       "                                               &#x27;our&#x27;, &#x27;ours&#x27;, &#x27;ourselves&#x27;,\n",
       "                                               &#x27;you&#x27;, &quot;you&#x27;re&quot;, &quot;you&#x27;ve&quot;,\n",
       "                                               &quot;you&#x27;ll&quot;, &quot;you&#x27;d&quot;, &#x27;your&#x27;,\n",
       "                                               &#x27;yours&#x27;, &#x27;yourself&#x27;,\n",
       "                                               &#x27;yourselves&#x27;, &#x27;he&#x27;, &#x27;him&#x27;, &#x27;his&#x27;,\n",
       "                                               &#x27;himself&#x27;, &#x27;she&#x27;, &quot;she&#x27;s&quot;, &#x27;her&#x27;,\n",
       "                                               &#x27;hers&#x27;, &#x27;herself&#x27;, &#x27;it&#x27;, &quot;it&#x27;s&quot;,\n",
       "                                               &#x27;its&#x27;, &#x27;itself&#x27;, ...],\n",
       "                                              &#x27;english&#x27;]})</pre><b>In a Jupyter environment, please rerun this cell to show the HTML representation or trust the notebook. <br />On GitHub, the HTML representation is unable to render, please try loading this page with nbviewer.org.</b></div><div class=\"sk-container\" hidden><div class=\"sk-item sk-dashed-wrapped\"><div class=\"sk-label-container\"><div class=\"sk-label sk-toggleable\"><input class=\"sk-toggleable__control sk-hidden--visually\" id=\"sk-estimator-id-85\" type=\"checkbox\" ><label for=\"sk-estimator-id-85\" class=\"sk-toggleable__label sk-toggleable__label-arrow\">GridSearchCV</label><div class=\"sk-toggleable__content\"><pre>GridSearchCV(estimator=Pipeline(steps=[(&#x27;cvec&#x27;, CountVectorizer()),\n",
       "                                       (&#x27;ss&#x27;, StandardScaler(with_mean=False)),\n",
       "                                       (&#x27;boost&#x27;, AdaBoostClassifier())]),\n",
       "             n_jobs=-1,\n",
       "             param_grid={&#x27;cvec__max_df&#x27;: [0.7, 0.8, 0.9],\n",
       "                         &#x27;cvec__max_features&#x27;: [1000, 2000, 5000, 8000, 13000,\n",
       "                                                16000, 30000, 50000, 100000],\n",
       "                         &#x27;cvec__min_df&#x27;: [1, 3, 5, 7],\n",
       "                         &#x27;cvec__ngram_range&#x27;: [(1, 1), (1, 2)],\n",
       "                         &#x27;cvec__stop_words&#x27;: [None,\n",
       "                                              [&#x27;i&#x27;, &#x27;me&#x27;, &#x27;my&#x27;, &#x27;myself&#x27;, &#x27;we&#x27;,\n",
       "                                               &#x27;our&#x27;, &#x27;ours&#x27;, &#x27;ourselves&#x27;,\n",
       "                                               &#x27;you&#x27;, &quot;you&#x27;re&quot;, &quot;you&#x27;ve&quot;,\n",
       "                                               &quot;you&#x27;ll&quot;, &quot;you&#x27;d&quot;, &#x27;your&#x27;,\n",
       "                                               &#x27;yours&#x27;, &#x27;yourself&#x27;,\n",
       "                                               &#x27;yourselves&#x27;, &#x27;he&#x27;, &#x27;him&#x27;, &#x27;his&#x27;,\n",
       "                                               &#x27;himself&#x27;, &#x27;she&#x27;, &quot;she&#x27;s&quot;, &#x27;her&#x27;,\n",
       "                                               &#x27;hers&#x27;, &#x27;herself&#x27;, &#x27;it&#x27;, &quot;it&#x27;s&quot;,\n",
       "                                               &#x27;its&#x27;, &#x27;itself&#x27;, ...],\n",
       "                                              &#x27;english&#x27;]})</pre></div></div></div><div class=\"sk-parallel\"><div class=\"sk-parallel-item\"><div class=\"sk-item\"><div class=\"sk-label-container\"><div class=\"sk-label sk-toggleable\"><input class=\"sk-toggleable__control sk-hidden--visually\" id=\"sk-estimator-id-86\" type=\"checkbox\" ><label for=\"sk-estimator-id-86\" class=\"sk-toggleable__label sk-toggleable__label-arrow\">estimator: Pipeline</label><div class=\"sk-toggleable__content\"><pre>Pipeline(steps=[(&#x27;cvec&#x27;, CountVectorizer()),\n",
       "                (&#x27;ss&#x27;, StandardScaler(with_mean=False)),\n",
       "                (&#x27;boost&#x27;, AdaBoostClassifier())])</pre></div></div></div><div class=\"sk-serial\"><div class=\"sk-item\"><div class=\"sk-serial\"><div class=\"sk-item\"><div class=\"sk-estimator sk-toggleable\"><input class=\"sk-toggleable__control sk-hidden--visually\" id=\"sk-estimator-id-87\" type=\"checkbox\" ><label for=\"sk-estimator-id-87\" class=\"sk-toggleable__label sk-toggleable__label-arrow\">CountVectorizer</label><div class=\"sk-toggleable__content\"><pre>CountVectorizer()</pre></div></div></div><div class=\"sk-item\"><div class=\"sk-estimator sk-toggleable\"><input class=\"sk-toggleable__control sk-hidden--visually\" id=\"sk-estimator-id-88\" type=\"checkbox\" ><label for=\"sk-estimator-id-88\" class=\"sk-toggleable__label sk-toggleable__label-arrow\">StandardScaler</label><div class=\"sk-toggleable__content\"><pre>StandardScaler(with_mean=False)</pre></div></div></div><div class=\"sk-item\"><div class=\"sk-estimator sk-toggleable\"><input class=\"sk-toggleable__control sk-hidden--visually\" id=\"sk-estimator-id-89\" type=\"checkbox\" ><label for=\"sk-estimator-id-89\" class=\"sk-toggleable__label sk-toggleable__label-arrow\">AdaBoostClassifier</label><div class=\"sk-toggleable__content\"><pre>AdaBoostClassifier()</pre></div></div></div></div></div></div></div></div></div></div></div></div>"
      ],
      "text/plain": [
       "GridSearchCV(estimator=Pipeline(steps=[('cvec', CountVectorizer()),\n",
       "                                       ('ss', StandardScaler(with_mean=False)),\n",
       "                                       ('boost', AdaBoostClassifier())]),\n",
       "             n_jobs=-1,\n",
       "             param_grid={'cvec__max_df': [0.7, 0.8, 0.9],\n",
       "                         'cvec__max_features': [1000, 2000, 5000, 8000, 13000,\n",
       "                                                16000, 30000, 50000, 100000],\n",
       "                         'cvec__min_df': [1, 3, 5, 7],\n",
       "                         'cvec__ngram_range': [(1, 1), (1, 2)],\n",
       "                         'cvec__stop_words': [None,\n",
       "                                              ['i', 'me', 'my', 'myself', 'we',\n",
       "                                               'our', 'ours', 'ourselves',\n",
       "                                               'you', \"you're\", \"you've\",\n",
       "                                               \"you'll\", \"you'd\", 'your',\n",
       "                                               'yours', 'yourself',\n",
       "                                               'yourselves', 'he', 'him', 'his',\n",
       "                                               'himself', 'she', \"she's\", 'her',\n",
       "                                               'hers', 'herself', 'it', \"it's\",\n",
       "                                               'its', 'itself', ...],\n",
       "                                              'english']})"
      ]
     },
     "execution_count": 359,
     "metadata": {},
     "output_type": "execute_result"
    }
   ],
   "source": [
    "xboost_gs.fit(X_train, y_train)"
   ]
  },
  {
   "cell_type": "code",
   "execution_count": null,
   "id": "f29dc299-68b4-43a6-87f2-f6623becb365",
   "metadata": {
    "id": "f29dc299-68b4-43a6-87f2-f6623becb365",
    "outputId": "b8a759aa-86b2-4fd7-ad4d-deac3c3a210b"
   },
   "outputs": [
    {
     "data": {
      "text/plain": [
       "0.6964573268921095"
      ]
     },
     "execution_count": 360,
     "metadata": {},
     "output_type": "execute_result"
    }
   ],
   "source": [
    "xboost_gs.score(X_test, y_test)"
   ]
  },
  {
   "cell_type": "code",
   "execution_count": null,
   "id": "6f3ecefb-7643-44d9-8362-9f1424df9b60",
   "metadata": {
    "id": "6f3ecefb-7643-44d9-8362-9f1424df9b60",
    "outputId": "6066514d-9876-41fc-c07a-89e144f38bc0"
   },
   "outputs": [
    {
     "data": {
      "text/plain": [
       "0.7174496644295302"
      ]
     },
     "execution_count": 361,
     "metadata": {},
     "output_type": "execute_result"
    }
   ],
   "source": [
    "xboost_gs.score(X_train, y_train)"
   ]
  },
  {
   "cell_type": "markdown",
   "id": "0ceb6b5c-fcf0-452c-9444-8bb83031457b",
   "metadata": {
    "id": "0ceb6b5c-fcf0-452c-9444-8bb83031457b"
   },
   "source": [
    "## Stacked lemmatized model"
   ]
  },
  {
   "cell_type": "code",
   "execution_count": null,
   "id": "6ed07406-4c7b-485a-b93a-bd74ac75f85b",
   "metadata": {
    "id": "6ed07406-4c7b-485a-b93a-bd74ac75f85b",
    "outputId": "988698d6-7970-432c-d3c7-5d1a8c5d7703"
   },
   "outputs": [
    {
     "data": {
      "text/html": [
       "<style>#sk-container-id-32 {color: black;background-color: white;}#sk-container-id-32 pre{padding: 0;}#sk-container-id-32 div.sk-toggleable {background-color: white;}#sk-container-id-32 label.sk-toggleable__label {cursor: pointer;display: block;width: 100%;margin-bottom: 0;padding: 0.3em;box-sizing: border-box;text-align: center;}#sk-container-id-32 label.sk-toggleable__label-arrow:before {content: \"▸\";float: left;margin-right: 0.25em;color: #696969;}#sk-container-id-32 label.sk-toggleable__label-arrow:hover:before {color: black;}#sk-container-id-32 div.sk-estimator:hover label.sk-toggleable__label-arrow:before {color: black;}#sk-container-id-32 div.sk-toggleable__content {max-height: 0;max-width: 0;overflow: hidden;text-align: left;background-color: #f0f8ff;}#sk-container-id-32 div.sk-toggleable__content pre {margin: 0.2em;color: black;border-radius: 0.25em;background-color: #f0f8ff;}#sk-container-id-32 input.sk-toggleable__control:checked~div.sk-toggleable__content {max-height: 200px;max-width: 100%;overflow: auto;}#sk-container-id-32 input.sk-toggleable__control:checked~label.sk-toggleable__label-arrow:before {content: \"▾\";}#sk-container-id-32 div.sk-estimator input.sk-toggleable__control:checked~label.sk-toggleable__label {background-color: #d4ebff;}#sk-container-id-32 div.sk-label input.sk-toggleable__control:checked~label.sk-toggleable__label {background-color: #d4ebff;}#sk-container-id-32 input.sk-hidden--visually {border: 0;clip: rect(1px 1px 1px 1px);clip: rect(1px, 1px, 1px, 1px);height: 1px;margin: -1px;overflow: hidden;padding: 0;position: absolute;width: 1px;}#sk-container-id-32 div.sk-estimator {font-family: monospace;background-color: #f0f8ff;border: 1px dotted black;border-radius: 0.25em;box-sizing: border-box;margin-bottom: 0.5em;}#sk-container-id-32 div.sk-estimator:hover {background-color: #d4ebff;}#sk-container-id-32 div.sk-parallel-item::after {content: \"\";width: 100%;border-bottom: 1px solid gray;flex-grow: 1;}#sk-container-id-32 div.sk-label:hover label.sk-toggleable__label {background-color: #d4ebff;}#sk-container-id-32 div.sk-serial::before {content: \"\";position: absolute;border-left: 1px solid gray;box-sizing: border-box;top: 0;bottom: 0;left: 50%;z-index: 0;}#sk-container-id-32 div.sk-serial {display: flex;flex-direction: column;align-items: center;background-color: white;padding-right: 0.2em;padding-left: 0.2em;position: relative;}#sk-container-id-32 div.sk-item {position: relative;z-index: 1;}#sk-container-id-32 div.sk-parallel {display: flex;align-items: stretch;justify-content: center;background-color: white;position: relative;}#sk-container-id-32 div.sk-item::before, #sk-container-id-32 div.sk-parallel-item::before {content: \"\";position: absolute;border-left: 1px solid gray;box-sizing: border-box;top: 0;bottom: 0;left: 50%;z-index: -1;}#sk-container-id-32 div.sk-parallel-item {display: flex;flex-direction: column;z-index: 1;position: relative;background-color: white;}#sk-container-id-32 div.sk-parallel-item:first-child::after {align-self: flex-end;width: 50%;}#sk-container-id-32 div.sk-parallel-item:last-child::after {align-self: flex-start;width: 50%;}#sk-container-id-32 div.sk-parallel-item:only-child::after {width: 0;}#sk-container-id-32 div.sk-dashed-wrapped {border: 1px dashed gray;margin: 0 0.4em 0.5em 0.4em;box-sizing: border-box;padding-bottom: 0.4em;background-color: white;}#sk-container-id-32 div.sk-label label {font-family: monospace;font-weight: bold;display: inline-block;line-height: 1.2em;}#sk-container-id-32 div.sk-label-container {text-align: center;}#sk-container-id-32 div.sk-container {/* jupyter's `normalize.less` sets `[hidden] { display: none; }` but bootstrap.min.css set `[hidden] { display: none !important; }` so we also need the `!important` here to be able to override the default hidden behavior on the sphinx rendered scikit-learn.org. See: https://github.com/scikit-learn/scikit-learn/issues/21755 */display: inline-block !important;position: relative;}#sk-container-id-32 div.sk-text-repr-fallback {display: none;}</style><div id=\"sk-container-id-32\" class=\"sk-top-container\"><div class=\"sk-text-repr-fallback\"><pre>Pipeline(steps=[(&#x27;cvec&#x27;,\n",
       "                 CountVectorizer(max_df=0.7, max_features=100000,\n",
       "                                 ngram_range=(1, 2),\n",
       "                                 stop_words=[&#x27;i&#x27;, &#x27;me&#x27;, &#x27;my&#x27;, &#x27;myself&#x27;, &#x27;we&#x27;,\n",
       "                                             &#x27;our&#x27;, &#x27;ours&#x27;, &#x27;ourselves&#x27;, &#x27;you&#x27;,\n",
       "                                             &quot;you&#x27;re&quot;, &quot;you&#x27;ve&quot;, &quot;you&#x27;ll&quot;,\n",
       "                                             &quot;you&#x27;d&quot;, &#x27;your&#x27;, &#x27;yours&#x27;,\n",
       "                                             &#x27;yourself&#x27;, &#x27;yourselves&#x27;, &#x27;he&#x27;,\n",
       "                                             &#x27;him&#x27;, &#x27;his&#x27;, &#x27;himself&#x27;, &#x27;she&#x27;,\n",
       "                                             &quot;she&#x27;s&quot;, &#x27;her&#x27;, &#x27;hers&#x27;, &#x27;herself&#x27;,\n",
       "                                             &#x27;it&#x27;, &quot;it&#x27;s&quot;, &#x27;its&#x27;, &#x27;itself&#x27;, ...])),\n",
       "                (&#x27;ss&#x27;, StandardScaler(with_mean=False)),\n",
       "                (&#x27;boost&#x27;, AdaBoostClassifier())])</pre><b>In a Jupyter environment, please rerun this cell to show the HTML representation or trust the notebook. <br />On GitHub, the HTML representation is unable to render, please try loading this page with nbviewer.org.</b></div><div class=\"sk-container\" hidden><div class=\"sk-item sk-dashed-wrapped\"><div class=\"sk-label-container\"><div class=\"sk-label sk-toggleable\"><input class=\"sk-toggleable__control sk-hidden--visually\" id=\"sk-estimator-id-193\" type=\"checkbox\" ><label for=\"sk-estimator-id-193\" class=\"sk-toggleable__label sk-toggleable__label-arrow\">Pipeline</label><div class=\"sk-toggleable__content\"><pre>Pipeline(steps=[(&#x27;cvec&#x27;,\n",
       "                 CountVectorizer(max_df=0.7, max_features=100000,\n",
       "                                 ngram_range=(1, 2),\n",
       "                                 stop_words=[&#x27;i&#x27;, &#x27;me&#x27;, &#x27;my&#x27;, &#x27;myself&#x27;, &#x27;we&#x27;,\n",
       "                                             &#x27;our&#x27;, &#x27;ours&#x27;, &#x27;ourselves&#x27;, &#x27;you&#x27;,\n",
       "                                             &quot;you&#x27;re&quot;, &quot;you&#x27;ve&quot;, &quot;you&#x27;ll&quot;,\n",
       "                                             &quot;you&#x27;d&quot;, &#x27;your&#x27;, &#x27;yours&#x27;,\n",
       "                                             &#x27;yourself&#x27;, &#x27;yourselves&#x27;, &#x27;he&#x27;,\n",
       "                                             &#x27;him&#x27;, &#x27;his&#x27;, &#x27;himself&#x27;, &#x27;she&#x27;,\n",
       "                                             &quot;she&#x27;s&quot;, &#x27;her&#x27;, &#x27;hers&#x27;, &#x27;herself&#x27;,\n",
       "                                             &#x27;it&#x27;, &quot;it&#x27;s&quot;, &#x27;its&#x27;, &#x27;itself&#x27;, ...])),\n",
       "                (&#x27;ss&#x27;, StandardScaler(with_mean=False)),\n",
       "                (&#x27;boost&#x27;, AdaBoostClassifier())])</pre></div></div></div><div class=\"sk-serial\"><div class=\"sk-item\"><div class=\"sk-estimator sk-toggleable\"><input class=\"sk-toggleable__control sk-hidden--visually\" id=\"sk-estimator-id-194\" type=\"checkbox\" ><label for=\"sk-estimator-id-194\" class=\"sk-toggleable__label sk-toggleable__label-arrow\">CountVectorizer</label><div class=\"sk-toggleable__content\"><pre>CountVectorizer(max_df=0.7, max_features=100000, ngram_range=(1, 2),\n",
       "                stop_words=[&#x27;i&#x27;, &#x27;me&#x27;, &#x27;my&#x27;, &#x27;myself&#x27;, &#x27;we&#x27;, &#x27;our&#x27;, &#x27;ours&#x27;,\n",
       "                            &#x27;ourselves&#x27;, &#x27;you&#x27;, &quot;you&#x27;re&quot;, &quot;you&#x27;ve&quot;, &quot;you&#x27;ll&quot;,\n",
       "                            &quot;you&#x27;d&quot;, &#x27;your&#x27;, &#x27;yours&#x27;, &#x27;yourself&#x27;, &#x27;yourselves&#x27;,\n",
       "                            &#x27;he&#x27;, &#x27;him&#x27;, &#x27;his&#x27;, &#x27;himself&#x27;, &#x27;she&#x27;, &quot;she&#x27;s&quot;,\n",
       "                            &#x27;her&#x27;, &#x27;hers&#x27;, &#x27;herself&#x27;, &#x27;it&#x27;, &quot;it&#x27;s&quot;, &#x27;its&#x27;,\n",
       "                            &#x27;itself&#x27;, ...])</pre></div></div></div><div class=\"sk-item\"><div class=\"sk-estimator sk-toggleable\"><input class=\"sk-toggleable__control sk-hidden--visually\" id=\"sk-estimator-id-195\" type=\"checkbox\" ><label for=\"sk-estimator-id-195\" class=\"sk-toggleable__label sk-toggleable__label-arrow\">StandardScaler</label><div class=\"sk-toggleable__content\"><pre>StandardScaler(with_mean=False)</pre></div></div></div><div class=\"sk-item\"><div class=\"sk-estimator sk-toggleable\"><input class=\"sk-toggleable__control sk-hidden--visually\" id=\"sk-estimator-id-196\" type=\"checkbox\" ><label for=\"sk-estimator-id-196\" class=\"sk-toggleable__label sk-toggleable__label-arrow\">AdaBoostClassifier</label><div class=\"sk-toggleable__content\"><pre>AdaBoostClassifier()</pre></div></div></div></div></div></div></div>"
      ],
      "text/plain": [
       "Pipeline(steps=[('cvec',\n",
       "                 CountVectorizer(max_df=0.7, max_features=100000,\n",
       "                                 ngram_range=(1, 2),\n",
       "                                 stop_words=['i', 'me', 'my', 'myself', 'we',\n",
       "                                             'our', 'ours', 'ourselves', 'you',\n",
       "                                             \"you're\", \"you've\", \"you'll\",\n",
       "                                             \"you'd\", 'your', 'yours',\n",
       "                                             'yourself', 'yourselves', 'he',\n",
       "                                             'him', 'his', 'himself', 'she',\n",
       "                                             \"she's\", 'her', 'hers', 'herself',\n",
       "                                             'it', \"it's\", 'its', 'itself', ...])),\n",
       "                ('ss', StandardScaler(with_mean=False)),\n",
       "                ('boost', AdaBoostClassifier())])"
      ]
     },
     "execution_count": 438,
     "metadata": {},
     "output_type": "execute_result"
    }
   ],
   "source": [
    "xboost_gs_lem.best_estimator_"
   ]
  },
  {
   "cell_type": "code",
   "execution_count": null,
   "id": "a61f063f-07b9-4831-b4d1-2da4a3466c5e",
   "metadata": {
    "id": "a61f063f-07b9-4831-b4d1-2da4a3466c5e",
    "outputId": "ce31039a-c0e0-4207-db3e-7df34c85b9cb"
   },
   "outputs": [
    {
     "data": {
      "text/html": [
       "<style>#sk-container-id-34 {color: black;background-color: white;}#sk-container-id-34 pre{padding: 0;}#sk-container-id-34 div.sk-toggleable {background-color: white;}#sk-container-id-34 label.sk-toggleable__label {cursor: pointer;display: block;width: 100%;margin-bottom: 0;padding: 0.3em;box-sizing: border-box;text-align: center;}#sk-container-id-34 label.sk-toggleable__label-arrow:before {content: \"▸\";float: left;margin-right: 0.25em;color: #696969;}#sk-container-id-34 label.sk-toggleable__label-arrow:hover:before {color: black;}#sk-container-id-34 div.sk-estimator:hover label.sk-toggleable__label-arrow:before {color: black;}#sk-container-id-34 div.sk-toggleable__content {max-height: 0;max-width: 0;overflow: hidden;text-align: left;background-color: #f0f8ff;}#sk-container-id-34 div.sk-toggleable__content pre {margin: 0.2em;color: black;border-radius: 0.25em;background-color: #f0f8ff;}#sk-container-id-34 input.sk-toggleable__control:checked~div.sk-toggleable__content {max-height: 200px;max-width: 100%;overflow: auto;}#sk-container-id-34 input.sk-toggleable__control:checked~label.sk-toggleable__label-arrow:before {content: \"▾\";}#sk-container-id-34 div.sk-estimator input.sk-toggleable__control:checked~label.sk-toggleable__label {background-color: #d4ebff;}#sk-container-id-34 div.sk-label input.sk-toggleable__control:checked~label.sk-toggleable__label {background-color: #d4ebff;}#sk-container-id-34 input.sk-hidden--visually {border: 0;clip: rect(1px 1px 1px 1px);clip: rect(1px, 1px, 1px, 1px);height: 1px;margin: -1px;overflow: hidden;padding: 0;position: absolute;width: 1px;}#sk-container-id-34 div.sk-estimator {font-family: monospace;background-color: #f0f8ff;border: 1px dotted black;border-radius: 0.25em;box-sizing: border-box;margin-bottom: 0.5em;}#sk-container-id-34 div.sk-estimator:hover {background-color: #d4ebff;}#sk-container-id-34 div.sk-parallel-item::after {content: \"\";width: 100%;border-bottom: 1px solid gray;flex-grow: 1;}#sk-container-id-34 div.sk-label:hover label.sk-toggleable__label {background-color: #d4ebff;}#sk-container-id-34 div.sk-serial::before {content: \"\";position: absolute;border-left: 1px solid gray;box-sizing: border-box;top: 0;bottom: 0;left: 50%;z-index: 0;}#sk-container-id-34 div.sk-serial {display: flex;flex-direction: column;align-items: center;background-color: white;padding-right: 0.2em;padding-left: 0.2em;position: relative;}#sk-container-id-34 div.sk-item {position: relative;z-index: 1;}#sk-container-id-34 div.sk-parallel {display: flex;align-items: stretch;justify-content: center;background-color: white;position: relative;}#sk-container-id-34 div.sk-item::before, #sk-container-id-34 div.sk-parallel-item::before {content: \"\";position: absolute;border-left: 1px solid gray;box-sizing: border-box;top: 0;bottom: 0;left: 50%;z-index: -1;}#sk-container-id-34 div.sk-parallel-item {display: flex;flex-direction: column;z-index: 1;position: relative;background-color: white;}#sk-container-id-34 div.sk-parallel-item:first-child::after {align-self: flex-end;width: 50%;}#sk-container-id-34 div.sk-parallel-item:last-child::after {align-self: flex-start;width: 50%;}#sk-container-id-34 div.sk-parallel-item:only-child::after {width: 0;}#sk-container-id-34 div.sk-dashed-wrapped {border: 1px dashed gray;margin: 0 0.4em 0.5em 0.4em;box-sizing: border-box;padding-bottom: 0.4em;background-color: white;}#sk-container-id-34 div.sk-label label {font-family: monospace;font-weight: bold;display: inline-block;line-height: 1.2em;}#sk-container-id-34 div.sk-label-container {text-align: center;}#sk-container-id-34 div.sk-container {/* jupyter's `normalize.less` sets `[hidden] { display: none; }` but bootstrap.min.css set `[hidden] { display: none !important; }` so we also need the `!important` here to be able to override the default hidden behavior on the sphinx rendered scikit-learn.org. See: https://github.com/scikit-learn/scikit-learn/issues/21755 */display: inline-block !important;position: relative;}#sk-container-id-34 div.sk-text-repr-fallback {display: none;}</style><div id=\"sk-container-id-34\" class=\"sk-top-container\"><div class=\"sk-text-repr-fallback\"><pre>Pipeline(steps=[(&#x27;cvec&#x27;,\n",
       "                 CountVectorizer(max_df=0.9, max_features=16000,\n",
       "                                 stop_words=&#x27;english&#x27;)),\n",
       "                (&#x27;nb&#x27;, MultinomialNB())])</pre><b>In a Jupyter environment, please rerun this cell to show the HTML representation or trust the notebook. <br />On GitHub, the HTML representation is unable to render, please try loading this page with nbviewer.org.</b></div><div class=\"sk-container\" hidden><div class=\"sk-item sk-dashed-wrapped\"><div class=\"sk-label-container\"><div class=\"sk-label sk-toggleable\"><input class=\"sk-toggleable__control sk-hidden--visually\" id=\"sk-estimator-id-201\" type=\"checkbox\" ><label for=\"sk-estimator-id-201\" class=\"sk-toggleable__label sk-toggleable__label-arrow\">Pipeline</label><div class=\"sk-toggleable__content\"><pre>Pipeline(steps=[(&#x27;cvec&#x27;,\n",
       "                 CountVectorizer(max_df=0.9, max_features=16000,\n",
       "                                 stop_words=&#x27;english&#x27;)),\n",
       "                (&#x27;nb&#x27;, MultinomialNB())])</pre></div></div></div><div class=\"sk-serial\"><div class=\"sk-item\"><div class=\"sk-estimator sk-toggleable\"><input class=\"sk-toggleable__control sk-hidden--visually\" id=\"sk-estimator-id-202\" type=\"checkbox\" ><label for=\"sk-estimator-id-202\" class=\"sk-toggleable__label sk-toggleable__label-arrow\">CountVectorizer</label><div class=\"sk-toggleable__content\"><pre>CountVectorizer(max_df=0.9, max_features=16000, stop_words=&#x27;english&#x27;)</pre></div></div></div><div class=\"sk-item\"><div class=\"sk-estimator sk-toggleable\"><input class=\"sk-toggleable__control sk-hidden--visually\" id=\"sk-estimator-id-203\" type=\"checkbox\" ><label for=\"sk-estimator-id-203\" class=\"sk-toggleable__label sk-toggleable__label-arrow\">MultinomialNB</label><div class=\"sk-toggleable__content\"><pre>MultinomialNB()</pre></div></div></div></div></div></div></div>"
      ],
      "text/plain": [
       "Pipeline(steps=[('cvec',\n",
       "                 CountVectorizer(max_df=0.9, max_features=16000,\n",
       "                                 stop_words='english')),\n",
       "                ('nb', MultinomialNB())])"
      ]
     },
     "execution_count": 442,
     "metadata": {},
     "output_type": "execute_result"
    }
   ],
   "source": [
    "nb_pipe"
   ]
  },
  {
   "cell_type": "code",
   "execution_count": null,
   "id": "467e80fb-c058-4060-a4f2-2b7e7f4712ff",
   "metadata": {
    "id": "467e80fb-c058-4060-a4f2-2b7e7f4712ff",
    "outputId": "f49554c6-7019-4fd2-96ec-63bb0496eff2"
   },
   "outputs": [
    {
     "data": {
      "text/html": [
       "<style>#sk-container-id-33 {color: black;background-color: white;}#sk-container-id-33 pre{padding: 0;}#sk-container-id-33 div.sk-toggleable {background-color: white;}#sk-container-id-33 label.sk-toggleable__label {cursor: pointer;display: block;width: 100%;margin-bottom: 0;padding: 0.3em;box-sizing: border-box;text-align: center;}#sk-container-id-33 label.sk-toggleable__label-arrow:before {content: \"▸\";float: left;margin-right: 0.25em;color: #696969;}#sk-container-id-33 label.sk-toggleable__label-arrow:hover:before {color: black;}#sk-container-id-33 div.sk-estimator:hover label.sk-toggleable__label-arrow:before {color: black;}#sk-container-id-33 div.sk-toggleable__content {max-height: 0;max-width: 0;overflow: hidden;text-align: left;background-color: #f0f8ff;}#sk-container-id-33 div.sk-toggleable__content pre {margin: 0.2em;color: black;border-radius: 0.25em;background-color: #f0f8ff;}#sk-container-id-33 input.sk-toggleable__control:checked~div.sk-toggleable__content {max-height: 200px;max-width: 100%;overflow: auto;}#sk-container-id-33 input.sk-toggleable__control:checked~label.sk-toggleable__label-arrow:before {content: \"▾\";}#sk-container-id-33 div.sk-estimator input.sk-toggleable__control:checked~label.sk-toggleable__label {background-color: #d4ebff;}#sk-container-id-33 div.sk-label input.sk-toggleable__control:checked~label.sk-toggleable__label {background-color: #d4ebff;}#sk-container-id-33 input.sk-hidden--visually {border: 0;clip: rect(1px 1px 1px 1px);clip: rect(1px, 1px, 1px, 1px);height: 1px;margin: -1px;overflow: hidden;padding: 0;position: absolute;width: 1px;}#sk-container-id-33 div.sk-estimator {font-family: monospace;background-color: #f0f8ff;border: 1px dotted black;border-radius: 0.25em;box-sizing: border-box;margin-bottom: 0.5em;}#sk-container-id-33 div.sk-estimator:hover {background-color: #d4ebff;}#sk-container-id-33 div.sk-parallel-item::after {content: \"\";width: 100%;border-bottom: 1px solid gray;flex-grow: 1;}#sk-container-id-33 div.sk-label:hover label.sk-toggleable__label {background-color: #d4ebff;}#sk-container-id-33 div.sk-serial::before {content: \"\";position: absolute;border-left: 1px solid gray;box-sizing: border-box;top: 0;bottom: 0;left: 50%;z-index: 0;}#sk-container-id-33 div.sk-serial {display: flex;flex-direction: column;align-items: center;background-color: white;padding-right: 0.2em;padding-left: 0.2em;position: relative;}#sk-container-id-33 div.sk-item {position: relative;z-index: 1;}#sk-container-id-33 div.sk-parallel {display: flex;align-items: stretch;justify-content: center;background-color: white;position: relative;}#sk-container-id-33 div.sk-item::before, #sk-container-id-33 div.sk-parallel-item::before {content: \"\";position: absolute;border-left: 1px solid gray;box-sizing: border-box;top: 0;bottom: 0;left: 50%;z-index: -1;}#sk-container-id-33 div.sk-parallel-item {display: flex;flex-direction: column;z-index: 1;position: relative;background-color: white;}#sk-container-id-33 div.sk-parallel-item:first-child::after {align-self: flex-end;width: 50%;}#sk-container-id-33 div.sk-parallel-item:last-child::after {align-self: flex-start;width: 50%;}#sk-container-id-33 div.sk-parallel-item:only-child::after {width: 0;}#sk-container-id-33 div.sk-dashed-wrapped {border: 1px dashed gray;margin: 0 0.4em 0.5em 0.4em;box-sizing: border-box;padding-bottom: 0.4em;background-color: white;}#sk-container-id-33 div.sk-label label {font-family: monospace;font-weight: bold;display: inline-block;line-height: 1.2em;}#sk-container-id-33 div.sk-label-container {text-align: center;}#sk-container-id-33 div.sk-container {/* jupyter's `normalize.less` sets `[hidden] { display: none; }` but bootstrap.min.css set `[hidden] { display: none !important; }` so we also need the `!important` here to be able to override the default hidden behavior on the sphinx rendered scikit-learn.org. See: https://github.com/scikit-learn/scikit-learn/issues/21755 */display: inline-block !important;position: relative;}#sk-container-id-33 div.sk-text-repr-fallback {display: none;}</style><div id=\"sk-container-id-33\" class=\"sk-top-container\"><div class=\"sk-text-repr-fallback\"><pre>Pipeline(steps=[(&#x27;cvec&#x27;,\n",
       "                 CountVectorizer(max_df=0.8, max_features=15000,\n",
       "                                 ngram_range=(1, 2), stop_words=&#x27;english&#x27;)),\n",
       "                (&#x27;ss&#x27;, StandardScaler(with_mean=False)),\n",
       "                (&#x27;rf&#x27;,\n",
       "                 RandomForestClassifier(ccp_alpha=0, min_samples_split=10))])</pre><b>In a Jupyter environment, please rerun this cell to show the HTML representation or trust the notebook. <br />On GitHub, the HTML representation is unable to render, please try loading this page with nbviewer.org.</b></div><div class=\"sk-container\" hidden><div class=\"sk-item sk-dashed-wrapped\"><div class=\"sk-label-container\"><div class=\"sk-label sk-toggleable\"><input class=\"sk-toggleable__control sk-hidden--visually\" id=\"sk-estimator-id-197\" type=\"checkbox\" ><label for=\"sk-estimator-id-197\" class=\"sk-toggleable__label sk-toggleable__label-arrow\">Pipeline</label><div class=\"sk-toggleable__content\"><pre>Pipeline(steps=[(&#x27;cvec&#x27;,\n",
       "                 CountVectorizer(max_df=0.8, max_features=15000,\n",
       "                                 ngram_range=(1, 2), stop_words=&#x27;english&#x27;)),\n",
       "                (&#x27;ss&#x27;, StandardScaler(with_mean=False)),\n",
       "                (&#x27;rf&#x27;,\n",
       "                 RandomForestClassifier(ccp_alpha=0, min_samples_split=10))])</pre></div></div></div><div class=\"sk-serial\"><div class=\"sk-item\"><div class=\"sk-estimator sk-toggleable\"><input class=\"sk-toggleable__control sk-hidden--visually\" id=\"sk-estimator-id-198\" type=\"checkbox\" ><label for=\"sk-estimator-id-198\" class=\"sk-toggleable__label sk-toggleable__label-arrow\">CountVectorizer</label><div class=\"sk-toggleable__content\"><pre>CountVectorizer(max_df=0.8, max_features=15000, ngram_range=(1, 2),\n",
       "                stop_words=&#x27;english&#x27;)</pre></div></div></div><div class=\"sk-item\"><div class=\"sk-estimator sk-toggleable\"><input class=\"sk-toggleable__control sk-hidden--visually\" id=\"sk-estimator-id-199\" type=\"checkbox\" ><label for=\"sk-estimator-id-199\" class=\"sk-toggleable__label sk-toggleable__label-arrow\">StandardScaler</label><div class=\"sk-toggleable__content\"><pre>StandardScaler(with_mean=False)</pre></div></div></div><div class=\"sk-item\"><div class=\"sk-estimator sk-toggleable\"><input class=\"sk-toggleable__control sk-hidden--visually\" id=\"sk-estimator-id-200\" type=\"checkbox\" ><label for=\"sk-estimator-id-200\" class=\"sk-toggleable__label sk-toggleable__label-arrow\">RandomForestClassifier</label><div class=\"sk-toggleable__content\"><pre>RandomForestClassifier(ccp_alpha=0, min_samples_split=10)</pre></div></div></div></div></div></div></div>"
      ],
      "text/plain": [
       "Pipeline(steps=[('cvec',\n",
       "                 CountVectorizer(max_df=0.8, max_features=15000,\n",
       "                                 ngram_range=(1, 2), stop_words='english')),\n",
       "                ('ss', StandardScaler(with_mean=False)),\n",
       "                ('rf',\n",
       "                 RandomForestClassifier(ccp_alpha=0, min_samples_split=10))])"
      ]
     },
     "execution_count": 440,
     "metadata": {},
     "output_type": "execute_result"
    }
   ],
   "source": [
    "rf_gs_lem.best_estimator_"
   ]
  },
  {
   "cell_type": "code",
   "execution_count": null,
   "id": "433e7611-bb4b-476b-b0fe-8bd0c2bcce1e",
   "metadata": {
    "id": "433e7611-bb4b-476b-b0fe-8bd0c2bcce1e"
   },
   "outputs": [],
   "source": [
    "X = vaush_destiny_df['no_links_2']\n",
    "y = vaush_destiny_df['subreddit'].map(dict(Destiny=1, VaushV=0))\n",
    "\n",
    "X_train, X_test, y_train, y_test = train_test_split(X, y, random_state=42,\n",
    "                                                    stratify=y)"
   ]
  },
  {
   "cell_type": "code",
   "execution_count": null,
   "id": "6d566773-56b2-4dd8-9f9b-40b6c9b4d2a2",
   "metadata": {
    "id": "6d566773-56b2-4dd8-9f9b-40b6c9b4d2a2"
   },
   "outputs": [],
   "source": [
    "level1_estimators = [\n",
    "    ('xb', xboost_gs_lem.best_estimator_),\n",
    "    ('nb', nb_pipe),\n",
    "    ('rf', rf_gs_lem.best_estimator_),\n",
    "    ('pipe', Pipeline([\n",
    "        ('cvec', CountVectorizer(ngram_range=(1,1),stop_words='english',min_df=5,max_features=5000,max_df=0.7)),\n",
    "        ('ada', AdaBoostClassifier(base_estimator=LogisticRegression(),n_estimators=30))\n",
    "    ]))\n",
    "   \n",
    "]\n",
    "\n",
    "stacked_model_lem = StackingClassifier(estimators=level1_estimators,\n",
    "                                 final_estimator=LogisticRegression())\n"
   ]
  },
  {
   "cell_type": "code",
   "execution_count": null,
   "id": "676dcf68-8fd6-455d-8e3d-70795958d260",
   "metadata": {
    "id": "676dcf68-8fd6-455d-8e3d-70795958d260",
    "outputId": "ea1006b4-d740-4d67-c775-71692fa1623f"
   },
   "outputs": [
    {
     "data": {
      "text/html": [
       "<style>#sk-container-id-37 {color: black;background-color: white;}#sk-container-id-37 pre{padding: 0;}#sk-container-id-37 div.sk-toggleable {background-color: white;}#sk-container-id-37 label.sk-toggleable__label {cursor: pointer;display: block;width: 100%;margin-bottom: 0;padding: 0.3em;box-sizing: border-box;text-align: center;}#sk-container-id-37 label.sk-toggleable__label-arrow:before {content: \"▸\";float: left;margin-right: 0.25em;color: #696969;}#sk-container-id-37 label.sk-toggleable__label-arrow:hover:before {color: black;}#sk-container-id-37 div.sk-estimator:hover label.sk-toggleable__label-arrow:before {color: black;}#sk-container-id-37 div.sk-toggleable__content {max-height: 0;max-width: 0;overflow: hidden;text-align: left;background-color: #f0f8ff;}#sk-container-id-37 div.sk-toggleable__content pre {margin: 0.2em;color: black;border-radius: 0.25em;background-color: #f0f8ff;}#sk-container-id-37 input.sk-toggleable__control:checked~div.sk-toggleable__content {max-height: 200px;max-width: 100%;overflow: auto;}#sk-container-id-37 input.sk-toggleable__control:checked~label.sk-toggleable__label-arrow:before {content: \"▾\";}#sk-container-id-37 div.sk-estimator input.sk-toggleable__control:checked~label.sk-toggleable__label {background-color: #d4ebff;}#sk-container-id-37 div.sk-label input.sk-toggleable__control:checked~label.sk-toggleable__label {background-color: #d4ebff;}#sk-container-id-37 input.sk-hidden--visually {border: 0;clip: rect(1px 1px 1px 1px);clip: rect(1px, 1px, 1px, 1px);height: 1px;margin: -1px;overflow: hidden;padding: 0;position: absolute;width: 1px;}#sk-container-id-37 div.sk-estimator {font-family: monospace;background-color: #f0f8ff;border: 1px dotted black;border-radius: 0.25em;box-sizing: border-box;margin-bottom: 0.5em;}#sk-container-id-37 div.sk-estimator:hover {background-color: #d4ebff;}#sk-container-id-37 div.sk-parallel-item::after {content: \"\";width: 100%;border-bottom: 1px solid gray;flex-grow: 1;}#sk-container-id-37 div.sk-label:hover label.sk-toggleable__label {background-color: #d4ebff;}#sk-container-id-37 div.sk-serial::before {content: \"\";position: absolute;border-left: 1px solid gray;box-sizing: border-box;top: 0;bottom: 0;left: 50%;z-index: 0;}#sk-container-id-37 div.sk-serial {display: flex;flex-direction: column;align-items: center;background-color: white;padding-right: 0.2em;padding-left: 0.2em;position: relative;}#sk-container-id-37 div.sk-item {position: relative;z-index: 1;}#sk-container-id-37 div.sk-parallel {display: flex;align-items: stretch;justify-content: center;background-color: white;position: relative;}#sk-container-id-37 div.sk-item::before, #sk-container-id-37 div.sk-parallel-item::before {content: \"\";position: absolute;border-left: 1px solid gray;box-sizing: border-box;top: 0;bottom: 0;left: 50%;z-index: -1;}#sk-container-id-37 div.sk-parallel-item {display: flex;flex-direction: column;z-index: 1;position: relative;background-color: white;}#sk-container-id-37 div.sk-parallel-item:first-child::after {align-self: flex-end;width: 50%;}#sk-container-id-37 div.sk-parallel-item:last-child::after {align-self: flex-start;width: 50%;}#sk-container-id-37 div.sk-parallel-item:only-child::after {width: 0;}#sk-container-id-37 div.sk-dashed-wrapped {border: 1px dashed gray;margin: 0 0.4em 0.5em 0.4em;box-sizing: border-box;padding-bottom: 0.4em;background-color: white;}#sk-container-id-37 div.sk-label label {font-family: monospace;font-weight: bold;display: inline-block;line-height: 1.2em;}#sk-container-id-37 div.sk-label-container {text-align: center;}#sk-container-id-37 div.sk-container {/* jupyter's `normalize.less` sets `[hidden] { display: none; }` but bootstrap.min.css set `[hidden] { display: none !important; }` so we also need the `!important` here to be able to override the default hidden behavior on the sphinx rendered scikit-learn.org. See: https://github.com/scikit-learn/scikit-learn/issues/21755 */display: inline-block !important;position: relative;}#sk-container-id-37 div.sk-text-repr-fallback {display: none;}</style><div id=\"sk-container-id-37\" class=\"sk-top-container\"><div class=\"sk-text-repr-fallback\"><pre>StackingClassifier(estimators=[(&#x27;xb&#x27;,\n",
       "                                Pipeline(steps=[(&#x27;cvec&#x27;,\n",
       "                                                 CountVectorizer(max_df=0.7,\n",
       "                                                                 max_features=100000,\n",
       "                                                                 ngram_range=(1,\n",
       "                                                                              2),\n",
       "                                                                 stop_words=[&#x27;i&#x27;,\n",
       "                                                                             &#x27;me&#x27;,\n",
       "                                                                             &#x27;my&#x27;,\n",
       "                                                                             &#x27;myself&#x27;,\n",
       "                                                                             &#x27;we&#x27;,\n",
       "                                                                             &#x27;our&#x27;,\n",
       "                                                                             &#x27;ours&#x27;,\n",
       "                                                                             &#x27;ourselves&#x27;,\n",
       "                                                                             &#x27;you&#x27;,\n",
       "                                                                             &quot;you&#x27;re&quot;,\n",
       "                                                                             &quot;you&#x27;ve&quot;,\n",
       "                                                                             &quot;you&#x27;ll&quot;,\n",
       "                                                                             &quot;you&#x27;d&quot;,\n",
       "                                                                             &#x27;your&#x27;,\n",
       "                                                                             &#x27;yours&#x27;,\n",
       "                                                                             &#x27;yourself&#x27;,\n",
       "                                                                             &#x27;yourselves&#x27;,\n",
       "                                                                             &#x27;he&#x27;,\n",
       "                                                                             &#x27;him&#x27;,\n",
       "                                                                             &#x27;his&#x27;,\n",
       "                                                                             &#x27;himself&#x27;,\n",
       "                                                                             &#x27;she&#x27;,\n",
       "                                                                             &quot;she&#x27;s&quot;,\n",
       "                                                                             &#x27;her&#x27;,\n",
       "                                                                             &#x27;hers&#x27;,\n",
       "                                                                             &#x27;herself&#x27;,\n",
       "                                                                             &#x27;it&#x27;,\n",
       "                                                                             &quot;it&#x27;s&quot;,\n",
       "                                                                             &#x27;it...\n",
       "                                                                 stop_words=&#x27;english&#x27;)),\n",
       "                                                (&#x27;ss&#x27;,\n",
       "                                                 StandardScaler(with_mean=False)),\n",
       "                                                (&#x27;rf&#x27;,\n",
       "                                                 RandomForestClassifier(ccp_alpha=0,\n",
       "                                                                        min_samples_split=10))])),\n",
       "                               (&#x27;pipe&#x27;,\n",
       "                                Pipeline(steps=[(&#x27;cvec&#x27;,\n",
       "                                                 CountVectorizer(max_df=0.7,\n",
       "                                                                 max_features=5000,\n",
       "                                                                 min_df=5,\n",
       "                                                                 stop_words=&#x27;english&#x27;)),\n",
       "                                                (&#x27;ada&#x27;,\n",
       "                                                 AdaBoostClassifier(base_estimator=LogisticRegression(),\n",
       "                                                                    n_estimators=30))]))],\n",
       "                   final_estimator=LogisticRegression())</pre><b>In a Jupyter environment, please rerun this cell to show the HTML representation or trust the notebook. <br />On GitHub, the HTML representation is unable to render, please try loading this page with nbviewer.org.</b></div><div class=\"sk-container\" hidden><div class=\"sk-item sk-dashed-wrapped\"><div class=\"sk-label-container\"><div class=\"sk-label sk-toggleable\"><input class=\"sk-toggleable__control sk-hidden--visually\" id=\"sk-estimator-id-232\" type=\"checkbox\" ><label for=\"sk-estimator-id-232\" class=\"sk-toggleable__label sk-toggleable__label-arrow\">StackingClassifier</label><div class=\"sk-toggleable__content\"><pre>StackingClassifier(estimators=[(&#x27;xb&#x27;,\n",
       "                                Pipeline(steps=[(&#x27;cvec&#x27;,\n",
       "                                                 CountVectorizer(max_df=0.7,\n",
       "                                                                 max_features=100000,\n",
       "                                                                 ngram_range=(1,\n",
       "                                                                              2),\n",
       "                                                                 stop_words=[&#x27;i&#x27;,\n",
       "                                                                             &#x27;me&#x27;,\n",
       "                                                                             &#x27;my&#x27;,\n",
       "                                                                             &#x27;myself&#x27;,\n",
       "                                                                             &#x27;we&#x27;,\n",
       "                                                                             &#x27;our&#x27;,\n",
       "                                                                             &#x27;ours&#x27;,\n",
       "                                                                             &#x27;ourselves&#x27;,\n",
       "                                                                             &#x27;you&#x27;,\n",
       "                                                                             &quot;you&#x27;re&quot;,\n",
       "                                                                             &quot;you&#x27;ve&quot;,\n",
       "                                                                             &quot;you&#x27;ll&quot;,\n",
       "                                                                             &quot;you&#x27;d&quot;,\n",
       "                                                                             &#x27;your&#x27;,\n",
       "                                                                             &#x27;yours&#x27;,\n",
       "                                                                             &#x27;yourself&#x27;,\n",
       "                                                                             &#x27;yourselves&#x27;,\n",
       "                                                                             &#x27;he&#x27;,\n",
       "                                                                             &#x27;him&#x27;,\n",
       "                                                                             &#x27;his&#x27;,\n",
       "                                                                             &#x27;himself&#x27;,\n",
       "                                                                             &#x27;she&#x27;,\n",
       "                                                                             &quot;she&#x27;s&quot;,\n",
       "                                                                             &#x27;her&#x27;,\n",
       "                                                                             &#x27;hers&#x27;,\n",
       "                                                                             &#x27;herself&#x27;,\n",
       "                                                                             &#x27;it&#x27;,\n",
       "                                                                             &quot;it&#x27;s&quot;,\n",
       "                                                                             &#x27;it...\n",
       "                                                                 stop_words=&#x27;english&#x27;)),\n",
       "                                                (&#x27;ss&#x27;,\n",
       "                                                 StandardScaler(with_mean=False)),\n",
       "                                                (&#x27;rf&#x27;,\n",
       "                                                 RandomForestClassifier(ccp_alpha=0,\n",
       "                                                                        min_samples_split=10))])),\n",
       "                               (&#x27;pipe&#x27;,\n",
       "                                Pipeline(steps=[(&#x27;cvec&#x27;,\n",
       "                                                 CountVectorizer(max_df=0.7,\n",
       "                                                                 max_features=5000,\n",
       "                                                                 min_df=5,\n",
       "                                                                 stop_words=&#x27;english&#x27;)),\n",
       "                                                (&#x27;ada&#x27;,\n",
       "                                                 AdaBoostClassifier(base_estimator=LogisticRegression(),\n",
       "                                                                    n_estimators=30))]))],\n",
       "                   final_estimator=LogisticRegression())</pre></div></div></div><div class=\"sk-serial\"><div class=\"sk-item\"><div class=\"sk-parallel\"><div class=\"sk-parallel-item\"><div class=\"sk-item\"><div class=\"sk-label-container\"><div class=\"sk-label sk-toggleable\"><label>xb</label></div></div><div class=\"sk-serial\"><div class=\"sk-item\"><div class=\"sk-serial\"><div class=\"sk-item\"><div class=\"sk-estimator sk-toggleable\"><input class=\"sk-toggleable__control sk-hidden--visually\" id=\"sk-estimator-id-233\" type=\"checkbox\" ><label for=\"sk-estimator-id-233\" class=\"sk-toggleable__label sk-toggleable__label-arrow\">CountVectorizer</label><div class=\"sk-toggleable__content\"><pre>CountVectorizer(max_df=0.7, max_features=100000, ngram_range=(1, 2),\n",
       "                stop_words=[&#x27;i&#x27;, &#x27;me&#x27;, &#x27;my&#x27;, &#x27;myself&#x27;, &#x27;we&#x27;, &#x27;our&#x27;, &#x27;ours&#x27;,\n",
       "                            &#x27;ourselves&#x27;, &#x27;you&#x27;, &quot;you&#x27;re&quot;, &quot;you&#x27;ve&quot;, &quot;you&#x27;ll&quot;,\n",
       "                            &quot;you&#x27;d&quot;, &#x27;your&#x27;, &#x27;yours&#x27;, &#x27;yourself&#x27;, &#x27;yourselves&#x27;,\n",
       "                            &#x27;he&#x27;, &#x27;him&#x27;, &#x27;his&#x27;, &#x27;himself&#x27;, &#x27;she&#x27;, &quot;she&#x27;s&quot;,\n",
       "                            &#x27;her&#x27;, &#x27;hers&#x27;, &#x27;herself&#x27;, &#x27;it&#x27;, &quot;it&#x27;s&quot;, &#x27;its&#x27;,\n",
       "                            &#x27;itself&#x27;, ...])</pre></div></div></div><div class=\"sk-item\"><div class=\"sk-estimator sk-toggleable\"><input class=\"sk-toggleable__control sk-hidden--visually\" id=\"sk-estimator-id-234\" type=\"checkbox\" ><label for=\"sk-estimator-id-234\" class=\"sk-toggleable__label sk-toggleable__label-arrow\">StandardScaler</label><div class=\"sk-toggleable__content\"><pre>StandardScaler(with_mean=False)</pre></div></div></div><div class=\"sk-item\"><div class=\"sk-estimator sk-toggleable\"><input class=\"sk-toggleable__control sk-hidden--visually\" id=\"sk-estimator-id-235\" type=\"checkbox\" ><label for=\"sk-estimator-id-235\" class=\"sk-toggleable__label sk-toggleable__label-arrow\">AdaBoostClassifier</label><div class=\"sk-toggleable__content\"><pre>AdaBoostClassifier()</pre></div></div></div></div></div></div></div></div><div class=\"sk-parallel-item\"><div class=\"sk-item\"><div class=\"sk-label-container\"><div class=\"sk-label sk-toggleable\"><label>nb</label></div></div><div class=\"sk-serial\"><div class=\"sk-item\"><div class=\"sk-serial\"><div class=\"sk-item\"><div class=\"sk-estimator sk-toggleable\"><input class=\"sk-toggleable__control sk-hidden--visually\" id=\"sk-estimator-id-236\" type=\"checkbox\" ><label for=\"sk-estimator-id-236\" class=\"sk-toggleable__label sk-toggleable__label-arrow\">CountVectorizer</label><div class=\"sk-toggleable__content\"><pre>CountVectorizer(max_df=0.9, max_features=16000, stop_words=&#x27;english&#x27;)</pre></div></div></div><div class=\"sk-item\"><div class=\"sk-estimator sk-toggleable\"><input class=\"sk-toggleable__control sk-hidden--visually\" id=\"sk-estimator-id-237\" type=\"checkbox\" ><label for=\"sk-estimator-id-237\" class=\"sk-toggleable__label sk-toggleable__label-arrow\">MultinomialNB</label><div class=\"sk-toggleable__content\"><pre>MultinomialNB()</pre></div></div></div></div></div></div></div></div><div class=\"sk-parallel-item\"><div class=\"sk-item\"><div class=\"sk-label-container\"><div class=\"sk-label sk-toggleable\"><label>rf</label></div></div><div class=\"sk-serial\"><div class=\"sk-item\"><div class=\"sk-serial\"><div class=\"sk-item\"><div class=\"sk-estimator sk-toggleable\"><input class=\"sk-toggleable__control sk-hidden--visually\" id=\"sk-estimator-id-238\" type=\"checkbox\" ><label for=\"sk-estimator-id-238\" class=\"sk-toggleable__label sk-toggleable__label-arrow\">CountVectorizer</label><div class=\"sk-toggleable__content\"><pre>CountVectorizer(max_df=0.8, max_features=15000, ngram_range=(1, 2),\n",
       "                stop_words=&#x27;english&#x27;)</pre></div></div></div><div class=\"sk-item\"><div class=\"sk-estimator sk-toggleable\"><input class=\"sk-toggleable__control sk-hidden--visually\" id=\"sk-estimator-id-239\" type=\"checkbox\" ><label for=\"sk-estimator-id-239\" class=\"sk-toggleable__label sk-toggleable__label-arrow\">StandardScaler</label><div class=\"sk-toggleable__content\"><pre>StandardScaler(with_mean=False)</pre></div></div></div><div class=\"sk-item\"><div class=\"sk-estimator sk-toggleable\"><input class=\"sk-toggleable__control sk-hidden--visually\" id=\"sk-estimator-id-240\" type=\"checkbox\" ><label for=\"sk-estimator-id-240\" class=\"sk-toggleable__label sk-toggleable__label-arrow\">RandomForestClassifier</label><div class=\"sk-toggleable__content\"><pre>RandomForestClassifier(ccp_alpha=0, min_samples_split=10)</pre></div></div></div></div></div></div></div></div><div class=\"sk-parallel-item\"><div class=\"sk-item\"><div class=\"sk-label-container\"><div class=\"sk-label sk-toggleable\"><label>pipe</label></div></div><div class=\"sk-serial\"><div class=\"sk-item\"><div class=\"sk-serial\"><div class=\"sk-item\"><div class=\"sk-estimator sk-toggleable\"><input class=\"sk-toggleable__control sk-hidden--visually\" id=\"sk-estimator-id-241\" type=\"checkbox\" ><label for=\"sk-estimator-id-241\" class=\"sk-toggleable__label sk-toggleable__label-arrow\">CountVectorizer</label><div class=\"sk-toggleable__content\"><pre>CountVectorizer(max_df=0.7, max_features=5000, min_df=5, stop_words=&#x27;english&#x27;)</pre></div></div></div><div class=\"sk-item sk-dashed-wrapped\"><div class=\"sk-label-container\"><div class=\"sk-label sk-toggleable\"><input class=\"sk-toggleable__control sk-hidden--visually\" id=\"sk-estimator-id-242\" type=\"checkbox\" ><label for=\"sk-estimator-id-242\" class=\"sk-toggleable__label sk-toggleable__label-arrow\">ada: AdaBoostClassifier</label><div class=\"sk-toggleable__content\"><pre>AdaBoostClassifier(base_estimator=LogisticRegression(), n_estimators=30)</pre></div></div></div><div class=\"sk-parallel\"><div class=\"sk-parallel-item\"><div class=\"sk-item\"><div class=\"sk-label-container\"><div class=\"sk-label sk-toggleable\"><input class=\"sk-toggleable__control sk-hidden--visually\" id=\"sk-estimator-id-243\" type=\"checkbox\" ><label for=\"sk-estimator-id-243\" class=\"sk-toggleable__label sk-toggleable__label-arrow\">base_estimator: LogisticRegression</label><div class=\"sk-toggleable__content\"><pre>LogisticRegression()</pre></div></div></div><div class=\"sk-serial\"><div class=\"sk-item\"><div class=\"sk-estimator sk-toggleable\"><input class=\"sk-toggleable__control sk-hidden--visually\" id=\"sk-estimator-id-244\" type=\"checkbox\" ><label for=\"sk-estimator-id-244\" class=\"sk-toggleable__label sk-toggleable__label-arrow\">LogisticRegression</label><div class=\"sk-toggleable__content\"><pre>LogisticRegression()</pre></div></div></div></div></div></div></div></div></div></div></div></div></div></div></div><div class=\"sk-item\"><div class=\"sk-parallel\"><div class=\"sk-parallel-item\"><div class=\"sk-item\"><div class=\"sk-label-container\"><div class=\"sk-label sk-toggleable\"><label>final_estimator</label></div></div><div class=\"sk-serial\"><div class=\"sk-item\"><div class=\"sk-estimator sk-toggleable\"><input class=\"sk-toggleable__control sk-hidden--visually\" id=\"sk-estimator-id-245\" type=\"checkbox\" ><label for=\"sk-estimator-id-245\" class=\"sk-toggleable__label sk-toggleable__label-arrow\">LogisticRegression</label><div class=\"sk-toggleable__content\"><pre>LogisticRegression()</pre></div></div></div></div></div></div></div></div></div></div></div></div>"
      ],
      "text/plain": [
       "StackingClassifier(estimators=[('xb',\n",
       "                                Pipeline(steps=[('cvec',\n",
       "                                                 CountVectorizer(max_df=0.7,\n",
       "                                                                 max_features=100000,\n",
       "                                                                 ngram_range=(1,\n",
       "                                                                              2),\n",
       "                                                                 stop_words=['i',\n",
       "                                                                             'me',\n",
       "                                                                             'my',\n",
       "                                                                             'myself',\n",
       "                                                                             'we',\n",
       "                                                                             'our',\n",
       "                                                                             'ours',\n",
       "                                                                             'ourselves',\n",
       "                                                                             'you',\n",
       "                                                                             \"you're\",\n",
       "                                                                             \"you've\",\n",
       "                                                                             \"you'll\",\n",
       "                                                                             \"you'd\",\n",
       "                                                                             'your',\n",
       "                                                                             'yours',\n",
       "                                                                             'yourself',\n",
       "                                                                             'yourselves',\n",
       "                                                                             'he',\n",
       "                                                                             'him',\n",
       "                                                                             'his',\n",
       "                                                                             'himself',\n",
       "                                                                             'she',\n",
       "                                                                             \"she's\",\n",
       "                                                                             'her',\n",
       "                                                                             'hers',\n",
       "                                                                             'herself',\n",
       "                                                                             'it',\n",
       "                                                                             \"it's\",\n",
       "                                                                             'it...\n",
       "                                                                 stop_words='english')),\n",
       "                                                ('ss',\n",
       "                                                 StandardScaler(with_mean=False)),\n",
       "                                                ('rf',\n",
       "                                                 RandomForestClassifier(ccp_alpha=0,\n",
       "                                                                        min_samples_split=10))])),\n",
       "                               ('pipe',\n",
       "                                Pipeline(steps=[('cvec',\n",
       "                                                 CountVectorizer(max_df=0.7,\n",
       "                                                                 max_features=5000,\n",
       "                                                                 min_df=5,\n",
       "                                                                 stop_words='english')),\n",
       "                                                ('ada',\n",
       "                                                 AdaBoostClassifier(base_estimator=LogisticRegression(),\n",
       "                                                                    n_estimators=30))]))],\n",
       "                   final_estimator=LogisticRegression())"
      ]
     },
     "execution_count": 452,
     "metadata": {},
     "output_type": "execute_result"
    }
   ],
   "source": [
    "stacked_model_lem.fit(X_train, y_train)"
   ]
  },
  {
   "cell_type": "code",
   "execution_count": null,
   "id": "55a79828-02a2-416f-aab3-f72233f8910b",
   "metadata": {
    "id": "55a79828-02a2-416f-aab3-f72233f8910b"
   },
   "outputs": [],
   "source": []
  },
  {
   "cell_type": "code",
   "execution_count": null,
   "id": "bbd66a41-15b0-487d-9dd2-496c60f9a8de",
   "metadata": {
    "id": "bbd66a41-15b0-487d-9dd2-496c60f9a8de",
    "outputId": "6bbc82ac-0ebb-47e1-8113-e2711e341963"
   },
   "outputs": [
    {
     "data": {
      "text/plain": [
       "0.7568438003220612"
      ]
     },
     "execution_count": 453,
     "metadata": {},
     "output_type": "execute_result"
    }
   ],
   "source": [
    "stacked_model_lem.score(X_test,y_test)"
   ]
  },
  {
   "cell_type": "code",
   "execution_count": null,
   "id": "cde18b2d-a95c-45b2-9b79-cf555c273d57",
   "metadata": {
    "id": "cde18b2d-a95c-45b2-9b79-cf555c273d57"
   },
   "outputs": [],
   "source": [
    "# lemmatizing everything was not worth it for stacked models"
   ]
  },
  {
   "cell_type": "code",
   "execution_count": null,
   "id": "1c83c1c0-472a-4cc9-82ff-126fd04f1e82",
   "metadata": {
    "id": "1c83c1c0-472a-4cc9-82ff-126fd04f1e82"
   },
   "outputs": [],
   "source": [
    "# My 2nd best perforing model was a stacked XGBOOST ADABOOST NAIVE BAYES AND RANDOM DESCISION TREE"
   ]
  },
  {
   "cell_type": "markdown",
   "id": "mAZct56sVGCY",
   "metadata": {
    "id": "mAZct56sVGCY"
   },
   "source": [
    "It looks like both of the best performing models were slighlty better at classyfying The Destiny Subreddit"
   ]
  },
  {
   "cell_type": "code",
   "execution_count": null,
   "id": "db381cc1-71f1-4bcb-8d84-1e76a7ad47a8",
   "metadata": {
    "id": "db381cc1-71f1-4bcb-8d84-1e76a7ad47a8",
    "outputId": "3577acaf-9b13-4dd1-989f-4e08b84e307e"
   },
   "outputs": [
    {
     "data": {
      "image/png": "[encoded data removed]",
      "text/plain": [
       "<Figure size 640x480 with 2 Axes>"
      ]
     },
     "metadata": {},
     "output_type": "display_data"
    }
   ],
   "source": [
    "\n",
    "ConfusionMatrixDisplay.from_estimator(stacked_model, X_test, y_test);"
   ]
  },
  {
   "cell_type": "code",
   "execution_count": null,
   "id": "3ca28a78-fa23-46d2-9d6c-4dcda721659f",
   "metadata": {
    "id": "3ca28a78-fa23-46d2-9d6c-4dcda721659f"
   },
   "outputs": [],
   "source": [
    "# My Best model was a naive bayes "
   ]
  },
  {
   "cell_type": "code",
   "execution_count": null,
   "id": "2254c8ec-3f16-4420-b2a5-f0fa9cf85625",
   "metadata": {
    "id": "2254c8ec-3f16-4420-b2a5-f0fa9cf85625",
    "outputId": "4250bb15-1799-4d6c-cb75-3186cee86459"
   },
   "outputs": [
    {
     "data": {
      "image/png": "[encoded data removed]",
      "text/plain": [
       "<Figure size 640x480 with 2 Axes>"
      ]
     },
     "metadata": {},
     "output_type": "display_data"
    }
   ],
   "source": [
    "ConfusionMatrixDisplay.from_estimator(nb_pipe, X_test, y_test);"
   ]
  },
  {
   "cell_type": "code",
   "execution_count": null,
   "id": "f9df115f-385d-4d4f-9299-c96a785690c5",
   "metadata": {
    "id": "f9df115f-385d-4d4f-9299-c96a785690c5"
   },
   "outputs": [],
   "source": [
    "import time\n",
    "import numpy as np\n"
   ]
  },
  {
   "cell_type": "code",
   "execution_count": null,
   "id": "89df5ff9-840e-4a90-9159-2d22d5216007",
   "metadata": {
    "id": "89df5ff9-840e-4a90-9159-2d22d5216007",
    "outputId": "24a38930-62b5-496b-b764-5b130fb4c5da"
   },
   "outputs": [],
   "source": []
  },
  {
   "cell_type": "code",
   "execution_count": null,
   "id": "be00b7c9-43b0-4400-ab2e-ae071be71faa",
   "metadata": {
    "id": "be00b7c9-43b0-4400-ab2e-ae071be71faa",
    "outputId": "6cca80a9-e230-4485-e2ff-6105f5a41a20"
   },
   "outputs": [
    {
     "data": {
      "text/html": [
       "<style>#sk-container-id-39 {color: black;background-color: white;}#sk-container-id-39 pre{padding: 0;}#sk-container-id-39 div.sk-toggleable {background-color: white;}#sk-container-id-39 label.sk-toggleable__label {cursor: pointer;display: block;width: 100%;margin-bottom: 0;padding: 0.3em;box-sizing: border-box;text-align: center;}#sk-container-id-39 label.sk-toggleable__label-arrow:before {content: \"▸\";float: left;margin-right: 0.25em;color: #696969;}#sk-container-id-39 label.sk-toggleable__label-arrow:hover:before {color: black;}#sk-container-id-39 div.sk-estimator:hover label.sk-toggleable__label-arrow:before {color: black;}#sk-container-id-39 div.sk-toggleable__content {max-height: 0;max-width: 0;overflow: hidden;text-align: left;background-color: #f0f8ff;}#sk-container-id-39 div.sk-toggleable__content pre {margin: 0.2em;color: black;border-radius: 0.25em;background-color: #f0f8ff;}#sk-container-id-39 input.sk-toggleable__control:checked~div.sk-toggleable__content {max-height: 200px;max-width: 100%;overflow: auto;}#sk-container-id-39 input.sk-toggleable__control:checked~label.sk-toggleable__label-arrow:before {content: \"▾\";}#sk-container-id-39 div.sk-estimator input.sk-toggleable__control:checked~label.sk-toggleable__label {background-color: #d4ebff;}#sk-container-id-39 div.sk-label input.sk-toggleable__control:checked~label.sk-toggleable__label {background-color: #d4ebff;}#sk-container-id-39 input.sk-hidden--visually {border: 0;clip: rect(1px 1px 1px 1px);clip: rect(1px, 1px, 1px, 1px);height: 1px;margin: -1px;overflow: hidden;padding: 0;position: absolute;width: 1px;}#sk-container-id-39 div.sk-estimator {font-family: monospace;background-color: #f0f8ff;border: 1px dotted black;border-radius: 0.25em;box-sizing: border-box;margin-bottom: 0.5em;}#sk-container-id-39 div.sk-estimator:hover {background-color: #d4ebff;}#sk-container-id-39 div.sk-parallel-item::after {content: \"\";width: 100%;border-bottom: 1px solid gray;flex-grow: 1;}#sk-container-id-39 div.sk-label:hover label.sk-toggleable__label {background-color: #d4ebff;}#sk-container-id-39 div.sk-serial::before {content: \"\";position: absolute;border-left: 1px solid gray;box-sizing: border-box;top: 0;bottom: 0;left: 50%;z-index: 0;}#sk-container-id-39 div.sk-serial {display: flex;flex-direction: column;align-items: center;background-color: white;padding-right: 0.2em;padding-left: 0.2em;position: relative;}#sk-container-id-39 div.sk-item {position: relative;z-index: 1;}#sk-container-id-39 div.sk-parallel {display: flex;align-items: stretch;justify-content: center;background-color: white;position: relative;}#sk-container-id-39 div.sk-item::before, #sk-container-id-39 div.sk-parallel-item::before {content: \"\";position: absolute;border-left: 1px solid gray;box-sizing: border-box;top: 0;bottom: 0;left: 50%;z-index: -1;}#sk-container-id-39 div.sk-parallel-item {display: flex;flex-direction: column;z-index: 1;position: relative;background-color: white;}#sk-container-id-39 div.sk-parallel-item:first-child::after {align-self: flex-end;width: 50%;}#sk-container-id-39 div.sk-parallel-item:last-child::after {align-self: flex-start;width: 50%;}#sk-container-id-39 div.sk-parallel-item:only-child::after {width: 0;}#sk-container-id-39 div.sk-dashed-wrapped {border: 1px dashed gray;margin: 0 0.4em 0.5em 0.4em;box-sizing: border-box;padding-bottom: 0.4em;background-color: white;}#sk-container-id-39 div.sk-label label {font-family: monospace;font-weight: bold;display: inline-block;line-height: 1.2em;}#sk-container-id-39 div.sk-label-container {text-align: center;}#sk-container-id-39 div.sk-container {/* jupyter's `normalize.less` sets `[hidden] { display: none; }` but bootstrap.min.css set `[hidden] { display: none !important; }` so we also need the `!important` here to be able to override the default hidden behavior on the sphinx rendered scikit-learn.org. See: https://github.com/scikit-learn/scikit-learn/issues/21755 */display: inline-block !important;position: relative;}#sk-container-id-39 div.sk-text-repr-fallback {display: none;}</style><div id=\"sk-container-id-39\" class=\"sk-top-container\"><div class=\"sk-text-repr-fallback\"><pre>Pipeline(steps=[(&#x27;cvec&#x27;,\n",
       "                 CountVectorizer(max_df=0.9, max_features=15000,\n",
       "                                 ngram_range=(1, 2),\n",
       "                                 stop_words=[&#x27;i&#x27;, &#x27;me&#x27;, &#x27;my&#x27;, &#x27;myself&#x27;, &#x27;we&#x27;,\n",
       "                                             &#x27;our&#x27;, &#x27;ours&#x27;, &#x27;ourselves&#x27;, &#x27;you&#x27;,\n",
       "                                             &quot;you&#x27;re&quot;, &quot;you&#x27;ve&quot;, &quot;you&#x27;ll&quot;,\n",
       "                                             &quot;you&#x27;d&quot;, &#x27;your&#x27;, &#x27;yours&#x27;,\n",
       "                                             &#x27;yourself&#x27;, &#x27;yourselves&#x27;, &#x27;he&#x27;,\n",
       "                                             &#x27;him&#x27;, &#x27;his&#x27;, &#x27;himself&#x27;, &#x27;she&#x27;,\n",
       "                                             &quot;she&#x27;s&quot;, &#x27;her&#x27;, &#x27;hers&#x27;, &#x27;herself&#x27;,\n",
       "                                             &#x27;it&#x27;, &quot;it&#x27;s&quot;, &#x27;its&#x27;, &#x27;itself&#x27;, ...])),\n",
       "                (&#x27;ss&#x27;, StandardScaler(with_mean=False)),\n",
       "                (&#x27;rf&#x27;,\n",
       "                 RandomForestClassifier(ccp_alpha=0, min_samples_split=5))])</pre><b>In a Jupyter environment, please rerun this cell to show the HTML representation or trust the notebook. <br />On GitHub, the HTML representation is unable to render, please try loading this page with nbviewer.org.</b></div><div class=\"sk-container\" hidden><div class=\"sk-item sk-dashed-wrapped\"><div class=\"sk-label-container\"><div class=\"sk-label sk-toggleable\"><input class=\"sk-toggleable__control sk-hidden--visually\" id=\"sk-estimator-id-251\" type=\"checkbox\" ><label for=\"sk-estimator-id-251\" class=\"sk-toggleable__label sk-toggleable__label-arrow\">Pipeline</label><div class=\"sk-toggleable__content\"><pre>Pipeline(steps=[(&#x27;cvec&#x27;,\n",
       "                 CountVectorizer(max_df=0.9, max_features=15000,\n",
       "                                 ngram_range=(1, 2),\n",
       "                                 stop_words=[&#x27;i&#x27;, &#x27;me&#x27;, &#x27;my&#x27;, &#x27;myself&#x27;, &#x27;we&#x27;,\n",
       "                                             &#x27;our&#x27;, &#x27;ours&#x27;, &#x27;ourselves&#x27;, &#x27;you&#x27;,\n",
       "                                             &quot;you&#x27;re&quot;, &quot;you&#x27;ve&quot;, &quot;you&#x27;ll&quot;,\n",
       "                                             &quot;you&#x27;d&quot;, &#x27;your&#x27;, &#x27;yours&#x27;,\n",
       "                                             &#x27;yourself&#x27;, &#x27;yourselves&#x27;, &#x27;he&#x27;,\n",
       "                                             &#x27;him&#x27;, &#x27;his&#x27;, &#x27;himself&#x27;, &#x27;she&#x27;,\n",
       "                                             &quot;she&#x27;s&quot;, &#x27;her&#x27;, &#x27;hers&#x27;, &#x27;herself&#x27;,\n",
       "                                             &#x27;it&#x27;, &quot;it&#x27;s&quot;, &#x27;its&#x27;, &#x27;itself&#x27;, ...])),\n",
       "                (&#x27;ss&#x27;, StandardScaler(with_mean=False)),\n",
       "                (&#x27;rf&#x27;,\n",
       "                 RandomForestClassifier(ccp_alpha=0, min_samples_split=5))])</pre></div></div></div><div class=\"sk-serial\"><div class=\"sk-item\"><div class=\"sk-estimator sk-toggleable\"><input class=\"sk-toggleable__control sk-hidden--visually\" id=\"sk-estimator-id-252\" type=\"checkbox\" ><label for=\"sk-estimator-id-252\" class=\"sk-toggleable__label sk-toggleable__label-arrow\">CountVectorizer</label><div class=\"sk-toggleable__content\"><pre>CountVectorizer(max_df=0.9, max_features=15000, ngram_range=(1, 2),\n",
       "                stop_words=[&#x27;i&#x27;, &#x27;me&#x27;, &#x27;my&#x27;, &#x27;myself&#x27;, &#x27;we&#x27;, &#x27;our&#x27;, &#x27;ours&#x27;,\n",
       "                            &#x27;ourselves&#x27;, &#x27;you&#x27;, &quot;you&#x27;re&quot;, &quot;you&#x27;ve&quot;, &quot;you&#x27;ll&quot;,\n",
       "                            &quot;you&#x27;d&quot;, &#x27;your&#x27;, &#x27;yours&#x27;, &#x27;yourself&#x27;, &#x27;yourselves&#x27;,\n",
       "                            &#x27;he&#x27;, &#x27;him&#x27;, &#x27;his&#x27;, &#x27;himself&#x27;, &#x27;she&#x27;, &quot;she&#x27;s&quot;,\n",
       "                            &#x27;her&#x27;, &#x27;hers&#x27;, &#x27;herself&#x27;, &#x27;it&#x27;, &quot;it&#x27;s&quot;, &#x27;its&#x27;,\n",
       "                            &#x27;itself&#x27;, ...])</pre></div></div></div><div class=\"sk-item\"><div class=\"sk-estimator sk-toggleable\"><input class=\"sk-toggleable__control sk-hidden--visually\" id=\"sk-estimator-id-253\" type=\"checkbox\" ><label for=\"sk-estimator-id-253\" class=\"sk-toggleable__label sk-toggleable__label-arrow\">StandardScaler</label><div class=\"sk-toggleable__content\"><pre>StandardScaler(with_mean=False)</pre></div></div></div><div class=\"sk-item\"><div class=\"sk-estimator sk-toggleable\"><input class=\"sk-toggleable__control sk-hidden--visually\" id=\"sk-estimator-id-254\" type=\"checkbox\" ><label for=\"sk-estimator-id-254\" class=\"sk-toggleable__label sk-toggleable__label-arrow\">RandomForestClassifier</label><div class=\"sk-toggleable__content\"><pre>RandomForestClassifier(ccp_alpha=0, min_samples_split=5)</pre></div></div></div></div></div></div></div>"
      ],
      "text/plain": [
       "Pipeline(steps=[('cvec',\n",
       "                 CountVectorizer(max_df=0.9, max_features=15000,\n",
       "                                 ngram_range=(1, 2),\n",
       "                                 stop_words=['i', 'me', 'my', 'myself', 'we',\n",
       "                                             'our', 'ours', 'ourselves', 'you',\n",
       "                                             \"you're\", \"you've\", \"you'll\",\n",
       "                                             \"you'd\", 'your', 'yours',\n",
       "                                             'yourself', 'yourselves', 'he',\n",
       "                                             'him', 'his', 'himself', 'she',\n",
       "                                             \"she's\", 'her', 'hers', 'herself',\n",
       "                                             'it', \"it's\", 'its', 'itself', ...])),\n",
       "                ('ss', StandardScaler(with_mean=False)),\n",
       "                ('rf',\n",
       "                 RandomForestClassifier(ccp_alpha=0, min_samples_split=5))])"
      ]
     },
     "execution_count": 467,
     "metadata": {},
     "output_type": "execute_result"
    }
   ],
   "source": [
    "rf_gs2.best_estimator_"
   ]
  },
  {
   "cell_type": "code",
   "execution_count": null,
   "id": "aa5091ce-bef9-4273-b7f1-a79edfd01208",
   "metadata": {
    "id": "aa5091ce-bef9-4273-b7f1-a79edfd01208"
   },
   "outputs": [],
   "source": []
  },
  {
   "cell_type": "markdown",
   "id": "ySw3Yh_OPCmI",
   "metadata": {
    "id": "ySw3Yh_OPCmI"
   },
   "source": [
    "Below I model a copy of the random forest above in order to see which features are most important for that model"
   ]
  },
  {
   "cell_type": "code",
   "execution_count": 3,
   "id": "f108eaf4-0748-45fd-9325-1dfdd561b7e6",
   "metadata": {
    "id": "f108eaf4-0748-45fd-9325-1dfdd561b7e6"
   },
   "outputs": [],
   "source": [
    "forest = pd.read_csv('https://raw.git.generalassemb.ly/ricky-odineverest/P3data/master/LEM_vaush_destiny_cleaned.csv?token=AAALMMGBYHMSOOK3KAIHI2DD2GQ24')"
   ]
  },
  {
   "cell_type": "code",
   "execution_count": 4,
   "id": "Dm4DA5Qk5WTw",
   "metadata": {
    "id": "Dm4DA5Qk5WTw"
   },
   "outputs": [],
   "source": [
    "features = ['no_links_2']\n",
    "X = forest['no_links_2']\n",
    "y = forest['subreddit'].astype(str)\n",
    "\n",
    "X_train, X_test, y_train, y_test = train_test_split(X, y, random_state=42)"
   ]
  },
  {
   "cell_type": "code",
   "execution_count": 5,
   "id": "j7pacn-E18bx",
   "metadata": {
    "id": "j7pacn-E18bx"
   },
   "outputs": [],
   "source": [
    "f_count = CountVectorizer(max_df=0.9, max_features=15000,\n",
    "                                 ngram_range=(1, 2),\n",
    "                                 stop_words=['i', 'me', 'my', 'myself', 'we',\n",
    "                                             'our', 'ours', 'ourselves', 'you',\n",
    "                                             \"you're\", \"you've\", \"you'll\",\n",
    "                                             \"you'd\", 'your', 'yours',\n",
    "                                             'yourself', 'yourselves', 'he',\n",
    "                                             'him', 'his', 'himself', 'she',\n",
    "                                             \"she's\", 'her', 'hers', 'herself',\n",
    "                                             'it', \"it's\", 'its', 'itself', ...])"
   ]
  },
  {
   "cell_type": "code",
   "execution_count": 6,
   "id": "Q0ikgQQr2g4y",
   "metadata": {
    "id": "Q0ikgQQr2g4y"
   },
   "outputs": [],
   "source": [
    "f_ss=StandardScaler(with_mean=False) "
   ]
  },
  {
   "cell_type": "code",
   "execution_count": 7,
   "id": "mxOAItpb2qw4",
   "metadata": {
    "colab": {
     "base_uri": "https://localhost:8080/"
    },
    "id": "mxOAItpb2qw4",
    "outputId": "e938c40e-14de-45b2-8c65-1a2b8ec55fa4"
   },
   "outputs": [
    {
     "data": {
      "text/plain": [
       "CountVectorizer(max_df=0.9, max_features=15000, ngram_range=(1, 2),\n",
       "                stop_words=['i', 'me', 'my', 'myself', 'we', 'our', 'ours',\n",
       "                            'ourselves', 'you', \"you're\", \"you've\", \"you'll\",\n",
       "                            \"you'd\", 'your', 'yours', 'yourself', 'yourselves',\n",
       "                            'he', 'him', 'his', 'himself', 'she', \"she's\",\n",
       "                            'her', 'hers', 'herself', 'it', \"it's\", 'its',\n",
       "                            'itself', ...])"
      ]
     },
     "execution_count": 7,
     "metadata": {},
     "output_type": "execute_result"
    }
   ],
   "source": [
    "f_count.fit(X_train)\n",
    "f_count.fit(X_test)"
   ]
  },
  {
   "cell_type": "code",
   "execution_count": 8,
   "id": "kEhVcxUw9-mA",
   "metadata": {
    "id": "kEhVcxUw9-mA"
   },
   "outputs": [],
   "source": [
    "f_vec = f_count.transform(X_train)\n",
    "X_test = f_count.transform(X_test)"
   ]
  },
  {
   "cell_type": "code",
   "execution_count": 9,
   "id": "23n2khXy_aEh",
   "metadata": {
    "colab": {
     "base_uri": "https://localhost:8080/"
    },
    "id": "23n2khXy_aEh",
    "outputId": "166669e4-3890-4692-db8d-f44ad9340d5b"
   },
   "outputs": [
    {
     "data": {
      "text/plain": [
       "StandardScaler(with_mean=False)"
      ]
     },
     "execution_count": 9,
     "metadata": {},
     "output_type": "execute_result"
    }
   ],
   "source": [
    "f_ss.fit(f_vec)\n",
    "f_ss.fit(X_test )"
   ]
  },
  {
   "cell_type": "code",
   "execution_count": 10,
   "id": "nDMDEvo2_oFZ",
   "metadata": {
    "id": "nDMDEvo2_oFZ"
   },
   "outputs": [],
   "source": [
    "f_vec_ss = f_ss.transform(f_vec)\n",
    "X_test = f_ss.transform(X_test)"
   ]
  },
  {
   "cell_type": "code",
   "execution_count": 11,
   "id": "uwg7q8DOCg8T",
   "metadata": {
    "id": "uwg7q8DOCg8T"
   },
   "outputs": [],
   "source": [
    "rf = RandomForestClassifier(ccp_alpha=0, min_samples_split=5)"
   ]
  },
  {
   "cell_type": "code",
   "execution_count": 12,
   "id": "CgojUfUF6tSJ",
   "metadata": {
    "colab": {
     "base_uri": "https://localhost:8080/"
    },
    "id": "CgojUfUF6tSJ",
    "outputId": "4b3249d4-5e8c-4221-92d0-c779aed77937"
   },
   "outputs": [
    {
     "data": {
      "text/plain": [
       "(7450, 15000)"
      ]
     },
     "execution_count": 12,
     "metadata": {},
     "output_type": "execute_result"
    }
   ],
   "source": [
    "f_vec_ss.shape\n"
   ]
  },
  {
   "cell_type": "code",
   "execution_count": 13,
   "id": "mPNkGgyl60lX",
   "metadata": {
    "colab": {
     "base_uri": "https://localhost:8080/"
    },
    "id": "mPNkGgyl60lX",
    "outputId": "69e18095-d095-4681-c75c-6a43c8660fa6"
   },
   "outputs": [
    {
     "data": {
      "text/plain": [
       "(7450,)"
      ]
     },
     "execution_count": 13,
     "metadata": {},
     "output_type": "execute_result"
    }
   ],
   "source": [
    "y_train.shape"
   ]
  },
  {
   "cell_type": "code",
   "execution_count": 14,
   "id": "tFmFf2oYDZG5",
   "metadata": {
    "colab": {
     "base_uri": "https://localhost:8080/"
    },
    "id": "tFmFf2oYDZG5",
    "outputId": "0884fe70-f587-4673-aee0-7abfbce39391"
   },
   "outputs": [
    {
     "data": {
      "text/plain": [
       "RandomForestClassifier(ccp_alpha=0, min_samples_split=5)"
      ]
     },
     "execution_count": 14,
     "metadata": {},
     "output_type": "execute_result"
    }
   ],
   "source": [
    "rf.fit(f_vec_ss, y_train)"
   ]
  },
  {
   "cell_type": "code",
   "execution_count": 15,
   "id": "nuiE0gWf7KJ5",
   "metadata": {
    "colab": {
     "base_uri": "https://localhost:8080/"
    },
    "id": "nuiE0gWf7KJ5",
    "outputId": "79f08821-8c2a-48a2-fbd5-fc6bc76a3caa"
   },
   "outputs": [
    {
     "data": {
      "text/plain": [
       "0.9836241610738256"
      ]
     },
     "execution_count": 15,
     "metadata": {},
     "output_type": "execute_result"
    }
   ],
   "source": [
    "rf.score(f_vec_ss, y_train)\n"
   ]
  },
  {
   "cell_type": "code",
   "execution_count": 16,
   "id": "T74nXqK787ml",
   "metadata": {
    "colab": {
     "base_uri": "https://localhost:8080/"
    },
    "id": "T74nXqK787ml",
    "outputId": "dc3eb5cf-6192-4c0e-a559-dfba75e34f30"
   },
   "outputs": [
    {
     "data": {
      "text/plain": [
       "0.7395330112721417"
      ]
     },
     "execution_count": 16,
     "metadata": {},
     "output_type": "execute_result"
    }
   ],
   "source": [
    "rf.score(X_test, y_test)"
   ]
  },
  {
   "cell_type": "code",
   "execution_count": 27,
   "id": "g8rmxU6MDavg",
   "metadata": {
    "colab": {
     "base_uri": "https://localhost:8080/"
    },
    "id": "g8rmxU6MDavg",
    "outputId": "99cdc26c-9fcb-47c4-f24b-f2d4da0e9a7a"
   },
   "outputs": [
    {
     "name": "stdout",
     "output_type": "stream",
     "text": [
      "<class 'pandas.core.frame.DataFrame'>\n",
      "RangeIndex: 9934 entries, 0 to 9933\n",
      "Columns: 15001 entries, 00 to subreddit\n",
      "dtypes: float64(15000), object(1)\n",
      "memory usage: 1.1+ GB\n"
     ]
    }
   ],
   "source": [
    "vd_forest_bare.info()"
   ]
  },
  {
   "cell_type": "code",
   "execution_count": 17,
   "id": "XCUuraLg-zMw",
   "metadata": {
    "colab": {
     "base_uri": "https://localhost:8080/"
    },
    "id": "XCUuraLg-zMw",
    "outputId": "b6eac8d4-4972-4009-fe0c-20fe35033cd8"
   },
   "outputs": [
    {
     "data": {
      "text/plain": [
       "array([2.49070274e-05, 2.64865377e-04, 0.00000000e+00, ...,\n",
       "       1.86775804e-07, 4.16506448e-04, 6.80178007e-08])"
      ]
     },
     "execution_count": 17,
     "metadata": {},
     "output_type": "execute_result"
    }
   ],
   "source": [
    "rf.feature_importances_"
   ]
  },
  {
   "cell_type": "markdown",
   "id": "1rf4lyHoPOO4",
   "metadata": {
    "id": "1rf4lyHoPOO4"
   },
   "source": [
    "The code below to create the chart came from chat gpt\n"
   ]
  },
  {
   "cell_type": "code",
   "execution_count": null,
   "id": "Xfecajmp9Tn_",
   "metadata": {
    "id": "Xfecajmp9Tn_"
   },
   "outputs": [],
   "source": [
    "from sklearn.feature_extraction.text import CountVectorizer\n",
    "from sklearn.ensemble import RandomForestClassifier\n",
    "\n",
    "# Create count vectorized data\n",
    "vectorizer = CountVectorizer()\n",
    "X = vectorizer.fit_transform(data)\n",
    "\n",
    "# Train Random Forest model\n",
    "rf = RandomForestClassifier()\n",
    "rf.fit(X, labels)\n",
    "\n",
    "# Get feature importances\n",
    "importances = rf.feature_importances_\n",
    "\n",
    "# Get feature names\n",
    "feature_names = vectorizer.get_feature_names()\n",
    "\n",
    "# Sort features by importance\n",
    "indices = np.argsort(importances)[::-1]\n",
    "\n",
    "# Print the feature ranking\n",
    "print(\"Feature ranking:\")\n",
    "\n",
    "for f in range(X.shape[1]):\n",
    "    print(\"%d. feature %s (%f)\" % (f + 1, feature_names[indices[f]], importances[indices[f]]))\n"
   ]
  },
  {
   "cell_type": "code",
   "execution_count": 18,
   "id": "21AootYI_2n6",
   "metadata": {
    "colab": {
     "base_uri": "https://localhost:8080/"
    },
    "id": "21AootYI_2n6",
    "outputId": "f304b878-6be6-4ff1-80b4-fd90a9fc58f4"
   },
   "outputs": [
    {
     "name": "stderr",
     "output_type": "stream",
     "text": [
      "/usr/local/lib/python3.8/dist-packages/sklearn/utils/deprecation.py:87: FutureWarning: Function get_feature_names is deprecated; get_feature_names is deprecated in 1.0 and will be removed in 1.2. Please use get_feature_names_out instead.\n",
      "  warnings.warn(msg, category=FutureWarning)\n"
     ]
    }
   ],
   "source": [
    "importances = rf.feature_importances_\n",
    "feature_names = f_count.get_feature_names()"
   ]
  },
  {
   "cell_type": "code",
   "execution_count": 19,
   "id": "nfYQQI9uASAV",
   "metadata": {
    "id": "nfYQQI9uASAV"
   },
   "outputs": [],
   "source": [
    "indices = np.argsort(importances)[::-1]"
   ]
  },
  {
   "cell_type": "code",
   "execution_count": 20,
   "id": "gPTqJQ6rAGCb",
   "metadata": {
    "id": "gPTqJQ6rAGCb"
   },
   "outputs": [],
   "source": [
    "N = 50\n",
    "top_N_indices = indices[:N]\n",
    "top_N_features = [feature_names[i] for i in top_N_indices]"
   ]
  },
  {
   "cell_type": "code",
   "execution_count": 21,
   "id": "ye0-EKHTAPIo",
   "metadata": {
    "colab": {
     "base_uri": "https://localhost:8080/"
    },
    "id": "ye0-EKHTAPIo",
    "outputId": "ed31ded2-c47e-424c-a0ba-5f2428e84f73"
   },
   "outputs": [
    {
     "data": {
      "text/plain": [
       "['destiny',\n",
       " 'vaush',\n",
       " 'dgg',\n",
       " 'sneako',\n",
       " 'shoe',\n",
       " 'redacted',\n",
       " 'the',\n",
       " 'lav',\n",
       " 'dan',\n",
       " 'steven',\n",
       " 'trans',\n",
       " 'is',\n",
       " 'aba',\n",
       " 'to',\n",
       " 'destiny is',\n",
       " 'and',\n",
       " 'drama',\n",
       " 'lex',\n",
       " 'this',\n",
       " 'of',\n",
       " 'stream',\n",
       " 'on',\n",
       " 'factorio',\n",
       " 'in',\n",
       " 'hasan',\n",
       " 'dggl',\n",
       " 'leftist',\n",
       " 'poll',\n",
       " 'for',\n",
       " 'are',\n",
       " 'ye',\n",
       " 'tate',\n",
       " 'mr',\n",
       " 'anti',\n",
       " 'that',\n",
       " 'with',\n",
       " 'thoughts',\n",
       " 'nick',\n",
       " 'be',\n",
       " 'zherka',\n",
       " 'what',\n",
       " 'republicans',\n",
       " 'about',\n",
       " 'wing',\n",
       " 'destiny and',\n",
       " 'right',\n",
       " 'was',\n",
       " 'darius',\n",
       " 'like',\n",
       " 'so']"
      ]
     },
     "execution_count": 21,
     "metadata": {},
     "output_type": "execute_result"
    }
   ],
   "source": [
    "top_N_features "
   ]
  },
  {
   "cell_type": "code",
   "execution_count": 28,
   "id": "ZRCf5HhrDTvU",
   "metadata": {
    "id": "ZRCf5HhrDTvU"
   },
   "outputs": [],
   "source": [
    "N = 20\n",
    "top_N_indices = indices[:N]\n",
    "top_N_features = [feature_names[i] for i in top_N_indices]"
   ]
  },
  {
   "cell_type": "code",
   "execution_count": 25,
   "id": "YKu_V2XCBQUt",
   "metadata": {
    "colab": {
     "base_uri": "https://localhost:8080/",
     "height": 313
    },
    "id": "YKu_V2XCBQUt",
    "outputId": "05fb3d57-062c-4019-85d4-c93195bd7bee"
   },
   "outputs": [
    {
     "data": {
      "text/plain": [
       "Text(0.5, 1.0, 'Feature Importance (Random Forest)')"
      ]
     },
     "execution_count": 25,
     "metadata": {},
     "output_type": "execute_result"
    },
    {
     "data": {
      "image/png": "[encoded data removed]",
      "text/plain": [
       "<Figure size 432x288 with 1 Axes>"
      ]
     },
     "metadata": {
      "needs_background": "light"
     },
     "output_type": "display_data"
    }
   ],
   "source": [
    "plt.barh(range(N), importances[top_N_indices], align='center')\n",
    "plt.yticks(range(N), [feature_names[i] for i in top_N_indices])\n",
    "plt.xlabel('Mean Decrease in Impurity')\n",
    "plt.title('Feature Importance (Random Forest)')"
   ]
  },
  {
   "cell_type": "code",
   "execution_count": 29,
   "id": "a4rzJzRzFmdF",
   "metadata": {
    "colab": {
     "base_uri": "https://localhost:8080/",
     "height": 295
    },
    "id": "a4rzJzRzFmdF",
    "outputId": "4bd30540-3087-4ee8-f644-6da9a52300f4"
   },
   "outputs": [
    {
     "data": {
      "image/png": "[encoded data removed]",
      "text/plain": [
       "<Figure size 432x288 with 1 Axes>"
      ]
     },
     "metadata": {
      "needs_background": "light"
     },
     "output_type": "display_data"
    }
   ],
   "source": [
    "import seaborn as sns\n",
    "\n",
    "# Create bar chart\n",
    "sns.barplot(x=importances[top_N_indices], y=[feature_names[i] for i in top_N_indices],orient='h')\n",
    "plt.xlabel('Mean Decrease in Impurity')\n",
    "plt.title('Feature Importance (Random Forest)')\n",
    "\n",
    "# Show chart\n",
    "plt.show()"
   ]
  },
  {
   "cell_type": "markdown",
   "id": "0KE2xwSfPhup",
   "metadata": {
    "id": "0KE2xwSfPhup"
   },
   "source": [
    "This chart shows that the features with the most importance came from destinies subreddit after the names themselves.\n",
    "\n",
    "The only phrases more predominent on the Vaaush subbreddit on this list are tran and shoe"
   ]
  },
  {
   "cell_type": "code",
   "execution_count": null,
   "id": "dZBbik1mGcqt",
   "metadata": {
    "id": "dZBbik1mGcqt"
   },
   "outputs": [],
   "source": []
  }
 ],
 "metadata": {
  "colab": {
   "provenance": []
  },
  "kernelspec": {
   "display_name": "Python 3 (ipykernel)",
   "language": "python",
   "name": "python3"
  },
  "language_info": {
   "codemirror_mode": {
    "name": "ipython",
    "version": 3
   },
   "file_extension": ".py",
   "mimetype": "text/x-python",
   "name": "python",
   "nbconvert_exporter": "python",
   "pygments_lexer": "ipython3",
   "version": "3.9.12"
  }
 },
 "nbformat": 4,
 "nbformat_minor": 5
}
