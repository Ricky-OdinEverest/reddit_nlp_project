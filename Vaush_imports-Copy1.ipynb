{
 "cells": [
  {
   "cell_type": "markdown",
   "id": "87767dca-2f52-4485-a8c4-d0952c734e15",
   "metadata": {},
   "source": [
    "# Import Modules"
   ]
  },
  {
   "cell_type": "code",
   "execution_count": 51,
   "id": "352de910-a249-455b-a6da-a0d096a823ec",
   "metadata": {},
   "outputs": [],
   "source": [
    "\n",
    "import requests\n",
    "import calendar\n",
    "import time\n",
    "import pandas as pd"
   ]
  },
  {
   "cell_type": "code",
   "execution_count": 52,
   "id": "896090fa-76f3-46e1-9340-61ff5c0646c0",
   "metadata": {},
   "outputs": [],
   "source": [
    "import matplotlib.pyplot as plt\n",
    "import pandas as pd\n",
    "import seaborn as sns\n",
    "\n",
    "from sklearn.feature_extraction.text import CountVectorizer\n",
    "\n",
    "# this setting widens how many characters pandas will display in a column:\n",
    "pd.options.display.max_colwidth = 400"
   ]
  },
  {
   "cell_type": "code",
   "execution_count": 53,
   "id": "c3ee011d-d789-4565-844c-fd10e3241e3f",
   "metadata": {},
   "outputs": [],
   "source": [
    "from sklearn.feature_extraction.text import TfidfVectorizer\n",
    "import re\n",
    "from nltk.sentiment.vader import SentimentIntensityAnalyzer\n",
    "import numpy as np"
   ]
  },
  {
   "cell_type": "markdown",
   "id": "40497b20-363b-420e-86df-c021dc5b44ff",
   "metadata": {},
   "source": [
    "# Import Data from the Vaush subreddit\n",
    "## since pushift goes back until november I'll grab 1000 posts for every 15 days since Nov. 3rd"
   ]
  },
  {
   "cell_type": "code",
   "execution_count": 2,
   "id": "165eaa8c-0b5b-43c3-b680-93a4e6e8d61b",
   "metadata": {},
   "outputs": [],
   "source": [
    "\n",
    "url = 'https://api.pushshift.io/reddit/search/submission'\n",
    "params_11_3_15 = {\n",
    "    'subreddit': 'VaushV',\n",
    "    'limit': 1000,\n",
    "    'filter': 'subreddit, selftext, title, created_utc',\n",
    "    'since': 1667437261, #Thursday, November 3, 2022 1:01:01 AM\n",
    "    'until': 1668474061 #Tuesday, November 15, 2022 1:01:01 AM\n",
    "}"
   ]
  },
  {
   "cell_type": "code",
   "execution_count": 3,
   "id": "25ca5aa1-3346-415e-aefc-b47a8e6dc241",
   "metadata": {},
   "outputs": [
    {
     "data": {
      "text/plain": [
       "200"
      ]
     },
     "execution_count": 3,
     "metadata": {},
     "output_type": "execute_result"
    }
   ],
   "source": [
    "res = requests.get(url, params_11_3_15)\n",
    "res.status_code\n"
   ]
  },
  {
   "cell_type": "code",
   "execution_count": 4,
   "id": "b3c7db72-79ed-49b3-b576-ca7a44c14a7a",
   "metadata": {},
   "outputs": [
    {
     "data": {
      "text/html": [
       "<div>\n",
       "<style scoped>\n",
       "    .dataframe tbody tr th:only-of-type {\n",
       "        vertical-align: middle;\n",
       "    }\n",
       "\n",
       "    .dataframe tbody tr th {\n",
       "        vertical-align: top;\n",
       "    }\n",
       "\n",
       "    .dataframe thead th {\n",
       "        text-align: right;\n",
       "    }\n",
       "</style>\n",
       "<table border=\"1\" class=\"dataframe\">\n",
       "  <thead>\n",
       "    <tr style=\"text-align: right;\">\n",
       "      <th></th>\n",
       "      <th>subreddit</th>\n",
       "      <th>selftext</th>\n",
       "      <th>title</th>\n",
       "      <th>created_utc</th>\n",
       "    </tr>\n",
       "  </thead>\n",
       "  <tbody>\n",
       "    <tr>\n",
       "      <th>0</th>\n",
       "      <td>VaushV</td>\n",
       "      <td>Seems like every time he makes an argument he ...</td>\n",
       "      <td>Anyone Noticing Vaush's Memory Issues Lately?</td>\n",
       "      <td>1668472458</td>\n",
       "    </tr>\n",
       "    <tr>\n",
       "      <th>1</th>\n",
       "      <td>VaushV</td>\n",
       "      <td></td>\n",
       "      <td>Would be a shame if this unofficial site recei...</td>\n",
       "      <td>1668471465</td>\n",
       "    </tr>\n",
       "    <tr>\n",
       "      <th>2</th>\n",
       "      <td>VaushV</td>\n",
       "      <td></td>\n",
       "      <td>🏳️‍⚧️🏳️‍⚧️Trans colored boat at Disney World! ...</td>\n",
       "      <td>1668471209</td>\n",
       "    </tr>\n",
       "    <tr>\n",
       "      <th>3</th>\n",
       "      <td>VaushV</td>\n",
       "      <td>Personally, IDK. It just seems like too many p...</td>\n",
       "      <td>How do you feel about the global population re...</td>\n",
       "      <td>1668470313</td>\n",
       "    </tr>\n",
       "    <tr>\n",
       "      <th>4</th>\n",
       "      <td>VaushV</td>\n",
       "      <td>Right now, if Trump and Biden went for a remat...</td>\n",
       "      <td>Hot take: Trump SHOULDN’T be arrested/indicted</td>\n",
       "      <td>1668468418</td>\n",
       "    </tr>\n",
       "  </tbody>\n",
       "</table>\n",
       "</div>"
      ],
      "text/plain": [
       "  subreddit                                           selftext  \\\n",
       "0    VaushV  Seems like every time he makes an argument he ...   \n",
       "1    VaushV                                                      \n",
       "2    VaushV                                                      \n",
       "3    VaushV  Personally, IDK. It just seems like too many p...   \n",
       "4    VaushV  Right now, if Trump and Biden went for a remat...   \n",
       "\n",
       "                                               title  created_utc  \n",
       "0      Anyone Noticing Vaush's Memory Issues Lately?   1668472458  \n",
       "1  Would be a shame if this unofficial site recei...   1668471465  \n",
       "2  🏳️‍⚧️🏳️‍⚧️Trans colored boat at Disney World! ...   1668471209  \n",
       "3  How do you feel about the global population re...   1668470313  \n",
       "4     Hot take: Trump SHOULDN’T be arrested/indicted   1668468418  "
      ]
     },
     "execution_count": 4,
     "metadata": {},
     "output_type": "execute_result"
    }
   ],
   "source": [
    "df_v1 = pd.DataFrame(res.json()['data'])\n",
    "df_v1.head()"
   ]
  },
  {
   "cell_type": "code",
   "execution_count": 5,
   "id": "0d062da6-fcb2-4606-86aa-ff2e209cc21e",
   "metadata": {},
   "outputs": [
    {
     "data": {
      "text/plain": [
       "(935, 4)"
      ]
     },
     "execution_count": 5,
     "metadata": {},
     "output_type": "execute_result"
    }
   ],
   "source": [
    "df_v1.shape"
   ]
  },
  {
   "cell_type": "code",
   "execution_count": 6,
   "id": "91148ef0-f10f-40a4-b957-b6f4bec44ec6",
   "metadata": {},
   "outputs": [],
   "source": [
    "params_11_15_30 = {\n",
    "    'subreddit': 'VaushV',\n",
    "    'limit': 1000,\n",
    "    'filter': 'subreddit, selftext, title, created_utc',\n",
    "    'since': 1668474061, #Tuesday, November 15, 2022 1:01:01 AM\n",
    "    'until': 1669770061 # Wednesday, November 30, 2022 1:01:01 AM\n",
    "}"
   ]
  },
  {
   "cell_type": "code",
   "execution_count": 7,
   "id": "831b8488-6a78-450a-b4bd-638f203ea5cb",
   "metadata": {},
   "outputs": [
    {
     "data": {
      "text/plain": [
       "200"
      ]
     },
     "execution_count": 7,
     "metadata": {},
     "output_type": "execute_result"
    }
   ],
   "source": [
    "res = requests.get(url,params_11_15_30)\n",
    "res.status_code"
   ]
  },
  {
   "cell_type": "code",
   "execution_count": 8,
   "id": "3101dffc-bda0-467a-94f4-4c073f3108ae",
   "metadata": {},
   "outputs": [
    {
     "data": {
      "text/html": [
       "<div>\n",
       "<style scoped>\n",
       "    .dataframe tbody tr th:only-of-type {\n",
       "        vertical-align: middle;\n",
       "    }\n",
       "\n",
       "    .dataframe tbody tr th {\n",
       "        vertical-align: top;\n",
       "    }\n",
       "\n",
       "    .dataframe thead th {\n",
       "        text-align: right;\n",
       "    }\n",
       "</style>\n",
       "<table border=\"1\" class=\"dataframe\">\n",
       "  <thead>\n",
       "    <tr style=\"text-align: right;\">\n",
       "      <th></th>\n",
       "      <th>subreddit</th>\n",
       "      <th>selftext</th>\n",
       "      <th>title</th>\n",
       "      <th>created_utc</th>\n",
       "    </tr>\n",
       "  </thead>\n",
       "  <tbody>\n",
       "    <tr>\n",
       "      <th>0</th>\n",
       "      <td>VaushV</td>\n",
       "      <td></td>\n",
       "      <td>Shoe's praising JQ'ing fascists on their talki...</td>\n",
       "      <td>1669769383</td>\n",
       "    </tr>\n",
       "    <tr>\n",
       "      <th>1</th>\n",
       "      <td>VaushV</td>\n",
       "      <td></td>\n",
       "      <td>Hey guess who was in made it into Philip DeFra...</td>\n",
       "      <td>1669769076</td>\n",
       "    </tr>\n",
       "    <tr>\n",
       "      <th>2</th>\n",
       "      <td>VaushV</td>\n",
       "      <td></td>\n",
       "      <td>U.S. Senate passes same-sex marriage protectio...</td>\n",
       "      <td>1669768298</td>\n",
       "    </tr>\n",
       "    <tr>\n",
       "      <th>3</th>\n",
       "      <td>VaushV</td>\n",
       "      <td></td>\n",
       "      <td>Conservative views on nazis</td>\n",
       "      <td>1669768036</td>\n",
       "    </tr>\n",
       "    <tr>\n",
       "      <th>4</th>\n",
       "      <td>VaushV</td>\n",
       "      <td></td>\n",
       "      <td>After Kanye’s historic appearance on Tim Pool’...</td>\n",
       "      <td>1669767662</td>\n",
       "    </tr>\n",
       "  </tbody>\n",
       "</table>\n",
       "</div>"
      ],
      "text/plain": [
       "  subreddit selftext                                              title  \\\n",
       "0    VaushV           Shoe's praising JQ'ing fascists on their talki...   \n",
       "1    VaushV           Hey guess who was in made it into Philip DeFra...   \n",
       "2    VaushV           U.S. Senate passes same-sex marriage protectio...   \n",
       "3    VaushV                                 Conservative views on nazis   \n",
       "4    VaushV           After Kanye’s historic appearance on Tim Pool’...   \n",
       "\n",
       "   created_utc  \n",
       "0   1669769383  \n",
       "1   1669769076  \n",
       "2   1669768298  \n",
       "3   1669768036  \n",
       "4   1669767662  "
      ]
     },
     "execution_count": 8,
     "metadata": {},
     "output_type": "execute_result"
    }
   ],
   "source": [
    "df_v2 = pd.DataFrame(res.json()['data'])\n",
    "df_v2.head()"
   ]
  },
  {
   "cell_type": "code",
   "execution_count": 9,
   "id": "54a9323e-ea50-448f-a707-0fd362014b8e",
   "metadata": {},
   "outputs": [
    {
     "data": {
      "text/plain": [
       "(1000, 4)"
      ]
     },
     "execution_count": 9,
     "metadata": {},
     "output_type": "execute_result"
    }
   ],
   "source": [
    "df_v2.shape"
   ]
  },
  {
   "cell_type": "code",
   "execution_count": 10,
   "id": "069722ae-e4a1-4de7-b30d-42dacfe7895f",
   "metadata": {},
   "outputs": [],
   "source": [
    "params_12_1_15 = {\n",
    "    'subreddit': 'VaushV',\n",
    "    'limit': 1000,\n",
    "    'filter': 'subreddit, selftext, title, created_utc',\n",
    "    'since': 1669770061, # Wednesday, November 30, 2022 1:01:01 AM\n",
    "    'until': 1671066061 # Thursday, December 15, 2022 1:01:01 AM\n",
    "}"
   ]
  },
  {
   "cell_type": "code",
   "execution_count": 11,
   "id": "670f74ed-8a67-4cb2-bedd-a0274d598199",
   "metadata": {},
   "outputs": [
    {
     "data": {
      "text/plain": [
       "200"
      ]
     },
     "execution_count": 11,
     "metadata": {},
     "output_type": "execute_result"
    }
   ],
   "source": [
    "res = requests.get(url,params_12_1_15)\n",
    "res.status_code"
   ]
  },
  {
   "cell_type": "code",
   "execution_count": 12,
   "id": "13ec59fc-ab90-4f24-bf67-87f039883be4",
   "metadata": {},
   "outputs": [
    {
     "data": {
      "text/html": [
       "<div>\n",
       "<style scoped>\n",
       "    .dataframe tbody tr th:only-of-type {\n",
       "        vertical-align: middle;\n",
       "    }\n",
       "\n",
       "    .dataframe tbody tr th {\n",
       "        vertical-align: top;\n",
       "    }\n",
       "\n",
       "    .dataframe thead th {\n",
       "        text-align: right;\n",
       "    }\n",
       "</style>\n",
       "<table border=\"1\" class=\"dataframe\">\n",
       "  <thead>\n",
       "    <tr style=\"text-align: right;\">\n",
       "      <th></th>\n",
       "      <th>subreddit</th>\n",
       "      <th>selftext</th>\n",
       "      <th>title</th>\n",
       "      <th>created_utc</th>\n",
       "    </tr>\n",
       "  </thead>\n",
       "  <tbody>\n",
       "    <tr>\n",
       "      <th>0</th>\n",
       "      <td>VaushV</td>\n",
       "      <td></td>\n",
       "      <td>“Putin’s Chef”: The Man Behind Russia’s Shadow...</td>\n",
       "      <td>1671064319</td>\n",
       "    </tr>\n",
       "    <tr>\n",
       "      <th>1</th>\n",
       "      <td>VaushV</td>\n",
       "      <td></td>\n",
       "      <td>Genuinely horrifying, I strongly recommend fol...</td>\n",
       "      <td>1671063808</td>\n",
       "    </tr>\n",
       "    <tr>\n",
       "      <th>2</th>\n",
       "      <td>VaushV</td>\n",
       "      <td></td>\n",
       "      <td>Vowsh cameo</td>\n",
       "      <td>1671061384</td>\n",
       "    </tr>\n",
       "    <tr>\n",
       "      <th>3</th>\n",
       "      <td>VaushV</td>\n",
       "      <td>[https://youtu.be/\\_MGTsSBU3OE?t=20](https://y...</td>\n",
       "      <td>Voosh cameo</td>\n",
       "      <td>1671061173</td>\n",
       "    </tr>\n",
       "    <tr>\n",
       "      <th>4</th>\n",
       "      <td>VaushV</td>\n",
       "      <td>Republicans are vile. Anybody that still votes...</td>\n",
       "      <td>Reminder: 164 House Republicans and 36 Senate ...</td>\n",
       "      <td>1671059395</td>\n",
       "    </tr>\n",
       "  </tbody>\n",
       "</table>\n",
       "</div>"
      ],
      "text/plain": [
       "  subreddit                                           selftext  \\\n",
       "0    VaushV                                                      \n",
       "1    VaushV                                                      \n",
       "2    VaushV                                                      \n",
       "3    VaushV  [https://youtu.be/\\_MGTsSBU3OE?t=20](https://y...   \n",
       "4    VaushV  Republicans are vile. Anybody that still votes...   \n",
       "\n",
       "                                               title  created_utc  \n",
       "0  “Putin’s Chef”: The Man Behind Russia’s Shadow...   1671064319  \n",
       "1  Genuinely horrifying, I strongly recommend fol...   1671063808  \n",
       "2                                        Vowsh cameo   1671061384  \n",
       "3                                        Voosh cameo   1671061173  \n",
       "4  Reminder: 164 House Republicans and 36 Senate ...   1671059395  "
      ]
     },
     "execution_count": 12,
     "metadata": {},
     "output_type": "execute_result"
    }
   ],
   "source": [
    "df_v3 = pd.DataFrame(res.json()['data'])\n",
    "df_v3.head()"
   ]
  },
  {
   "cell_type": "code",
   "execution_count": 13,
   "id": "1c99404c-89fb-4904-95b0-e9907a79b514",
   "metadata": {},
   "outputs": [
    {
     "data": {
      "text/plain": [
       "(1000, 4)"
      ]
     },
     "execution_count": 13,
     "metadata": {},
     "output_type": "execute_result"
    }
   ],
   "source": [
    "df_v3.shape"
   ]
  },
  {
   "cell_type": "code",
   "execution_count": 14,
   "id": "31085864-f588-41eb-87e0-093beef0225f",
   "metadata": {},
   "outputs": [],
   "source": [
    "params_12_15_31 = {\n",
    "    'subreddit': 'VaushV',\n",
    "    'limit': 1000,\n",
    "    'filter': 'subreddit, selftext, title, created_utc',\n",
    "    'since':  1671066061, # Thursday, December 15, 2022 1:01:01 AM\n",
    "    'until': 1672448461 #Saturday, December 31, 2022 1:01:01 AM\n",
    "}"
   ]
  },
  {
   "cell_type": "code",
   "execution_count": 15,
   "id": "ad9a7f41-cadc-4b97-82cd-e38432d418f0",
   "metadata": {},
   "outputs": [
    {
     "data": {
      "text/plain": [
       "200"
      ]
     },
     "execution_count": 15,
     "metadata": {},
     "output_type": "execute_result"
    }
   ],
   "source": [
    "res = requests.get(url,params_12_15_31)\n",
    "res.status_code"
   ]
  },
  {
   "cell_type": "code",
   "execution_count": 16,
   "id": "2d6cffc4-d686-490d-b52c-65a92ab83e56",
   "metadata": {},
   "outputs": [
    {
     "data": {
      "text/html": [
       "<div>\n",
       "<style scoped>\n",
       "    .dataframe tbody tr th:only-of-type {\n",
       "        vertical-align: middle;\n",
       "    }\n",
       "\n",
       "    .dataframe tbody tr th {\n",
       "        vertical-align: top;\n",
       "    }\n",
       "\n",
       "    .dataframe thead th {\n",
       "        text-align: right;\n",
       "    }\n",
       "</style>\n",
       "<table border=\"1\" class=\"dataframe\">\n",
       "  <thead>\n",
       "    <tr style=\"text-align: right;\">\n",
       "      <th></th>\n",
       "      <th>subreddit</th>\n",
       "      <th>selftext</th>\n",
       "      <th>title</th>\n",
       "      <th>created_utc</th>\n",
       "    </tr>\n",
       "  </thead>\n",
       "  <tbody>\n",
       "    <tr>\n",
       "      <th>0</th>\n",
       "      <td>VaushV</td>\n",
       "      <td></td>\n",
       "      <td>These people sound great, they should be payed...</td>\n",
       "      <td>1672447768</td>\n",
       "    </tr>\n",
       "    <tr>\n",
       "      <th>1</th>\n",
       "      <td>VaushV</td>\n",
       "      <td>I have an eating disorder and honestly watchin...</td>\n",
       "      <td>Vaush saved my life…</td>\n",
       "      <td>1672447619</td>\n",
       "    </tr>\n",
       "    <tr>\n",
       "      <th>2</th>\n",
       "      <td>VaushV</td>\n",
       "      <td></td>\n",
       "      <td>Lol stupid fuckers</td>\n",
       "      <td>1672446628</td>\n",
       "    </tr>\n",
       "    <tr>\n",
       "      <th>3</th>\n",
       "      <td>VaushV</td>\n",
       "      <td>I’m just going to go ahead and say it here.\\nI...</td>\n",
       "      <td>Eternal Torment and Context</td>\n",
       "      <td>1672446192</td>\n",
       "    </tr>\n",
       "    <tr>\n",
       "      <th>4</th>\n",
       "      <td>VaushV</td>\n",
       "      <td></td>\n",
       "      <td>title</td>\n",
       "      <td>1672440498</td>\n",
       "    </tr>\n",
       "  </tbody>\n",
       "</table>\n",
       "</div>"
      ],
      "text/plain": [
       "  subreddit                                           selftext  \\\n",
       "0    VaushV                                                      \n",
       "1    VaushV  I have an eating disorder and honestly watchin...   \n",
       "2    VaushV                                                      \n",
       "3    VaushV  I’m just going to go ahead and say it here.\\nI...   \n",
       "4    VaushV                                                      \n",
       "\n",
       "                                               title  created_utc  \n",
       "0  These people sound great, they should be payed...   1672447768  \n",
       "1                               Vaush saved my life…   1672447619  \n",
       "2                                 Lol stupid fuckers   1672446628  \n",
       "3                        Eternal Torment and Context   1672446192  \n",
       "4                                              title   1672440498  "
      ]
     },
     "execution_count": 16,
     "metadata": {},
     "output_type": "execute_result"
    }
   ],
   "source": [
    "df_v4 = pd.DataFrame(res.json()['data'])\n",
    "df_v4.head()"
   ]
  },
  {
   "cell_type": "code",
   "execution_count": 17,
   "id": "6d43f60f-5dc6-43e0-9351-326c941efb5e",
   "metadata": {},
   "outputs": [
    {
     "data": {
      "text/plain": [
       "(1000, 4)"
      ]
     },
     "execution_count": 17,
     "metadata": {},
     "output_type": "execute_result"
    }
   ],
   "source": [
    "df_v4.shape"
   ]
  },
  {
   "cell_type": "code",
   "execution_count": 29,
   "id": "7fde2e6b-1904-4d0d-8482-b08506c2b9b5",
   "metadata": {},
   "outputs": [],
   "source": [
    "params_1_1_12 = {\n",
    "    'subreddit': 'VaushV',\n",
    "    'limit': 1000,\n",
    "    'filter': 'subreddit, selftext, title, created_utc',\n",
    "    'since': 1672448461, #Saturday, December 31, 2022 1:01:01 AM\n",
    "    #'until': #1641992461 #Wednesday, January 12, 2022 1:01:01 PM\n",
    "}"
   ]
  },
  {
   "cell_type": "code",
   "execution_count": 30,
   "id": "9f1b073a-f48f-4aef-bf12-fcb9316c4745",
   "metadata": {},
   "outputs": [
    {
     "data": {
      "text/plain": [
       "200"
      ]
     },
     "execution_count": 30,
     "metadata": {},
     "output_type": "execute_result"
    }
   ],
   "source": [
    "res = requests.get(url,params_1_1_12)\n",
    "res.status_code"
   ]
  },
  {
   "cell_type": "code",
   "execution_count": 31,
   "id": "0851c514-4ba3-468b-8077-6d8e159ba645",
   "metadata": {},
   "outputs": [
    {
     "data": {
      "text/html": [
       "<div>\n",
       "<style scoped>\n",
       "    .dataframe tbody tr th:only-of-type {\n",
       "        vertical-align: middle;\n",
       "    }\n",
       "\n",
       "    .dataframe tbody tr th {\n",
       "        vertical-align: top;\n",
       "    }\n",
       "\n",
       "    .dataframe thead th {\n",
       "        text-align: right;\n",
       "    }\n",
       "</style>\n",
       "<table border=\"1\" class=\"dataframe\">\n",
       "  <thead>\n",
       "    <tr style=\"text-align: right;\">\n",
       "      <th></th>\n",
       "      <th>subreddit</th>\n",
       "      <th>selftext</th>\n",
       "      <th>title</th>\n",
       "      <th>created_utc</th>\n",
       "    </tr>\n",
       "  </thead>\n",
       "  <tbody>\n",
       "    <tr>\n",
       "      <th>0</th>\n",
       "      <td>VaushV</td>\n",
       "      <td>First things first: H3h3 said that Andrew basi...</td>\n",
       "      <td>Why I don't think what happened what happened ...</td>\n",
       "      <td>1673554537</td>\n",
       "    </tr>\n",
       "    <tr>\n",
       "      <th>1</th>\n",
       "      <td>VaushV</td>\n",
       "      <td></td>\n",
       "      <td>Did the GOP downplay the existence of marital ...</td>\n",
       "      <td>1673554249</td>\n",
       "    </tr>\n",
       "    <tr>\n",
       "      <th>2</th>\n",
       "      <td>VaushV</td>\n",
       "      <td></td>\n",
       "      <td>International Chinese students are forced to s...</td>\n",
       "      <td>1673553192</td>\n",
       "    </tr>\n",
       "    <tr>\n",
       "      <th>3</th>\n",
       "      <td>VaushV</td>\n",
       "      <td></td>\n",
       "      <td>NE introduces bill to criminalize wearing clot...</td>\n",
       "      <td>1673551440</td>\n",
       "    </tr>\n",
       "    <tr>\n",
       "      <th>4</th>\n",
       "      <td>VaushV</td>\n",
       "      <td></td>\n",
       "      <td>BadEmpanada now using the sexual assault AND s...</td>\n",
       "      <td>1673550508</td>\n",
       "    </tr>\n",
       "  </tbody>\n",
       "</table>\n",
       "</div>"
      ],
      "text/plain": [
       "  subreddit                                           selftext  \\\n",
       "0    VaushV  First things first: H3h3 said that Andrew basi...   \n",
       "1    VaushV                                                      \n",
       "2    VaushV                                                      \n",
       "3    VaushV                                                      \n",
       "4    VaushV                                                      \n",
       "\n",
       "                                               title  created_utc  \n",
       "0  Why I don't think what happened what happened ...   1673554537  \n",
       "1  Did the GOP downplay the existence of marital ...   1673554249  \n",
       "2  International Chinese students are forced to s...   1673553192  \n",
       "3  NE introduces bill to criminalize wearing clot...   1673551440  \n",
       "4  BadEmpanada now using the sexual assault AND s...   1673550508  "
      ]
     },
     "execution_count": 31,
     "metadata": {},
     "output_type": "execute_result"
    }
   ],
   "source": [
    "df_v5 = pd.DataFrame(res.json()['data'])\n",
    "df_v5.head()"
   ]
  },
  {
   "cell_type": "code",
   "execution_count": 32,
   "id": "16949898-9516-43cf-9481-8e59f03876a0",
   "metadata": {},
   "outputs": [
    {
     "data": {
      "text/plain": [
       "(1000, 4)"
      ]
     },
     "execution_count": 32,
     "metadata": {},
     "output_type": "execute_result"
    }
   ],
   "source": [
    "df_v5.shape"
   ]
  },
  {
   "cell_type": "code",
   "execution_count": 33,
   "id": "f499ca2b-5076-4da0-a0f4-0a52fca312b6",
   "metadata": {},
   "outputs": [],
   "source": [
    "vaush_df =pd.concat([df_v1,df_v2,df_v3,df_v4,df_v5])"
   ]
  },
  {
   "cell_type": "code",
   "execution_count": 34,
   "id": "c420cd0e-7574-4fde-bb4a-c043233918db",
   "metadata": {},
   "outputs": [
    {
     "data": {
      "text/html": [
       "<div>\n",
       "<style scoped>\n",
       "    .dataframe tbody tr th:only-of-type {\n",
       "        vertical-align: middle;\n",
       "    }\n",
       "\n",
       "    .dataframe tbody tr th {\n",
       "        vertical-align: top;\n",
       "    }\n",
       "\n",
       "    .dataframe thead th {\n",
       "        text-align: right;\n",
       "    }\n",
       "</style>\n",
       "<table border=\"1\" class=\"dataframe\">\n",
       "  <thead>\n",
       "    <tr style=\"text-align: right;\">\n",
       "      <th></th>\n",
       "      <th>subreddit</th>\n",
       "      <th>selftext</th>\n",
       "      <th>title</th>\n",
       "      <th>created_utc</th>\n",
       "    </tr>\n",
       "  </thead>\n",
       "  <tbody>\n",
       "    <tr>\n",
       "      <th>0</th>\n",
       "      <td>VaushV</td>\n",
       "      <td>Seems like every time he makes an argument he ...</td>\n",
       "      <td>Anyone Noticing Vaush's Memory Issues Lately?</td>\n",
       "      <td>1668472458</td>\n",
       "    </tr>\n",
       "    <tr>\n",
       "      <th>1</th>\n",
       "      <td>VaushV</td>\n",
       "      <td></td>\n",
       "      <td>Would be a shame if this unofficial site recei...</td>\n",
       "      <td>1668471465</td>\n",
       "    </tr>\n",
       "    <tr>\n",
       "      <th>2</th>\n",
       "      <td>VaushV</td>\n",
       "      <td></td>\n",
       "      <td>🏳️‍⚧️🏳️‍⚧️Trans colored boat at Disney World! ...</td>\n",
       "      <td>1668471209</td>\n",
       "    </tr>\n",
       "    <tr>\n",
       "      <th>3</th>\n",
       "      <td>VaushV</td>\n",
       "      <td>Personally, IDK. It just seems like too many p...</td>\n",
       "      <td>How do you feel about the global population re...</td>\n",
       "      <td>1668470313</td>\n",
       "    </tr>\n",
       "    <tr>\n",
       "      <th>4</th>\n",
       "      <td>VaushV</td>\n",
       "      <td>Right now, if Trump and Biden went for a remat...</td>\n",
       "      <td>Hot take: Trump SHOULDN’T be arrested/indicted</td>\n",
       "      <td>1668468418</td>\n",
       "    </tr>\n",
       "    <tr>\n",
       "      <th>...</th>\n",
       "      <td>...</td>\n",
       "      <td>...</td>\n",
       "      <td>...</td>\n",
       "      <td>...</td>\n",
       "    </tr>\n",
       "    <tr>\n",
       "      <th>995</th>\n",
       "      <td>VaushV</td>\n",
       "      <td></td>\n",
       "      <td>most sane south park fan</td>\n",
       "      <td>1672530673</td>\n",
       "    </tr>\n",
       "    <tr>\n",
       "      <th>996</th>\n",
       "      <td>VaushV</td>\n",
       "      <td>Someone posted a few days ago a poll asking wh...</td>\n",
       "      <td>hot take: aside from Ukraine, the queen dying ...</td>\n",
       "      <td>1672529782</td>\n",
       "    </tr>\n",
       "    <tr>\n",
       "      <th>997</th>\n",
       "      <td>VaushV</td>\n",
       "      <td></td>\n",
       "      <td>So Pope Benedict XVI died, can we talk about w...</td>\n",
       "      <td>1672527544</td>\n",
       "    </tr>\n",
       "    <tr>\n",
       "      <th>998</th>\n",
       "      <td>VaushV</td>\n",
       "      <td></td>\n",
       "      <td>BreadPanes 162: \"Groomer's Dilemma\"</td>\n",
       "      <td>1672525401</td>\n",
       "    </tr>\n",
       "    <tr>\n",
       "      <th>999</th>\n",
       "      <td>VaushV</td>\n",
       "      <td>The world would be better off if every person ...</td>\n",
       "      <td>Jan 6th hot take</td>\n",
       "      <td>1672525309</td>\n",
       "    </tr>\n",
       "  </tbody>\n",
       "</table>\n",
       "<p>4935 rows × 4 columns</p>\n",
       "</div>"
      ],
      "text/plain": [
       "    subreddit                                           selftext  \\\n",
       "0      VaushV  Seems like every time he makes an argument he ...   \n",
       "1      VaushV                                                      \n",
       "2      VaushV                                                      \n",
       "3      VaushV  Personally, IDK. It just seems like too many p...   \n",
       "4      VaushV  Right now, if Trump and Biden went for a remat...   \n",
       "..        ...                                                ...   \n",
       "995    VaushV                                                      \n",
       "996    VaushV  Someone posted a few days ago a poll asking wh...   \n",
       "997    VaushV                                                      \n",
       "998    VaushV                                                      \n",
       "999    VaushV  The world would be better off if every person ...   \n",
       "\n",
       "                                                 title  created_utc  \n",
       "0        Anyone Noticing Vaush's Memory Issues Lately?   1668472458  \n",
       "1    Would be a shame if this unofficial site recei...   1668471465  \n",
       "2    🏳️‍⚧️🏳️‍⚧️Trans colored boat at Disney World! ...   1668471209  \n",
       "3    How do you feel about the global population re...   1668470313  \n",
       "4       Hot take: Trump SHOULDN’T be arrested/indicted   1668468418  \n",
       "..                                                 ...          ...  \n",
       "995                           most sane south park fan   1672530673  \n",
       "996  hot take: aside from Ukraine, the queen dying ...   1672529782  \n",
       "997  So Pope Benedict XVI died, can we talk about w...   1672527544  \n",
       "998                BreadPanes 162: \"Groomer's Dilemma\"   1672525401  \n",
       "999                                   Jan 6th hot take   1672525309  \n",
       "\n",
       "[4935 rows x 4 columns]"
      ]
     },
     "execution_count": 34,
     "metadata": {},
     "output_type": "execute_result"
    }
   ],
   "source": [
    "vaush_df"
   ]
  },
  {
   "cell_type": "markdown",
   "id": "d76b4a9f-ce6e-412a-ae6e-ab2549c0cbe7",
   "metadata": {},
   "source": [
    "### drop duplicate row"
   ]
  },
  {
   "cell_type": "code",
   "execution_count": 39,
   "id": "0ab6da86-19cb-4f55-865a-19151c6ad02e",
   "metadata": {},
   "outputs": [],
   "source": [
    "vaush_df.drop_duplicates(inplace=True)"
   ]
  },
  {
   "cell_type": "code",
   "execution_count": 40,
   "id": "0e08e24e-ef9b-473c-8c13-b3a93aebd107",
   "metadata": {},
   "outputs": [
    {
     "data": {
      "text/plain": [
       "0"
      ]
     },
     "execution_count": 40,
     "metadata": {},
     "output_type": "execute_result"
    }
   ],
   "source": [
    "vaush_df.duplicated().sum()"
   ]
  },
  {
   "cell_type": "code",
   "execution_count": 41,
   "id": "43b9cbc8-e2e7-41e6-867b-9493ba29a84a",
   "metadata": {},
   "outputs": [
    {
     "data": {
      "text/html": [
       "<div>\n",
       "<style scoped>\n",
       "    .dataframe tbody tr th:only-of-type {\n",
       "        vertical-align: middle;\n",
       "    }\n",
       "\n",
       "    .dataframe tbody tr th {\n",
       "        vertical-align: top;\n",
       "    }\n",
       "\n",
       "    .dataframe thead th {\n",
       "        text-align: right;\n",
       "    }\n",
       "</style>\n",
       "<table border=\"1\" class=\"dataframe\">\n",
       "  <thead>\n",
       "    <tr style=\"text-align: right;\">\n",
       "      <th></th>\n",
       "      <th>subreddit</th>\n",
       "      <th>selftext</th>\n",
       "      <th>title</th>\n",
       "      <th>created_utc</th>\n",
       "    </tr>\n",
       "  </thead>\n",
       "  <tbody>\n",
       "    <tr>\n",
       "      <th>0</th>\n",
       "      <td>VaushV</td>\n",
       "      <td>Seems like every time he makes an argument he ...</td>\n",
       "      <td>Anyone Noticing Vaush's Memory Issues Lately?</td>\n",
       "      <td>1668472458</td>\n",
       "    </tr>\n",
       "    <tr>\n",
       "      <th>1</th>\n",
       "      <td>VaushV</td>\n",
       "      <td></td>\n",
       "      <td>Would be a shame if this unofficial site recei...</td>\n",
       "      <td>1668471465</td>\n",
       "    </tr>\n",
       "    <tr>\n",
       "      <th>2</th>\n",
       "      <td>VaushV</td>\n",
       "      <td></td>\n",
       "      <td>🏳️‍⚧️🏳️‍⚧️Trans colored boat at Disney World! ...</td>\n",
       "      <td>1668471209</td>\n",
       "    </tr>\n",
       "    <tr>\n",
       "      <th>3</th>\n",
       "      <td>VaushV</td>\n",
       "      <td>Personally, IDK. It just seems like too many p...</td>\n",
       "      <td>How do you feel about the global population re...</td>\n",
       "      <td>1668470313</td>\n",
       "    </tr>\n",
       "    <tr>\n",
       "      <th>4</th>\n",
       "      <td>VaushV</td>\n",
       "      <td>Right now, if Trump and Biden went for a remat...</td>\n",
       "      <td>Hot take: Trump SHOULDN’T be arrested/indicted</td>\n",
       "      <td>1668468418</td>\n",
       "    </tr>\n",
       "    <tr>\n",
       "      <th>...</th>\n",
       "      <td>...</td>\n",
       "      <td>...</td>\n",
       "      <td>...</td>\n",
       "      <td>...</td>\n",
       "    </tr>\n",
       "    <tr>\n",
       "      <th>995</th>\n",
       "      <td>VaushV</td>\n",
       "      <td></td>\n",
       "      <td>most sane south park fan</td>\n",
       "      <td>1672530673</td>\n",
       "    </tr>\n",
       "    <tr>\n",
       "      <th>996</th>\n",
       "      <td>VaushV</td>\n",
       "      <td>Someone posted a few days ago a poll asking wh...</td>\n",
       "      <td>hot take: aside from Ukraine, the queen dying ...</td>\n",
       "      <td>1672529782</td>\n",
       "    </tr>\n",
       "    <tr>\n",
       "      <th>997</th>\n",
       "      <td>VaushV</td>\n",
       "      <td></td>\n",
       "      <td>So Pope Benedict XVI died, can we talk about w...</td>\n",
       "      <td>1672527544</td>\n",
       "    </tr>\n",
       "    <tr>\n",
       "      <th>998</th>\n",
       "      <td>VaushV</td>\n",
       "      <td></td>\n",
       "      <td>BreadPanes 162: \"Groomer's Dilemma\"</td>\n",
       "      <td>1672525401</td>\n",
       "    </tr>\n",
       "    <tr>\n",
       "      <th>999</th>\n",
       "      <td>VaushV</td>\n",
       "      <td>The world would be better off if every person ...</td>\n",
       "      <td>Jan 6th hot take</td>\n",
       "      <td>1672525309</td>\n",
       "    </tr>\n",
       "  </tbody>\n",
       "</table>\n",
       "<p>4934 rows × 4 columns</p>\n",
       "</div>"
      ],
      "text/plain": [
       "    subreddit                                           selftext  \\\n",
       "0      VaushV  Seems like every time he makes an argument he ...   \n",
       "1      VaushV                                                      \n",
       "2      VaushV                                                      \n",
       "3      VaushV  Personally, IDK. It just seems like too many p...   \n",
       "4      VaushV  Right now, if Trump and Biden went for a remat...   \n",
       "..        ...                                                ...   \n",
       "995    VaushV                                                      \n",
       "996    VaushV  Someone posted a few days ago a poll asking wh...   \n",
       "997    VaushV                                                      \n",
       "998    VaushV                                                      \n",
       "999    VaushV  The world would be better off if every person ...   \n",
       "\n",
       "                                                 title  created_utc  \n",
       "0        Anyone Noticing Vaush's Memory Issues Lately?   1668472458  \n",
       "1    Would be a shame if this unofficial site recei...   1668471465  \n",
       "2    🏳️‍⚧️🏳️‍⚧️Trans colored boat at Disney World! ...   1668471209  \n",
       "3    How do you feel about the global population re...   1668470313  \n",
       "4       Hot take: Trump SHOULDN’T be arrested/indicted   1668468418  \n",
       "..                                                 ...          ...  \n",
       "995                           most sane south park fan   1672530673  \n",
       "996  hot take: aside from Ukraine, the queen dying ...   1672529782  \n",
       "997  So Pope Benedict XVI died, can we talk about w...   1672527544  \n",
       "998                BreadPanes 162: \"Groomer's Dilemma\"   1672525401  \n",
       "999                                   Jan 6th hot take   1672525309  \n",
       "\n",
       "[4934 rows x 4 columns]"
      ]
     },
     "execution_count": 41,
     "metadata": {},
     "output_type": "execute_result"
    }
   ],
   "source": [
    "vaush_df"
   ]
  },
  {
   "cell_type": "markdown",
   "id": "67071373-a48e-4b6f-960a-42ed03f9339b",
   "metadata": {},
   "source": [
    "## Combine title and full text for easier eda"
   ]
  },
  {
   "cell_type": "code",
   "execution_count": 47,
   "id": "0f68780a-439b-41b5-ac46-aef74b979fd9",
   "metadata": {},
   "outputs": [
    {
     "data": {
      "text/html": [
       "<div>\n",
       "<style scoped>\n",
       "    .dataframe tbody tr th:only-of-type {\n",
       "        vertical-align: middle;\n",
       "    }\n",
       "\n",
       "    .dataframe tbody tr th {\n",
       "        vertical-align: top;\n",
       "    }\n",
       "\n",
       "    .dataframe thead th {\n",
       "        text-align: right;\n",
       "    }\n",
       "</style>\n",
       "<table border=\"1\" class=\"dataframe\">\n",
       "  <thead>\n",
       "    <tr style=\"text-align: right;\">\n",
       "      <th></th>\n",
       "      <th>subreddit</th>\n",
       "      <th>selftext</th>\n",
       "      <th>title</th>\n",
       "      <th>created_utc</th>\n",
       "      <th>full_text</th>\n",
       "    </tr>\n",
       "  </thead>\n",
       "  <tbody>\n",
       "    <tr>\n",
       "      <th>0</th>\n",
       "      <td>VaushV</td>\n",
       "      <td>Seems like every time he makes an argument he ...</td>\n",
       "      <td>Anyone Noticing Vaush's Memory Issues Lately?</td>\n",
       "      <td>1668472458</td>\n",
       "      <td>Anyone Noticing Vaush's Memory Issues Lately? ...</td>\n",
       "    </tr>\n",
       "    <tr>\n",
       "      <th>1</th>\n",
       "      <td>VaushV</td>\n",
       "      <td></td>\n",
       "      <td>Would be a shame if this unofficial site recei...</td>\n",
       "      <td>1668471465</td>\n",
       "      <td>Would be a shame if this unofficial site recei...</td>\n",
       "    </tr>\n",
       "    <tr>\n",
       "      <th>2</th>\n",
       "      <td>VaushV</td>\n",
       "      <td></td>\n",
       "      <td>🏳️‍⚧️🏳️‍⚧️Trans colored boat at Disney World! ...</td>\n",
       "      <td>1668471209</td>\n",
       "      <td>🏳️‍⚧️🏳️‍⚧️Trans colored boat at Disney World! ...</td>\n",
       "    </tr>\n",
       "    <tr>\n",
       "      <th>3</th>\n",
       "      <td>VaushV</td>\n",
       "      <td>Personally, IDK. It just seems like too many p...</td>\n",
       "      <td>How do you feel about the global population re...</td>\n",
       "      <td>1668470313</td>\n",
       "      <td>How do you feel about the global population re...</td>\n",
       "    </tr>\n",
       "    <tr>\n",
       "      <th>4</th>\n",
       "      <td>VaushV</td>\n",
       "      <td>Right now, if Trump and Biden went for a remat...</td>\n",
       "      <td>Hot take: Trump SHOULDN’T be arrested/indicted</td>\n",
       "      <td>1668468418</td>\n",
       "      <td>Hot take: Trump SHOULDN’T be arrested/indicted...</td>\n",
       "    </tr>\n",
       "    <tr>\n",
       "      <th>...</th>\n",
       "      <td>...</td>\n",
       "      <td>...</td>\n",
       "      <td>...</td>\n",
       "      <td>...</td>\n",
       "      <td>...</td>\n",
       "    </tr>\n",
       "    <tr>\n",
       "      <th>995</th>\n",
       "      <td>VaushV</td>\n",
       "      <td></td>\n",
       "      <td>most sane south park fan</td>\n",
       "      <td>1672530673</td>\n",
       "      <td>most sane south park fan</td>\n",
       "    </tr>\n",
       "    <tr>\n",
       "      <th>996</th>\n",
       "      <td>VaushV</td>\n",
       "      <td>Someone posted a few days ago a poll asking wh...</td>\n",
       "      <td>hot take: aside from Ukraine, the queen dying ...</td>\n",
       "      <td>1672529782</td>\n",
       "      <td>hot take: aside from Ukraine, the queen dying ...</td>\n",
       "    </tr>\n",
       "    <tr>\n",
       "      <th>997</th>\n",
       "      <td>VaushV</td>\n",
       "      <td></td>\n",
       "      <td>So Pope Benedict XVI died, can we talk about w...</td>\n",
       "      <td>1672527544</td>\n",
       "      <td>So Pope Benedict XVI died, can we talk about w...</td>\n",
       "    </tr>\n",
       "    <tr>\n",
       "      <th>998</th>\n",
       "      <td>VaushV</td>\n",
       "      <td></td>\n",
       "      <td>BreadPanes 162: \"Groomer's Dilemma\"</td>\n",
       "      <td>1672525401</td>\n",
       "      <td>BreadPanes 162: \"Groomer's Dilemma\"</td>\n",
       "    </tr>\n",
       "    <tr>\n",
       "      <th>999</th>\n",
       "      <td>VaushV</td>\n",
       "      <td>The world would be better off if every person ...</td>\n",
       "      <td>Jan 6th hot take</td>\n",
       "      <td>1672525309</td>\n",
       "      <td>Jan 6th hot take The world would be better off...</td>\n",
       "    </tr>\n",
       "  </tbody>\n",
       "</table>\n",
       "<p>4934 rows × 5 columns</p>\n",
       "</div>"
      ],
      "text/plain": [
       "    subreddit                                           selftext  \\\n",
       "0      VaushV  Seems like every time he makes an argument he ...   \n",
       "1      VaushV                                                      \n",
       "2      VaushV                                                      \n",
       "3      VaushV  Personally, IDK. It just seems like too many p...   \n",
       "4      VaushV  Right now, if Trump and Biden went for a remat...   \n",
       "..        ...                                                ...   \n",
       "995    VaushV                                                      \n",
       "996    VaushV  Someone posted a few days ago a poll asking wh...   \n",
       "997    VaushV                                                      \n",
       "998    VaushV                                                      \n",
       "999    VaushV  The world would be better off if every person ...   \n",
       "\n",
       "                                                 title  created_utc  \\\n",
       "0        Anyone Noticing Vaush's Memory Issues Lately?   1668472458   \n",
       "1    Would be a shame if this unofficial site recei...   1668471465   \n",
       "2    🏳️‍⚧️🏳️‍⚧️Trans colored boat at Disney World! ...   1668471209   \n",
       "3    How do you feel about the global population re...   1668470313   \n",
       "4       Hot take: Trump SHOULDN’T be arrested/indicted   1668468418   \n",
       "..                                                 ...          ...   \n",
       "995                           most sane south park fan   1672530673   \n",
       "996  hot take: aside from Ukraine, the queen dying ...   1672529782   \n",
       "997  So Pope Benedict XVI died, can we talk about w...   1672527544   \n",
       "998                BreadPanes 162: \"Groomer's Dilemma\"   1672525401   \n",
       "999                                   Jan 6th hot take   1672525309   \n",
       "\n",
       "                                             full_text  \n",
       "0    Anyone Noticing Vaush's Memory Issues Lately? ...  \n",
       "1    Would be a shame if this unofficial site recei...  \n",
       "2    🏳️‍⚧️🏳️‍⚧️Trans colored boat at Disney World! ...  \n",
       "3    How do you feel about the global population re...  \n",
       "4    Hot take: Trump SHOULDN’T be arrested/indicted...  \n",
       "..                                                 ...  \n",
       "995                          most sane south park fan   \n",
       "996  hot take: aside from Ukraine, the queen dying ...  \n",
       "997  So Pope Benedict XVI died, can we talk about w...  \n",
       "998               BreadPanes 162: \"Groomer's Dilemma\"   \n",
       "999  Jan 6th hot take The world would be better off...  \n",
       "\n",
       "[4934 rows x 5 columns]"
      ]
     },
     "execution_count": 47,
     "metadata": {},
     "output_type": "execute_result"
    }
   ],
   "source": [
    "vaush_df['full_text']=vaush_df['title']+' ' +vaush_df['selftext']\n",
    "vaush_df"
   ]
  },
  {
   "cell_type": "code",
   "execution_count": 48,
   "id": "f1fe3dc6-9315-4000-8a2c-ab9115036015",
   "metadata": {},
   "outputs": [
    {
     "data": {
      "text/plain": [
       "subreddit      0\n",
       "selftext       0\n",
       "title          0\n",
       "created_utc    0\n",
       "full_text      0\n",
       "dtype: int64"
      ]
     },
     "execution_count": 48,
     "metadata": {},
     "output_type": "execute_result"
    }
   ],
   "source": [
    "vaush_df.isnull().sum()"
   ]
  },
  {
   "cell_type": "markdown",
   "id": "493533ad-e133-4b60-ba1c-ffceb227a85f",
   "metadata": {},
   "source": [
    "## Export DF before any futher edits take place that where I might accidently destroy data"
   ]
  },
  {
   "cell_type": "code",
   "execution_count": 74,
   "id": "52de2603-98be-4a91-a244-b9bc0ac0ed4b",
   "metadata": {},
   "outputs": [],
   "source": [
    "vaush_df.to_csv('./data/vaush.csv')"
   ]
  },
  {
   "cell_type": "code",
   "execution_count": 9,
   "id": "4b92ee11-4f75-4a00-b9d3-0ca7aed566f7",
   "metadata": {},
   "outputs": [
    {
     "data": {
      "text/html": [
       "<div>\n",
       "<style scoped>\n",
       "    .dataframe tbody tr th:only-of-type {\n",
       "        vertical-align: middle;\n",
       "    }\n",
       "\n",
       "    .dataframe tbody tr th {\n",
       "        vertical-align: top;\n",
       "    }\n",
       "\n",
       "    .dataframe thead th {\n",
       "        text-align: right;\n",
       "    }\n",
       "</style>\n",
       "<table border=\"1\" class=\"dataframe\">\n",
       "  <thead>\n",
       "    <tr style=\"text-align: right;\">\n",
       "      <th></th>\n",
       "      <th>Unnamed: 0</th>\n",
       "      <th>subreddit</th>\n",
       "      <th>selftext</th>\n",
       "      <th>title</th>\n",
       "      <th>created_utc</th>\n",
       "      <th>full_text</th>\n",
       "    </tr>\n",
       "  </thead>\n",
       "  <tbody>\n",
       "    <tr>\n",
       "      <th>0</th>\n",
       "      <td>0</td>\n",
       "      <td>VaushV</td>\n",
       "      <td>Seems like every time he makes an argument he says \"there was a study, I forget... it found something like... I'll have to read up on it again.\" You know what D does this too. Can these streamers admit they don't have the time to learn things or are we supposed to believe they ACTUALLY read their sources cited. Or is this a rhetorical tactique?</td>\n",
       "      <td>Anyone Noticing Vaush's Memory Issues Lately?</td>\n",
       "      <td>1668472458</td>\n",
       "      <td>Anyone Noticing Vaush's Memory Issues Lately? Seems like every time he makes an argument he says \"there was a study, I forget... it found something like... I'll have to read up on it again.\" You know what D does this too. Can these streamers admit they don't have the time to learn things or are we supposed to believe they ACTUALLY read their sources cited. Or is this a rhetorical tactique?</td>\n",
       "    </tr>\n",
       "    <tr>\n",
       "      <th>1</th>\n",
       "      <td>1</td>\n",
       "      <td>VaushV</td>\n",
       "      <td>NaN</td>\n",
       "      <td>Would be a shame if this unofficial site received a lot of bad data</td>\n",
       "      <td>1668471465</td>\n",
       "      <td>Would be a shame if this unofficial site received a lot of bad data</td>\n",
       "    </tr>\n",
       "    <tr>\n",
       "      <th>2</th>\n",
       "      <td>2</td>\n",
       "      <td>VaushV</td>\n",
       "      <td>NaN</td>\n",
       "      <td>🏳️‍⚧️🏳️‍⚧️Trans colored boat at Disney World! Ron DeSantis would not approve.</td>\n",
       "      <td>1668471209</td>\n",
       "      <td>🏳️‍⚧️🏳️‍⚧️Trans colored boat at Disney World! Ron DeSantis would not approve.</td>\n",
       "    </tr>\n",
       "    <tr>\n",
       "      <th>3</th>\n",
       "      <td>3</td>\n",
       "      <td>VaushV</td>\n",
       "      <td>Personally, IDK. It just seems like too many people lol. \\n\\n[View Poll](https://www.reddit.com/poll/yvgwwx)</td>\n",
       "      <td>How do you feel about the global population reaching 8 billion?</td>\n",
       "      <td>1668470313</td>\n",
       "      <td>How do you feel about the global population reaching 8 billion? Personally, IDK. It just seems like too many people lol. \\n\\n[View Poll](https://www.reddit.com/poll/yvgwwx)</td>\n",
       "    </tr>\n",
       "    <tr>\n",
       "      <th>4</th>\n",
       "      <td>4</td>\n",
       "      <td>VaushV</td>\n",
       "      <td>Right now, if Trump and Biden went for a rematch, Biden would win\\n\\nBut if Trump gets arrested and is unable to secure the republican nomination, we KNOW Desantis is up next\\n\\nAnd Every(and I mean EVERY) poll shows Desantis beating Biden\\n\\nMe personally, I think Desantis is infinitely more dangerous than Trump \\n\\nSo what’s more important? Trump being held accountable or Stopping the rise o...</td>\n",
       "      <td>Hot take: Trump SHOULDN’T be arrested/indicted</td>\n",
       "      <td>1668468418</td>\n",
       "      <td>Hot take: Trump SHOULDN’T be arrested/indicted Right now, if Trump and Biden went for a rematch, Biden would win\\n\\nBut if Trump gets arrested and is unable to secure the republican nomination, we KNOW Desantis is up next\\n\\nAnd Every(and I mean EVERY) poll shows Desantis beating Biden\\n\\nMe personally, I think Desantis is infinitely more dangerous than Trump \\n\\nSo what’s more important? Trum...</td>\n",
       "    </tr>\n",
       "    <tr>\n",
       "      <th>...</th>\n",
       "      <td>...</td>\n",
       "      <td>...</td>\n",
       "      <td>...</td>\n",
       "      <td>...</td>\n",
       "      <td>...</td>\n",
       "      <td>...</td>\n",
       "    </tr>\n",
       "    <tr>\n",
       "      <th>4929</th>\n",
       "      <td>995</td>\n",
       "      <td>VaushV</td>\n",
       "      <td>NaN</td>\n",
       "      <td>most sane south park fan</td>\n",
       "      <td>1672530673</td>\n",
       "      <td>most sane south park fan</td>\n",
       "    </tr>\n",
       "    <tr>\n",
       "      <th>4930</th>\n",
       "      <td>996</td>\n",
       "      <td>VaushV</td>\n",
       "      <td>Someone posted a few days ago a poll asking what was the biggest political development of the year. The US election and roe v wade was posted but oddly the queen dying wasn't. There's a decent chance the commonwealth actually loses the majority of members (including maybe Australia and Canada) now and that the UK breaks up solely because Charles isn't as well liked as Elizabeth and now there's...</td>\n",
       "      <td>hot take: aside from Ukraine, the queen dying probably will have the biggest political impact of all developments to happen this year</td>\n",
       "      <td>1672529782</td>\n",
       "      <td>hot take: aside from Ukraine, the queen dying probably will have the biggest political impact of all developments to happen this year Someone posted a few days ago a poll asking what was the biggest political development of the year. The US election and roe v wade was posted but oddly the queen dying wasn't. There's a decent chance the commonwealth actually loses the majority of members (inclu...</td>\n",
       "    </tr>\n",
       "    <tr>\n",
       "      <th>4931</th>\n",
       "      <td>997</td>\n",
       "      <td>VaushV</td>\n",
       "      <td>NaN</td>\n",
       "      <td>So Pope Benedict XVI died, can we talk about why the man had such a massive knockoff ring? All the other popes rings are relatively regular sized.</td>\n",
       "      <td>1672527544</td>\n",
       "      <td>So Pope Benedict XVI died, can we talk about why the man had such a massive knockoff ring? All the other popes rings are relatively regular sized.</td>\n",
       "    </tr>\n",
       "    <tr>\n",
       "      <th>4932</th>\n",
       "      <td>998</td>\n",
       "      <td>VaushV</td>\n",
       "      <td>NaN</td>\n",
       "      <td>BreadPanes 162: \"Groomer's Dilemma\"</td>\n",
       "      <td>1672525401</td>\n",
       "      <td>BreadPanes 162: \"Groomer's Dilemma\"</td>\n",
       "    </tr>\n",
       "    <tr>\n",
       "      <th>4933</th>\n",
       "      <td>999</td>\n",
       "      <td>VaushV</td>\n",
       "      <td>The world would be better off if every person storming the capital had been shot by the police and secret service.</td>\n",
       "      <td>Jan 6th hot take</td>\n",
       "      <td>1672525309</td>\n",
       "      <td>Jan 6th hot take The world would be better off if every person storming the capital had been shot by the police and secret service.</td>\n",
       "    </tr>\n",
       "  </tbody>\n",
       "</table>\n",
       "<p>4934 rows × 6 columns</p>\n",
       "</div>"
      ],
      "text/plain": [
       "      Unnamed: 0 subreddit  \\\n",
       "0              0    VaushV   \n",
       "1              1    VaushV   \n",
       "2              2    VaushV   \n",
       "3              3    VaushV   \n",
       "4              4    VaushV   \n",
       "...          ...       ...   \n",
       "4929         995    VaushV   \n",
       "4930         996    VaushV   \n",
       "4931         997    VaushV   \n",
       "4932         998    VaushV   \n",
       "4933         999    VaushV   \n",
       "\n",
       "                                                                                                                                                                                                                                                                                                                                                                                                             selftext  \\\n",
       "0                                                          Seems like every time he makes an argument he says \"there was a study, I forget... it found something like... I'll have to read up on it again.\" You know what D does this too. Can these streamers admit they don't have the time to learn things or are we supposed to believe they ACTUALLY read their sources cited. Or is this a rhetorical tactique?   \n",
       "1                                                                                                                                                                                                                                                                                                                                                                                                                 NaN   \n",
       "2                                                                                                                                                                                                                                                                                                                                                                                                                 NaN   \n",
       "3                                                                                                                                                                                                                                                                                                        Personally, IDK. It just seems like too many people lol. \\n\\n[View Poll](https://www.reddit.com/poll/yvgwwx)   \n",
       "4     Right now, if Trump and Biden went for a rematch, Biden would win\\n\\nBut if Trump gets arrested and is unable to secure the republican nomination, we KNOW Desantis is up next\\n\\nAnd Every(and I mean EVERY) poll shows Desantis beating Biden\\n\\nMe personally, I think Desantis is infinitely more dangerous than Trump \\n\\nSo what’s more important? Trump being held accountable or Stopping the rise o...   \n",
       "...                                                                                                                                                                                                                                                                                                                                                                                                               ...   \n",
       "4929                                                                                                                                                                                                                                                                                                                                                                                                              NaN   \n",
       "4930  Someone posted a few days ago a poll asking what was the biggest political development of the year. The US election and roe v wade was posted but oddly the queen dying wasn't. There's a decent chance the commonwealth actually loses the majority of members (including maybe Australia and Canada) now and that the UK breaks up solely because Charles isn't as well liked as Elizabeth and now there's...   \n",
       "4931                                                                                                                                                                                                                                                                                                                                                                                                              NaN   \n",
       "4932                                                                                                                                                                                                                                                                                                                                                                                                              NaN   \n",
       "4933                                                                                                                                                                                                                                                                                               The world would be better off if every person storming the capital had been shot by the police and secret service.   \n",
       "\n",
       "                                                                                                                                                   title  \\\n",
       "0                                                                                                          Anyone Noticing Vaush's Memory Issues Lately?   \n",
       "1                                                                                    Would be a shame if this unofficial site received a lot of bad data   \n",
       "2                                                                          🏳️‍⚧️🏳️‍⚧️Trans colored boat at Disney World! Ron DeSantis would not approve.   \n",
       "3                                                                                        How do you feel about the global population reaching 8 billion?   \n",
       "4                                                                                                         Hot take: Trump SHOULDN’T be arrested/indicted   \n",
       "...                                                                                                                                                  ...   \n",
       "4929                                                                                                                            most sane south park fan   \n",
       "4930               hot take: aside from Ukraine, the queen dying probably will have the biggest political impact of all developments to happen this year   \n",
       "4931  So Pope Benedict XVI died, can we talk about why the man had such a massive knockoff ring? All the other popes rings are relatively regular sized.   \n",
       "4932                                                                                                                 BreadPanes 162: \"Groomer's Dilemma\"   \n",
       "4933                                                                                                                                    Jan 6th hot take   \n",
       "\n",
       "      created_utc  \\\n",
       "0      1668472458   \n",
       "1      1668471465   \n",
       "2      1668471209   \n",
       "3      1668470313   \n",
       "4      1668468418   \n",
       "...           ...   \n",
       "4929   1672530673   \n",
       "4930   1672529782   \n",
       "4931   1672527544   \n",
       "4932   1672525401   \n",
       "4933   1672525309   \n",
       "\n",
       "                                                                                                                                                                                                                                                                                                                                                                                                            full_text  \n",
       "0            Anyone Noticing Vaush's Memory Issues Lately? Seems like every time he makes an argument he says \"there was a study, I forget... it found something like... I'll have to read up on it again.\" You know what D does this too. Can these streamers admit they don't have the time to learn things or are we supposed to believe they ACTUALLY read their sources cited. Or is this a rhetorical tactique?  \n",
       "1                                                                                                                                                                                                                                                                                                                                                Would be a shame if this unofficial site received a lot of bad data   \n",
       "2                                                                                                                                                                                                                                                                                                                                      🏳️‍⚧️🏳️‍⚧️Trans colored boat at Disney World! Ron DeSantis would not approve.   \n",
       "3                                                                                                                                                                                                                                        How do you feel about the global population reaching 8 billion? Personally, IDK. It just seems like too many people lol. \\n\\n[View Poll](https://www.reddit.com/poll/yvgwwx)  \n",
       "4     Hot take: Trump SHOULDN’T be arrested/indicted Right now, if Trump and Biden went for a rematch, Biden would win\\n\\nBut if Trump gets arrested and is unable to secure the republican nomination, we KNOW Desantis is up next\\n\\nAnd Every(and I mean EVERY) poll shows Desantis beating Biden\\n\\nMe personally, I think Desantis is infinitely more dangerous than Trump \\n\\nSo what’s more important? Trum...  \n",
       "...                                                                                                                                                                                                                                                                                                                                                                                                               ...  \n",
       "4929                                                                                                                                                                                                                                                                                                                                                                                        most sane south park fan   \n",
       "4930  hot take: aside from Ukraine, the queen dying probably will have the biggest political impact of all developments to happen this year Someone posted a few days ago a poll asking what was the biggest political development of the year. The US election and roe v wade was posted but oddly the queen dying wasn't. There's a decent chance the commonwealth actually loses the majority of members (inclu...  \n",
       "4931                                                                                                                                                                                                                                                              So Pope Benedict XVI died, can we talk about why the man had such a massive knockoff ring? All the other popes rings are relatively regular sized.   \n",
       "4932                                                                                                                                                                                                                                                                                                                                                                             BreadPanes 162: \"Groomer's Dilemma\"   \n",
       "4933                                                                                                                                                                                                                                                                              Jan 6th hot take The world would be better off if every person storming the capital had been shot by the police and secret service.  \n",
       "\n",
       "[4934 rows x 6 columns]"
      ]
     },
     "execution_count": 9,
     "metadata": {},
     "output_type": "execute_result"
    }
   ],
   "source": [
    "vaush_df"
   ]
  },
  {
   "cell_type": "markdown",
   "id": "cc223017-f899-4087-bb39-c26998a39588",
   "metadata": {},
   "source": [
    "## Import regular expression to clean up links"
   ]
  },
  {
   "cell_type": "code",
   "execution_count": null,
   "id": "79bb92e8-6bf2-4611-abb4-a5494244476a",
   "metadata": {},
   "outputs": [],
   "source": []
  },
  {
   "cell_type": "code",
   "execution_count": 57,
   "id": "4c2c95af-4011-4409-a6a2-c6fdd87745ac",
   "metadata": {},
   "outputs": [],
   "source": [
    "import re\n",
    "\n",
    "pattern = re.compile('\\[(.*?)\\]\\(.*?\\)')\n"
   ]
  },
  {
   "cell_type": "code",
   "execution_count": 60,
   "id": "057431f5-5acd-4737-8587-5f392be7a34c",
   "metadata": {},
   "outputs": [
    {
     "data": {
      "text/html": [
       "<div>\n",
       "<style scoped>\n",
       "    .dataframe tbody tr th:only-of-type {\n",
       "        vertical-align: middle;\n",
       "    }\n",
       "\n",
       "    .dataframe tbody tr th {\n",
       "        vertical-align: top;\n",
       "    }\n",
       "\n",
       "    .dataframe thead th {\n",
       "        text-align: right;\n",
       "    }\n",
       "</style>\n",
       "<table border=\"1\" class=\"dataframe\">\n",
       "  <thead>\n",
       "    <tr style=\"text-align: right;\">\n",
       "      <th></th>\n",
       "      <th>Unnamed: 0</th>\n",
       "      <th>subreddit</th>\n",
       "      <th>selftext</th>\n",
       "      <th>title</th>\n",
       "      <th>created_utc</th>\n",
       "      <th>full_text</th>\n",
       "    </tr>\n",
       "  </thead>\n",
       "  <tbody>\n",
       "    <tr>\n",
       "      <th>0</th>\n",
       "      <td>0</td>\n",
       "      <td>VaushV</td>\n",
       "      <td>Seems like every time he makes an argument he says \"there was a study, I forget... it found something like... I'll have to read up on it again.\" You know what D does this too. Can these streamers admit they don't have the time to learn things or are we supposed to believe they ACTUALLY read their sources cited. Or is this a rhetorical tactique?</td>\n",
       "      <td>Anyone Noticing Vaush's Memory Issues Lately?</td>\n",
       "      <td>1668472458</td>\n",
       "      <td>Anyone Noticing Vaush's Memory Issues Lately? Seems like every time he makes an argument he says \"there was a study, I forget... it found something like... I'll have to read up on it again.\" You know what D does this too. Can these streamers admit they don't have the time to learn things or are we supposed to believe they ACTUALLY read their sources cited. Or is this a rhetorical tactique?</td>\n",
       "    </tr>\n",
       "    <tr>\n",
       "      <th>1</th>\n",
       "      <td>1</td>\n",
       "      <td>VaushV</td>\n",
       "      <td>NaN</td>\n",
       "      <td>Would be a shame if this unofficial site received a lot of bad data</td>\n",
       "      <td>1668471465</td>\n",
       "      <td>Would be a shame if this unofficial site received a lot of bad data</td>\n",
       "    </tr>\n",
       "    <tr>\n",
       "      <th>2</th>\n",
       "      <td>2</td>\n",
       "      <td>VaushV</td>\n",
       "      <td>NaN</td>\n",
       "      <td>🏳️‍⚧️🏳️‍⚧️Trans colored boat at Disney World! Ron DeSantis would not approve.</td>\n",
       "      <td>1668471209</td>\n",
       "      <td>🏳️‍⚧️🏳️‍⚧️Trans colored boat at Disney World! Ron DeSantis would not approve.</td>\n",
       "    </tr>\n",
       "    <tr>\n",
       "      <th>3</th>\n",
       "      <td>3</td>\n",
       "      <td>VaushV</td>\n",
       "      <td>Personally, IDK. It just seems like too many people lol. \\n\\n[View Poll](https://www.reddit.com/poll/yvgwwx)</td>\n",
       "      <td>How do you feel about the global population reaching 8 billion?</td>\n",
       "      <td>1668470313</td>\n",
       "      <td>How do you feel about the global population reaching 8 billion? Personally, IDK. It just seems like too many people lol. \\n\\n[View Poll](https://www.reddit.com/poll/yvgwwx)</td>\n",
       "    </tr>\n",
       "    <tr>\n",
       "      <th>4</th>\n",
       "      <td>4</td>\n",
       "      <td>VaushV</td>\n",
       "      <td>Right now, if Trump and Biden went for a rematch, Biden would win\\n\\nBut if Trump gets arrested and is unable to secure the republican nomination, we KNOW Desantis is up next\\n\\nAnd Every(and I mean EVERY) poll shows Desantis beating Biden\\n\\nMe personally, I think Desantis is infinitely more dangerous than Trump \\n\\nSo what’s more important? Trump being held accountable or Stopping the rise o...</td>\n",
       "      <td>Hot take: Trump SHOULDN’T be arrested/indicted</td>\n",
       "      <td>1668468418</td>\n",
       "      <td>Hot take: Trump SHOULDN’T be arrested/indicted Right now, if Trump and Biden went for a rematch, Biden would win\\n\\nBut if Trump gets arrested and is unable to secure the republican nomination, we KNOW Desantis is up next\\n\\nAnd Every(and I mean EVERY) poll shows Desantis beating Biden\\n\\nMe personally, I think Desantis is infinitely more dangerous than Trump \\n\\nSo what’s more important? Trum...</td>\n",
       "    </tr>\n",
       "    <tr>\n",
       "      <th>...</th>\n",
       "      <td>...</td>\n",
       "      <td>...</td>\n",
       "      <td>...</td>\n",
       "      <td>...</td>\n",
       "      <td>...</td>\n",
       "      <td>...</td>\n",
       "    </tr>\n",
       "    <tr>\n",
       "      <th>4929</th>\n",
       "      <td>995</td>\n",
       "      <td>VaushV</td>\n",
       "      <td>NaN</td>\n",
       "      <td>most sane south park fan</td>\n",
       "      <td>1672530673</td>\n",
       "      <td>most sane south park fan</td>\n",
       "    </tr>\n",
       "    <tr>\n",
       "      <th>4930</th>\n",
       "      <td>996</td>\n",
       "      <td>VaushV</td>\n",
       "      <td>Someone posted a few days ago a poll asking what was the biggest political development of the year. The US election and roe v wade was posted but oddly the queen dying wasn't. There's a decent chance the commonwealth actually loses the majority of members (including maybe Australia and Canada) now and that the UK breaks up solely because Charles isn't as well liked as Elizabeth and now there's...</td>\n",
       "      <td>hot take: aside from Ukraine, the queen dying probably will have the biggest political impact of all developments to happen this year</td>\n",
       "      <td>1672529782</td>\n",
       "      <td>hot take: aside from Ukraine, the queen dying probably will have the biggest political impact of all developments to happen this year Someone posted a few days ago a poll asking what was the biggest political development of the year. The US election and roe v wade was posted but oddly the queen dying wasn't. There's a decent chance the commonwealth actually loses the majority of members (inclu...</td>\n",
       "    </tr>\n",
       "    <tr>\n",
       "      <th>4931</th>\n",
       "      <td>997</td>\n",
       "      <td>VaushV</td>\n",
       "      <td>NaN</td>\n",
       "      <td>So Pope Benedict XVI died, can we talk about why the man had such a massive knockoff ring? All the other popes rings are relatively regular sized.</td>\n",
       "      <td>1672527544</td>\n",
       "      <td>So Pope Benedict XVI died, can we talk about why the man had such a massive knockoff ring? All the other popes rings are relatively regular sized.</td>\n",
       "    </tr>\n",
       "    <tr>\n",
       "      <th>4932</th>\n",
       "      <td>998</td>\n",
       "      <td>VaushV</td>\n",
       "      <td>NaN</td>\n",
       "      <td>BreadPanes 162: \"Groomer's Dilemma\"</td>\n",
       "      <td>1672525401</td>\n",
       "      <td>BreadPanes 162: \"Groomer's Dilemma\"</td>\n",
       "    </tr>\n",
       "    <tr>\n",
       "      <th>4933</th>\n",
       "      <td>999</td>\n",
       "      <td>VaushV</td>\n",
       "      <td>The world would be better off if every person storming the capital had been shot by the police and secret service.</td>\n",
       "      <td>Jan 6th hot take</td>\n",
       "      <td>1672525309</td>\n",
       "      <td>Jan 6th hot take The world would be better off if every person storming the capital had been shot by the police and secret service.</td>\n",
       "    </tr>\n",
       "  </tbody>\n",
       "</table>\n",
       "<p>4934 rows × 6 columns</p>\n",
       "</div>"
      ],
      "text/plain": [
       "      Unnamed: 0 subreddit  \\\n",
       "0              0    VaushV   \n",
       "1              1    VaushV   \n",
       "2              2    VaushV   \n",
       "3              3    VaushV   \n",
       "4              4    VaushV   \n",
       "...          ...       ...   \n",
       "4929         995    VaushV   \n",
       "4930         996    VaushV   \n",
       "4931         997    VaushV   \n",
       "4932         998    VaushV   \n",
       "4933         999    VaushV   \n",
       "\n",
       "                                                                                                                                                                                                                                                                                                                                                                                                             selftext  \\\n",
       "0                                                          Seems like every time he makes an argument he says \"there was a study, I forget... it found something like... I'll have to read up on it again.\" You know what D does this too. Can these streamers admit they don't have the time to learn things or are we supposed to believe they ACTUALLY read their sources cited. Or is this a rhetorical tactique?   \n",
       "1                                                                                                                                                                                                                                                                                                                                                                                                                 NaN   \n",
       "2                                                                                                                                                                                                                                                                                                                                                                                                                 NaN   \n",
       "3                                                                                                                                                                                                                                                                                                        Personally, IDK. It just seems like too many people lol. \\n\\n[View Poll](https://www.reddit.com/poll/yvgwwx)   \n",
       "4     Right now, if Trump and Biden went for a rematch, Biden would win\\n\\nBut if Trump gets arrested and is unable to secure the republican nomination, we KNOW Desantis is up next\\n\\nAnd Every(and I mean EVERY) poll shows Desantis beating Biden\\n\\nMe personally, I think Desantis is infinitely more dangerous than Trump \\n\\nSo what’s more important? Trump being held accountable or Stopping the rise o...   \n",
       "...                                                                                                                                                                                                                                                                                                                                                                                                               ...   \n",
       "4929                                                                                                                                                                                                                                                                                                                                                                                                              NaN   \n",
       "4930  Someone posted a few days ago a poll asking what was the biggest political development of the year. The US election and roe v wade was posted but oddly the queen dying wasn't. There's a decent chance the commonwealth actually loses the majority of members (including maybe Australia and Canada) now and that the UK breaks up solely because Charles isn't as well liked as Elizabeth and now there's...   \n",
       "4931                                                                                                                                                                                                                                                                                                                                                                                                              NaN   \n",
       "4932                                                                                                                                                                                                                                                                                                                                                                                                              NaN   \n",
       "4933                                                                                                                                                                                                                                                                                               The world would be better off if every person storming the capital had been shot by the police and secret service.   \n",
       "\n",
       "                                                                                                                                                   title  \\\n",
       "0                                                                                                          Anyone Noticing Vaush's Memory Issues Lately?   \n",
       "1                                                                                    Would be a shame if this unofficial site received a lot of bad data   \n",
       "2                                                                          🏳️‍⚧️🏳️‍⚧️Trans colored boat at Disney World! Ron DeSantis would not approve.   \n",
       "3                                                                                        How do you feel about the global population reaching 8 billion?   \n",
       "4                                                                                                         Hot take: Trump SHOULDN’T be arrested/indicted   \n",
       "...                                                                                                                                                  ...   \n",
       "4929                                                                                                                            most sane south park fan   \n",
       "4930               hot take: aside from Ukraine, the queen dying probably will have the biggest political impact of all developments to happen this year   \n",
       "4931  So Pope Benedict XVI died, can we talk about why the man had such a massive knockoff ring? All the other popes rings are relatively regular sized.   \n",
       "4932                                                                                                                 BreadPanes 162: \"Groomer's Dilemma\"   \n",
       "4933                                                                                                                                    Jan 6th hot take   \n",
       "\n",
       "      created_utc  \\\n",
       "0      1668472458   \n",
       "1      1668471465   \n",
       "2      1668471209   \n",
       "3      1668470313   \n",
       "4      1668468418   \n",
       "...           ...   \n",
       "4929   1672530673   \n",
       "4930   1672529782   \n",
       "4931   1672527544   \n",
       "4932   1672525401   \n",
       "4933   1672525309   \n",
       "\n",
       "                                                                                                                                                                                                                                                                                                                                                                                                            full_text  \n",
       "0            Anyone Noticing Vaush's Memory Issues Lately? Seems like every time he makes an argument he says \"there was a study, I forget... it found something like... I'll have to read up on it again.\" You know what D does this too. Can these streamers admit they don't have the time to learn things or are we supposed to believe they ACTUALLY read their sources cited. Or is this a rhetorical tactique?  \n",
       "1                                                                                                                                                                                                                                                                                                                                                Would be a shame if this unofficial site received a lot of bad data   \n",
       "2                                                                                                                                                                                                                                                                                                                                      🏳️‍⚧️🏳️‍⚧️Trans colored boat at Disney World! Ron DeSantis would not approve.   \n",
       "3                                                                                                                                                                                                                                        How do you feel about the global population reaching 8 billion? Personally, IDK. It just seems like too many people lol. \\n\\n[View Poll](https://www.reddit.com/poll/yvgwwx)  \n",
       "4     Hot take: Trump SHOULDN’T be arrested/indicted Right now, if Trump and Biden went for a rematch, Biden would win\\n\\nBut if Trump gets arrested and is unable to secure the republican nomination, we KNOW Desantis is up next\\n\\nAnd Every(and I mean EVERY) poll shows Desantis beating Biden\\n\\nMe personally, I think Desantis is infinitely more dangerous than Trump \\n\\nSo what’s more important? Trum...  \n",
       "...                                                                                                                                                                                                                                                                                                                                                                                                               ...  \n",
       "4929                                                                                                                                                                                                                                                                                                                                                                                        most sane south park fan   \n",
       "4930  hot take: aside from Ukraine, the queen dying probably will have the biggest political impact of all developments to happen this year Someone posted a few days ago a poll asking what was the biggest political development of the year. The US election and roe v wade was posted but oddly the queen dying wasn't. There's a decent chance the commonwealth actually loses the majority of members (inclu...  \n",
       "4931                                                                                                                                                                                                                                                              So Pope Benedict XVI died, can we talk about why the man had such a massive knockoff ring? All the other popes rings are relatively regular sized.   \n",
       "4932                                                                                                                                                                                                                                                                                                                                                                             BreadPanes 162: \"Groomer's Dilemma\"   \n",
       "4933                                                                                                                                                                                                                                                                              Jan 6th hot take The world would be better off if every person storming the capital had been shot by the police and secret service.  \n",
       "\n",
       "[4934 rows x 6 columns]"
      ]
     },
     "execution_count": 60,
     "metadata": {},
     "output_type": "execute_result"
    }
   ],
   "source": [
    "vaush_df"
   ]
  },
  {
   "cell_type": "markdown",
   "id": "985cb5f3-0129-4c30-8168-efc35242e5e4",
   "metadata": {},
   "source": [
    "## copy df to apply regex pattern "
   ]
  },
  {
   "cell_type": "code",
   "execution_count": 65,
   "id": "cf1fcaa4-3ec3-471f-8591-816cdfd7c863",
   "metadata": {},
   "outputs": [],
   "source": [
    "v_df = vaush_df.copy()\n",
    "v_df['no_links'] = vaush_df['full_text'].apply(lambda x: pattern.sub(r'\\1',str(x)))\n",
    "v_df['no_links_2'] = v_df['no_links'].replace(r'http\\S+', '', regex=True).replace(r'www\\S+', '', regex=True).replace(r'http:\\S+', '', regex=True).replace(r'&amp\\S+','', regex = True).replace(r'\\n','',regex = True).replace(r'\\[removed\\]','', regex=True).replace(r'\\[deleted\\]','', regex=True )"
   ]
  },
  {
   "cell_type": "code",
   "execution_count": 63,
   "id": "1dafbb4e-062b-46eb-80fb-7facda11bbe0",
   "metadata": {},
   "outputs": [
    {
     "data": {
      "text/html": [
       "<style>#sk-container-id-5 {color: black;background-color: white;}#sk-container-id-5 pre{padding: 0;}#sk-container-id-5 div.sk-toggleable {background-color: white;}#sk-container-id-5 label.sk-toggleable__label {cursor: pointer;display: block;width: 100%;margin-bottom: 0;padding: 0.3em;box-sizing: border-box;text-align: center;}#sk-container-id-5 label.sk-toggleable__label-arrow:before {content: \"▸\";float: left;margin-right: 0.25em;color: #696969;}#sk-container-id-5 label.sk-toggleable__label-arrow:hover:before {color: black;}#sk-container-id-5 div.sk-estimator:hover label.sk-toggleable__label-arrow:before {color: black;}#sk-container-id-5 div.sk-toggleable__content {max-height: 0;max-width: 0;overflow: hidden;text-align: left;background-color: #f0f8ff;}#sk-container-id-5 div.sk-toggleable__content pre {margin: 0.2em;color: black;border-radius: 0.25em;background-color: #f0f8ff;}#sk-container-id-5 input.sk-toggleable__control:checked~div.sk-toggleable__content {max-height: 200px;max-width: 100%;overflow: auto;}#sk-container-id-5 input.sk-toggleable__control:checked~label.sk-toggleable__label-arrow:before {content: \"▾\";}#sk-container-id-5 div.sk-estimator input.sk-toggleable__control:checked~label.sk-toggleable__label {background-color: #d4ebff;}#sk-container-id-5 div.sk-label input.sk-toggleable__control:checked~label.sk-toggleable__label {background-color: #d4ebff;}#sk-container-id-5 input.sk-hidden--visually {border: 0;clip: rect(1px 1px 1px 1px);clip: rect(1px, 1px, 1px, 1px);height: 1px;margin: -1px;overflow: hidden;padding: 0;position: absolute;width: 1px;}#sk-container-id-5 div.sk-estimator {font-family: monospace;background-color: #f0f8ff;border: 1px dotted black;border-radius: 0.25em;box-sizing: border-box;margin-bottom: 0.5em;}#sk-container-id-5 div.sk-estimator:hover {background-color: #d4ebff;}#sk-container-id-5 div.sk-parallel-item::after {content: \"\";width: 100%;border-bottom: 1px solid gray;flex-grow: 1;}#sk-container-id-5 div.sk-label:hover label.sk-toggleable__label {background-color: #d4ebff;}#sk-container-id-5 div.sk-serial::before {content: \"\";position: absolute;border-left: 1px solid gray;box-sizing: border-box;top: 0;bottom: 0;left: 50%;z-index: 0;}#sk-container-id-5 div.sk-serial {display: flex;flex-direction: column;align-items: center;background-color: white;padding-right: 0.2em;padding-left: 0.2em;position: relative;}#sk-container-id-5 div.sk-item {position: relative;z-index: 1;}#sk-container-id-5 div.sk-parallel {display: flex;align-items: stretch;justify-content: center;background-color: white;position: relative;}#sk-container-id-5 div.sk-item::before, #sk-container-id-5 div.sk-parallel-item::before {content: \"\";position: absolute;border-left: 1px solid gray;box-sizing: border-box;top: 0;bottom: 0;left: 50%;z-index: -1;}#sk-container-id-5 div.sk-parallel-item {display: flex;flex-direction: column;z-index: 1;position: relative;background-color: white;}#sk-container-id-5 div.sk-parallel-item:first-child::after {align-self: flex-end;width: 50%;}#sk-container-id-5 div.sk-parallel-item:last-child::after {align-self: flex-start;width: 50%;}#sk-container-id-5 div.sk-parallel-item:only-child::after {width: 0;}#sk-container-id-5 div.sk-dashed-wrapped {border: 1px dashed gray;margin: 0 0.4em 0.5em 0.4em;box-sizing: border-box;padding-bottom: 0.4em;background-color: white;}#sk-container-id-5 div.sk-label label {font-family: monospace;font-weight: bold;display: inline-block;line-height: 1.2em;}#sk-container-id-5 div.sk-label-container {text-align: center;}#sk-container-id-5 div.sk-container {/* jupyter's `normalize.less` sets `[hidden] { display: none; }` but bootstrap.min.css set `[hidden] { display: none !important; }` so we also need the `!important` here to be able to override the default hidden behavior on the sphinx rendered scikit-learn.org. See: https://github.com/scikit-learn/scikit-learn/issues/21755 */display: inline-block !important;position: relative;}#sk-container-id-5 div.sk-text-repr-fallback {display: none;}</style><div id=\"sk-container-id-5\" class=\"sk-top-container\"><div class=\"sk-text-repr-fallback\"><pre>CountVectorizer(ngram_range=(1, 5), stop_words=&#x27;english&#x27;)</pre><b>In a Jupyter environment, please rerun this cell to show the HTML representation or trust the notebook. <br />On GitHub, the HTML representation is unable to render, please try loading this page with nbviewer.org.</b></div><div class=\"sk-container\" hidden><div class=\"sk-item\"><div class=\"sk-estimator sk-toggleable\"><input class=\"sk-toggleable__control sk-hidden--visually\" id=\"sk-estimator-id-5\" type=\"checkbox\" checked><label for=\"sk-estimator-id-5\" class=\"sk-toggleable__label sk-toggleable__label-arrow\">CountVectorizer</label><div class=\"sk-toggleable__content\"><pre>CountVectorizer(ngram_range=(1, 5), stop_words=&#x27;english&#x27;)</pre></div></div></div></div></div>"
      ],
      "text/plain": [
       "CountVectorizer(ngram_range=(1, 5), stop_words='english')"
      ]
     },
     "execution_count": 63,
     "metadata": {},
     "output_type": "execute_result"
    }
   ],
   "source": [
    "cvec.fit(vaush_df_coopy['no_links_2'])"
   ]
  },
  {
   "cell_type": "code",
   "execution_count": 23,
   "id": "d2ad7fd3-c360-41c3-b9eb-7a9dd058ccb2",
   "metadata": {},
   "outputs": [],
   "source": [
    "vec_df = cvec.transform(vaush_df_coopy['no_links_2'])"
   ]
  },
  {
   "cell_type": "code",
   "execution_count": 24,
   "id": "61fe8921-2603-4668-93f0-24786f11d1d3",
   "metadata": {},
   "outputs": [],
   "source": [
    "vec_df = pd.DataFrame(vec_df.todense(), columns = cvec.get_feature_names_out())"
   ]
  },
  {
   "cell_type": "code",
   "execution_count": 25,
   "id": "f1002bb5-6974-4c98-8c3e-64151986fca2",
   "metadata": {},
   "outputs": [
    {
     "data": {
      "text/plain": [
       "people       1474\n",
       "like         1145\n",
       "just         1053\n",
       "vaush         981\n",
       "right         720\n",
       "think         717\n",
       "don           658\n",
       "men           485\n",
       "know          433\n",
       "left          424\n",
       "really        395\n",
       "time          377\n",
       "want          374\n",
       "good          366\n",
       "poll          346\n",
       "make          344\n",
       "view          311\n",
       "way           310\n",
       "twitter       309\n",
       "ve            303\n",
       "art           297\n",
       "say           290\n",
       "new           287\n",
       "does          283\n",
       "going         280\n",
       "view poll     275\n",
       "bad           269\n",
       "ai            262\n",
       "need          260\n",
       "feel          259\n",
       "actually      258\n",
       "said          252\n",
       "video         252\n",
       "trans         250\n",
       "did           247\n",
       "women         246\n",
       "lot           229\n",
       "anti          225\n",
       "things        223\n",
       "shit          211\n",
       "thing         211\n",
       "state         210\n",
       "doesn         205\n",
       "shoe          200\n",
       "isn           200\n",
       "trump         200\n",
       "person        200\n",
       "saying        198\n",
       "point         197\n",
       "wing          196\n",
       "dtype: int64"
      ]
     },
     "execution_count": 25,
     "metadata": {},
     "output_type": "execute_result"
    }
   ],
   "source": [
    "vec_df.sum().sort_values(ascending=False).head(50)"
   ]
  },
  {
   "cell_type": "code",
   "execution_count": 47,
   "id": "90101313-e934-467e-a843-70d6ee5df523",
   "metadata": {},
   "outputs": [
    {
     "data": {
      "text/plain": [
       "view poll                   275\n",
       "right wing                  155\n",
       "feel like                    97\n",
       "ai art                       90\n",
       "elon musk                    84\n",
       "don know                     83\n",
       "andrew tate                  82\n",
       "don think                    72\n",
       "far right                    69\n",
       "trans people                 67\n",
       "ve seen                      65\n",
       "young men                    53\n",
       "don want                     46\n",
       "white people                 43\n",
       "right wingers                40\n",
       "tim pool                     40\n",
       "free speech                  40\n",
       "people like                  39\n",
       "good faith                   39\n",
       "year old                     35\n",
       "looks like                   35\n",
       "don like                     35\n",
       "left wing                    34\n",
       "alt right                    33\n",
       "social media                 33\n",
       "poll poll                    31\n",
       "men issues                   31\n",
       "black people                 31\n",
       "climate change               30\n",
       "matt walsh                   30\n",
       "poll poll poll               29\n",
       "don care                     28\n",
       "jordan peterson              27\n",
       "poll poll poll poll          27\n",
       "lot people                   27\n",
       "united states                26\n",
       "like people                  26\n",
       "years ago                    25\n",
       "poll poll poll poll poll     25\n",
       "feels like                   25\n",
       "new york                     25\n",
       "guys think                   25\n",
       "supreme court                24\n",
       "like vaush                   24\n",
       "just like                    24\n",
       "think vaush                  24\n",
       "people just                  24\n",
       "mental health                24\n",
       "people removed               24\n",
       "don understand               23\n",
       "dtype: int64"
      ]
     },
     "execution_count": 47,
     "metadata": {},
     "output_type": "execute_result"
    }
   ],
   "source": []
  },
  {
   "cell_type": "code",
   "execution_count": null,
   "id": "51de1d6a-82e9-463b-a21a-d8d9d06ad3e7",
   "metadata": {},
   "outputs": [],
   "source": []
  },
  {
   "cell_type": "code",
   "execution_count": null,
   "id": "a4d64d6a-44be-417f-bee2-6ad97742a8a2",
   "metadata": {},
   "outputs": [],
   "source": []
  },
  {
   "cell_type": "code",
   "execution_count": null,
   "id": "43fa1930-a7a1-43fd-bb6f-2f0d997387b5",
   "metadata": {},
   "outputs": [],
   "source": []
  },
  {
   "cell_type": "code",
   "execution_count": null,
   "id": "bff35d56-51e1-4c22-9389-739dce62e094",
   "metadata": {},
   "outputs": [],
   "source": []
  },
  {
   "cell_type": "code",
   "execution_count": null,
   "id": "b5f17ec4-e3c8-44c7-bc5c-8158417d99d9",
   "metadata": {},
   "outputs": [],
   "source": []
  },
  {
   "cell_type": "code",
   "execution_count": null,
   "id": "03b84c1d-f2c5-4c8c-bedb-326d8d73892c",
   "metadata": {},
   "outputs": [],
   "source": []
  },
  {
   "cell_type": "code",
   "execution_count": 14,
   "id": "341590e8-3565-4e65-956e-945218c53db0",
   "metadata": {},
   "outputs": [],
   "source": [
    "vaush_df_coopy['no_links_2'] = vaush_df_coopy['no_links'].replace(r'http\\S+', '', regex=True).replace(r'www\\S+', '', regex=True).replace(r'http:\\S+', '', regex=True).replace(r'&amp\\S+','', regex = True)"
   ]
  },
  {
   "cell_type": "code",
   "execution_count": 49,
   "id": "179df014-cb19-4b62-9ed4-741fe03b48f3",
   "metadata": {},
   "outputs": [
    {
     "data": {
      "text/html": [
       "<div>\n",
       "<style scoped>\n",
       "    .dataframe tbody tr th:only-of-type {\n",
       "        vertical-align: middle;\n",
       "    }\n",
       "\n",
       "    .dataframe tbody tr th {\n",
       "        vertical-align: top;\n",
       "    }\n",
       "\n",
       "    .dataframe thead th {\n",
       "        text-align: right;\n",
       "    }\n",
       "</style>\n",
       "<table border=\"1\" class=\"dataframe\">\n",
       "  <thead>\n",
       "    <tr style=\"text-align: right;\">\n",
       "      <th></th>\n",
       "      <th>Unnamed: 0</th>\n",
       "      <th>subreddit</th>\n",
       "      <th>selftext</th>\n",
       "      <th>title</th>\n",
       "      <th>created_utc</th>\n",
       "      <th>full_text</th>\n",
       "      <th>no_links</th>\n",
       "      <th>no_links_2</th>\n",
       "    </tr>\n",
       "  </thead>\n",
       "  <tbody>\n",
       "    <tr>\n",
       "      <th>0</th>\n",
       "      <td>0</td>\n",
       "      <td>VaushV</td>\n",
       "      <td>Seems like every time he makes an argument he says \"there was a study, I forget... it found something like... I'll have to read up on it again.\" You know what D does this too. Can these streamers admit they don't have the time to learn things or are we supposed to believe they ACTUALLY read their sources cited. Or is this a rhetorical tactique?</td>\n",
       "      <td>Anyone Noticing Vaush's Memory Issues Lately?</td>\n",
       "      <td>1668472458</td>\n",
       "      <td>Anyone Noticing Vaush's Memory Issues Lately? Seems like every time he makes an argument he says \"there was a study, I forget... it found something like... I'll have to read up on it again.\" You know what D does this too. Can these streamers admit they don't have the time to learn things or are we supposed to believe they ACTUALLY read their sources cited. Or is this a rhetorical tactique?</td>\n",
       "      <td>Anyone Noticing Vaush's Memory Issues Lately? Seems like every time he makes an argument he says \"there was a study, I forget... it found something like... I'll have to read up on it again.\" You know what D does this too. Can these streamers admit they don't have the time to learn things or are we supposed to believe they ACTUALLY read their sources cited. Or is this a rhetorical tactique?</td>\n",
       "      <td>Anyone Noticing Vaush's Memory Issues Lately? Seems like every time he makes an argument he says \"there was a study, I forget... it found something like... I'll have to read up on it again.\" You know what D does this too. Can these streamers admit they don't have the time to learn things or are we supposed to believe they ACTUALLY read their sources cited. Or is this a rhetorical tactique?</td>\n",
       "    </tr>\n",
       "    <tr>\n",
       "      <th>1</th>\n",
       "      <td>1</td>\n",
       "      <td>VaushV</td>\n",
       "      <td>NaN</td>\n",
       "      <td>Would be a shame if this unofficial site received a lot of bad data</td>\n",
       "      <td>1668471465</td>\n",
       "      <td>Would be a shame if this unofficial site received a lot of bad data</td>\n",
       "      <td>Would be a shame if this unofficial site received a lot of bad data</td>\n",
       "      <td>Would be a shame if this unofficial site received a lot of bad data</td>\n",
       "    </tr>\n",
       "    <tr>\n",
       "      <th>2</th>\n",
       "      <td>2</td>\n",
       "      <td>VaushV</td>\n",
       "      <td>NaN</td>\n",
       "      <td>🏳️‍⚧️🏳️‍⚧️Trans colored boat at Disney World! Ron DeSantis would not approve.</td>\n",
       "      <td>1668471209</td>\n",
       "      <td>🏳️‍⚧️🏳️‍⚧️Trans colored boat at Disney World! Ron DeSantis would not approve.</td>\n",
       "      <td>🏳️‍⚧️🏳️‍⚧️Trans colored boat at Disney World! Ron DeSantis would not approve.</td>\n",
       "      <td>🏳️‍⚧️🏳️‍⚧️Trans colored boat at Disney World! Ron DeSantis would not approve.</td>\n",
       "    </tr>\n",
       "    <tr>\n",
       "      <th>3</th>\n",
       "      <td>3</td>\n",
       "      <td>VaushV</td>\n",
       "      <td>Personally, IDK. It just seems like too many people lol. \\n\\n[View Poll](https://www.reddit.com/poll/yvgwwx)</td>\n",
       "      <td>How do you feel about the global population reaching 8 billion?</td>\n",
       "      <td>1668470313</td>\n",
       "      <td>How do you feel about the global population reaching 8 billion? Personally, IDK. It just seems like too many people lol. \\n\\n[View Poll](https://www.reddit.com/poll/yvgwwx)</td>\n",
       "      <td>How do you feel about the global population reaching 8 billion? Personally, IDK. It just seems like too many people lol. \\n\\nView Poll</td>\n",
       "      <td>How do you feel about the global population reaching 8 billion? Personally, IDK. It just seems like too many people lol. \\n\\nView Poll</td>\n",
       "    </tr>\n",
       "    <tr>\n",
       "      <th>4</th>\n",
       "      <td>4</td>\n",
       "      <td>VaushV</td>\n",
       "      <td>Right now, if Trump and Biden went for a rematch, Biden would win\\n\\nBut if Trump gets arrested and is unable to secure the republican nomination, we KNOW Desantis is up next\\n\\nAnd Every(and I mean EVERY) poll shows Desantis beating Biden\\n\\nMe personally, I think Desantis is infinitely more dangerous than Trump \\n\\nSo what’s more important? Trump being held accountable or Stopping the rise o...</td>\n",
       "      <td>Hot take: Trump SHOULDN’T be arrested/indicted</td>\n",
       "      <td>1668468418</td>\n",
       "      <td>Hot take: Trump SHOULDN’T be arrested/indicted Right now, if Trump and Biden went for a rematch, Biden would win\\n\\nBut if Trump gets arrested and is unable to secure the republican nomination, we KNOW Desantis is up next\\n\\nAnd Every(and I mean EVERY) poll shows Desantis beating Biden\\n\\nMe personally, I think Desantis is infinitely more dangerous than Trump \\n\\nSo what’s more important? Trum...</td>\n",
       "      <td>Hot take: Trump SHOULDN’T be arrested/indicted Right now, if Trump and Biden went for a rematch, Biden would win\\n\\nBut if Trump gets arrested and is unable to secure the republican nomination, we KNOW Desantis is up next\\n\\nAnd Every(and I mean EVERY) poll shows Desantis beating Biden\\n\\nMe personally, I think Desantis is infinitely more dangerous than Trump \\n\\nSo what’s more important? Trum...</td>\n",
       "      <td>Hot take: Trump SHOULDN’T be arrested/indicted Right now, if Trump and Biden went for a rematch, Biden would win\\n\\nBut if Trump gets arrested and is unable to secure the republican nomination, we KNOW Desantis is up next\\n\\nAnd Every(and I mean EVERY) poll shows Desantis beating Biden\\n\\nMe personally, I think Desantis is infinitely more dangerous than Trump \\n\\nSo what’s more important? Trum...</td>\n",
       "    </tr>\n",
       "    <tr>\n",
       "      <th>...</th>\n",
       "      <td>...</td>\n",
       "      <td>...</td>\n",
       "      <td>...</td>\n",
       "      <td>...</td>\n",
       "      <td>...</td>\n",
       "      <td>...</td>\n",
       "      <td>...</td>\n",
       "      <td>...</td>\n",
       "    </tr>\n",
       "    <tr>\n",
       "      <th>4929</th>\n",
       "      <td>995</td>\n",
       "      <td>VaushV</td>\n",
       "      <td>NaN</td>\n",
       "      <td>most sane south park fan</td>\n",
       "      <td>1672530673</td>\n",
       "      <td>most sane south park fan</td>\n",
       "      <td>most sane south park fan</td>\n",
       "      <td>most sane south park fan</td>\n",
       "    </tr>\n",
       "    <tr>\n",
       "      <th>4930</th>\n",
       "      <td>996</td>\n",
       "      <td>VaushV</td>\n",
       "      <td>Someone posted a few days ago a poll asking what was the biggest political development of the year. The US election and roe v wade was posted but oddly the queen dying wasn't. There's a decent chance the commonwealth actually loses the majority of members (including maybe Australia and Canada) now and that the UK breaks up solely because Charles isn't as well liked as Elizabeth and now there's...</td>\n",
       "      <td>hot take: aside from Ukraine, the queen dying probably will have the biggest political impact of all developments to happen this year</td>\n",
       "      <td>1672529782</td>\n",
       "      <td>hot take: aside from Ukraine, the queen dying probably will have the biggest political impact of all developments to happen this year Someone posted a few days ago a poll asking what was the biggest political development of the year. The US election and roe v wade was posted but oddly the queen dying wasn't. There's a decent chance the commonwealth actually loses the majority of members (inclu...</td>\n",
       "      <td>hot take: aside from Ukraine, the queen dying probably will have the biggest political impact of all developments to happen this year Someone posted a few days ago a poll asking what was the biggest political development of the year. The US election and roe v wade was posted but oddly the queen dying wasn't. There's a decent chance the commonwealth actually loses the majority of members (inclu...</td>\n",
       "      <td>hot take: aside from Ukraine, the queen dying probably will have the biggest political impact of all developments to happen this year Someone posted a few days ago a poll asking what was the biggest political development of the year. The US election and roe v wade was posted but oddly the queen dying wasn't. There's a decent chance the commonwealth actually loses the majority of members (inclu...</td>\n",
       "    </tr>\n",
       "    <tr>\n",
       "      <th>4931</th>\n",
       "      <td>997</td>\n",
       "      <td>VaushV</td>\n",
       "      <td>NaN</td>\n",
       "      <td>So Pope Benedict XVI died, can we talk about why the man had such a massive knockoff ring? All the other popes rings are relatively regular sized.</td>\n",
       "      <td>1672527544</td>\n",
       "      <td>So Pope Benedict XVI died, can we talk about why the man had such a massive knockoff ring? All the other popes rings are relatively regular sized.</td>\n",
       "      <td>So Pope Benedict XVI died, can we talk about why the man had such a massive knockoff ring? All the other popes rings are relatively regular sized.</td>\n",
       "      <td>So Pope Benedict XVI died, can we talk about why the man had such a massive knockoff ring? All the other popes rings are relatively regular sized.</td>\n",
       "    </tr>\n",
       "    <tr>\n",
       "      <th>4932</th>\n",
       "      <td>998</td>\n",
       "      <td>VaushV</td>\n",
       "      <td>NaN</td>\n",
       "      <td>BreadPanes 162: \"Groomer's Dilemma\"</td>\n",
       "      <td>1672525401</td>\n",
       "      <td>BreadPanes 162: \"Groomer's Dilemma\"</td>\n",
       "      <td>BreadPanes 162: \"Groomer's Dilemma\"</td>\n",
       "      <td>BreadPanes 162: \"Groomer's Dilemma\"</td>\n",
       "    </tr>\n",
       "    <tr>\n",
       "      <th>4933</th>\n",
       "      <td>999</td>\n",
       "      <td>VaushV</td>\n",
       "      <td>The world would be better off if every person storming the capital had been shot by the police and secret service.</td>\n",
       "      <td>Jan 6th hot take</td>\n",
       "      <td>1672525309</td>\n",
       "      <td>Jan 6th hot take The world would be better off if every person storming the capital had been shot by the police and secret service.</td>\n",
       "      <td>Jan 6th hot take The world would be better off if every person storming the capital had been shot by the police and secret service.</td>\n",
       "      <td>Jan 6th hot take The world would be better off if every person storming the capital had been shot by the police and secret service.</td>\n",
       "    </tr>\n",
       "  </tbody>\n",
       "</table>\n",
       "<p>4934 rows × 8 columns</p>\n",
       "</div>"
      ],
      "text/plain": [
       "      Unnamed: 0 subreddit  \\\n",
       "0              0    VaushV   \n",
       "1              1    VaushV   \n",
       "2              2    VaushV   \n",
       "3              3    VaushV   \n",
       "4              4    VaushV   \n",
       "...          ...       ...   \n",
       "4929         995    VaushV   \n",
       "4930         996    VaushV   \n",
       "4931         997    VaushV   \n",
       "4932         998    VaushV   \n",
       "4933         999    VaushV   \n",
       "\n",
       "                                                                                                                                                                                                                                                                                                                                                                                                             selftext  \\\n",
       "0                                                          Seems like every time he makes an argument he says \"there was a study, I forget... it found something like... I'll have to read up on it again.\" You know what D does this too. Can these streamers admit they don't have the time to learn things or are we supposed to believe they ACTUALLY read their sources cited. Or is this a rhetorical tactique?   \n",
       "1                                                                                                                                                                                                                                                                                                                                                                                                                 NaN   \n",
       "2                                                                                                                                                                                                                                                                                                                                                                                                                 NaN   \n",
       "3                                                                                                                                                                                                                                                                                                        Personally, IDK. It just seems like too many people lol. \\n\\n[View Poll](https://www.reddit.com/poll/yvgwwx)   \n",
       "4     Right now, if Trump and Biden went for a rematch, Biden would win\\n\\nBut if Trump gets arrested and is unable to secure the republican nomination, we KNOW Desantis is up next\\n\\nAnd Every(and I mean EVERY) poll shows Desantis beating Biden\\n\\nMe personally, I think Desantis is infinitely more dangerous than Trump \\n\\nSo what’s more important? Trump being held accountable or Stopping the rise o...   \n",
       "...                                                                                                                                                                                                                                                                                                                                                                                                               ...   \n",
       "4929                                                                                                                                                                                                                                                                                                                                                                                                              NaN   \n",
       "4930  Someone posted a few days ago a poll asking what was the biggest political development of the year. The US election and roe v wade was posted but oddly the queen dying wasn't. There's a decent chance the commonwealth actually loses the majority of members (including maybe Australia and Canada) now and that the UK breaks up solely because Charles isn't as well liked as Elizabeth and now there's...   \n",
       "4931                                                                                                                                                                                                                                                                                                                                                                                                              NaN   \n",
       "4932                                                                                                                                                                                                                                                                                                                                                                                                              NaN   \n",
       "4933                                                                                                                                                                                                                                                                                               The world would be better off if every person storming the capital had been shot by the police and secret service.   \n",
       "\n",
       "                                                                                                                                                   title  \\\n",
       "0                                                                                                          Anyone Noticing Vaush's Memory Issues Lately?   \n",
       "1                                                                                    Would be a shame if this unofficial site received a lot of bad data   \n",
       "2                                                                          🏳️‍⚧️🏳️‍⚧️Trans colored boat at Disney World! Ron DeSantis would not approve.   \n",
       "3                                                                                        How do you feel about the global population reaching 8 billion?   \n",
       "4                                                                                                         Hot take: Trump SHOULDN’T be arrested/indicted   \n",
       "...                                                                                                                                                  ...   \n",
       "4929                                                                                                                            most sane south park fan   \n",
       "4930               hot take: aside from Ukraine, the queen dying probably will have the biggest political impact of all developments to happen this year   \n",
       "4931  So Pope Benedict XVI died, can we talk about why the man had such a massive knockoff ring? All the other popes rings are relatively regular sized.   \n",
       "4932                                                                                                                 BreadPanes 162: \"Groomer's Dilemma\"   \n",
       "4933                                                                                                                                    Jan 6th hot take   \n",
       "\n",
       "      created_utc  \\\n",
       "0      1668472458   \n",
       "1      1668471465   \n",
       "2      1668471209   \n",
       "3      1668470313   \n",
       "4      1668468418   \n",
       "...           ...   \n",
       "4929   1672530673   \n",
       "4930   1672529782   \n",
       "4931   1672527544   \n",
       "4932   1672525401   \n",
       "4933   1672525309   \n",
       "\n",
       "                                                                                                                                                                                                                                                                                                                                                                                                            full_text  \\\n",
       "0            Anyone Noticing Vaush's Memory Issues Lately? Seems like every time he makes an argument he says \"there was a study, I forget... it found something like... I'll have to read up on it again.\" You know what D does this too. Can these streamers admit they don't have the time to learn things or are we supposed to believe they ACTUALLY read their sources cited. Or is this a rhetorical tactique?   \n",
       "1                                                                                                                                                                                                                                                                                                                                                Would be a shame if this unofficial site received a lot of bad data    \n",
       "2                                                                                                                                                                                                                                                                                                                                      🏳️‍⚧️🏳️‍⚧️Trans colored boat at Disney World! Ron DeSantis would not approve.    \n",
       "3                                                                                                                                                                                                                                        How do you feel about the global population reaching 8 billion? Personally, IDK. It just seems like too many people lol. \\n\\n[View Poll](https://www.reddit.com/poll/yvgwwx)   \n",
       "4     Hot take: Trump SHOULDN’T be arrested/indicted Right now, if Trump and Biden went for a rematch, Biden would win\\n\\nBut if Trump gets arrested and is unable to secure the republican nomination, we KNOW Desantis is up next\\n\\nAnd Every(and I mean EVERY) poll shows Desantis beating Biden\\n\\nMe personally, I think Desantis is infinitely more dangerous than Trump \\n\\nSo what’s more important? Trum...   \n",
       "...                                                                                                                                                                                                                                                                                                                                                                                                               ...   \n",
       "4929                                                                                                                                                                                                                                                                                                                                                                                        most sane south park fan    \n",
       "4930  hot take: aside from Ukraine, the queen dying probably will have the biggest political impact of all developments to happen this year Someone posted a few days ago a poll asking what was the biggest political development of the year. The US election and roe v wade was posted but oddly the queen dying wasn't. There's a decent chance the commonwealth actually loses the majority of members (inclu...   \n",
       "4931                                                                                                                                                                                                                                                              So Pope Benedict XVI died, can we talk about why the man had such a massive knockoff ring? All the other popes rings are relatively regular sized.    \n",
       "4932                                                                                                                                                                                                                                                                                                                                                                             BreadPanes 162: \"Groomer's Dilemma\"    \n",
       "4933                                                                                                                                                                                                                                                                              Jan 6th hot take The world would be better off if every person storming the capital had been shot by the police and secret service.   \n",
       "\n",
       "                                                                                                                                                                                                                                                                                                                                                                                                             no_links  \\\n",
       "0            Anyone Noticing Vaush's Memory Issues Lately? Seems like every time he makes an argument he says \"there was a study, I forget... it found something like... I'll have to read up on it again.\" You know what D does this too. Can these streamers admit they don't have the time to learn things or are we supposed to believe they ACTUALLY read their sources cited. Or is this a rhetorical tactique?   \n",
       "1                                                                                                                                                                                                                                                                                                                                                Would be a shame if this unofficial site received a lot of bad data    \n",
       "2                                                                                                                                                                                                                                                                                                                                      🏳️‍⚧️🏳️‍⚧️Trans colored boat at Disney World! Ron DeSantis would not approve.    \n",
       "3                                                                                                                                                                                                                                                                              How do you feel about the global population reaching 8 billion? Personally, IDK. It just seems like too many people lol. \\n\\nView Poll   \n",
       "4     Hot take: Trump SHOULDN’T be arrested/indicted Right now, if Trump and Biden went for a rematch, Biden would win\\n\\nBut if Trump gets arrested and is unable to secure the republican nomination, we KNOW Desantis is up next\\n\\nAnd Every(and I mean EVERY) poll shows Desantis beating Biden\\n\\nMe personally, I think Desantis is infinitely more dangerous than Trump \\n\\nSo what’s more important? Trum...   \n",
       "...                                                                                                                                                                                                                                                                                                                                                                                                               ...   \n",
       "4929                                                                                                                                                                                                                                                                                                                                                                                        most sane south park fan    \n",
       "4930  hot take: aside from Ukraine, the queen dying probably will have the biggest political impact of all developments to happen this year Someone posted a few days ago a poll asking what was the biggest political development of the year. The US election and roe v wade was posted but oddly the queen dying wasn't. There's a decent chance the commonwealth actually loses the majority of members (inclu...   \n",
       "4931                                                                                                                                                                                                                                                              So Pope Benedict XVI died, can we talk about why the man had such a massive knockoff ring? All the other popes rings are relatively regular sized.    \n",
       "4932                                                                                                                                                                                                                                                                                                                                                                             BreadPanes 162: \"Groomer's Dilemma\"    \n",
       "4933                                                                                                                                                                                                                                                                              Jan 6th hot take The world would be better off if every person storming the capital had been shot by the police and secret service.   \n",
       "\n",
       "                                                                                                                                                                                                                                                                                                                                                                                                           no_links_2  \n",
       "0            Anyone Noticing Vaush's Memory Issues Lately? Seems like every time he makes an argument he says \"there was a study, I forget... it found something like... I'll have to read up on it again.\" You know what D does this too. Can these streamers admit they don't have the time to learn things or are we supposed to believe they ACTUALLY read their sources cited. Or is this a rhetorical tactique?  \n",
       "1                                                                                                                                                                                                                                                                                                                                                Would be a shame if this unofficial site received a lot of bad data   \n",
       "2                                                                                                                                                                                                                                                                                                                                      🏳️‍⚧️🏳️‍⚧️Trans colored boat at Disney World! Ron DeSantis would not approve.   \n",
       "3                                                                                                                                                                                                                                                                              How do you feel about the global population reaching 8 billion? Personally, IDK. It just seems like too many people lol. \\n\\nView Poll  \n",
       "4     Hot take: Trump SHOULDN’T be arrested/indicted Right now, if Trump and Biden went for a rematch, Biden would win\\n\\nBut if Trump gets arrested and is unable to secure the republican nomination, we KNOW Desantis is up next\\n\\nAnd Every(and I mean EVERY) poll shows Desantis beating Biden\\n\\nMe personally, I think Desantis is infinitely more dangerous than Trump \\n\\nSo what’s more important? Trum...  \n",
       "...                                                                                                                                                                                                                                                                                                                                                                                                               ...  \n",
       "4929                                                                                                                                                                                                                                                                                                                                                                                        most sane south park fan   \n",
       "4930  hot take: aside from Ukraine, the queen dying probably will have the biggest political impact of all developments to happen this year Someone posted a few days ago a poll asking what was the biggest political development of the year. The US election and roe v wade was posted but oddly the queen dying wasn't. There's a decent chance the commonwealth actually loses the majority of members (inclu...  \n",
       "4931                                                                                                                                                                                                                                                              So Pope Benedict XVI died, can we talk about why the man had such a massive knockoff ring? All the other popes rings are relatively regular sized.   \n",
       "4932                                                                                                                                                                                                                                                                                                                                                                             BreadPanes 162: \"Groomer's Dilemma\"   \n",
       "4933                                                                                                                                                                                                                                                                              Jan 6th hot take The world would be better off if every person storming the capital had been shot by the police and secret service.  \n",
       "\n",
       "[4934 rows x 8 columns]"
      ]
     },
     "execution_count": 49,
     "metadata": {},
     "output_type": "execute_result"
    }
   ],
   "source": [
    "vaush_df_coopy"
   ]
  },
  {
   "cell_type": "code",
   "execution_count": 27,
   "id": "501b6b8c-5082-4545-96d6-eeac3fd9a4b9",
   "metadata": {},
   "outputs": [],
   "source": [
    "v_df = vaush_df_coopy.copy()"
   ]
  },
  {
   "cell_type": "markdown",
   "id": "33f4a750-25c0-4a64-9e7e-ab1a18c63673",
   "metadata": {},
   "source": [
    "# Check word count and post length"
   ]
  },
  {
   "cell_type": "code",
   "execution_count": 66,
   "id": "2c19633a-c206-4c23-a9cd-6b7d3aedaa76",
   "metadata": {},
   "outputs": [],
   "source": [
    "v_df['post_length']= v_df[\"no_links_2\"].str.len()"
   ]
  },
  {
   "cell_type": "code",
   "execution_count": 67,
   "id": "f34186c2-0cb1-42b6-9a7e-9f695b839ea7",
   "metadata": {},
   "outputs": [],
   "source": [
    "v_df['post_word_count'] = v_df['no_links_2'].str.split().str.len()"
   ]
  },
  {
   "cell_type": "code",
   "execution_count": 68,
   "id": "1104ca1e-05ae-4b33-99cb-e7b5acb38678",
   "metadata": {},
   "outputs": [],
   "source": [
    "v_df.drop(columns = ['selftext','title','created_utc','full_text','no_links','Unnamed: 0'],inplace = True)"
   ]
  },
  {
   "cell_type": "markdown",
   "id": "d9b02a6b-8f20-4249-b785-8bc51d0158d5",
   "metadata": {},
   "source": [
    "# Sentiment Analysis "
   ]
  },
  {
   "cell_type": "code",
   "execution_count": 69,
   "id": "558af451-be98-49a3-82a9-6e93eea0d600",
   "metadata": {},
   "outputs": [],
   "source": [
    "analyzer = SentimentIntensityAnalyzer()\n",
    "v_df['compound'] = [analyzer.polarity_scores(x)['compound'] for x in v_df['no_links_2']]\n",
    "v_df['neg'] = [analyzer.polarity_scores(x)['neg'] for x in v_df['no_links_2']]\n",
    "v_df['neu'] = [analyzer.polarity_scores(x)['neu'] for x in v_df['no_links_2']]\n",
    "v_df['pos'] = [analyzer.polarity_scores(x)['pos'] for x in v_df['no_links_2']]\n",
    "#plagiarized from\n",
    "#https://stackoverflow.com/questions/61608057/output-vader-sentiment-scores-in-columns-based-on-dataframe-rows-of-tweets"
   ]
  },
  {
   "cell_type": "code",
   "execution_count": 70,
   "id": "8d2b81b6-a0a3-4837-abd6-8a163a3efd1e",
   "metadata": {},
   "outputs": [
    {
     "data": {
      "text/html": [
       "<div>\n",
       "<style scoped>\n",
       "    .dataframe tbody tr th:only-of-type {\n",
       "        vertical-align: middle;\n",
       "    }\n",
       "\n",
       "    .dataframe tbody tr th {\n",
       "        vertical-align: top;\n",
       "    }\n",
       "\n",
       "    .dataframe thead th {\n",
       "        text-align: right;\n",
       "    }\n",
       "</style>\n",
       "<table border=\"1\" class=\"dataframe\">\n",
       "  <thead>\n",
       "    <tr style=\"text-align: right;\">\n",
       "      <th></th>\n",
       "      <th>subreddit</th>\n",
       "      <th>no_links_2</th>\n",
       "      <th>post_length</th>\n",
       "      <th>post_word_count</th>\n",
       "      <th>compound</th>\n",
       "      <th>neg</th>\n",
       "      <th>neu</th>\n",
       "      <th>pos</th>\n",
       "    </tr>\n",
       "  </thead>\n",
       "  <tbody>\n",
       "    <tr>\n",
       "      <th>0</th>\n",
       "      <td>VaushV</td>\n",
       "      <td>Anyone Noticing Vaush's Memory Issues Lately? Seems like every time he makes an argument he says \"there was a study, I forget... it found something like... I'll have to read up on it again.\" You know what D does this too. Can these streamers admit they don't have the time to learn things or are we supposed to believe they ACTUALLY read their sources cited. Or is this a rhetorical tactique?</td>\n",
       "      <td>392</td>\n",
       "      <td>71</td>\n",
       "      <td>0.2869</td>\n",
       "      <td>0.035</td>\n",
       "      <td>0.899</td>\n",
       "      <td>0.065</td>\n",
       "    </tr>\n",
       "    <tr>\n",
       "      <th>1</th>\n",
       "      <td>VaushV</td>\n",
       "      <td>Would be a shame if this unofficial site received a lot of bad data</td>\n",
       "      <td>68</td>\n",
       "      <td>14</td>\n",
       "      <td>-0.7650</td>\n",
       "      <td>0.398</td>\n",
       "      <td>0.602</td>\n",
       "      <td>0.000</td>\n",
       "    </tr>\n",
       "    <tr>\n",
       "      <th>2</th>\n",
       "      <td>VaushV</td>\n",
       "      <td>🏳️‍⚧️🏳️‍⚧️Trans colored boat at Disney World! Ron DeSantis would not approve.</td>\n",
       "      <td>78</td>\n",
       "      <td>11</td>\n",
       "      <td>0.0000</td>\n",
       "      <td>0.000</td>\n",
       "      <td>1.000</td>\n",
       "      <td>0.000</td>\n",
       "    </tr>\n",
       "    <tr>\n",
       "      <th>3</th>\n",
       "      <td>VaushV</td>\n",
       "      <td>How do you feel about the global population reaching 8 billion? Personally, IDK. It just seems like too many people lol. View Poll</td>\n",
       "      <td>130</td>\n",
       "      <td>23</td>\n",
       "      <td>0.6081</td>\n",
       "      <td>0.078</td>\n",
       "      <td>0.661</td>\n",
       "      <td>0.261</td>\n",
       "    </tr>\n",
       "    <tr>\n",
       "      <th>4</th>\n",
       "      <td>VaushV</td>\n",
       "      <td>Hot take: Trump SHOULDN’T be arrested/indicted Right now, if Trump and Biden went for a rematch, Biden would winBut if Trump gets arrested and is unable to secure the republican nomination, we KNOW Desantis is up nextAnd Every(and I mean EVERY) poll shows Desantis beating BidenMe personally, I think Desantis is infinitely more dangerous than Trump So what’s more important? Trump being held acc...</td>\n",
       "      <td>443</td>\n",
       "      <td>71</td>\n",
       "      <td>-0.7458</td>\n",
       "      <td>0.142</td>\n",
       "      <td>0.796</td>\n",
       "      <td>0.061</td>\n",
       "    </tr>\n",
       "    <tr>\n",
       "      <th>...</th>\n",
       "      <td>...</td>\n",
       "      <td>...</td>\n",
       "      <td>...</td>\n",
       "      <td>...</td>\n",
       "      <td>...</td>\n",
       "      <td>...</td>\n",
       "      <td>...</td>\n",
       "      <td>...</td>\n",
       "    </tr>\n",
       "    <tr>\n",
       "      <th>4929</th>\n",
       "      <td>VaushV</td>\n",
       "      <td>most sane south park fan</td>\n",
       "      <td>25</td>\n",
       "      <td>5</td>\n",
       "      <td>0.3182</td>\n",
       "      <td>0.000</td>\n",
       "      <td>0.635</td>\n",
       "      <td>0.365</td>\n",
       "    </tr>\n",
       "    <tr>\n",
       "      <th>4930</th>\n",
       "      <td>VaushV</td>\n",
       "      <td>hot take: aside from Ukraine, the queen dying probably will have the biggest political impact of all developments to happen this year Someone posted a few days ago a poll asking what was the biggest political development of the year. The US election and roe v wade was posted but oddly the queen dying wasn't. There's a decent chance the commonwealth actually loses the majority of members (inclu...</td>\n",
       "      <td>570</td>\n",
       "      <td>98</td>\n",
       "      <td>-0.6787</td>\n",
       "      <td>0.101</td>\n",
       "      <td>0.863</td>\n",
       "      <td>0.036</td>\n",
       "    </tr>\n",
       "    <tr>\n",
       "      <th>4931</th>\n",
       "      <td>VaushV</td>\n",
       "      <td>So Pope Benedict XVI died, can we talk about why the man had such a massive knockoff ring? All the other popes rings are relatively regular sized.</td>\n",
       "      <td>147</td>\n",
       "      <td>27</td>\n",
       "      <td>-0.5574</td>\n",
       "      <td>0.126</td>\n",
       "      <td>0.874</td>\n",
       "      <td>0.000</td>\n",
       "    </tr>\n",
       "    <tr>\n",
       "      <th>4932</th>\n",
       "      <td>VaushV</td>\n",
       "      <td>BreadPanes 162: \"Groomer's Dilemma\"</td>\n",
       "      <td>36</td>\n",
       "      <td>4</td>\n",
       "      <td>-0.1779</td>\n",
       "      <td>0.362</td>\n",
       "      <td>0.638</td>\n",
       "      <td>0.000</td>\n",
       "    </tr>\n",
       "    <tr>\n",
       "      <th>4933</th>\n",
       "      <td>VaushV</td>\n",
       "      <td>Jan 6th hot take The world would be better off if every person storming the capital had been shot by the police and secret service.</td>\n",
       "      <td>131</td>\n",
       "      <td>25</td>\n",
       "      <td>0.4404</td>\n",
       "      <td>0.000</td>\n",
       "      <td>0.892</td>\n",
       "      <td>0.108</td>\n",
       "    </tr>\n",
       "  </tbody>\n",
       "</table>\n",
       "<p>4934 rows × 8 columns</p>\n",
       "</div>"
      ],
      "text/plain": [
       "     subreddit  \\\n",
       "0       VaushV   \n",
       "1       VaushV   \n",
       "2       VaushV   \n",
       "3       VaushV   \n",
       "4       VaushV   \n",
       "...        ...   \n",
       "4929    VaushV   \n",
       "4930    VaushV   \n",
       "4931    VaushV   \n",
       "4932    VaushV   \n",
       "4933    VaushV   \n",
       "\n",
       "                                                                                                                                                                                                                                                                                                                                                                                                           no_links_2  \\\n",
       "0            Anyone Noticing Vaush's Memory Issues Lately? Seems like every time he makes an argument he says \"there was a study, I forget... it found something like... I'll have to read up on it again.\" You know what D does this too. Can these streamers admit they don't have the time to learn things or are we supposed to believe they ACTUALLY read their sources cited. Or is this a rhetorical tactique?   \n",
       "1                                                                                                                                                                                                                                                                                                                                                Would be a shame if this unofficial site received a lot of bad data    \n",
       "2                                                                                                                                                                                                                                                                                                                                      🏳️‍⚧️🏳️‍⚧️Trans colored boat at Disney World! Ron DeSantis would not approve.    \n",
       "3                                                                                                                                                                                                                                                                                  How do you feel about the global population reaching 8 billion? Personally, IDK. It just seems like too many people lol. View Poll   \n",
       "4     Hot take: Trump SHOULDN’T be arrested/indicted Right now, if Trump and Biden went for a rematch, Biden would winBut if Trump gets arrested and is unable to secure the republican nomination, we KNOW Desantis is up nextAnd Every(and I mean EVERY) poll shows Desantis beating BidenMe personally, I think Desantis is infinitely more dangerous than Trump So what’s more important? Trump being held acc...   \n",
       "...                                                                                                                                                                                                                                                                                                                                                                                                               ...   \n",
       "4929                                                                                                                                                                                                                                                                                                                                                                                        most sane south park fan    \n",
       "4930  hot take: aside from Ukraine, the queen dying probably will have the biggest political impact of all developments to happen this year Someone posted a few days ago a poll asking what was the biggest political development of the year. The US election and roe v wade was posted but oddly the queen dying wasn't. There's a decent chance the commonwealth actually loses the majority of members (inclu...   \n",
       "4931                                                                                                                                                                                                                                                              So Pope Benedict XVI died, can we talk about why the man had such a massive knockoff ring? All the other popes rings are relatively regular sized.    \n",
       "4932                                                                                                                                                                                                                                                                                                                                                                             BreadPanes 162: \"Groomer's Dilemma\"    \n",
       "4933                                                                                                                                                                                                                                                                              Jan 6th hot take The world would be better off if every person storming the capital had been shot by the police and secret service.   \n",
       "\n",
       "      post_length  post_word_count  compound    neg    neu    pos  \n",
       "0             392               71    0.2869  0.035  0.899  0.065  \n",
       "1              68               14   -0.7650  0.398  0.602  0.000  \n",
       "2              78               11    0.0000  0.000  1.000  0.000  \n",
       "3             130               23    0.6081  0.078  0.661  0.261  \n",
       "4             443               71   -0.7458  0.142  0.796  0.061  \n",
       "...           ...              ...       ...    ...    ...    ...  \n",
       "4929           25                5    0.3182  0.000  0.635  0.365  \n",
       "4930          570               98   -0.6787  0.101  0.863  0.036  \n",
       "4931          147               27   -0.5574  0.126  0.874  0.000  \n",
       "4932           36                4   -0.1779  0.362  0.638  0.000  \n",
       "4933          131               25    0.4404  0.000  0.892  0.108  \n",
       "\n",
       "[4934 rows x 8 columns]"
      ]
     },
     "execution_count": 70,
     "metadata": {},
     "output_type": "execute_result"
    }
   ],
   "source": [
    "v_df"
   ]
  },
  {
   "cell_type": "code",
   "execution_count": 71,
   "id": "719ffd13-a32e-437d-9b21-a23cff21438b",
   "metadata": {},
   "outputs": [],
   "source": [
    "v_df.to_csv('./data/vwsent.csv')"
   ]
  },
  {
   "cell_type": "markdown",
   "id": "7af8ec43-bc51-4490-8cda-c2993c07b83a",
   "metadata": {},
   "source": [
    "# Compare Sentiment Analysis"
   ]
  },
  {
   "cell_type": "code",
   "execution_count": 72,
   "id": "2cc3b38a-1b1a-4628-953d-a739b917964e",
   "metadata": {},
   "outputs": [
    {
     "name": "stdout",
     "output_type": "stream",
     "text": [
      "compound     -77.9468\n",
      "neg          509.2380\n",
      "neu         3915.6760\n",
      "pos          494.0920\n",
      "dtype: float64\n"
     ]
    },
    {
     "data": {
      "text/plain": [
       "Text(0.5, 1.0, 'Sum Of Vaush Sentiment Analysis Scores')"
      ]
     },
     "execution_count": 72,
     "metadata": {},
     "output_type": "execute_result"
    },
    {
     "data": {
      "image/png": "[encoded data removed]",
      "text/plain": [
       "<Figure size 640x480 with 1 Axes>"
      ]
     },
     "metadata": {},
     "output_type": "display_data"
    }
   ],
   "source": [
    "aux = np.sum(v_df[['compound','neg','neu','pos']], axis=0)\n",
    "print(aux)\n",
    "plt.bar(np.arange(4), aux)\n",
    "plt.xticks(np.arange(4), ['compound','negative','neutral','positive']);\n",
    "plt.ylabel('Sum of Scores')\n",
    "plt.title('Sum Of Vaush Sentiment Analysis Scores')"
   ]
  },
  {
   "cell_type": "markdown",
   "id": "992fe922-874a-4cd6-95a9-7d0f40cfbca2",
   "metadata": {},
   "source": [
    "# Compare Word Count\n"
   ]
  },
  {
   "cell_type": "code",
   "execution_count": 102,
   "id": "a145b119-e892-481c-bb00-9413bf9793cd",
   "metadata": {},
   "outputs": [
    {
     "data": {
      "text/plain": [
       "<AxesSubplot:xlabel='post_word_count', ylabel='Count'>"
      ]
     },
     "execution_count": 102,
     "metadata": {},
     "output_type": "execute_result"
    },
    {
     "data": {
      "image/png": "[encoded data removed]",
      "text/plain": [
       "<Figure size 1600x600 with 2 Axes>"
      ]
     },
     "metadata": {},
     "output_type": "display_data"
    }
   ],
   "source": [
    "fig,ax = plt.subplots(1,2, figsize=(16,6))\n",
    "\n",
    "sns.histplot(v_df['post_length'],ax=ax[0],bins=50)\n",
    "sns.histplot(v_df['post_word_count'],ax=ax[1],bins=50)\n"
   ]
  },
  {
   "cell_type": "code",
   "execution_count": 74,
   "id": "da73584d-01d0-4d36-84ba-a55dd07a5fc7",
   "metadata": {},
   "outputs": [
    {
     "name": "stdout",
     "output_type": "stream",
     "text": [
      "post_length        1378226\n",
      "post_word_count     237145\n",
      "dtype: int64\n"
     ]
    },
    {
     "data": {
      "text/plain": [
       "Text(0.5, 1.0, 'Sum Of Vaush Word Counts and Post Lengths')"
      ]
     },
     "execution_count": 74,
     "metadata": {},
     "output_type": "execute_result"
    },
    {
     "data": {
      "image/png": "[encoded data removed]",
      "text/plain": [
       "<Figure size 640x480 with 1 Axes>"
      ]
     },
     "metadata": {},
     "output_type": "display_data"
    }
   ],
   "source": [
    "aux = np.sum(v_df[['post_length','post_word_count']], axis=0)\n",
    "print(aux)\n",
    "plt.bar(np.arange(2), aux)\n",
    "plt.xticks(np.arange(2), ['post_length','post_word_count']);\n",
    "plt.ylabel('Sum of Scores')\n",
    "plt.title('Sum Of Vaush Word Counts and Post Lengths')"
   ]
  },
  {
   "cell_type": "code",
   "execution_count": 106,
   "id": "d68db150-7864-410f-9abf-a6325dca471e",
   "metadata": {},
   "outputs": [
    {
     "data": {
      "text/plain": [
       "15881"
      ]
     },
     "execution_count": 106,
     "metadata": {},
     "output_type": "execute_result"
    }
   ],
   "source": [
    "v_df['post_length'].max()"
   ]
  },
  {
   "cell_type": "code",
   "execution_count": 107,
   "id": "4655d0c9-dffd-4a54-9914-c66fdddcda3e",
   "metadata": {},
   "outputs": [
    {
     "data": {
      "text/plain": [
       "2598"
      ]
     },
     "execution_count": 107,
     "metadata": {},
     "output_type": "execute_result"
    }
   ],
   "source": [
    "v_df['post_word_count'].max()"
   ]
  },
  {
   "cell_type": "code",
   "execution_count": 75,
   "id": "70c2f9fb-9cf1-4d50-b771-e64b333a0c13",
   "metadata": {},
   "outputs": [
    {
     "data": {
      "text/plain": [
       "279.33238751520065"
      ]
     },
     "execution_count": 75,
     "metadata": {},
     "output_type": "execute_result"
    }
   ],
   "source": [
    "v_df['post_length'].mean()"
   ]
  },
  {
   "cell_type": "code",
   "execution_count": 104,
   "id": "12392827-882e-4e25-a8e5-68b26d282a91",
   "metadata": {},
   "outputs": [
    {
     "data": {
      "text/plain": [
       "75.0"
      ]
     },
     "execution_count": 104,
     "metadata": {},
     "output_type": "execute_result"
    }
   ],
   "source": [
    "v_df['post_length'].median()"
   ]
  },
  {
   "cell_type": "code",
   "execution_count": 76,
   "id": "57d026d1-e297-488c-9c2e-f5630d6eda2a",
   "metadata": {},
   "outputs": [
    {
     "data": {
      "text/plain": [
       "48.06343737332793"
      ]
     },
     "execution_count": 76,
     "metadata": {},
     "output_type": "execute_result"
    }
   ],
   "source": [
    "v_df['post_word_count'].mean()"
   ]
  },
  {
   "cell_type": "code",
   "execution_count": 105,
   "id": "da2241e3-23a5-488a-9773-9b8ae5e0c704",
   "metadata": {},
   "outputs": [
    {
     "data": {
      "text/plain": [
       "13.0"
      ]
     },
     "execution_count": 105,
     "metadata": {},
     "output_type": "execute_result"
    }
   ],
   "source": [
    "v_df['post_word_count'].median()"
   ]
  },
  {
   "cell_type": "markdown",
   "id": "78700450-2495-460f-a801-39de6b5c7fe8",
   "metadata": {
    "tags": []
   },
   "source": [
    "## Instantiate a count vecorizer to look for words or links I might have to clean"
   ]
  },
  {
   "cell_type": "code",
   "execution_count": 77,
   "id": "d1f6dfd6-a749-45a5-bf7b-e7d8646de9bd",
   "metadata": {},
   "outputs": [],
   "source": [
    "cvec = CountVectorizer(stop_words='english',ngram_range = (1, 5))"
   ]
  },
  {
   "cell_type": "code",
   "execution_count": null,
   "id": "cf3724ae-fc94-4518-b0f3-133382693f56",
   "metadata": {},
   "outputs": [],
   "source": []
  },
  {
   "cell_type": "code",
   "execution_count": 87,
   "id": "f3cfb8a9-0cde-4df7-9576-b8be780310b0",
   "metadata": {},
   "outputs": [],
   "source": [
    "cvec = CountVectorizer(stop_words='english',ngram_range = (2, 2))"
   ]
  },
  {
   "cell_type": "code",
   "execution_count": 88,
   "id": "2f2013f8-c6d4-4f92-a322-19bb7c81abd2",
   "metadata": {},
   "outputs": [
    {
     "data": {
      "text/html": [
       "<style>#sk-container-id-8 {color: black;background-color: white;}#sk-container-id-8 pre{padding: 0;}#sk-container-id-8 div.sk-toggleable {background-color: white;}#sk-container-id-8 label.sk-toggleable__label {cursor: pointer;display: block;width: 100%;margin-bottom: 0;padding: 0.3em;box-sizing: border-box;text-align: center;}#sk-container-id-8 label.sk-toggleable__label-arrow:before {content: \"▸\";float: left;margin-right: 0.25em;color: #696969;}#sk-container-id-8 label.sk-toggleable__label-arrow:hover:before {color: black;}#sk-container-id-8 div.sk-estimator:hover label.sk-toggleable__label-arrow:before {color: black;}#sk-container-id-8 div.sk-toggleable__content {max-height: 0;max-width: 0;overflow: hidden;text-align: left;background-color: #f0f8ff;}#sk-container-id-8 div.sk-toggleable__content pre {margin: 0.2em;color: black;border-radius: 0.25em;background-color: #f0f8ff;}#sk-container-id-8 input.sk-toggleable__control:checked~div.sk-toggleable__content {max-height: 200px;max-width: 100%;overflow: auto;}#sk-container-id-8 input.sk-toggleable__control:checked~label.sk-toggleable__label-arrow:before {content: \"▾\";}#sk-container-id-8 div.sk-estimator input.sk-toggleable__control:checked~label.sk-toggleable__label {background-color: #d4ebff;}#sk-container-id-8 div.sk-label input.sk-toggleable__control:checked~label.sk-toggleable__label {background-color: #d4ebff;}#sk-container-id-8 input.sk-hidden--visually {border: 0;clip: rect(1px 1px 1px 1px);clip: rect(1px, 1px, 1px, 1px);height: 1px;margin: -1px;overflow: hidden;padding: 0;position: absolute;width: 1px;}#sk-container-id-8 div.sk-estimator {font-family: monospace;background-color: #f0f8ff;border: 1px dotted black;border-radius: 0.25em;box-sizing: border-box;margin-bottom: 0.5em;}#sk-container-id-8 div.sk-estimator:hover {background-color: #d4ebff;}#sk-container-id-8 div.sk-parallel-item::after {content: \"\";width: 100%;border-bottom: 1px solid gray;flex-grow: 1;}#sk-container-id-8 div.sk-label:hover label.sk-toggleable__label {background-color: #d4ebff;}#sk-container-id-8 div.sk-serial::before {content: \"\";position: absolute;border-left: 1px solid gray;box-sizing: border-box;top: 0;bottom: 0;left: 50%;z-index: 0;}#sk-container-id-8 div.sk-serial {display: flex;flex-direction: column;align-items: center;background-color: white;padding-right: 0.2em;padding-left: 0.2em;position: relative;}#sk-container-id-8 div.sk-item {position: relative;z-index: 1;}#sk-container-id-8 div.sk-parallel {display: flex;align-items: stretch;justify-content: center;background-color: white;position: relative;}#sk-container-id-8 div.sk-item::before, #sk-container-id-8 div.sk-parallel-item::before {content: \"\";position: absolute;border-left: 1px solid gray;box-sizing: border-box;top: 0;bottom: 0;left: 50%;z-index: -1;}#sk-container-id-8 div.sk-parallel-item {display: flex;flex-direction: column;z-index: 1;position: relative;background-color: white;}#sk-container-id-8 div.sk-parallel-item:first-child::after {align-self: flex-end;width: 50%;}#sk-container-id-8 div.sk-parallel-item:last-child::after {align-self: flex-start;width: 50%;}#sk-container-id-8 div.sk-parallel-item:only-child::after {width: 0;}#sk-container-id-8 div.sk-dashed-wrapped {border: 1px dashed gray;margin: 0 0.4em 0.5em 0.4em;box-sizing: border-box;padding-bottom: 0.4em;background-color: white;}#sk-container-id-8 div.sk-label label {font-family: monospace;font-weight: bold;display: inline-block;line-height: 1.2em;}#sk-container-id-8 div.sk-label-container {text-align: center;}#sk-container-id-8 div.sk-container {/* jupyter's `normalize.less` sets `[hidden] { display: none; }` but bootstrap.min.css set `[hidden] { display: none !important; }` so we also need the `!important` here to be able to override the default hidden behavior on the sphinx rendered scikit-learn.org. See: https://github.com/scikit-learn/scikit-learn/issues/21755 */display: inline-block !important;position: relative;}#sk-container-id-8 div.sk-text-repr-fallback {display: none;}</style><div id=\"sk-container-id-8\" class=\"sk-top-container\"><div class=\"sk-text-repr-fallback\"><pre>CountVectorizer(ngram_range=(2, 2), stop_words=&#x27;english&#x27;)</pre><b>In a Jupyter environment, please rerun this cell to show the HTML representation or trust the notebook. <br />On GitHub, the HTML representation is unable to render, please try loading this page with nbviewer.org.</b></div><div class=\"sk-container\" hidden><div class=\"sk-item\"><div class=\"sk-estimator sk-toggleable\"><input class=\"sk-toggleable__control sk-hidden--visually\" id=\"sk-estimator-id-8\" type=\"checkbox\" checked><label for=\"sk-estimator-id-8\" class=\"sk-toggleable__label sk-toggleable__label-arrow\">CountVectorizer</label><div class=\"sk-toggleable__content\"><pre>CountVectorizer(ngram_range=(2, 2), stop_words=&#x27;english&#x27;)</pre></div></div></div></div></div>"
      ],
      "text/plain": [
       "CountVectorizer(ngram_range=(2, 2), stop_words='english')"
      ]
     },
     "execution_count": 88,
     "metadata": {},
     "output_type": "execute_result"
    }
   ],
   "source": [
    "cvec.fit(v_df['no_links_2'])"
   ]
  },
  {
   "cell_type": "code",
   "execution_count": 89,
   "id": "1aac57f7-d163-4141-b4c0-4c49bab6c469",
   "metadata": {},
   "outputs": [],
   "source": [
    "vec_df = cvec.transform(v_df['no_links_2'])"
   ]
  },
  {
   "cell_type": "code",
   "execution_count": 90,
   "id": "c349b0ca-43c9-4107-9efa-dd5a0cc24ea7",
   "metadata": {},
   "outputs": [
    {
     "data": {
      "text/plain": [
       "<4934x95225 sparse matrix of type '<class 'numpy.int64'>'\n",
       "\twith 109379 stored elements in Compressed Sparse Row format>"
      ]
     },
     "execution_count": 90,
     "metadata": {},
     "output_type": "execute_result"
    }
   ],
   "source": [
    "vec_df"
   ]
  },
  {
   "cell_type": "code",
   "execution_count": 91,
   "id": "35bea010-19ec-4c5c-8900-3cf76e5d04a3",
   "metadata": {},
   "outputs": [
    {
     "data": {
      "text/plain": [
       "<bound method spmatrix.todense of <4934x95225 sparse matrix of type '<class 'numpy.int64'>'\n",
       "\twith 109379 stored elements in Compressed Sparse Row format>>"
      ]
     },
     "execution_count": 91,
     "metadata": {},
     "output_type": "execute_result"
    }
   ],
   "source": [
    "vec_df.todense"
   ]
  },
  {
   "cell_type": "code",
   "execution_count": 92,
   "id": "be1291f7-2107-4fbf-96ae-b17c82a6dd84",
   "metadata": {},
   "outputs": [],
   "source": [
    "vec_df = pd.DataFrame(vec_df.todense(), columns = cvec.get_feature_names_out())"
   ]
  },
  {
   "cell_type": "code",
   "execution_count": 93,
   "id": "c95162af-5806-4b64-ae34-22b850e519d1",
   "metadata": {},
   "outputs": [
    {
     "data": {
      "text/plain": [
       "view poll          244\n",
       "right wing         155\n",
       "feel like           97\n",
       "ai art              90\n",
       "elon musk           84\n",
       "don know            83\n",
       "andrew tate         80\n",
       "don think           72\n",
       "far right           69\n",
       "trans people        67\n",
       "ve seen             65\n",
       "young men           53\n",
       "don want            46\n",
       "white people        43\n",
       "tim pool            40\n",
       "right wingers       40\n",
       "free speech         40\n",
       "people like         39\n",
       "good faith          39\n",
       "year old            35\n",
       "don like            35\n",
       "looks like          35\n",
       "left wing           34\n",
       "social media        33\n",
       "alt right           33\n",
       "men issues          31\n",
       "black people        31\n",
       "matt walsh          30\n",
       "climate change      30\n",
       "poll poll           30\n",
       "don care            28\n",
       "jordan peterson     27\n",
       "lot people          27\n",
       "united states       26\n",
       "like people         26\n",
       "feels like          25\n",
       "new york            25\n",
       "guys think          25\n",
       "years ago           25\n",
       "people just         24\n",
       "like vaush          24\n",
       "mental health       24\n",
       "think vaush         24\n",
       "just like           24\n",
       "supreme court       24\n",
       "free 750            23\n",
       "ben shapiro         23\n",
       "don understand      23\n",
       "men women           23\n",
       "body shaming        23\n",
       "dtype: int64"
      ]
     },
     "execution_count": 93,
     "metadata": {},
     "output_type": "execute_result"
    }
   ],
   "source": [
    "vec_df.sum().sort_values(ascending=False).head(50)"
   ]
  },
  {
   "cell_type": "code",
   "execution_count": 95,
   "id": "715d8bb9-57f9-4e47-aaf4-e00367e36206",
   "metadata": {},
   "outputs": [
    {
     "data": {
      "text/plain": [
       "Text(0.5, 1.0, 'Top Vaush 2 Word Combos')"
      ]
     },
     "execution_count": 95,
     "metadata": {},
     "output_type": "execute_result"
    },
    {
     "data": {
      "image/png": "[encoded data removed]",
      "text/plain": [
       "<Figure size 640x480 with 1 Axes>"
      ]
     },
     "metadata": {},
     "output_type": "display_data"
    }
   ],
   "source": [
    "vec_df.sum().sort_values(ascending = False).head(15).plot(kind = 'barh');\n",
    "plt.title('Top Vaush 2 Word Combos')"
   ]
  },
  {
   "cell_type": "code",
   "execution_count": null,
   "id": "5b1e0e19-4321-4d56-a014-709531f017ce",
   "metadata": {},
   "outputs": [],
   "source": [
    "## Fit no links to a CV to see what is left to clean"
   ]
  },
  {
   "cell_type": "code",
   "execution_count": 96,
   "id": "84e9f466-eafa-4904-89a9-e8334c897faf",
   "metadata": {},
   "outputs": [],
   "source": [
    "cvec_2_5 = CountVectorizer(stop_words='english',ngram_range = (1, 1))"
   ]
  },
  {
   "cell_type": "code",
   "execution_count": 97,
   "id": "541c5c92-81e6-41f1-91de-b0d3401ad7e2",
   "metadata": {},
   "outputs": [
    {
     "data": {
      "text/html": [
       "<style>#sk-container-id-9 {color: black;background-color: white;}#sk-container-id-9 pre{padding: 0;}#sk-container-id-9 div.sk-toggleable {background-color: white;}#sk-container-id-9 label.sk-toggleable__label {cursor: pointer;display: block;width: 100%;margin-bottom: 0;padding: 0.3em;box-sizing: border-box;text-align: center;}#sk-container-id-9 label.sk-toggleable__label-arrow:before {content: \"▸\";float: left;margin-right: 0.25em;color: #696969;}#sk-container-id-9 label.sk-toggleable__label-arrow:hover:before {color: black;}#sk-container-id-9 div.sk-estimator:hover label.sk-toggleable__label-arrow:before {color: black;}#sk-container-id-9 div.sk-toggleable__content {max-height: 0;max-width: 0;overflow: hidden;text-align: left;background-color: #f0f8ff;}#sk-container-id-9 div.sk-toggleable__content pre {margin: 0.2em;color: black;border-radius: 0.25em;background-color: #f0f8ff;}#sk-container-id-9 input.sk-toggleable__control:checked~div.sk-toggleable__content {max-height: 200px;max-width: 100%;overflow: auto;}#sk-container-id-9 input.sk-toggleable__control:checked~label.sk-toggleable__label-arrow:before {content: \"▾\";}#sk-container-id-9 div.sk-estimator input.sk-toggleable__control:checked~label.sk-toggleable__label {background-color: #d4ebff;}#sk-container-id-9 div.sk-label input.sk-toggleable__control:checked~label.sk-toggleable__label {background-color: #d4ebff;}#sk-container-id-9 input.sk-hidden--visually {border: 0;clip: rect(1px 1px 1px 1px);clip: rect(1px, 1px, 1px, 1px);height: 1px;margin: -1px;overflow: hidden;padding: 0;position: absolute;width: 1px;}#sk-container-id-9 div.sk-estimator {font-family: monospace;background-color: #f0f8ff;border: 1px dotted black;border-radius: 0.25em;box-sizing: border-box;margin-bottom: 0.5em;}#sk-container-id-9 div.sk-estimator:hover {background-color: #d4ebff;}#sk-container-id-9 div.sk-parallel-item::after {content: \"\";width: 100%;border-bottom: 1px solid gray;flex-grow: 1;}#sk-container-id-9 div.sk-label:hover label.sk-toggleable__label {background-color: #d4ebff;}#sk-container-id-9 div.sk-serial::before {content: \"\";position: absolute;border-left: 1px solid gray;box-sizing: border-box;top: 0;bottom: 0;left: 50%;z-index: 0;}#sk-container-id-9 div.sk-serial {display: flex;flex-direction: column;align-items: center;background-color: white;padding-right: 0.2em;padding-left: 0.2em;position: relative;}#sk-container-id-9 div.sk-item {position: relative;z-index: 1;}#sk-container-id-9 div.sk-parallel {display: flex;align-items: stretch;justify-content: center;background-color: white;position: relative;}#sk-container-id-9 div.sk-item::before, #sk-container-id-9 div.sk-parallel-item::before {content: \"\";position: absolute;border-left: 1px solid gray;box-sizing: border-box;top: 0;bottom: 0;left: 50%;z-index: -1;}#sk-container-id-9 div.sk-parallel-item {display: flex;flex-direction: column;z-index: 1;position: relative;background-color: white;}#sk-container-id-9 div.sk-parallel-item:first-child::after {align-self: flex-end;width: 50%;}#sk-container-id-9 div.sk-parallel-item:last-child::after {align-self: flex-start;width: 50%;}#sk-container-id-9 div.sk-parallel-item:only-child::after {width: 0;}#sk-container-id-9 div.sk-dashed-wrapped {border: 1px dashed gray;margin: 0 0.4em 0.5em 0.4em;box-sizing: border-box;padding-bottom: 0.4em;background-color: white;}#sk-container-id-9 div.sk-label label {font-family: monospace;font-weight: bold;display: inline-block;line-height: 1.2em;}#sk-container-id-9 div.sk-label-container {text-align: center;}#sk-container-id-9 div.sk-container {/* jupyter's `normalize.less` sets `[hidden] { display: none; }` but bootstrap.min.css set `[hidden] { display: none !important; }` so we also need the `!important` here to be able to override the default hidden behavior on the sphinx rendered scikit-learn.org. See: https://github.com/scikit-learn/scikit-learn/issues/21755 */display: inline-block !important;position: relative;}#sk-container-id-9 div.sk-text-repr-fallback {display: none;}</style><div id=\"sk-container-id-9\" class=\"sk-top-container\"><div class=\"sk-text-repr-fallback\"><pre>CountVectorizer(stop_words=&#x27;english&#x27;)</pre><b>In a Jupyter environment, please rerun this cell to show the HTML representation or trust the notebook. <br />On GitHub, the HTML representation is unable to render, please try loading this page with nbviewer.org.</b></div><div class=\"sk-container\" hidden><div class=\"sk-item\"><div class=\"sk-estimator sk-toggleable\"><input class=\"sk-toggleable__control sk-hidden--visually\" id=\"sk-estimator-id-9\" type=\"checkbox\" checked><label for=\"sk-estimator-id-9\" class=\"sk-toggleable__label sk-toggleable__label-arrow\">CountVectorizer</label><div class=\"sk-toggleable__content\"><pre>CountVectorizer(stop_words=&#x27;english&#x27;)</pre></div></div></div></div></div>"
      ],
      "text/plain": [
       "CountVectorizer(stop_words='english')"
      ]
     },
     "execution_count": 97,
     "metadata": {},
     "output_type": "execute_result"
    }
   ],
   "source": [
    "cvec_2_5.fit(v_df['no_links_2'])"
   ]
  },
  {
   "cell_type": "code",
   "execution_count": 98,
   "id": "11bedb5f-72c9-4608-b7b6-e0d3a871e522",
   "metadata": {},
   "outputs": [],
   "source": [
    "vec_df_2 = cvec_2_5.transform(v_df['no_links_2'])\n",
    "vec_df_2 = pd.DataFrame(vec_df_2.todense(), columns = cvec_2_5.get_feature_names_out())"
   ]
  },
  {
   "cell_type": "code",
   "execution_count": 99,
   "id": "5a334ddd-0755-4b3f-9d27-b31d1fb006ec",
   "metadata": {},
   "outputs": [
    {
     "data": {
      "text/plain": [
       "people      1473\n",
       "like        1145\n",
       "just        1053\n",
       "vaush        981\n",
       "right        720\n",
       "think        717\n",
       "don          658\n",
       "men          485\n",
       "know         432\n",
       "left         424\n",
       "really       395\n",
       "time         377\n",
       "want         374\n",
       "good         365\n",
       "poll         344\n",
       "make         344\n",
       "way          310\n",
       "twitter      307\n",
       "ve           303\n",
       "art          297\n",
       "say          290\n",
       "new          286\n",
       "does         283\n",
       "going        280\n",
       "view         279\n",
       "bad          269\n",
       "ai           262\n",
       "need         260\n",
       "feel         259\n",
       "actually     258\n",
       "said         252\n",
       "video        252\n",
       "trans        249\n",
       "did          246\n",
       "women        246\n",
       "lot          229\n",
       "anti         225\n",
       "things       222\n",
       "thing        211\n",
       "state        210\n",
       "shit         210\n",
       "doesn        205\n",
       "isn          200\n",
       "trump        200\n",
       "person       200\n",
       "shoe         200\n",
       "saying       198\n",
       "point        196\n",
       "wing         196\n",
       "got          194\n",
       "dtype: int64"
      ]
     },
     "execution_count": 99,
     "metadata": {},
     "output_type": "execute_result"
    }
   ],
   "source": [
    "vec_df_2.sum().sort_values(ascending=False).head(50)"
   ]
  },
  {
   "cell_type": "code",
   "execution_count": 100,
   "id": "8325b284-4645-45b9-878a-e9620cfbb78a",
   "metadata": {},
   "outputs": [
    {
     "data": {
      "text/plain": [
       "Text(0.5, 1.0, 'Top r/Vaush Words')"
      ]
     },
     "execution_count": 100,
     "metadata": {},
     "output_type": "execute_result"
    },
    {
     "data": {
      "image/png": "[encoded data removed]",
      "text/plain": [
       "<Figure size 640x480 with 1 Axes>"
      ]
     },
     "metadata": {},
     "output_type": "display_data"
    }
   ],
   "source": [
    "vec_df_2.sum().sort_values(ascending = False).head(15).plot(kind = 'barh');\n",
    "plt.title('Top r/Vaush Words')\n"
   ]
  },
  {
   "cell_type": "code",
   "execution_count": null,
   "id": "75239b60-7276-4faf-afc2-8022b5adce2f",
   "metadata": {},
   "outputs": [],
   "source": []
  }
 ],
 "metadata": {
  "kernelspec": {
   "display_name": "Python 3 (ipykernel)",
   "language": "python",
   "name": "python3"
  },
  "language_info": {
   "codemirror_mode": {
    "name": "ipython",
    "version": 3
   },
   "file_extension": ".py",
   "mimetype": "text/x-python",
   "name": "python",
   "nbconvert_exporter": "python",
   "pygments_lexer": "ipython3",
   "version": "3.9.12"
  }
 },
 "nbformat": 4,
 "nbformat_minor": 5
}
